{
 "cells": [
  {
   "cell_type": "markdown",
   "metadata": {},
   "source": [
    "# System setting"
   ]
  },
  {
   "cell_type": "code",
   "execution_count": 1,
   "metadata": {
    "scrolled": true
   },
   "outputs": [],
   "source": [
    "from __future__ import division\n",
    "import warnings\n",
    "warnings.simplefilter(action='ignore', category=Warning)\n",
    "import warnings\n",
    "def fxn():\n",
    "    warnings.warn(\"deprecated\", DeprecationWarning)\n",
    "with warnings.catch_warnings():\n",
    "    warnings.simplefilter(\"ignore\")\n",
    "    fxn()\n",
    "import sys\n",
    "# print (sys.path)\n",
    "import math\n",
    "import matplotlib.pyplot as plt\n",
    "import sys\n",
    "\n",
    "sys.path.append(\"..\")\n",
    "sys.path.append(\"/Users/marsliu/Documents/Github/trading-system/src\")\n",
    "import numpy as np\n",
    "import sklearn\n",
    "#from scipy import interp\n",
    "#from numba import jit\n",
    "import pandas as pd\n",
    "from datetime import datetime\n",
    "from sklearn.neural_network import MLPClassifier\n",
    "from sklearn.preprocessing import *\n",
    "from sklearn.model_selection import *\n",
    "from sklearn.pipeline import *\n",
    "from sklearn.linear_model import *\n",
    "from sklearn.metrics import *\n",
    "from sklearn.decomposition import *\n",
    "from sklearn.externals import joblib\n",
    "from sklearn.utils import *\n",
    "from copy import copy\n",
    "from sklearn.feature_selection import SelectPercentile, f_classif\n",
    "import os\n",
    "from src.features import *\n",
    "from imblearn.ensemble import *\n",
    "from sklearn.model_selection import *\n",
    "import time\n",
    "#from time import time,mktime\n",
    "from tpot import *\n",
    "from copy import deepcopy\n",
    "import seaborn as sns\n",
    "import importlib \n",
    "import pickle\n",
    "import seaborn\n",
    "from collections import *\n",
    "from catboost import *\n",
    "import pandas_profiling\n",
    "from src.models.training import *\n",
    "from src.models.shadow_trade import *\n",
    "from wrangle import *\n",
    "import json\n",
    "from sklearn.impute import SimpleImputer\n",
    "import gc\n",
    "import pandas_datareader.data as web\n",
    "from xgboost import XGBClassifier"
   ]
  },
  {
   "cell_type": "markdown",
   "metadata": {},
   "source": [
    "# General configuration"
   ]
  },
  {
   "cell_type": "code",
   "execution_count": 2,
   "metadata": {},
   "outputs": [],
   "source": [
    "#  Download data\n",
    "os.environ['KMP_DUPLICATE_LIB_OK']='True'\n",
    "#date format dd-mm-yyyy\n",
    "class_label = 'binary-Both'  #(binary-(Both/Long/Short)/ multi)\n",
    "iterations = 50 # Do not change it\n",
    "ticker_org = '0688'#input(\"Stock: \")\n",
    "ticker = ticker_org + ('.HK')\n",
    "date = '01-01-2019'\n",
    "date = pd.to_datetime(date, format='%m-%d-%Y', errors='ignore')\n",
    "selected_model = 'sk'  #input ('Which model will you use? [sklearn(sk)/keras(k)/tpot')\n",
    "Interval = 10  # k changing frequency in trading management\n",
    "loop = 'n' ## for scikit-learn\n",
    "if (selected_model == 'k' or selected_model == 'auto-k'):\n",
    "    class_label = class_label + '-k'\n",
    "\n",
    "evaluate_model = ''"
   ]
  },
  {
   "cell_type": "markdown",
   "metadata": {},
   "source": [
    "# Definition"
   ]
  },
  {
   "cell_type": "code",
   "execution_count": 3,
   "metadata": {},
   "outputs": [],
   "source": [
    "def remove_outlier(df_in, col_name):\n",
    "    q1 = df_in[col_name].quantile(0.25)\n",
    "    q3 = df_in[col_name].quantile(0.75)\n",
    "    iqr = q3-q1 #Interquartile range\n",
    "    fence_low  = q1-1.5*iqr\n",
    "    fence_high = q3+1.5*iqr\n",
    "    df_out = df_in.loc[(df_in[col_name] > fence_low) & (df_in[col_name] < fence_high)]\n",
    "    count = len(df_in)-len(df_out)\n",
    "    print('Removed outlier: ' + str(count))\n",
    "    return df_out\n",
    "    \n",
    "def get_class_weights(y):\n",
    "    counter = Counter(y)\n",
    "    majority = max(counter.values())\n",
    "    return  {cls: float(majority/count) for cls, count in counter.items()}\n",
    "\n",
    "def memory_usage_mb(df, *args, **kwargs):\n",
    "    \"\"\"Dataframe memory usage in MB. \"\"\"\n",
    "    return df.memory_usage(*args, **kwargs).sum() / 1024**2\n",
    "\n",
    "def reduce_memory_usage(df, deep=True, verbose=True):\n",
    "    # All types that we want to change for \"lighter\" ones.\n",
    "    # int8 and float16 are not include because we cannot reduce\n",
    "    # those data types.\n",
    "    # float32 is not include because float16 has too low precision.\n",
    "    numeric2reduce = [\"int16\", \"int32\", \"int64\", \"float64\"]\n",
    "    start_mem = 0\n",
    "    if verbose:\n",
    "        start_mem = memory_usage_mb(df, deep=deep)\n",
    "\n",
    "    for col, col_type in df.dtypes.iteritems():\n",
    "        best_type = None\n",
    "        if col_type in numeric2reduce:\n",
    "            downcast = \"integer\" if \"int\" in str(col_type) else \"float\"\n",
    "            df[col] = pd.to_numeric(df[col], downcast=downcast)\n",
    "            best_type = df[col].dtype.name\n",
    "        # Log the conversion performed.\n",
    "        if verbose and best_type is not None and best_type != str(col_type):\n",
    "            print(f\"Column '{col}' converted from {col_type} to {best_type}\")\n",
    "\n",
    "    if verbose:\n",
    "        end_mem = memory_usage_mb(df, deep=deep)\n",
    "        diff_mem = start_mem - end_mem\n",
    "        percent_mem = 100 * diff_mem / start_mem\n",
    "        print(f\"Memory usage decreased from\"\n",
    "              f\" {start_mem:.2f}MB to {end_mem:.2f}MB\"\n",
    "              f\" ({diff_mem:.2f}MB, {percent_mem:.2f}% reduction)\")\n",
    "        \n",
    "    return df"
   ]
  },
  {
   "cell_type": "markdown",
   "metadata": {},
   "source": [
    "# Data Importation and processing"
   ]
  },
  {
   "cell_type": "code",
   "execution_count": 4,
   "metadata": {
    "scrolled": false
   },
   "outputs": [
    {
     "name": "stdout",
     "output_type": "stream",
     "text": [
      "\n",
      "Reading data from Amibroker \n",
      "Successfully retrieved primary data\n",
      "Primary Data:  5038\n",
      "-----------------------------------------------------------\n",
      "Data processing....\n"
     ]
    },
    {
     "data": {
      "image/png": "[encoded data removed]",
      "text/plain": [
       "<Figure size 432x288 with 2 Axes>"
      ]
     },
     "metadata": {
      "needs_background": "light"
     },
     "output_type": "display_data"
    },
    {
     "name": "stdout",
     "output_type": "stream",
     "text": [
      "2006-05-16 00:00:00 2018-12-28 00:00:00\n",
      "2019-01-02 00:00:00 2020-02-28 00:00:00\n",
      "Data processing completed\n",
      "Processed Data:  2575\n",
      "Erased Data:  364\n",
      "Total number of X:  1568\n",
      "-----------------------------------------------------------\n",
      "Original data distribution:  Counter({-1: 1395, 1: 1180})\n",
      "-----------------------------------------------------------\n",
      "CPU times: user 9.82 s, sys: 712 ms, total: 10.5 s\n",
      "Wall time: 39.8 s\n"
     ]
    },
    {
     "data": {
      "text/plain": [
       "9270"
      ]
     },
     "execution_count": 4,
     "metadata": {},
     "output_type": "execute_result"
    }
   ],
   "source": [
    "%%time\n",
    "print (\"\\nReading data from Amibroker \")\n",
    "qt = pd.DataFrame()\n",
    "qt = pd.read_csv('../data/raw/%s.csv' % ticker, index_col=False,header=None,encoding='utf-8')\n",
    "qt.columns=['Ticker','Date','Open','High','Low','Close','Volume']\n",
    "ticker = qt.Ticker.iloc[0]\n",
    "\n",
    "print (\"Successfully retrieved primary data\")\n",
    "dataSet = qt\n",
    "nrows = qt.shape[0]\n",
    "print (\"Primary Data: \", nrows)\n",
    "print ('-----------------------------------------------------------')\n",
    "print ('Data processing....')\n",
    "\n",
    "dataSet = features_engineering(dataSet, class_label)\n",
    "# dataSet = bd.dataimport(dataSet, class_label)\n",
    "#from statsmodels.tsa.arima_model import ARIMA\n",
    "#arima = ARIMA(dataSet.Close, order=(5, 1, 0))\n",
    "#arima = arima.fit(disp=0)\n",
    "#output = arima.forecast()\n",
    "# stocks = ['0001','0002','0003','0004','0005','0006','0017','0027','0175','0386','0388','0688','0700','0883','0939','0941','1299','1398','1800','1928','2318','2628','3988']\n",
    "stocks = []\n",
    "index=0\n",
    "while index < len(stocks):\n",
    "    if stocks[index] != ticker_org:\n",
    "        ticker_features = stocks[index] + '.HK'\n",
    "        qt_new = pd.DataFrame()\n",
    "        qt_new = pd.read_csv('../data/raw/%s.csv' % ticker_features, index_col=False,header=None,encoding='utf-8')\n",
    "        qt_new.columns=['Ticker','Date','Open','High','Low','Close','Volume']\n",
    "        bd.dataimport_related_assets(qt_new,ticker_features)\n",
    "        qt_new = qt_new.drop(['Ticker','Open','High','Low','Close','Volume'],axis=1)\n",
    "        dataSet = pd.merge(dataSet, qt_new, how = 'inner', on = 'Date')\n",
    "        del stocks[index]\n",
    "        continue\n",
    "    index+=1\n",
    "\n",
    "# dataSet = reduce_memory_usage(dataSet)    \n",
    "    \n",
    "mData = dataSet[dataSet['Date']<date]\n",
    "validationData = dataSet[dataSet['Date']>=date]\n",
    "original_sample = mData.shape[0]\n",
    "\n",
    "mData, validationData = features_add_cut(mData, validationData, ['Pri_RSI'])\n",
    "\n",
    "# imp_mean = SimpleImputer(missing_values=np.nan, strategy='mean')\n",
    "# mData = imp_mean.fit_transform(mData)\n",
    "# validationData = imp_mean.transform(validationData)\n",
    "\n",
    "# mData, validationData = df_autoclean_cv(mData, validationData)\n",
    "\n",
    "# mData = remove_outlier(mData,'gainAhead')\n",
    "plt.subplot(121)\n",
    "plt.title('Training / Validation Data')\n",
    "seaborn.distplot(mData.gainAhead).set(xlim=(-0.05,0.05))\n",
    "plt.subplot(122)\n",
    "plt.title('Test Data')\n",
    "seaborn.distplot(validationData.gainAhead).set(xlim=(-0.05,0.05))\n",
    "plt.show()\n",
    "plt.close()\n",
    "\n",
    "print (mData.Date.min(), mData.Date.max())\n",
    "print (validationData.Date.min(), validationData.Date.max())\n",
    "mData = mData.drop(['Ticker','Date','Open','High','Low','Close',\n",
    "                       'Volume','gainAhead'],\n",
    "                        axis=1)\n",
    "validationData = validationData.drop(['Ticker','Open','High','Low','Close',\n",
    "                       'Volume'],\n",
    "                        axis=1)\n",
    "\n",
    "# while index < len(stocks):\n",
    "#     if stocks[index] != ticker_org:\n",
    "#         ticker_features = stocks[index] + '.HK'\n",
    "#         qt_new = pd.DataFrame()\n",
    "#         qt_new = pd.read_csv('./Training Dataset/%s.csv' % ticker_features, index_col=False,header=None,encoding='utf-8')\n",
    "#         qt_new.columns=['Ticker','Date','Open','High','Low','Close','Volume']\n",
    "#         qt_new = bd.dataimport_original(qt_new,class_label)\n",
    "#         qt_new = qt_new[qt_new['Date']<date]\n",
    "#         qt_new = qt_new.drop(['Ticker','Date','Open','High','Low','Close',\n",
    "#                        'Volume','Pri','gainAhead'],axis=1)\n",
    "#         mData = pd.concat([mData, qt_new])\n",
    "#         del stocks[index]\n",
    "#         continue\n",
    "#     index+=1\n",
    "\n",
    "mData = mData.replace([np.inf, -np.inf], np.nan).fillna(method='ffill')\n",
    "validationData = validationData.replace([np.inf, -np.inf], np.nan).fillna(method='ffill')\n",
    "mData = mData.replace([np.inf, -np.inf], np.nan).dropna(axis=0)\n",
    "validationData = validationData.replace([np.inf, -np.inf], np.nan).dropna(axis=0)\n",
    "test_lowerbound = validationData['Date'].min().strftime('%m-%d-%Y')\n",
    "            \n",
    "vData = validationData.drop(['Date','gainAhead','beBoth'],axis=1)\n",
    "datay = mData.beBoth\n",
    "dataX = mData.drop(['beBoth'],axis=1)\n",
    "\n",
    "#ptr = pandas_profiling.ProfileReport(dataSet)\n",
    "#ptr.to_file('./Profiling Report/%s report.html'% (str(ticker)))\n",
    "\n",
    "#  Copy from pandas dataframe to numpy arrays\n",
    "# dy = np.zeros_like(datay)\n",
    "# dX = np.zeros_like(dataX)\n",
    "\n",
    "# dy = datay.values\n",
    "# dX = dataX.values\n",
    "\n",
    "print ('Data processing completed')\n",
    "print ('Processed Data:  ' + str(dataX.shape[0]))\n",
    "print ('Erased Data:  ' + str(original_sample - dataX.shape[0]))\n",
    "print ('Total number of X:  ' + str(dataX.shape[1]))\n",
    "print ('-----------------------------------------------------------')\n",
    "\n",
    "print('Original data distribution: ', Counter(datay))\n",
    "\n",
    "print ('-----------------------------------------------------------')\n",
    "trainRows = dataX.shape[0]\n",
    "ncols = dataX.shape[1]*1\n",
    "samples = dataX.shape[0]\n",
    "# sample_weight = compute_sample_weight(class_weight='balanced', y=datay)\n",
    "gc.collect()"
   ]
  },
  {
   "cell_type": "markdown",
   "metadata": {},
   "source": [
    "# Features processing"
   ]
  },
  {
   "cell_type": "code",
   "execution_count": 5,
   "metadata": {},
   "outputs": [],
   "source": [
    "# processor = preprocessing(dataX,datay,vData)\n",
    "# dataX, datay = processor.balancing(plot = False)\n",
    "# dataX = pd.DataFrame(dataX)\n",
    "# dataX.columns = mData.drop('beBoth', axis=1).columns.tolist()\n",
    "# datay = pd.DataFrame(datay)\n",
    "\n",
    "# processor = preprocessing(dataX,datay,vData)\n",
    "# dataX, vData = processor.GA_dim()\n",
    "class_weights = get_class_weights(datay)"
   ]
  },
  {
   "cell_type": "code",
   "execution_count": 25,
   "metadata": {},
   "outputs": [],
   "source": [
    "stock = []\n",
    "final_equity = []\n",
    "train_period = []\n",
    "test_period = []\n",
    "with open('../docs/rolling_result.json') as infile:\n",
    "    rolling_result = json.load(infile)\n",
    "    for p in rolling_result:\n",
    "        stock.append(p['stock'])\n",
    "        final_equity.append(p['final_equity'])\n",
    "        train_period.append(p['final_train_period'])\n",
    "        test_period.append(p['final_test_period'])\n",
    "\n",
    "rolling_period_df = pd.DataFrame([stock, final_equity, train_period,test_period]).transpose()\n",
    "rolling_period_df.columns=['Stock', 'equity', 'train_period', 'test_period']\n",
    "\n",
    "train_period = rolling_period_df[rolling_period_df['Stock'] == ticker].iloc[0]['train_period']\n",
    "test_period = rolling_period_df[rolling_period_df['Stock'] == ticker].iloc[0]['test_period']\n",
    "\n",
    "# train = training(dataX, datay, iterations, class_label, ticker)\n",
    "# model, equity, last_train_period, dataX, datay, validationData, vData = train.rolling_test(dataSet=dataSet, train_period=train_period, test_period=test_period, class_label=class_label, bt = False)"
   ]
  },
  {
   "cell_type": "markdown",
   "metadata": {},
   "source": [
    "# Model training"
   ]
  },
  {
   "cell_type": "code",
   "execution_count": 48,
   "metadata": {},
   "outputs": [
    {
     "name": "stdout",
     "output_type": "stream",
     "text": [
      "     IQR   CV  acc_mean\n",
      "0  0.031  sss     0.525\n",
      "1  0.038  skf     0.521\n",
      "2  0.029   rs     0.518\n"
     ]
    }
   ],
   "source": [
    "cv = model_find_cv(dataX, datay)"
   ]
  },
  {
   "cell_type": "code",
   "execution_count": 6,
   "metadata": {},
   "outputs": [],
   "source": [
    "cols = list(dataX)"
   ]
  },
  {
   "cell_type": "code",
   "execution_count": 7,
   "metadata": {
    "scrolled": true
   },
   "outputs": [],
   "source": [
    "train = training(dataX, datay, 10, class_label, ticker)\n",
    "if (selected_model == 'sk'):\n",
    "    \n",
    "    model = LogisticRegression()\n",
    "#     model = EasyEnsembleClassifier(n_jobs=-1)\n",
    "#     model = BalancedBaggingClassifier()\n",
    "#     model = BalancedRandomForestClassifier()\n",
    "#     model = RUSBoostClassifier()\n",
    "#     model = LinearSVC(class_weight = class_weights)\n",
    "    #model = ExtraTreesClassifier()\n",
    "#     model = SVC(class_weight = class_weights, probability = True)\n",
    "#     model = BernoulliNB()\n",
    "#     model = AdaBoostClassifier()\n",
    "#     model = GradientBoostingClassifier()\n",
    "#     model = ExtraTreesClassifier(class_weight = class_weights)\n",
    "#     model = XGBClassifier()\n",
    "#     model = train.sk(model = model)\n",
    "    model.fit(dataX[cols], datay)\n",
    "#     model.fit(dataX,datay)\n",
    "\n",
    "# elif (selected_model == 'tpot'):\n",
    "#     model, prev_tpot = train.tpot(scoring = 'roc_auc', cv = cv)\n"
   ]
  },
  {
   "cell_type": "markdown",
   "metadata": {},
   "source": [
    "# Previous model checking and loading"
   ]
  },
  {
   "cell_type": "code",
   "execution_count": null,
   "metadata": {},
   "outputs": [],
   "source": [
    "prev_model_path = './original pkl/%s(%s).pkl' % (class_label,ticker)\n",
    "if os.path.isfile(prev_model_path) :\n",
    "            # ------------------prev model---------------------\n",
    "            print (\"Previous trained model exists\")\n",
    "            prev = True\n",
    "            if (selected_model == 'sk' or selected_model == 'tpot'):\n",
    "                model = joblib.load(prev_model_path)\n",
    "            elif (selected_model == 'k' or selected_model == 'auto-k'):\n",
    "                model = load_model(prev_model_path)\n",
    "            elif (selected_model == 'catboost'):\n",
    "                from_file = CatBoostClassifier()\n",
    "                model = from_file.load_model(fname=prev_model_path,format='coreml')\n",
    "prev_model_path"
   ]
  },
  {
   "cell_type": "markdown",
   "metadata": {},
   "source": [
    "# Backtest and Model Evaluation"
   ]
  },
  {
   "cell_type": "code",
   "execution_count": 8,
   "metadata": {},
   "outputs": [],
   "source": [
    "trading = trade(model, dataX, datay, validationData, vData[cols], class_label, ticker,selected_model)"
   ]
  },
  {
   "cell_type": "code",
   "execution_count": 9,
   "metadata": {
    "scrolled": false
   },
   "outputs": [
    {
     "name": "stdout",
     "output_type": "stream",
     "text": [
      "\n",
      "Beginning validation of period\n",
      "Validation Data from 2019-11-08 00:00:00 to 2020-02-28 00:00:00.\n",
      "Last date of prediction :  2020-02-28 00:00:00\n",
      "\n",
      "This system is:  binary-Both\n",
      "\n",
      "Terminal wealth (current trained model)  : 1.25\n",
      "Classification report of current trained model:\n",
      "              precision    recall  f1-score   support\n",
      "\n",
      "       Short       0.59      0.83      0.69        35\n",
      "        Long       0.68      0.39      0.50        33\n",
      "\n",
      "    accuracy                           0.62        68\n",
      "   macro avg       0.64      0.61      0.60        68\n",
      "weighted avg       0.64      0.62      0.60        68\n",
      "\n"
     ]
    },
    {
     "data": {
      "image/png": "[encoded data removed]",
      "text/plain": [
       "<Figure size 432x288 with 1 Axes>"
      ]
     },
     "metadata": {
      "needs_background": "light"
     },
     "output_type": "display_data"
    },
    {
     "data": {
      "text/plain": [
       "1.25"
      ]
     },
     "execution_count": 9,
     "metadata": {},
     "output_type": "execute_result"
    },
    {
     "data": {
      "text/plain": [
       "<Figure size 432x288 with 0 Axes>"
      ]
     },
     "metadata": {},
     "output_type": "display_data"
    }
   ],
   "source": [
    "y_validate, y_validate_prev, prev = trading.stage1_prediction()\n",
    "trading.stage1_validation(y_validate, y_validate_prev, prev)"
   ]
  }
 ],
 "metadata": {
  "kernelspec": {
   "display_name": "Python 3",
   "language": "python",
   "name": "python3"
  },
  "language_info": {
   "codemirror_mode": {
    "name": "ipython",
    "version": 3
   },
   "file_extension": ".py",
   "mimetype": "text/x-python",
   "name": "python",
   "nbconvert_exporter": "python",
   "pygments_lexer": "ipython3",
   "version": "3.7.6"
  },
  "varInspector": {
   "cols": {
    "lenName": 16,
    "lenType": 16,
    "lenVar": 40
   },
   "kernels_config": {
    "python": {
     "delete_cmd_postfix": "",
     "delete_cmd_prefix": "del ",
     "library": "var_list.py",
     "varRefreshCmd": "print(var_dic_list())"
    },
    "r": {
     "delete_cmd_postfix": ") ",
     "delete_cmd_prefix": "rm(",
     "library": "var_list.r",
     "varRefreshCmd": "cat(var_dic_list()) "
    }
   },
   "types_to_exclude": [
    "module",
    "function",
    "builtin_function_or_method",
    "instance",
    "_Feature"
   ],
   "window_display": false
  }
 },
 "nbformat": 4,
 "nbformat_minor": 2
}
