{
 "cells": [
  {
   "cell_type": "code",
   "execution_count": 1,
   "metadata": {},
   "outputs": [
    {
     "ename": "ImportError",
     "evalue": "No module named 'tabulate'",
     "output_type": "error",
     "traceback": [
      "\u001b[0;31m---------------------------------------------------------------------------\u001b[0m",
      "\u001b[0;31mImportError\u001b[0m                               Traceback (most recent call last)",
      "\u001b[0;32m<ipython-input-1-05e80934ee17>\u001b[0m in \u001b[0;36m<module>\u001b[0;34m()\u001b[0m\n\u001b[1;32m      6\u001b[0m \u001b[0;32mfrom\u001b[0m \u001b[0msklearn\u001b[0m\u001b[0;34m.\u001b[0m\u001b[0mpreprocessing\u001b[0m \u001b[0;32mimport\u001b[0m \u001b[0mminmax_scale\u001b[0m\u001b[0;34m\u001b[0m\u001b[0m\n\u001b[1;32m      7\u001b[0m \u001b[0;32mimport\u001b[0m \u001b[0mh5py\u001b[0m\u001b[0;34m\u001b[0m\u001b[0m\n\u001b[0;32m----> 8\u001b[0;31m \u001b[0;32mfrom\u001b[0m \u001b[0mtabulate\u001b[0m \u001b[0;32mimport\u001b[0m \u001b[0mtabulate\u001b[0m\u001b[0;34m\u001b[0m\u001b[0m\n\u001b[0m\u001b[1;32m      9\u001b[0m \u001b[0;34m\u001b[0m\u001b[0m\n\u001b[1;32m     10\u001b[0m \u001b[0;32mimport\u001b[0m \u001b[0mos\u001b[0m\u001b[0;34m\u001b[0m\u001b[0m\n",
      "\u001b[0;31mImportError\u001b[0m: No module named 'tabulate'"
     ]
    }
   ],
   "source": [
    "import numpy as np\n",
    "import pandas as pd\n",
    "import matplotlib.pyplot as plt\n",
    "%matplotlib inline\n",
    "import random\n",
    "from sklearn.preprocessing import minmax_scale\n",
    "import h5py\n",
    "from tabulate import tabulate\n",
    "\n",
    "import os\n",
    "os.environ['KERAS_BACKEND'] = 'tensorflow' \n",
    "import keras\n",
    "from keras.layers import Dense, Dropout, Input\n",
    "from keras.models import Model,Sequential\n",
    "from keras.datasets import mnist\n",
    "from tqdm import tqdm\n",
    "from keras.layers.advanced_activations import LeakyReLU\n",
    "from keras.optimizers import adam\n",
    "from keras.models import load_model"
   ]
  },
  {
   "cell_type": "code",
   "execution_count": 2,
   "metadata": {},
   "outputs": [],
   "source": [
    "def create_dataseries():\n",
    "    # this would change depending upon parameterization\n",
    "    symlist = ['0688.HK']\n",
    "    data = pd.DataFrame()\n",
    "    # now read each file and align the data along the date axis\n",
    "    for i in range(len(symlist)):\n",
    "        filename = '../data/raw/' + symlist[i] + '.csv'\n",
    "        temp = pd.read_csv(filename, index_col = ['Date'], names=['Ticker', 'Date', 'Open', 'High', 'Low', 'Close', 'Volume'],usecols=['Date','Close'])\n",
    "        temp = temp.loc[~temp.index.duplicated(keep='first')]\n",
    "        temp.columns = [symlist[i]]\n",
    "        temp = temp.shift(-1)/temp -1\n",
    "        temp = temp[:-1]\n",
    "        if(len(temp) > len(data)):\n",
    "            data = pd.concat([temp, data],axis =1, sort=False)\n",
    "        else:\n",
    "            data = pd.concat([data, temp],axis =1, sort=False)\n",
    "    \n",
    "    data = data.fillna(0)\n",
    "    return data\n",
    "\n"
   ]
  },
  {
   "cell_type": "code",
   "execution_count": 3,
   "metadata": {},
   "outputs": [],
   "source": [
    "test = create_dataseries()"
   ]
  },
  {
   "cell_type": "code",
   "execution_count": 5,
   "metadata": {},
   "outputs": [],
   "source": [
    "def create_samples(samplesize, rollwindow):\n",
    "    # get the raw data series which is return series\n",
    "    dataset = create_dataseries()\n",
    "    samples = list()\n",
    "    for i in range(0,len(dataset)-samplesize-rollwindow,rollwindow):\n",
    "        end_ix = i + samplesize\n",
    "        if end_ix > len(dataset):\n",
    "            break\n",
    "        temp = dataset[i:end_ix]\n",
    "        # now scale this matrix by the largest value being 1 and lowest value being -1\n",
    "        #temp = minmax_scale(temp, feature_range=(-1,1),axis=0)\n",
    "        samples.append(temp.values)\n",
    "        \n",
    "    return np.array(samples)  \n",
    "\n",
    "samples = create_samples(22, 1)\n",
    "samples = samples.reshape(samples.shape[0], samples.shape[1]*samples.shape[2])"
   ]
  },
  {
   "cell_type": "code",
   "execution_count": 6,
   "metadata": {},
   "outputs": [
    {
     "data": {
      "text/plain": [
       "22"
      ]
     },
     "execution_count": 6,
     "metadata": {},
     "output_type": "execute_result"
    }
   ],
   "source": [
    "samples.shape[1]"
   ]
  },
  {
   "cell_type": "code",
   "execution_count": 7,
   "metadata": {},
   "outputs": [
    {
     "name": "stdout",
     "output_type": "stream",
     "text": [
      "Model: \"sequential_1\"\n",
      "_________________________________________________________________\n",
      "Layer (type)                 Output Shape              Param #   \n",
      "=================================================================\n",
      "dense_1 (Dense)              (None, 256)               25856     \n",
      "_________________________________________________________________\n",
      "leaky_re_lu_1 (LeakyReLU)    (None, 256)               0         \n",
      "_________________________________________________________________\n",
      "dense_2 (Dense)              (None, 512)               131584    \n",
      "_________________________________________________________________\n",
      "leaky_re_lu_2 (LeakyReLU)    (None, 512)               0         \n",
      "_________________________________________________________________\n",
      "dense_3 (Dense)              (None, 1024)              525312    \n",
      "_________________________________________________________________\n",
      "leaky_re_lu_3 (LeakyReLU)    (None, 1024)              0         \n",
      "_________________________________________________________________\n",
      "dense_4 (Dense)              (None, 22)                22550     \n",
      "=================================================================\n",
      "Total params: 705,302\n",
      "Trainable params: 705,302\n",
      "Non-trainable params: 0\n",
      "_________________________________________________________________\n",
      "Model: \"sequential_2\"\n",
      "_________________________________________________________________\n",
      "Layer (type)                 Output Shape              Param #   \n",
      "=================================================================\n",
      "dense_5 (Dense)              (None, 1024)              23552     \n",
      "_________________________________________________________________\n",
      "leaky_re_lu_4 (LeakyReLU)    (None, 1024)              0         \n",
      "_________________________________________________________________\n",
      "dropout_1 (Dropout)          (None, 1024)              0         \n",
      "_________________________________________________________________\n",
      "dense_6 (Dense)              (None, 512)               524800    \n",
      "_________________________________________________________________\n",
      "leaky_re_lu_5 (LeakyReLU)    (None, 512)               0         \n",
      "_________________________________________________________________\n",
      "dropout_2 (Dropout)          (None, 512)               0         \n",
      "_________________________________________________________________\n",
      "dense_7 (Dense)              (None, 256)               131328    \n",
      "_________________________________________________________________\n",
      "leaky_re_lu_6 (LeakyReLU)    (None, 256)               0         \n",
      "_________________________________________________________________\n",
      "dense_8 (Dense)              (None, 1)                 257       \n",
      "=================================================================\n",
      "Total params: 679,937\n",
      "Trainable params: 679,937\n",
      "Non-trainable params: 0\n",
      "_________________________________________________________________\n",
      "Model: \"model_1\"\n",
      "_________________________________________________________________\n",
      "Layer (type)                 Output Shape              Param #   \n",
      "=================================================================\n",
      "input_1 (InputLayer)         (None, 100)               0         \n",
      "_________________________________________________________________\n",
      "sequential_1 (Sequential)    (None, 22)                705302    \n",
      "_________________________________________________________________\n",
      "sequential_2 (Sequential)    (None, 1)                 679937    \n",
      "=================================================================\n",
      "Total params: 1,385,239\n",
      "Trainable params: 705,302\n",
      "Non-trainable params: 679,937\n",
      "_________________________________________________________________\n"
     ]
    },
    {
     "name": "stderr",
     "output_type": "stream",
     "text": [
      "  0%|                                                                                           | 0/50 [00:00<?, ?it/s]"
     ]
    },
    {
     "name": "stdout",
     "output_type": "stream",
     "text": [
      "Epoch 1\n"
     ]
    },
    {
     "name": "stderr",
     "output_type": "stream",
     "text": [
      " 10%|████████▎                                                                          | 5/50 [00:01<00:45,  1.02s/it]"
     ]
    },
    {
     "name": "stdout",
     "output_type": "stream",
     "text": [
      "1 [D loss: 0.696679, acc.: 67.65%] [G loss: 0.738271]\n",
      "1 [D loss: 0.692782, acc.: 73.90%] [G loss: 0.720161]\n",
      "1 [D loss: 0.693911, acc.: 70.75%] [G loss: 0.802850]\n",
      "1 [D loss: 0.696104, acc.: 56.43%] [G loss: 1.002471]\n",
      "1 [D loss: 0.696908, acc.: 45.85%] [G loss: 1.186082]\n",
      "1 [D loss: 0.699042, acc.: 39.59%] [G loss: 1.289020]\n",
      "1 [D loss: 0.699668, acc.: 35.91%] [G loss: 1.367775]\n",
      "1 [D loss: 0.700773, acc.: 36.14%] [G loss: 1.356991]"
     ]
    },
    {
     "name": "stderr",
     "output_type": "stream",
     "text": [
      " 26%|█████████████████████▎                                                            | 13/50 [00:01<00:18,  1.95it/s]"
     ]
    },
    {
     "name": "stdout",
     "output_type": "stream",
     "text": [
      "\n",
      "1 [D loss: 0.697185, acc.: 38.06%] [G loss: 1.381098]\n",
      "1 [D loss: 0.699003, acc.: 38.65%] [G loss: 1.341500]\n",
      "1 [D loss: 0.701299, acc.: 45.40%] [G loss: 1.207149]\n",
      "1 [D loss: 0.708025, acc.: 50.28%] [G loss: 1.070227]\n",
      "1 [D loss: 0.700290, acc.: 50.12%] [G loss: 1.087002]\n",
      "1 [D loss: 0.700377, acc.: 46.08%] [G loss: 1.173376]\n"
     ]
    },
    {
     "name": "stderr",
     "output_type": "stream",
     "text": [
      " 34%|███████████████████████████▉                                                      | 17/50 [00:01<00:12,  2.72it/s]"
     ]
    },
    {
     "name": "stdout",
     "output_type": "stream",
     "text": [
      "1 [D loss: 0.706989, acc.: 43.07%] [G loss: 1.261983]\n",
      "1 [D loss: 0.703612, acc.: 38.01%] [G loss: 1.366009]\n",
      "1 [D loss: 0.705210, acc.: 33.59%] [G loss: 1.481302]\n",
      "1 [D loss: 0.705445, acc.: 27.18%] [G loss: 1.716818]\n",
      "1 [D loss: 0.704718, acc.: 22.40%] [G loss: 1.813469]\n",
      "1 [D loss: 0.700925, acc.: 16.86%] [G loss: 2.142112]\n",
      "1 [D loss: 0.696942, acc.: 12.92%] [G loss: 2.392905]\n"
     ]
    },
    {
     "name": "stderr",
     "output_type": "stream",
     "text": [
      " 50%|█████████████████████████████████████████                                         | 25/50 [00:02<00:04,  5.13it/s]"
     ]
    },
    {
     "name": "stdout",
     "output_type": "stream",
     "text": [
      "1 [D loss: 0.694979, acc.: 11.74%] [G loss: 2.507032]\n",
      "1 [D loss: 0.683213, acc.: 10.80%] [G loss: 2.531522]\n",
      "1 [D loss: 0.679097, acc.: 11.18%] [G loss: 2.593608]\n",
      "1 [D loss: 0.681241, acc.: 11.99%] [G loss: 2.610798]\n",
      "1 [D loss: 0.674435, acc.: 13.13%] [G loss: 2.340354]\n",
      "1 [D loss: 0.669383, acc.: 20.23%] [G loss: 2.002814]\n"
     ]
    },
    {
     "name": "stderr",
     "output_type": "stream",
     "text": [
      " 66%|██████████████████████████████████████████████████████                            | 33/50 [00:02<00:01,  9.03it/s]"
     ]
    },
    {
     "name": "stdout",
     "output_type": "stream",
     "text": [
      "1 [D loss: 0.665672, acc.: 27.70%] [G loss: 1.600093]\n",
      "1 [D loss: 0.663923, acc.: 30.53%] [G loss: 1.479120]\n",
      "1 [D loss: 0.657107, acc.: 28.30%] [G loss: 1.633702]\n",
      "1 [D loss: 0.666310, acc.: 23.15%] [G loss: 1.874480]\n",
      "1 [D loss: 0.641855, acc.: 16.97%] [G loss: 2.162577]\n",
      "1 [D loss: 0.644058, acc.: 13.58%] [G loss: 2.504225]\n",
      "1 [D loss: 0.641056, acc.: 13.29%] [G loss: 2.326655]\n"
     ]
    },
    {
     "name": "stderr",
     "output_type": "stream",
     "text": [
      " 82%|███████████████████████████████████████████████████████████████████▏              | 41/50 [00:02<00:00, 14.40it/s]"
     ]
    },
    {
     "name": "stdout",
     "output_type": "stream",
     "text": [
      "1 [D loss: 0.638012, acc.: 16.10%] [G loss: 2.139183]\n",
      "1 [D loss: 0.629203, acc.: 23.48%] [G loss: 1.675062]\n",
      "1 [D loss: 0.625530, acc.: 31.68%] [G loss: 1.518991]\n",
      "1 [D loss: 0.613846, acc.: 37.57%] [G loss: 1.281116]\n",
      "1 [D loss: 0.624492, acc.: 35.70%] [G loss: 1.346089]\n",
      "1 [D loss: 0.611788, acc.: 30.16%] [G loss: 1.452902]\n",
      "1 [D loss: 0.617044, acc.: 27.92%] [G loss: 1.596392]\n"
     ]
    },
    {
     "name": "stderr",
     "output_type": "stream",
     "text": [
      " 90%|█████████████████████████████████████████████████████████████████████████▊        | 45/50 [00:02<00:00, 17.38it/s]"
     ]
    },
    {
     "name": "stdout",
     "output_type": "stream",
     "text": [
      "1 [D loss: 0.598632, acc.: 27.43%] [G loss: 1.517523]\n",
      "1 [D loss: 0.627533, acc.: 31.06%] [G loss: 1.489305]\n",
      "1 [D loss: 0.608106, acc.: 35.67%] [G loss: 1.310183]\n",
      "1 [D loss: 0.605226, acc.: 45.35%] [G loss: 1.112946]\n",
      "1 [D loss: 0.604230, acc.: 48.81%] [G loss: 1.118061]\n",
      "1 [D loss: 0.609656, acc.: 41.13%] [G loss: 1.281143]\n",
      "1 [D loss: 0.603886, acc.: 31.70%] [G loss: 1.473668]"
     ]
    },
    {
     "name": "stderr",
     "output_type": "stream",
     "text": [
      "100%|██████████████████████████████████████████████████████████████████████████████████| 50/50 [00:02<00:00, 17.33it/s]\n",
      "  8%|██████▋                                                                            | 4/50 [00:00<00:01, 34.39it/s]"
     ]
    },
    {
     "name": "stdout",
     "output_type": "stream",
     "text": [
      "\n",
      "1 [D loss: 0.607817, acc.: 27.11%] [G loss: 1.631322]\n",
      "1 [D loss: 0.588955, acc.: 27.74%] [G loss: 1.501183]\n",
      "Epoch 2\n",
      "2 [D loss: 0.558224, acc.: 37.71%] [G loss: 1.293956]\n",
      "2 [D loss: 0.581948, acc.: 54.12%] [G loss: 0.977284]\n",
      "2 [D loss: 0.607379, acc.: 61.72%] [G loss: 0.909284]\n",
      "2 [D loss: 0.561006, acc.: 45.48%] [G loss: 1.140499]\n"
     ]
    },
    {
     "name": "stderr",
     "output_type": "stream",
     "text": [
      " 16%|█████████████▎                                                                     | 8/50 [00:00<00:01, 33.78it/s]"
     ]
    },
    {
     "name": "stdout",
     "output_type": "stream",
     "text": [
      "2 [D loss: 0.566488, acc.: 33.09%] [G loss: 1.444434]\n",
      "2 [D loss: 0.571321, acc.: 27.10%] [G loss: 1.744749]\n",
      "2 [D loss: 0.550951, acc.: 27.31%] [G loss: 1.630973]\n",
      "2 [D loss: 0.539535, acc.: 35.03%] [G loss: 1.453456]\n",
      "2 [D loss: 0.573079, acc.: 45.68%] [G loss: 1.139310]\n",
      "2 [D loss: 0.556346, acc.: 54.73%] [G loss: 1.045526]\n",
      "2 [D loss: 0.534819, acc.: 54.00%] [G loss: 1.110536]"
     ]
    },
    {
     "name": "stderr",
     "output_type": "stream",
     "text": [
      " 32%|██████████████████████████▏                                                       | 16/50 [00:00<00:01, 33.47it/s]"
     ]
    },
    {
     "name": "stdout",
     "output_type": "stream",
     "text": [
      "\n",
      "2 [D loss: 0.570589, acc.: 41.16%] [G loss: 1.241769]\n",
      "2 [D loss: 0.568763, acc.: 35.73%] [G loss: 1.463204]\n",
      "2 [D loss: 0.545670, acc.: 29.10%] [G loss: 1.629590]\n",
      "2 [D loss: 0.560166, acc.: 32.03%] [G loss: 1.649019]\n",
      "2 [D loss: 0.571613, acc.: 38.85%] [G loss: 1.399985]\n",
      "2 [D loss: 0.536686, acc.: 40.28%] [G loss: 1.299826]"
     ]
    },
    {
     "name": "stderr",
     "output_type": "stream",
     "text": [
      " 40%|████████████████████████████████▊                                                 | 20/50 [00:00<00:00, 32.91it/s]"
     ]
    },
    {
     "name": "stdout",
     "output_type": "stream",
     "text": [
      "\n",
      "2 [D loss: 0.582342, acc.: 43.46%] [G loss: 1.260520]\n",
      "2 [D loss: 0.524322, acc.: 46.98%] [G loss: 1.264023]\n",
      "2 [D loss: 0.571137, acc.: 43.64%] [G loss: 1.119070]\n",
      "2 [D loss: 0.524749, acc.: 44.94%] [G loss: 1.246890]\n",
      "2 [D loss: 0.532047, acc.: 40.89%] [G loss: 1.277571]\n",
      "2 [D loss: 0.532941, acc.: 38.05%] [G loss: 1.450462]\n",
      "2 [D loss: 0.553671, acc.: 43.20%] [G loss: 1.410835]"
     ]
    },
    {
     "name": "stderr",
     "output_type": "stream",
     "text": [
      " 56%|█████████████████████████████████████████████▉                                    | 28/50 [00:00<00:00, 33.17it/s]"
     ]
    },
    {
     "name": "stdout",
     "output_type": "stream",
     "text": [
      "\n",
      "2 [D loss: 0.500951, acc.: 47.40%] [G loss: 1.236661]\n",
      "2 [D loss: 0.510202, acc.: 46.78%] [G loss: 1.212059]\n",
      "2 [D loss: 0.610962, acc.: 51.02%] [G loss: 1.088435]\n",
      "2 [D loss: 0.605461, acc.: 53.13%] [G loss: 1.164168]\n",
      "2 [D loss: 0.540577, acc.: 45.50%] [G loss: 1.308130]\n",
      "2 [D loss: 0.564027, acc.: 34.77%] [G loss: 1.555456]"
     ]
    },
    {
     "name": "stderr",
     "output_type": "stream",
     "text": [
      " 72%|███████████████████████████████████████████████████████████                       | 36/50 [00:01<00:00, 33.54it/s]"
     ]
    },
    {
     "name": "stdout",
     "output_type": "stream",
     "text": [
      "\n",
      "2 [D loss: 0.564442, acc.: 35.68%] [G loss: 1.400908]\n",
      "2 [D loss: 0.602697, acc.: 42.64%] [G loss: 1.304078]\n",
      "2 [D loss: 0.586851, acc.: 43.73%] [G loss: 1.281727]\n",
      "2 [D loss: 0.536316, acc.: 40.37%] [G loss: 1.305557]\n",
      "2 [D loss: 0.508601, acc.: 41.76%] [G loss: 1.293327]\n",
      "2 [D loss: 0.612806, acc.: 43.82%] [G loss: 1.377977]\n"
     ]
    },
    {
     "name": "stderr",
     "output_type": "stream",
     "text": [
      " 80%|█████████████████████████████████████████████████████████████████▌                | 40/50 [00:01<00:00, 33.54it/s]"
     ]
    },
    {
     "name": "stdout",
     "output_type": "stream",
     "text": [
      "2 [D loss: 0.497372, acc.: 40.00%] [G loss: 1.414423]\n",
      "2 [D loss: 0.490501, acc.: 35.14%] [G loss: 1.465379]\n",
      "2 [D loss: 0.588472, acc.: 42.23%] [G loss: 1.578310]\n",
      "2 [D loss: 0.583025, acc.: 36.73%] [G loss: 1.439092]\n",
      "2 [D loss: 0.591215, acc.: 44.49%] [G loss: 1.350513]\n",
      "2 [D loss: 0.570694, acc.: 45.07%] [G loss: 1.263011]\n",
      "2 [D loss: 0.591703, acc.: 48.12%] [G loss: 1.413711]"
     ]
    },
    {
     "name": "stderr",
     "output_type": "stream",
     "text": [
      " 96%|██████████████████████████████████████████████████████████████████████████████▋   | 48/50 [00:01<00:00, 33.01it/s]"
     ]
    },
    {
     "name": "stdout",
     "output_type": "stream",
     "text": [
      "\n",
      "2 [D loss: 0.529861, acc.: 43.09%] [G loss: 1.344340]\n",
      "2 [D loss: 0.457947, acc.: 36.95%] [G loss: 1.451340]\n",
      "2 [D loss: 0.522367, acc.: 49.16%] [G loss: 1.220751]\n",
      "2 [D loss: 0.528098, acc.: 70.21%] [G loss: 0.970894]\n",
      "2 [D loss: 0.584992, acc.: 69.52%] [G loss: 0.787847]\n",
      "2 [D loss: 0.545481, acc.: 57.32%] [G loss: 1.075625]\n",
      "2 [D loss: 0.656866, acc.: 62.12%] [G loss: 1.059869]"
     ]
    },
    {
     "name": "stderr",
     "output_type": "stream",
     "text": [
      "100%|██████████████████████████████████████████████████████████████████████████████████| 50/50 [00:01<00:00, 33.13it/s]\n",
      "  8%|██████▋                                                                            | 4/50 [00:00<00:01, 32.97it/s]"
     ]
    },
    {
     "name": "stdout",
     "output_type": "stream",
     "text": [
      "\n",
      "Epoch 3\n",
      "3 [D loss: 0.611962, acc.: 63.06%] [G loss: 0.984424]\n",
      "3 [D loss: 0.694475, acc.: 61.63%] [G loss: 1.044448]\n",
      "3 [D loss: 0.688265, acc.: 54.39%] [G loss: 1.070831]\n",
      "3 [D loss: 0.721880, acc.: 58.75%] [G loss: 1.234169]\n",
      "3 [D loss: 0.644501, acc.: 50.17%] [G loss: 1.148229]\n",
      "3 [D loss: 0.651332, acc.: 58.22%] [G loss: 1.190575]"
     ]
    },
    {
     "name": "stderr",
     "output_type": "stream",
     "text": [
      " 16%|█████████████▎                                                                     | 8/50 [00:00<00:01, 32.81it/s]"
     ]
    },
    {
     "name": "stdout",
     "output_type": "stream",
     "text": [
      "\n",
      "3 [D loss: 0.673378, acc.: 50.12%] [G loss: 1.204688]\n",
      "3 [D loss: 0.631944, acc.: 39.66%] [G loss: 1.365682]\n",
      "3 [D loss: 0.626851, acc.: 38.91%] [G loss: 1.144637]\n",
      "3 [D loss: 0.612167, acc.: 48.85%] [G loss: 1.125196]\n",
      "3 [D loss: 0.554289, acc.: 59.62%] [G loss: 1.092149]\n",
      "3 [D loss: 0.684527, acc.: 56.48%] [G loss: 1.206754]"
     ]
    },
    {
     "name": "stderr",
     "output_type": "stream",
     "text": [
      " 32%|██████████████████████████▏                                                       | 16/50 [00:00<00:01, 33.33it/s]"
     ]
    },
    {
     "name": "stdout",
     "output_type": "stream",
     "text": [
      "\n",
      "3 [D loss: 0.611512, acc.: 43.71%] [G loss: 1.291434]\n",
      "3 [D loss: 0.617392, acc.: 44.39%] [G loss: 1.389426]\n",
      "3 [D loss: 0.584587, acc.: 42.28%] [G loss: 1.288855]\n",
      "3 [D loss: 0.603268, acc.: 53.97%] [G loss: 1.140046]\n",
      "3 [D loss: 0.700900, acc.: 52.50%] [G loss: 1.062566]\n",
      "3 [D loss: 0.725142, acc.: 57.31%] [G loss: 1.115629]\n"
     ]
    },
    {
     "name": "stderr",
     "output_type": "stream",
     "text": [
      " 48%|███████████████████████████████████████▎                                          | 24/50 [00:00<00:00, 33.38it/s]"
     ]
    },
    {
     "name": "stdout",
     "output_type": "stream",
     "text": [
      "3 [D loss: 0.738474, acc.: 49.92%] [G loss: 1.140937]\n",
      "3 [D loss: 0.634669, acc.: 53.84%] [G loss: 1.146772]\n",
      "3 [D loss: 0.513243, acc.: 57.03%] [G loss: 1.090468]\n",
      "3 [D loss: 0.662465, acc.: 61.80%] [G loss: 0.995190]\n",
      "3 [D loss: 0.586628, acc.: 70.06%] [G loss: 0.916654]\n",
      "3 [D loss: 0.636924, acc.: 74.50%] [G loss: 0.896458]\n",
      "3 [D loss: 0.829566, acc.: 72.37%] [G loss: 0.774614]\n"
     ]
    },
    {
     "name": "stderr",
     "output_type": "stream",
     "text": [
      " 56%|█████████████████████████████████████████████▉                                    | 28/50 [00:00<00:00, 32.84it/s]"
     ]
    },
    {
     "name": "stdout",
     "output_type": "stream",
     "text": [
      "3 [D loss: 0.696539, acc.: 71.23%] [G loss: 0.858276]\n",
      "3 [D loss: 0.827039, acc.: 70.15%] [G loss: 0.868595]\n",
      "3 [D loss: 0.638256, acc.: 79.94%] [G loss: 0.799608]\n",
      "3 [D loss: 0.705046, acc.: 79.06%] [G loss: 0.876053]\n",
      "3 [D loss: 0.681078, acc.: 65.14%] [G loss: 0.947297]\n",
      "3 [D loss: 0.710816, acc.: 59.22%] [G loss: 0.947730]\n",
      "3 [D loss: 0.770675, acc.: 59.44%] [G loss: 1.054525]"
     ]
    },
    {
     "name": "stderr",
     "output_type": "stream",
     "text": [
      " 72%|███████████████████████████████████████████████████████████                       | 36/50 [00:01<00:00, 33.05it/s]"
     ]
    },
    {
     "name": "stdout",
     "output_type": "stream",
     "text": [
      "\n",
      "3 [D loss: 0.823774, acc.: 60.43%] [G loss: 0.998623]\n",
      "3 [D loss: 0.803548, acc.: 65.25%] [G loss: 0.903106]\n",
      "3 [D loss: 0.775354, acc.: 62.94%] [G loss: 0.982477]\n",
      "3 [D loss: 0.700259, acc.: 50.24%] [G loss: 1.143745]\n",
      "3 [D loss: 0.792359, acc.: 51.76%] [G loss: 1.138869]\n",
      "3 [D loss: 0.648234, acc.: 54.34%] [G loss: 1.094664]"
     ]
    },
    {
     "name": "stderr",
     "output_type": "stream",
     "text": [
      " 88%|████████████████████████████████████████████████████████████████████████▏         | 44/50 [00:01<00:00, 33.14it/s]"
     ]
    },
    {
     "name": "stdout",
     "output_type": "stream",
     "text": [
      "\n",
      "3 [D loss: 0.677713, acc.: 65.02%] [G loss: 0.986067]\n",
      "3 [D loss: 0.619669, acc.: 71.15%] [G loss: 0.903915]\n",
      "3 [D loss: 0.706200, acc.: 61.50%] [G loss: 1.045888]\n",
      "3 [D loss: 0.634644, acc.: 55.16%] [G loss: 1.078358]\n",
      "3 [D loss: 0.689532, acc.: 49.66%] [G loss: 1.129977]\n",
      "3 [D loss: 0.656858, acc.: 57.44%] [G loss: 1.040029]\n"
     ]
    },
    {
     "name": "stderr",
     "output_type": "stream",
     "text": [
      "100%|██████████████████████████████████████████████████████████████████████████████████| 50/50 [00:01<00:00, 33.20it/s]\n",
      "  0%|                                                                                           | 0/50 [00:00<?, ?it/s]"
     ]
    },
    {
     "name": "stdout",
     "output_type": "stream",
     "text": [
      "3 [D loss: 0.743771, acc.: 64.49%] [G loss: 0.951587]\n",
      "3 [D loss: 0.799498, acc.: 60.97%] [G loss: 1.023347]\n",
      "3 [D loss: 0.856651, acc.: 56.59%] [G loss: 0.984500]\n",
      "3 [D loss: 0.768544, acc.: 63.01%] [G loss: 0.921832]\n",
      "3 [D loss: 0.727539, acc.: 61.08%] [G loss: 0.924352]\n",
      "3 [D loss: 0.817391, acc.: 62.58%] [G loss: 0.878335]\n",
      "Epoch 4\n",
      "4 [D loss: 0.677001, acc.: 67.77%] [G loss: 0.852119]"
     ]
    },
    {
     "name": "stderr",
     "output_type": "stream",
     "text": [
      "  8%|██████▋                                                                            | 4/50 [00:00<00:01, 32.43it/s]"
     ]
    },
    {
     "name": "stdout",
     "output_type": "stream",
     "text": [
      "\n",
      "4 [D loss: 0.805593, acc.: 74.95%] [G loss: 0.852679]\n",
      "4 [D loss: 0.800738, acc.: 71.14%] [G loss: 0.864018]\n",
      "4 [D loss: 0.667668, acc.: 78.28%] [G loss: 0.858523]\n",
      "4 [D loss: 0.714254, acc.: 77.77%] [G loss: 0.825960]\n",
      "4 [D loss: 0.757963, acc.: 82.19%] [G loss: 0.644045]\n",
      "4 [D loss: 0.656625, acc.: 90.90%] [G loss: 0.595753]"
     ]
    },
    {
     "name": "stderr",
     "output_type": "stream",
     "text": [
      " 24%|███████████████████▋                                                              | 12/50 [00:00<00:01, 32.38it/s]"
     ]
    },
    {
     "name": "stdout",
     "output_type": "stream",
     "text": [
      "\n",
      "4 [D loss: 0.756280, acc.: 85.79%] [G loss: 0.594704]\n",
      "4 [D loss: 0.810657, acc.: 77.75%] [G loss: 0.705235]\n",
      "4 [D loss: 0.836308, acc.: 73.24%] [G loss: 0.818513]\n",
      "4 [D loss: 0.801551, acc.: 73.36%] [G loss: 0.782637]\n",
      "4 [D loss: 0.898877, acc.: 80.93%] [G loss: 0.720217]\n",
      "4 [D loss: 0.825239, acc.: 84.62%] [G loss: 0.605562]"
     ]
    },
    {
     "name": "stderr",
     "output_type": "stream",
     "text": [
      " 32%|██████████████████████████▏                                                       | 16/50 [00:00<00:01, 32.64it/s]"
     ]
    },
    {
     "name": "stdout",
     "output_type": "stream",
     "text": [
      "\n",
      "4 [D loss: 0.867086, acc.: 80.45%] [G loss: 0.665809]\n",
      "4 [D loss: 0.779524, acc.: 70.57%] [G loss: 0.787712]\n",
      "4 [D loss: 0.830906, acc.: 59.92%] [G loss: 0.850039]\n",
      "4 [D loss: 0.771828, acc.: 64.17%] [G loss: 0.918800]\n",
      "4 [D loss: 0.802606, acc.: 72.27%] [G loss: 0.779028]\n",
      "4 [D loss: 0.780630, acc.: 85.48%] [G loss: 0.611390]\n"
     ]
    },
    {
     "name": "stderr",
     "output_type": "stream",
     "text": [
      " 48%|███████████████████████████████████████▎                                          | 24/50 [00:00<00:00, 33.03it/s]"
     ]
    },
    {
     "name": "stdout",
     "output_type": "stream",
     "text": [
      "4 [D loss: 0.757662, acc.: 81.95%] [G loss: 0.670576]\n",
      "4 [D loss: 0.788619, acc.: 67.96%] [G loss: 0.849075]\n",
      "4 [D loss: 0.774481, acc.: 62.58%] [G loss: 0.907871]\n",
      "4 [D loss: 0.828919, acc.: 63.21%] [G loss: 0.898415]\n",
      "4 [D loss: 0.826990, acc.: 67.62%] [G loss: 0.812777]\n",
      "4 [D loss: 0.776741, acc.: 77.07%] [G loss: 0.673750]\n",
      "4 [D loss: 0.800441, acc.: 82.21%] [G loss: 0.656858]"
     ]
    },
    {
     "name": "stderr",
     "output_type": "stream",
     "text": [
      " 64%|████████████████████████████████████████████████████▍                             | 32/50 [00:00<00:00, 33.04it/s]"
     ]
    },
    {
     "name": "stdout",
     "output_type": "stream",
     "text": [
      "\n",
      "4 [D loss: 0.788730, acc.: 77.01%] [G loss: 0.690288]\n",
      "4 [D loss: 0.737838, acc.: 68.16%] [G loss: 0.801572]\n",
      "4 [D loss: 0.809865, acc.: 62.39%] [G loss: 0.846536]\n",
      "4 [D loss: 0.837022, acc.: 61.93%] [G loss: 0.846024]\n",
      "4 [D loss: 0.760180, acc.: 67.62%] [G loss: 0.801452]\n",
      "4 [D loss: 0.773245, acc.: 70.49%] [G loss: 0.728184]\n"
     ]
    },
    {
     "name": "stderr",
     "output_type": "stream",
     "text": [
      " 72%|███████████████████████████████████████████████████████████                       | 36/50 [00:01<00:00, 33.18it/s]"
     ]
    },
    {
     "name": "stdout",
     "output_type": "stream",
     "text": [
      "4 [D loss: 0.827681, acc.: 75.24%] [G loss: 0.710624]\n",
      "4 [D loss: 0.813265, acc.: 73.29%] [G loss: 0.708740]\n",
      "4 [D loss: 0.831669, acc.: 68.66%] [G loss: 0.784903]\n",
      "4 [D loss: 0.838118, acc.: 64.66%] [G loss: 0.765517]\n",
      "4 [D loss: 0.783707, acc.: 67.68%] [G loss: 0.799669]\n",
      "4 [D loss: 0.766235, acc.: 69.07%] [G loss: 0.763352]\n",
      "4 [D loss: 0.775704, acc.: 73.10%] [G loss: 0.735358]\n"
     ]
    },
    {
     "name": "stderr",
     "output_type": "stream",
     "text": [
      " 88%|████████████████████████████████████████████████████████████████████████▏         | 44/50 [00:01<00:00, 33.81it/s]"
     ]
    },
    {
     "name": "stdout",
     "output_type": "stream",
     "text": [
      "4 [D loss: 0.799743, acc.: 74.94%] [G loss: 0.711822]\n",
      "4 [D loss: 0.861439, acc.: 78.76%] [G loss: 0.708292]\n",
      "4 [D loss: 0.801250, acc.: 76.11%] [G loss: 0.694991]\n",
      "4 [D loss: 0.804437, acc.: 70.96%] [G loss: 0.688085]\n",
      "4 [D loss: 0.728111, acc.: 70.86%] [G loss: 0.728377]\n",
      "4 [D loss: 0.763825, acc.: 68.08%] [G loss: 0.733664]\n",
      "4 [D loss: 0.780996, acc.: 71.60%] [G loss: 0.743752]"
     ]
    },
    {
     "name": "stderr",
     "output_type": "stream",
     "text": [
      "100%|██████████████████████████████████████████████████████████████████████████████████| 50/50 [00:01<00:00, 33.15it/s]\n",
      "  0%|                                                                                           | 0/50 [00:00<?, ?it/s]"
     ]
    },
    {
     "name": "stdout",
     "output_type": "stream",
     "text": [
      "\n",
      "4 [D loss: 0.768711, acc.: 73.77%] [G loss: 0.678061]\n",
      "4 [D loss: 0.846327, acc.: 79.56%] [G loss: 0.650475]\n",
      "4 [D loss: 0.799845, acc.: 85.73%] [G loss: 0.599560]\n",
      "4 [D loss: 0.814005, acc.: 87.13%] [G loss: 0.599875]\n",
      "Epoch 5\n",
      "5 [D loss: 0.767127, acc.: 82.52%] [G loss: 0.610809]\n",
      "5 [D loss: 0.773181, acc.: 75.60%] [G loss: 0.677286]\n"
     ]
    },
    {
     "name": "stderr",
     "output_type": "stream",
     "text": [
      " 16%|█████████████▎                                                                     | 8/50 [00:00<00:01, 33.78it/s]"
     ]
    },
    {
     "name": "stdout",
     "output_type": "stream",
     "text": [
      "5 [D loss: 0.793016, acc.: 68.67%] [G loss: 0.695424]\n",
      "5 [D loss: 0.814622, acc.: 70.70%] [G loss: 0.756921]\n",
      "5 [D loss: 0.788423, acc.: 68.95%] [G loss: 0.748545]\n",
      "5 [D loss: 0.798007, acc.: 71.41%] [G loss: 0.713936]\n",
      "5 [D loss: 0.792810, acc.: 76.80%] [G loss: 0.636847]\n",
      "5 [D loss: 0.804961, acc.: 81.99%] [G loss: 0.604633]\n",
      "5 [D loss: 0.824268, acc.: 81.21%] [G loss: 0.614616]"
     ]
    },
    {
     "name": "stderr",
     "output_type": "stream",
     "text": [
      " 24%|███████████████████▋                                                              | 12/50 [00:00<00:01, 33.62it/s]"
     ]
    },
    {
     "name": "stdout",
     "output_type": "stream",
     "text": [
      "\n",
      "5 [D loss: 0.766674, acc.: 77.63%] [G loss: 0.659964]\n",
      "5 [D loss: 0.814886, acc.: 72.88%] [G loss: 0.702442]\n",
      "5 [D loss: 0.798293, acc.: 68.26%] [G loss: 0.730239]\n",
      "5 [D loss: 0.827292, acc.: 65.72%] [G loss: 0.740620]\n",
      "5 [D loss: 0.793549, acc.: 66.76%] [G loss: 0.749604]\n",
      "5 [D loss: 0.772065, acc.: 67.24%] [G loss: 0.741608]\n"
     ]
    },
    {
     "name": "stderr",
     "output_type": "stream",
     "text": [
      " 40%|████████████████████████████████▊                                                 | 20/50 [00:00<00:00, 32.95it/s]"
     ]
    },
    {
     "name": "stdout",
     "output_type": "stream",
     "text": [
      "5 [D loss: 0.819859, acc.: 70.91%] [G loss: 0.713439]\n",
      "5 [D loss: 0.771043, acc.: 74.79%] [G loss: 0.673119]\n",
      "5 [D loss: 0.790233, acc.: 75.94%] [G loss: 0.665110]\n",
      "5 [D loss: 0.788936, acc.: 73.87%] [G loss: 0.665399]\n",
      "5 [D loss: 0.784996, acc.: 73.71%] [G loss: 0.677241]\n",
      "5 [D loss: 0.780792, acc.: 71.41%] [G loss: 0.698817]\n",
      "5 [D loss: 0.785310, acc.: 68.85%] [G loss: 0.710220]"
     ]
    },
    {
     "name": "stderr",
     "output_type": "stream",
     "text": [
      " 48%|███████████████████████████████████████▎                                          | 24/50 [00:00<00:00, 32.71it/s]"
     ]
    },
    {
     "name": "stdout",
     "output_type": "stream",
     "text": [
      "\n",
      "5 [D loss: 0.774418, acc.: 66.66%] [G loss: 0.724607]\n",
      "5 [D loss: 0.795501, acc.: 67.06%] [G loss: 0.727031]\n",
      "5 [D loss: 0.758249, acc.: 67.29%] [G loss: 0.729095]\n",
      "5 [D loss: 0.795088, acc.: 69.79%] [G loss: 0.712914]\n",
      "5 [D loss: 0.795612, acc.: 70.54%] [G loss: 0.697394]\n",
      "5 [D loss: 0.794021, acc.: 71.02%] [G loss: 0.689621]"
     ]
    },
    {
     "name": "stderr",
     "output_type": "stream",
     "text": [
      " 64%|████████████████████████████████████████████████████▍                             | 32/50 [00:00<00:00, 33.37it/s]"
     ]
    },
    {
     "name": "stdout",
     "output_type": "stream",
     "text": [
      "\n",
      "5 [D loss: 0.808958, acc.: 71.95%] [G loss: 0.689729]\n",
      "5 [D loss: 0.760571, acc.: 71.34%] [G loss: 0.690053]\n",
      "5 [D loss: 0.752710, acc.: 70.96%] [G loss: 0.691309]\n",
      "5 [D loss: 0.840379, acc.: 70.15%] [G loss: 0.698188]\n",
      "5 [D loss: 0.790034, acc.: 70.11%] [G loss: 0.696509]\n",
      "5 [D loss: 0.776933, acc.: 69.74%] [G loss: 0.699385]\n"
     ]
    },
    {
     "name": "stderr",
     "output_type": "stream",
     "text": [
      " 80%|█████████████████████████████████████████████████████████████████▌                | 40/50 [00:01<00:00, 33.11it/s]"
     ]
    },
    {
     "name": "stdout",
     "output_type": "stream",
     "text": [
      "5 [D loss: 0.754728, acc.: 69.58%] [G loss: 0.707749]\n",
      "5 [D loss: 0.793749, acc.: 70.35%] [G loss: 0.703869]\n",
      "5 [D loss: 0.767504, acc.: 69.78%] [G loss: 0.699351]\n",
      "5 [D loss: 0.760128, acc.: 69.10%] [G loss: 0.698789]\n",
      "5 [D loss: 0.776309, acc.: 70.13%] [G loss: 0.689379]\n",
      "5 [D loss: 0.758638, acc.: 70.23%] [G loss: 0.691755]\n",
      "5 [D loss: 0.774412, acc.: 70.68%] [G loss: 0.684400]"
     ]
    },
    {
     "name": "stderr",
     "output_type": "stream",
     "text": [
      " 88%|████████████████████████████████████████████████████████████████████████▏         | 44/50 [00:01<00:00, 33.15it/s]"
     ]
    },
    {
     "name": "stdout",
     "output_type": "stream",
     "text": [
      "\n",
      "5 [D loss: 0.762395, acc.: 71.06%] [G loss: 0.678290]\n",
      "5 [D loss: 0.742740, acc.: 70.62%] [G loss: 0.681478]\n",
      "5 [D loss: 0.753527, acc.: 71.22%] [G loss: 0.682260]\n",
      "5 [D loss: 0.754088, acc.: 70.99%] [G loss: 0.688390]\n",
      "5 [D loss: 0.757233, acc.: 69.98%] [G loss: 0.691249]\n",
      "5 [D loss: 0.753486, acc.: 70.23%] [G loss: 0.685674]\n"
     ]
    },
    {
     "name": "stderr",
     "output_type": "stream",
     "text": [
      "100%|██████████████████████████████████████████████████████████████████████████████████| 50/50 [00:01<00:00, 33.20it/s]\n",
      "  0%|                                                                                           | 0/50 [00:00<?, ?it/s]"
     ]
    },
    {
     "name": "stdout",
     "output_type": "stream",
     "text": [
      "5 [D loss: 0.739192, acc.: 69.70%] [G loss: 0.688517]\n",
      "5 [D loss: 0.741245, acc.: 69.55%] [G loss: 0.694427]\n",
      "5 [D loss: 0.741418, acc.: 69.82%] [G loss: 0.693213]\n",
      "Epoch 6\n",
      "6 [D loss: 0.742355, acc.: 69.83%] [G loss: 0.692260]\n",
      "6 [D loss: 0.734334, acc.: 69.98%] [G loss: 0.690696]\n",
      "6 [D loss: 0.757689, acc.: 70.04%] [G loss: 0.694140]\n",
      "6 [D loss: 0.733166, acc.: 70.77%] [G loss: 0.688164]"
     ]
    },
    {
     "name": "stderr",
     "output_type": "stream",
     "text": [
      " 16%|█████████████▎                                                                     | 8/50 [00:00<00:01, 33.64it/s]"
     ]
    },
    {
     "name": "stdout",
     "output_type": "stream",
     "text": [
      "\n",
      "6 [D loss: 0.762937, acc.: 70.65%] [G loss: 0.683831]\n",
      "6 [D loss: 0.736040, acc.: 70.81%] [G loss: 0.682485]\n",
      "6 [D loss: 0.740677, acc.: 71.31%] [G loss: 0.677470]\n",
      "6 [D loss: 0.739831, acc.: 71.51%] [G loss: 0.678975]\n",
      "6 [D loss: 0.750444, acc.: 71.77%] [G loss: 0.674979]\n",
      "6 [D loss: 0.726684, acc.: 71.60%] [G loss: 0.677541]\n"
     ]
    },
    {
     "name": "stderr",
     "output_type": "stream",
     "text": [
      " 32%|██████████████████████████▏                                                       | 16/50 [00:00<00:01, 33.76it/s]"
     ]
    },
    {
     "name": "stdout",
     "output_type": "stream",
     "text": [
      "6 [D loss: 0.741977, acc.: 71.65%] [G loss: 0.674825]\n",
      "6 [D loss: 0.721546, acc.: 71.43%] [G loss: 0.674440]\n",
      "6 [D loss: 0.725528, acc.: 71.45%] [G loss: 0.673509]\n",
      "6 [D loss: 0.725271, acc.: 71.32%] [G loss: 0.672745]\n",
      "6 [D loss: 0.723954, acc.: 71.46%] [G loss: 0.675153]\n",
      "6 [D loss: 0.722152, acc.: 71.03%] [G loss: 0.677026]\n",
      "6 [D loss: 0.725089, acc.: 71.02%] [G loss: 0.677426]\n"
     ]
    },
    {
     "name": "stderr",
     "output_type": "stream",
     "text": [
      " 40%|████████████████████████████████▊                                                 | 20/50 [00:00<00:00, 33.69it/s]"
     ]
    },
    {
     "name": "stdout",
     "output_type": "stream",
     "text": [
      "6 [D loss: 0.725322, acc.: 71.05%] [G loss: 0.677498]\n",
      "6 [D loss: 0.722988, acc.: 70.94%] [G loss: 0.678993]\n",
      "6 [D loss: 0.729596, acc.: 70.83%] [G loss: 0.679400]\n",
      "6 [D loss: 0.730627, acc.: 70.96%] [G loss: 0.679557]\n",
      "6 [D loss: 0.724005, acc.: 71.09%] [G loss: 0.678820]\n",
      "6 [D loss: 0.714843, acc.: 70.90%] [G loss: 0.677259]\n",
      "6 [D loss: 0.723753, acc.: 71.07%] [G loss: 0.676916]"
     ]
    },
    {
     "name": "stderr",
     "output_type": "stream",
     "text": [
      " 56%|█████████████████████████████████████████████▉                                    | 28/50 [00:00<00:00, 33.55it/s]"
     ]
    },
    {
     "name": "stdout",
     "output_type": "stream",
     "text": [
      "\n",
      "6 [D loss: 0.717550, acc.: 70.97%] [G loss: 0.677146]\n",
      "6 [D loss: 0.712732, acc.: 71.14%] [G loss: 0.677385]\n",
      "6 [D loss: 0.709938, acc.: 71.24%] [G loss: 0.677917]\n",
      "6 [D loss: 0.722704, acc.: 71.19%] [G loss: 0.674628]\n",
      "6 [D loss: 0.715482, acc.: 71.37%] [G loss: 0.675279]\n",
      "6 [D loss: 0.711633, acc.: 71.22%] [G loss: 0.674849]\n"
     ]
    },
    {
     "name": "stderr",
     "output_type": "stream",
     "text": [
      " 72%|███████████████████████████████████████████████████████████                       | 36/50 [00:01<00:00, 33.77it/s]"
     ]
    },
    {
     "name": "stdout",
     "output_type": "stream",
     "text": [
      "6 [D loss: 0.710452, acc.: 71.42%] [G loss: 0.673760]\n",
      "6 [D loss: 0.715333, acc.: 71.36%] [G loss: 0.674059]\n",
      "6 [D loss: 0.710641, acc.: 71.23%] [G loss: 0.673985]\n",
      "6 [D loss: 0.701681, acc.: 71.36%] [G loss: 0.672728]\n",
      "6 [D loss: 0.707376, acc.: 71.39%] [G loss: 0.674903]\n",
      "6 [D loss: 0.710692, acc.: 71.44%] [G loss: 0.673892]\n",
      "6 [D loss: 0.707728, acc.: 71.38%] [G loss: 0.673127]\n"
     ]
    },
    {
     "name": "stderr",
     "output_type": "stream",
     "text": [
      " 80%|█████████████████████████████████████████████████████████████████▌                | 40/50 [00:01<00:00, 33.44it/s]"
     ]
    },
    {
     "name": "stdout",
     "output_type": "stream",
     "text": [
      "6 [D loss: 0.704039, acc.: 71.47%] [G loss: 0.673442]\n",
      "6 [D loss: 0.697877, acc.: 71.38%] [G loss: 0.674152]\n",
      "6 [D loss: 0.707023, acc.: 71.43%] [G loss: 0.673828]\n",
      "6 [D loss: 0.702165, acc.: 71.41%] [G loss: 0.672727]\n",
      "6 [D loss: 0.700889, acc.: 71.40%] [G loss: 0.673137]\n",
      "6 [D loss: 0.695677, acc.: 71.46%] [G loss: 0.674021]\n",
      "6 [D loss: 0.705071, acc.: 71.61%] [G loss: 0.673897]"
     ]
    },
    {
     "name": "stderr",
     "output_type": "stream",
     "text": [
      " 96%|██████████████████████████████████████████████████████████████████████████████▋   | 48/50 [00:01<00:00, 33.01it/s]"
     ]
    },
    {
     "name": "stdout",
     "output_type": "stream",
     "text": [
      "\n",
      "6 [D loss: 0.698934, acc.: 71.51%] [G loss: 0.673558]\n",
      "6 [D loss: 0.706323, acc.: 71.37%] [G loss: 0.672788]\n",
      "6 [D loss: 0.693768, acc.: 71.53%] [G loss: 0.673046]\n",
      "6 [D loss: 0.694833, acc.: 71.48%] [G loss: 0.673052]\n",
      "6 [D loss: 0.701739, acc.: 71.55%] [G loss: 0.672233]\n",
      "6 [D loss: 0.698219, acc.: 71.64%] [G loss: 0.671605]"
     ]
    },
    {
     "name": "stderr",
     "output_type": "stream",
     "text": [
      "100%|██████████████████████████████████████████████████████████████████████████████████| 50/50 [00:01<00:00, 33.44it/s]\n",
      "  8%|██████▋                                                                            | 4/50 [00:00<00:01, 33.24it/s]"
     ]
    },
    {
     "name": "stdout",
     "output_type": "stream",
     "text": [
      "\n",
      "Epoch 7\n",
      "7 [D loss: 0.699063, acc.: 71.53%] [G loss: 0.672049]\n",
      "7 [D loss: 0.697433, acc.: 71.55%] [G loss: 0.671620]\n",
      "7 [D loss: 0.693468, acc.: 71.64%] [G loss: 0.670896]\n",
      "7 [D loss: 0.696864, acc.: 71.64%] [G loss: 0.671078]\n",
      "7 [D loss: 0.693789, acc.: 71.67%] [G loss: 0.670558]\n",
      "7 [D loss: 0.690490, acc.: 71.77%] [G loss: 0.670849]\n"
     ]
    },
    {
     "name": "stderr",
     "output_type": "stream",
     "text": [
      " 24%|███████████████████▋                                                              | 12/50 [00:00<00:01, 33.61it/s]"
     ]
    },
    {
     "name": "stdout",
     "output_type": "stream",
     "text": [
      "7 [D loss: 0.690375, acc.: 71.70%] [G loss: 0.671169]\n",
      "7 [D loss: 0.696119, acc.: 71.79%] [G loss: 0.670091]\n",
      "7 [D loss: 0.691760, acc.: 71.72%] [G loss: 0.671080]\n",
      "7 [D loss: 0.686881, acc.: 71.63%] [G loss: 0.670106]\n",
      "7 [D loss: 0.692647, acc.: 71.80%] [G loss: 0.671375]\n",
      "7 [D loss: 0.690547, acc.: 71.84%] [G loss: 0.669780]\n",
      "7 [D loss: 0.690639, acc.: 71.85%] [G loss: 0.670261]"
     ]
    },
    {
     "name": "stderr",
     "output_type": "stream",
     "text": [
      " 32%|██████████████████████████▏                                                       | 16/50 [00:00<00:01, 33.33it/s]"
     ]
    },
    {
     "name": "stdout",
     "output_type": "stream",
     "text": [
      "\n",
      "7 [D loss: 0.688933, acc.: 71.88%] [G loss: 0.669023]\n",
      "7 [D loss: 0.689016, acc.: 71.82%] [G loss: 0.668823]\n",
      "7 [D loss: 0.687881, acc.: 71.90%] [G loss: 0.668737]\n",
      "7 [D loss: 0.685647, acc.: 71.89%] [G loss: 0.669178]\n",
      "7 [D loss: 0.687456, acc.: 71.88%] [G loss: 0.669952]\n",
      "7 [D loss: 0.688459, acc.: 71.90%] [G loss: 0.669286]\n"
     ]
    },
    {
     "name": "stderr",
     "output_type": "stream",
     "text": [
      " 48%|███████████████████████████████████████▎                                          | 24/50 [00:00<00:00, 33.09it/s]"
     ]
    },
    {
     "name": "stdout",
     "output_type": "stream",
     "text": [
      "7 [D loss: 0.688501, acc.: 71.97%] [G loss: 0.668387]\n",
      "7 [D loss: 0.686940, acc.: 71.96%] [G loss: 0.668136]\n",
      "7 [D loss: 0.685531, acc.: 72.06%] [G loss: 0.668137]\n",
      "7 [D loss: 0.683501, acc.: 72.01%] [G loss: 0.668003]\n",
      "7 [D loss: 0.683207, acc.: 72.03%] [G loss: 0.668172]\n",
      "7 [D loss: 0.685390, acc.: 72.06%] [G loss: 0.667910]\n",
      "7 [D loss: 0.678250, acc.: 72.04%] [G loss: 0.668069]"
     ]
    },
    {
     "name": "stderr",
     "output_type": "stream",
     "text": [
      " 56%|█████████████████████████████████████████████▉                                    | 28/50 [00:00<00:00, 33.13it/s]"
     ]
    },
    {
     "name": "stdout",
     "output_type": "stream",
     "text": [
      "\n",
      "7 [D loss: 0.681096, acc.: 72.14%] [G loss: 0.667071]\n",
      "7 [D loss: 0.681138, acc.: 72.03%] [G loss: 0.666499]\n",
      "7 [D loss: 0.682006, acc.: 72.07%] [G loss: 0.666868]\n",
      "7 [D loss: 0.678471, acc.: 72.08%] [G loss: 0.666233]\n",
      "7 [D loss: 0.679794, acc.: 72.09%] [G loss: 0.667160]\n",
      "7 [D loss: 0.676553, acc.: 72.12%] [G loss: 0.666934]"
     ]
    },
    {
     "name": "stderr",
     "output_type": "stream",
     "text": [
      " 72%|███████████████████████████████████████████████████████████                       | 36/50 [00:01<00:00, 33.21it/s]"
     ]
    },
    {
     "name": "stdout",
     "output_type": "stream",
     "text": [
      "\n",
      "7 [D loss: 0.677049, acc.: 72.07%] [G loss: 0.666071]\n",
      "7 [D loss: 0.676343, acc.: 72.15%] [G loss: 0.666319]\n",
      "7 [D loss: 0.675422, acc.: 72.13%] [G loss: 0.666225]\n",
      "7 [D loss: 0.673466, acc.: 72.11%] [G loss: 0.666616]\n",
      "7 [D loss: 0.676624, acc.: 72.08%] [G loss: 0.666381]\n",
      "7 [D loss: 0.675455, acc.: 72.18%] [G loss: 0.666170]\n"
     ]
    },
    {
     "name": "stderr",
     "output_type": "stream",
     "text": [
      " 88%|████████████████████████████████████████████████████████████████████████▏         | 44/50 [00:01<00:00, 33.37it/s]"
     ]
    },
    {
     "name": "stdout",
     "output_type": "stream",
     "text": [
      "7 [D loss: 0.674316, acc.: 72.19%] [G loss: 0.665975]\n",
      "7 [D loss: 0.673772, acc.: 72.15%] [G loss: 0.665300]\n",
      "7 [D loss: 0.671519, acc.: 72.26%] [G loss: 0.665325]\n",
      "7 [D loss: 0.673089, acc.: 72.24%] [G loss: 0.665589]\n",
      "7 [D loss: 0.672882, acc.: 72.34%] [G loss: 0.664969]\n",
      "7 [D loss: 0.673824, acc.: 72.22%] [G loss: 0.665244]\n",
      "7 [D loss: 0.671112, acc.: 72.33%] [G loss: 0.665510]\n"
     ]
    },
    {
     "name": "stderr",
     "output_type": "stream",
     "text": [
      "100%|██████████████████████████████████████████████████████████████████████████████████| 50/50 [00:01<00:00, 33.31it/s]\n",
      "  0%|                                                                                           | 0/50 [00:00<?, ?it/s]"
     ]
    },
    {
     "name": "stdout",
     "output_type": "stream",
     "text": [
      "7 [D loss: 0.669119, acc.: 72.23%] [G loss: 0.664819]\n",
      "7 [D loss: 0.670147, acc.: 72.28%] [G loss: 0.664441]\n",
      "7 [D loss: 0.670606, acc.: 72.40%] [G loss: 0.665136]\n",
      "7 [D loss: 0.668010, acc.: 72.39%] [G loss: 0.665084]\n",
      "7 [D loss: 0.667229, acc.: 72.46%] [G loss: 0.663883]\n",
      "Epoch 8\n",
      "8 [D loss: 0.667572, acc.: 72.40%] [G loss: 0.664703]\n",
      "8 [D loss: 0.669315, acc.: 72.42%] [G loss: 0.664486]"
     ]
    },
    {
     "name": "stderr",
     "output_type": "stream",
     "text": [
      "  8%|██████▋                                                                            | 4/50 [00:00<00:01, 32.97it/s]"
     ]
    },
    {
     "name": "stdout",
     "output_type": "stream",
     "text": [
      "\n",
      "8 [D loss: 0.666865, acc.: 72.39%] [G loss: 0.664408]\n",
      "8 [D loss: 0.666067, acc.: 72.46%] [G loss: 0.664730]\n",
      "8 [D loss: 0.667717, acc.: 72.45%] [G loss: 0.664894]\n",
      "8 [D loss: 0.664981, acc.: 72.47%] [G loss: 0.664140]\n",
      "8 [D loss: 0.664334, acc.: 72.43%] [G loss: 0.664527]\n",
      "8 [D loss: 0.664182, acc.: 72.47%] [G loss: 0.665640]"
     ]
    },
    {
     "name": "stderr",
     "output_type": "stream",
     "text": [
      " 24%|███████████████████▋                                                              | 12/50 [00:00<00:01, 33.02it/s]"
     ]
    },
    {
     "name": "stdout",
     "output_type": "stream",
     "text": [
      "\n",
      "8 [D loss: 0.663459, acc.: 72.48%] [G loss: 0.663125]\n",
      "8 [D loss: 0.662694, acc.: 72.43%] [G loss: 0.663472]\n",
      "8 [D loss: 0.662691, acc.: 72.48%] [G loss: 0.663817]\n",
      "8 [D loss: 0.664358, acc.: 72.43%] [G loss: 0.664116]\n",
      "8 [D loss: 0.661099, acc.: 72.45%] [G loss: 0.663669]\n",
      "8 [D loss: 0.661113, acc.: 72.41%] [G loss: 0.663939]\n"
     ]
    },
    {
     "name": "stderr",
     "output_type": "stream",
     "text": [
      " 40%|████████████████████████████████▊                                                 | 20/50 [00:00<00:00, 33.47it/s]"
     ]
    },
    {
     "name": "stdout",
     "output_type": "stream",
     "text": [
      "8 [D loss: 0.660687, acc.: 72.47%] [G loss: 0.664265]\n",
      "8 [D loss: 0.661204, acc.: 72.58%] [G loss: 0.663698]\n",
      "8 [D loss: 0.659723, acc.: 72.43%] [G loss: 0.663150]\n",
      "8 [D loss: 0.658662, acc.: 72.55%] [G loss: 0.663148]\n",
      "8 [D loss: 0.655981, acc.: 72.51%] [G loss: 0.663819]\n",
      "8 [D loss: 0.659152, acc.: 72.36%] [G loss: 0.662899]\n",
      "8 [D loss: 0.658838, acc.: 72.52%] [G loss: 0.662706]"
     ]
    },
    {
     "name": "stderr",
     "output_type": "stream",
     "text": [
      " 48%|███████████████████████████████████████▎                                          | 24/50 [00:00<00:00, 33.48it/s]"
     ]
    },
    {
     "name": "stdout",
     "output_type": "stream",
     "text": [
      "\n",
      "8 [D loss: 0.657081, acc.: 72.52%] [G loss: 0.663556]\n",
      "8 [D loss: 0.656008, acc.: 72.55%] [G loss: 0.663261]\n",
      "8 [D loss: 0.654041, acc.: 72.49%] [G loss: 0.663073]\n",
      "8 [D loss: 0.656159, acc.: 72.50%] [G loss: 0.662921]\n",
      "8 [D loss: 0.653847, acc.: 72.50%] [G loss: 0.663679]\n",
      "8 [D loss: 0.655311, acc.: 72.42%] [G loss: 0.662329]\n"
     ]
    },
    {
     "name": "stderr",
     "output_type": "stream",
     "text": [
      " 64%|████████████████████████████████████████████████████▍                             | 32/50 [00:00<00:00, 33.44it/s]"
     ]
    },
    {
     "name": "stdout",
     "output_type": "stream",
     "text": [
      "8 [D loss: 0.653823, acc.: 72.59%] [G loss: 0.661735]\n",
      "8 [D loss: 0.651854, acc.: 72.58%] [G loss: 0.663363]\n",
      "8 [D loss: 0.650904, acc.: 72.49%] [G loss: 0.662576]\n",
      "8 [D loss: 0.651970, acc.: 72.55%] [G loss: 0.662592]\n",
      "8 [D loss: 0.651634, acc.: 72.61%] [G loss: 0.663192]\n",
      "8 [D loss: 0.648023, acc.: 72.60%] [G loss: 0.662614]\n",
      "8 [D loss: 0.650767, acc.: 72.61%] [G loss: 0.662471]\n"
     ]
    },
    {
     "name": "stderr",
     "output_type": "stream",
     "text": [
      " 80%|█████████████████████████████████████████████████████████████████▌                | 40/50 [00:01<00:00, 33.88it/s]"
     ]
    },
    {
     "name": "stdout",
     "output_type": "stream",
     "text": [
      "8 [D loss: 0.649630, acc.: 72.63%] [G loss: 0.662195]\n",
      "8 [D loss: 0.648072, acc.: 72.60%] [G loss: 0.661937]\n",
      "8 [D loss: 0.649090, acc.: 72.62%] [G loss: 0.662434]\n",
      "8 [D loss: 0.644448, acc.: 72.60%] [G loss: 0.661981]\n",
      "8 [D loss: 0.650473, acc.: 72.62%] [G loss: 0.662944]\n",
      "8 [D loss: 0.643469, acc.: 72.58%] [G loss: 0.661683]\n",
      "8 [D loss: 0.644316, acc.: 72.65%] [G loss: 0.660984]"
     ]
    },
    {
     "name": "stderr",
     "output_type": "stream",
     "text": [
      " 88%|████████████████████████████████████████████████████████████████████████▏         | 44/50 [00:01<00:00, 33.86it/s]"
     ]
    },
    {
     "name": "stdout",
     "output_type": "stream",
     "text": [
      "\n",
      "8 [D loss: 0.645406, acc.: 72.56%] [G loss: 0.661846]\n",
      "8 [D loss: 0.644153, acc.: 72.76%] [G loss: 0.662009]\n",
      "8 [D loss: 0.641592, acc.: 72.68%] [G loss: 0.662117]\n",
      "8 [D loss: 0.642997, acc.: 72.71%] [G loss: 0.660817]\n",
      "8 [D loss: 0.643848, acc.: 72.74%] [G loss: 0.662462]\n",
      "8 [D loss: 0.640226, acc.: 72.72%] [G loss: 0.661845]\n",
      "8 [D loss: 0.642698, acc.: 72.66%] [G loss: 0.663475]"
     ]
    },
    {
     "name": "stderr",
     "output_type": "stream",
     "text": [
      "100%|██████████████████████████████████████████████████████████████████████████████████| 50/50 [00:01<00:00, 33.65it/s]\n",
      "  0%|                                                                                           | 0/50 [00:00<?, ?it/s]"
     ]
    },
    {
     "name": "stdout",
     "output_type": "stream",
     "text": [
      "\n",
      "8 [D loss: 0.643661, acc.: 72.87%] [G loss: 0.663326]\n",
      "8 [D loss: 0.636855, acc.: 72.78%] [G loss: 0.660897]\n",
      "Epoch 9\n",
      "9 [D loss: 0.641120, acc.: 72.81%] [G loss: 0.661069]\n",
      "9 [D loss: 0.633581, acc.: 72.76%] [G loss: 0.661617]\n",
      "9 [D loss: 0.639647, acc.: 72.86%] [G loss: 0.661192]\n",
      "9 [D loss: 0.636961, acc.: 72.74%] [G loss: 0.662711]"
     ]
    },
    {
     "name": "stderr",
     "output_type": "stream",
     "text": [
      " 16%|█████████████▎                                                                     | 8/50 [00:00<00:01, 35.12it/s]"
     ]
    },
    {
     "name": "stdout",
     "output_type": "stream",
     "text": [
      "\n",
      "9 [D loss: 0.637262, acc.: 72.74%] [G loss: 0.661263]\n",
      "9 [D loss: 0.637365, acc.: 72.87%] [G loss: 0.660159]\n",
      "9 [D loss: 0.638270, acc.: 72.87%] [G loss: 0.661929]\n",
      "9 [D loss: 0.634826, acc.: 72.96%] [G loss: 0.660578]\n",
      "9 [D loss: 0.636787, acc.: 72.83%] [G loss: 0.662494]\n",
      "9 [D loss: 0.632829, acc.: 72.96%] [G loss: 0.662071]\n"
     ]
    },
    {
     "name": "stderr",
     "output_type": "stream",
     "text": [
      " 32%|██████████████████████████▏                                                       | 16/50 [00:00<00:00, 35.08it/s]"
     ]
    },
    {
     "name": "stdout",
     "output_type": "stream",
     "text": [
      "9 [D loss: 0.632041, acc.: 73.09%] [G loss: 0.661162]\n",
      "9 [D loss: 0.636262, acc.: 72.95%] [G loss: 0.661554]\n",
      "9 [D loss: 0.631563, acc.: 73.13%] [G loss: 0.661045]\n",
      "9 [D loss: 0.629800, acc.: 72.91%] [G loss: 0.660532]\n",
      "9 [D loss: 0.624877, acc.: 73.15%] [G loss: 0.659237]\n",
      "9 [D loss: 0.621642, acc.: 73.10%] [G loss: 0.660566]\n",
      "9 [D loss: 0.629004, acc.: 72.84%] [G loss: 0.661138]"
     ]
    },
    {
     "name": "stderr",
     "output_type": "stream",
     "text": [
      " 40%|████████████████████████████████▊                                                 | 20/50 [00:00<00:00, 34.87it/s]"
     ]
    },
    {
     "name": "stdout",
     "output_type": "stream",
     "text": [
      "\n",
      "9 [D loss: 0.625278, acc.: 73.16%] [G loss: 0.660039]\n",
      "9 [D loss: 0.623171, acc.: 73.00%] [G loss: 0.658564]\n",
      "9 [D loss: 0.626761, acc.: 72.88%] [G loss: 0.659839]\n",
      "9 [D loss: 0.625217, acc.: 73.16%] [G loss: 0.660412]\n",
      "9 [D loss: 0.623834, acc.: 72.92%] [G loss: 0.661876]\n",
      "9 [D loss: 0.621903, acc.: 72.86%] [G loss: 0.662201]\n",
      "9 [D loss: 0.617028, acc.: 72.82%] [G loss: 0.662347]"
     ]
    },
    {
     "name": "stderr",
     "output_type": "stream",
     "text": [
      " 56%|█████████████████████████████████████████████▉                                    | 28/50 [00:00<00:00, 35.09it/s]"
     ]
    },
    {
     "name": "stdout",
     "output_type": "stream",
     "text": [
      "\n",
      "9 [D loss: 0.609943, acc.: 72.75%] [G loss: 0.664004]\n",
      "9 [D loss: 0.612457, acc.: 72.70%] [G loss: 0.664995]\n",
      "9 [D loss: 0.617029, acc.: 72.57%] [G loss: 0.667213]\n",
      "9 [D loss: 0.604794, acc.: 72.20%] [G loss: 0.668832]\n",
      "9 [D loss: 0.617725, acc.: 72.08%] [G loss: 0.669791]\n",
      "9 [D loss: 0.615850, acc.: 71.85%] [G loss: 0.671822]\n"
     ]
    },
    {
     "name": "stderr",
     "output_type": "stream",
     "text": [
      " 72%|███████████████████████████████████████████████████████████                       | 36/50 [00:01<00:00, 34.55it/s]"
     ]
    },
    {
     "name": "stdout",
     "output_type": "stream",
     "text": [
      "9 [D loss: 0.612752, acc.: 71.83%] [G loss: 0.674491]\n",
      "9 [D loss: 0.602993, acc.: 71.59%] [G loss: 0.676787]\n",
      "9 [D loss: 0.601976, acc.: 71.51%] [G loss: 0.677941]\n",
      "9 [D loss: 0.594692, acc.: 71.23%] [G loss: 0.681568]\n",
      "9 [D loss: 0.591648, acc.: 71.08%] [G loss: 0.680103]\n",
      "9 [D loss: 0.594196, acc.: 71.18%] [G loss: 0.683039]\n",
      "9 [D loss: 0.592485, acc.: 71.01%] [G loss: 0.687058]"
     ]
    },
    {
     "name": "stderr",
     "output_type": "stream",
     "text": [
      " 80%|█████████████████████████████████████████████████████████████████▌                | 40/50 [00:01<00:00, 34.41it/s]"
     ]
    },
    {
     "name": "stdout",
     "output_type": "stream",
     "text": [
      "\n",
      "9 [D loss: 0.577086, acc.: 70.55%] [G loss: 0.687209]\n",
      "9 [D loss: 0.574748, acc.: 70.86%] [G loss: 0.690559]\n",
      "9 [D loss: 0.573486, acc.: 70.86%] [G loss: 0.694386]\n",
      "9 [D loss: 0.566108, acc.: 70.16%] [G loss: 0.692256]\n",
      "9 [D loss: 0.543262, acc.: 70.70%] [G loss: 0.692603]\n",
      "9 [D loss: 0.566089, acc.: 70.45%] [G loss: 0.686357]\n"
     ]
    },
    {
     "name": "stderr",
     "output_type": "stream",
     "text": [
      " 96%|██████████████████████████████████████████████████████████████████████████████▋   | 48/50 [00:01<00:00, 33.73it/s]"
     ]
    },
    {
     "name": "stdout",
     "output_type": "stream",
     "text": [
      "9 [D loss: 0.545671, acc.: 71.20%] [G loss: 0.684224]\n",
      "9 [D loss: 0.546737, acc.: 71.48%] [G loss: 0.682199]\n",
      "9 [D loss: 0.542156, acc.: 72.77%] [G loss: 0.673830]\n",
      "9 [D loss: 0.525873, acc.: 73.78%] [G loss: 0.668219]\n",
      "9 [D loss: 0.541454, acc.: 75.81%] [G loss: 0.665907]\n",
      "9 [D loss: 0.514333, acc.: 76.44%] [G loss: 0.650535]\n",
      "9 [D loss: 0.547961, acc.: 80.32%] [G loss: 0.647556]"
     ]
    },
    {
     "name": "stderr",
     "output_type": "stream",
     "text": [
      "100%|██████████████████████████████████████████████████████████████████████████████████| 50/50 [00:01<00:00, 34.37it/s]\n",
      "  8%|██████▋                                                                            | 4/50 [00:00<00:01, 34.39it/s]"
     ]
    },
    {
     "name": "stdout",
     "output_type": "stream",
     "text": [
      "\n",
      "Epoch 10\n",
      "10 [D loss: 0.542074, acc.: 79.25%] [G loss: 0.627057]\n",
      "10 [D loss: 0.535213, acc.: 83.13%] [G loss: 0.608337]\n",
      "10 [D loss: 0.567560, acc.: 86.54%] [G loss: 0.599151]\n",
      "10 [D loss: 0.547858, acc.: 90.85%] [G loss: 0.585385]\n",
      "10 [D loss: 0.571586, acc.: 91.67%] [G loss: 0.560070]\n",
      "10 [D loss: 0.549126, acc.: 96.55%] [G loss: 0.563038]\n"
     ]
    },
    {
     "name": "stderr",
     "output_type": "stream",
     "text": [
      " 24%|███████████████████▋                                                              | 12/50 [00:00<00:01, 33.79it/s]"
     ]
    },
    {
     "name": "stdout",
     "output_type": "stream",
     "text": [
      "10 [D loss: 0.563315, acc.: 104.14%] [G loss: 0.524047]\n",
      "10 [D loss: 0.585834, acc.: 110.26%] [G loss: 0.480243]\n",
      "10 [D loss: 0.609315, acc.: 118.10%] [G loss: 0.464492]\n",
      "10 [D loss: 0.620545, acc.: 119.04%] [G loss: 0.485829]\n",
      "10 [D loss: 0.649639, acc.: 120.88%] [G loss: 0.507942]\n",
      "10 [D loss: 0.660391, acc.: 121.49%] [G loss: 0.669792]\n",
      "10 [D loss: 0.673474, acc.: 88.66%] [G loss: 1.237568]"
     ]
    },
    {
     "name": "stderr",
     "output_type": "stream",
     "text": [
      " 32%|██████████████████████████▏                                                       | 16/50 [00:00<00:01, 33.37it/s]"
     ]
    },
    {
     "name": "stdout",
     "output_type": "stream",
     "text": [
      "\n",
      "10 [D loss: 0.702728, acc.: 30.70%] [G loss: 2.348381]\n",
      "10 [D loss: 0.716909, acc.: 12.69%] [G loss: 3.183272]\n",
      "10 [D loss: 0.728037, acc.: 16.61%] [G loss: 3.418557]\n",
      "10 [D loss: 0.734619, acc.: 25.89%] [G loss: 3.443369]\n",
      "10 [D loss: 0.748015, acc.: 17.71%] [G loss: 3.452119]\n",
      "10 [D loss: 0.762450, acc.: 16.96%] [G loss: 2.989163]\n"
     ]
    },
    {
     "name": "stderr",
     "output_type": "stream",
     "text": [
      " 48%|███████████████████████████████████████▎                                          | 24/50 [00:00<00:00, 33.03it/s]"
     ]
    },
    {
     "name": "stdout",
     "output_type": "stream",
     "text": [
      "10 [D loss: 0.784835, acc.: 29.64%] [G loss: 2.127189]\n",
      "10 [D loss: 0.775874, acc.: 49.52%] [G loss: 1.196280]\n",
      "10 [D loss: 0.808756, acc.: 49.95%] [G loss: 0.977948]\n",
      "10 [D loss: 0.766382, acc.: 32.96%] [G loss: 1.704614]\n",
      "10 [D loss: 0.757337, acc.: 14.87%] [G loss: 2.392752]\n",
      "10 [D loss: 0.764724, acc.: 11.80%] [G loss: 3.211820]\n",
      "10 [D loss: 0.733547, acc.: 14.93%] [G loss: 2.891889]"
     ]
    },
    {
     "name": "stderr",
     "output_type": "stream",
     "text": [
      " 56%|█████████████████████████████████████████████▉                                    | 28/50 [00:00<00:00, 32.60it/s]"
     ]
    },
    {
     "name": "stdout",
     "output_type": "stream",
     "text": [
      "\n",
      "10 [D loss: 0.768067, acc.: 26.64%] [G loss: 2.070132]\n",
      "10 [D loss: 0.745290, acc.: 36.46%] [G loss: 1.460511]\n",
      "10 [D loss: 0.742249, acc.: 27.80%] [G loss: 1.829583]\n",
      "10 [D loss: 0.723341, acc.: 10.53%] [G loss: 3.449539]\n",
      "10 [D loss: 0.723682, acc.: 7.64%] [G loss: 3.555264]\n",
      "10 [D loss: 0.710718, acc.: 10.47%] [G loss: 3.443801]"
     ]
    },
    {
     "name": "stderr",
     "output_type": "stream",
     "text": [
      " 72%|███████████████████████████████████████████████████████████                       | 36/50 [00:01<00:00, 32.58it/s]"
     ]
    },
    {
     "name": "stdout",
     "output_type": "stream",
     "text": [
      "\n",
      "10 [D loss: 0.697692, acc.: 22.36%] [G loss: 2.320679]\n",
      "10 [D loss: 0.693239, acc.: 37.27%] [G loss: 1.351922]\n",
      "10 [D loss: 0.690331, acc.: 40.64%] [G loss: 1.509817]\n",
      "10 [D loss: 0.710903, acc.: 36.71%] [G loss: 1.470165]\n",
      "10 [D loss: 0.674784, acc.: 42.28%] [G loss: 1.552136]\n",
      "10 [D loss: 0.659313, acc.: 41.02%] [G loss: 1.417796]"
     ]
    },
    {
     "name": "stderr",
     "output_type": "stream",
     "text": [
      " 88%|████████████████████████████████████████████████████████████████████████▏         | 44/50 [00:01<00:00, 33.11it/s]"
     ]
    },
    {
     "name": "stdout",
     "output_type": "stream",
     "text": [
      "\n",
      "10 [D loss: 0.663209, acc.: 45.13%] [G loss: 1.116235]\n",
      "10 [D loss: 0.666938, acc.: 45.33%] [G loss: 1.272187]\n",
      "10 [D loss: 0.722641, acc.: 43.30%] [G loss: 1.190868]\n",
      "10 [D loss: 0.661319, acc.: 44.42%] [G loss: 1.353102]\n",
      "10 [D loss: 0.698794, acc.: 49.56%] [G loss: 1.292666]\n",
      "10 [D loss: 0.665128, acc.: 54.60%] [G loss: 1.191135]\n"
     ]
    },
    {
     "name": "stderr",
     "output_type": "stream",
     "text": [
      "100%|██████████████████████████████████████████████████████████████████████████████████| 50/50 [00:01<00:00, 32.89it/s]\n",
      "  0%|                                                                                           | 0/50 [00:00<?, ?it/s]"
     ]
    },
    {
     "name": "stdout",
     "output_type": "stream",
     "text": [
      "10 [D loss: 0.657475, acc.: 52.25%] [G loss: 1.016257]\n",
      "10 [D loss: 0.681982, acc.: 55.65%] [G loss: 1.031784]\n",
      "10 [D loss: 0.641757, acc.: 52.38%] [G loss: 1.059473]\n",
      "10 [D loss: 0.632824, acc.: 49.97%] [G loss: 1.049289]\n",
      "10 [D loss: 0.608182, acc.: 45.50%] [G loss: 1.161550]\n",
      "10 [D loss: 0.659920, acc.: 42.96%] [G loss: 1.145661]\n",
      "Epoch 11\n",
      "11 [D loss: 0.600506, acc.: 50.21%] [G loss: 1.097830]"
     ]
    },
    {
     "name": "stderr",
     "output_type": "stream",
     "text": [
      "  8%|██████▋                                                                            | 4/50 [00:00<00:01, 32.70it/s]"
     ]
    },
    {
     "name": "stdout",
     "output_type": "stream",
     "text": [
      "\n",
      "11 [D loss: 0.583948, acc.: 58.91%] [G loss: 0.849390]\n",
      "11 [D loss: 0.629639, acc.: 69.83%] [G loss: 0.824320]\n",
      "11 [D loss: 0.636433, acc.: 69.49%] [G loss: 0.781290]\n",
      "11 [D loss: 0.614570, acc.: 68.01%] [G loss: 0.816817]\n",
      "11 [D loss: 0.615195, acc.: 60.85%] [G loss: 0.892395]\n",
      "11 [D loss: 0.646786, acc.: 56.91%] [G loss: 0.968747]"
     ]
    },
    {
     "name": "stderr",
     "output_type": "stream",
     "text": [
      " 24%|███████████████████▋                                                              | 12/50 [00:00<00:01, 32.84it/s]"
     ]
    },
    {
     "name": "stdout",
     "output_type": "stream",
     "text": [
      "\n",
      "11 [D loss: 0.696932, acc.: 48.04%] [G loss: 1.075838]\n",
      "11 [D loss: 0.701618, acc.: 52.09%] [G loss: 1.046101]\n",
      "11 [D loss: 0.648830, acc.: 54.82%] [G loss: 1.024020]\n",
      "11 [D loss: 0.600142, acc.: 68.99%] [G loss: 0.838613]\n",
      "11 [D loss: 0.710708, acc.: 75.13%] [G loss: 0.793576]\n",
      "11 [D loss: 0.665663, acc.: 79.83%] [G loss: 0.724208]\n"
     ]
    },
    {
     "name": "stderr",
     "output_type": "stream",
     "text": [
      " 32%|██████████████████████████▏                                                       | 16/50 [00:00<00:01, 32.96it/s]"
     ]
    },
    {
     "name": "stdout",
     "output_type": "stream",
     "text": [
      "11 [D loss: 0.697623, acc.: 75.82%] [G loss: 0.753739]\n",
      "11 [D loss: 0.712397, acc.: 67.83%] [G loss: 0.840695]\n",
      "11 [D loss: 0.816253, acc.: 66.48%] [G loss: 0.882876]\n",
      "11 [D loss: 0.678747, acc.: 64.57%] [G loss: 0.913913]\n",
      "11 [D loss: 0.764431, acc.: 59.79%] [G loss: 0.894099]\n",
      "11 [D loss: 0.691597, acc.: 67.30%] [G loss: 0.835223]\n",
      "11 [D loss: 0.689758, acc.: 75.11%] [G loss: 0.745558]"
     ]
    },
    {
     "name": "stderr",
     "output_type": "stream",
     "text": [
      " 48%|███████████████████████████████████████▎                                          | 24/50 [00:00<00:00, 33.47it/s]"
     ]
    },
    {
     "name": "stdout",
     "output_type": "stream",
     "text": [
      "\n",
      "11 [D loss: 0.679397, acc.: 80.85%] [G loss: 0.707019]\n",
      "11 [D loss: 0.707123, acc.: 80.07%] [G loss: 0.684103]\n",
      "11 [D loss: 0.697671, acc.: 74.81%] [G loss: 0.749314]\n",
      "11 [D loss: 0.745415, acc.: 64.89%] [G loss: 0.793731]\n",
      "11 [D loss: 0.804101, acc.: 62.42%] [G loss: 0.846617]\n",
      "11 [D loss: 0.693315, acc.: 58.37%] [G loss: 0.881085]\n"
     ]
    },
    {
     "name": "stderr",
     "output_type": "stream",
     "text": [
      " 64%|████████████████████████████████████████████████████▍                             | 32/50 [00:00<00:00, 33.35it/s]"
     ]
    },
    {
     "name": "stdout",
     "output_type": "stream",
     "text": [
      "11 [D loss: 0.701279, acc.: 57.90%] [G loss: 0.899609]\n",
      "11 [D loss: 0.688155, acc.: 59.81%] [G loss: 0.902256]\n",
      "11 [D loss: 0.742195, acc.: 61.97%] [G loss: 0.828339]\n",
      "11 [D loss: 0.687306, acc.: 67.92%] [G loss: 0.825028]\n",
      "11 [D loss: 0.701020, acc.: 69.35%] [G loss: 0.758912]\n",
      "11 [D loss: 0.678120, acc.: 75.70%] [G loss: 0.734250]\n",
      "11 [D loss: 0.680276, acc.: 80.11%] [G loss: 0.666539]"
     ]
    },
    {
     "name": "stderr",
     "output_type": "stream",
     "text": [
      " 72%|███████████████████████████████████████████████████████████                       | 36/50 [00:01<00:00, 33.15it/s]"
     ]
    },
    {
     "name": "stdout",
     "output_type": "stream",
     "text": [
      "\n",
      "11 [D loss: 0.797233, acc.: 81.97%] [G loss: 0.652577]\n",
      "11 [D loss: 0.716203, acc.: 78.82%] [G loss: 0.687422]\n",
      "11 [D loss: 0.798606, acc.: 71.09%] [G loss: 0.729513]\n",
      "11 [D loss: 0.733607, acc.: 68.21%] [G loss: 0.767749]\n",
      "11 [D loss: 0.737025, acc.: 62.67%] [G loss: 0.820010]\n",
      "11 [D loss: 0.784302, acc.: 62.96%] [G loss: 0.846108]\n"
     ]
    },
    {
     "name": "stderr",
     "output_type": "stream",
     "text": [
      " 88%|████████████████████████████████████████████████████████████████████████▏         | 44/50 [00:01<00:00, 32.90it/s]"
     ]
    },
    {
     "name": "stdout",
     "output_type": "stream",
     "text": [
      "11 [D loss: 0.711305, acc.: 62.01%] [G loss: 0.851014]\n",
      "11 [D loss: 0.775566, acc.: 67.40%] [G loss: 0.795169]\n",
      "11 [D loss: 0.680594, acc.: 69.54%] [G loss: 0.784292]\n",
      "11 [D loss: 0.691938, acc.: 72.90%] [G loss: 0.752454]\n",
      "11 [D loss: 0.802306, acc.: 74.26%] [G loss: 0.718745]\n",
      "11 [D loss: 0.780961, acc.: 77.52%] [G loss: 0.707444]\n",
      "11 [D loss: 0.714692, acc.: 72.30%] [G loss: 0.706059]"
     ]
    },
    {
     "name": "stderr",
     "output_type": "stream",
     "text": [
      "100%|██████████████████████████████████████████████████████████████████████████████████| 50/50 [00:01<00:00, 32.87it/s]\n",
      "  0%|                                                                                           | 0/50 [00:00<?, ?it/s]"
     ]
    },
    {
     "name": "stdout",
     "output_type": "stream",
     "text": [
      "\n",
      "11 [D loss: 0.746163, acc.: 68.91%] [G loss: 0.729713]\n",
      "11 [D loss: 0.767290, acc.: 67.21%] [G loss: 0.777332]\n",
      "11 [D loss: 0.758783, acc.: 61.43%] [G loss: 0.827021]\n",
      "11 [D loss: 0.740238, acc.: 60.48%] [G loss: 0.861070]\n",
      "Epoch 12\n",
      "12 [D loss: 0.667158, acc.: 57.05%] [G loss: 0.880653]\n"
     ]
    },
    {
     "name": "stderr",
     "output_type": "stream",
     "text": [
      "  8%|██████▋                                                                            | 4/50 [00:00<00:01, 30.69it/s]"
     ]
    },
    {
     "name": "stdout",
     "output_type": "stream",
     "text": [
      "12 [D loss: 0.707773, acc.: 60.66%] [G loss: 0.869772]\n",
      "12 [D loss: 0.706906, acc.: 64.02%] [G loss: 0.818079]\n",
      "12 [D loss: 0.714123, acc.: 62.04%] [G loss: 0.843443]\n",
      "12 [D loss: 0.679087, acc.: 67.36%] [G loss: 0.758194]\n",
      "12 [D loss: 0.685546, acc.: 71.64%] [G loss: 0.743295]\n",
      "12 [D loss: 0.691520, acc.: 74.09%] [G loss: 0.703125]\n",
      "12 [D loss: 0.703531, acc.: 74.58%] [G loss: 0.679301]"
     ]
    },
    {
     "name": "stderr",
     "output_type": "stream",
     "text": [
      " 24%|███████████████████▋                                                              | 12/50 [00:00<00:01, 31.13it/s]"
     ]
    },
    {
     "name": "stdout",
     "output_type": "stream",
     "text": [
      "\n",
      "12 [D loss: 0.690931, acc.: 76.40%] [G loss: 0.671582]\n",
      "12 [D loss: 0.721626, acc.: 72.93%] [G loss: 0.685716]\n",
      "12 [D loss: 0.690489, acc.: 70.63%] [G loss: 0.707634]\n",
      "12 [D loss: 0.737935, acc.: 68.76%] [G loss: 0.738816]\n",
      "12 [D loss: 0.672909, acc.: 68.07%] [G loss: 0.760581]\n",
      "12 [D loss: 0.667257, acc.: 66.98%] [G loss: 0.753580]"
     ]
    },
    {
     "name": "stderr",
     "output_type": "stream",
     "text": [
      " 32%|██████████████████████████▏                                                       | 16/50 [00:00<00:01, 31.29it/s]"
     ]
    },
    {
     "name": "stdout",
     "output_type": "stream",
     "text": [
      "\n",
      "12 [D loss: 0.687577, acc.: 64.49%] [G loss: 0.771331]\n",
      "12 [D loss: 0.656096, acc.: 66.89%] [G loss: 0.788929]\n",
      "12 [D loss: 0.672829, acc.: 68.07%] [G loss: 0.779420]\n",
      "12 [D loss: 0.643226, acc.: 70.29%] [G loss: 0.768120]\n",
      "12 [D loss: 0.664872, acc.: 68.72%] [G loss: 0.775493]\n",
      "12 [D loss: 0.680425, acc.: 71.23%] [G loss: 0.713968]"
     ]
    },
    {
     "name": "stderr",
     "output_type": "stream",
     "text": [
      " 48%|███████████████████████████████████████▎                                          | 24/50 [00:00<00:00, 31.96it/s]"
     ]
    },
    {
     "name": "stdout",
     "output_type": "stream",
     "text": [
      "\n",
      "12 [D loss: 0.680166, acc.: 73.08%] [G loss: 0.707642]\n",
      "12 [D loss: 0.686517, acc.: 73.58%] [G loss: 0.712417]\n",
      "12 [D loss: 0.729204, acc.: 70.50%] [G loss: 0.722070]\n",
      "12 [D loss: 0.692137, acc.: 72.14%] [G loss: 0.736606]\n",
      "12 [D loss: 0.703411, acc.: 68.98%] [G loss: 0.745627]\n",
      "12 [D loss: 0.691939, acc.: 66.66%] [G loss: 0.745307]"
     ]
    },
    {
     "name": "stderr",
     "output_type": "stream",
     "text": [
      " 64%|████████████████████████████████████████████████████▍                             | 32/50 [00:00<00:00, 32.55it/s]"
     ]
    },
    {
     "name": "stdout",
     "output_type": "stream",
     "text": [
      "\n",
      "12 [D loss: 0.681899, acc.: 67.92%] [G loss: 0.748191]\n",
      "12 [D loss: 0.699283, acc.: 68.73%] [G loss: 0.732731]\n",
      "12 [D loss: 0.712549, acc.: 67.25%] [G loss: 0.756228]\n",
      "12 [D loss: 0.698277, acc.: 73.81%] [G loss: 0.704678]\n",
      "12 [D loss: 0.707130, acc.: 76.54%] [G loss: 0.671689]\n",
      "12 [D loss: 0.709797, acc.: 78.62%] [G loss: 0.648718]\n"
     ]
    },
    {
     "name": "stderr",
     "output_type": "stream",
     "text": [
      " 72%|███████████████████████████████████████████████████████████                       | 36/50 [00:01<00:00, 32.75it/s]"
     ]
    },
    {
     "name": "stdout",
     "output_type": "stream",
     "text": [
      "12 [D loss: 0.686601, acc.: 78.69%] [G loss: 0.630623]\n",
      "12 [D loss: 0.751017, acc.: 79.51%] [G loss: 0.640991]\n",
      "12 [D loss: 0.729977, acc.: 78.42%] [G loss: 0.649284]\n",
      "12 [D loss: 0.737460, acc.: 76.07%] [G loss: 0.646558]\n",
      "12 [D loss: 0.729635, acc.: 74.73%] [G loss: 0.682786]\n",
      "12 [D loss: 0.728727, acc.: 70.54%] [G loss: 0.709720]\n",
      "12 [D loss: 0.712354, acc.: 68.61%] [G loss: 0.698696]\n",
      "12 [D loss: 0.712398, acc.: 70.70%] [G loss: 0.718736]"
     ]
    },
    {
     "name": "stderr",
     "output_type": "stream",
     "text": [
      " 88%|████████████████████████████████████████████████████████████████████████▏         | 44/50 [00:01<00:00, 33.20it/s]"
     ]
    },
    {
     "name": "stdout",
     "output_type": "stream",
     "text": [
      "\n",
      "12 [D loss: 0.702687, acc.: 70.09%] [G loss: 0.710216]\n",
      "12 [D loss: 0.721140, acc.: 69.61%] [G loss: 0.708672]\n",
      "12 [D loss: 0.728812, acc.: 73.70%] [G loss: 0.689055]\n",
      "12 [D loss: 0.726243, acc.: 73.96%] [G loss: 0.690891]\n",
      "12 [D loss: 0.716239, acc.: 72.70%] [G loss: 0.677408]\n",
      "12 [D loss: 0.740807, acc.: 76.58%] [G loss: 0.658378]\n"
     ]
    },
    {
     "name": "stderr",
     "output_type": "stream",
     "text": [
      "100%|██████████████████████████████████████████████████████████████████████████████████| 50/50 [00:01<00:00, 32.55it/s]\n",
      "  0%|                                                                                           | 0/50 [00:00<?, ?it/s]"
     ]
    },
    {
     "name": "stdout",
     "output_type": "stream",
     "text": [
      "12 [D loss: 0.721558, acc.: 77.40%] [G loss: 0.636351]\n",
      "12 [D loss: 0.715110, acc.: 75.87%] [G loss: 0.640496]\n",
      "12 [D loss: 0.734143, acc.: 75.56%] [G loss: 0.650908]\n",
      "12 [D loss: 0.725272, acc.: 74.68%] [G loss: 0.653553]\n",
      "Epoch 13\n",
      "13 [D loss: 0.733461, acc.: 73.77%] [G loss: 0.659844]\n",
      "13 [D loss: 0.729883, acc.: 72.94%] [G loss: 0.665122]\n",
      "13 [D loss: 0.707580, acc.: 72.24%] [G loss: 0.670220]"
     ]
    },
    {
     "name": "stderr",
     "output_type": "stream",
     "text": [
      " 16%|█████████████▎                                                                     | 8/50 [00:00<00:01, 33.98it/s]"
     ]
    },
    {
     "name": "stdout",
     "output_type": "stream",
     "text": [
      "\n",
      "13 [D loss: 0.712795, acc.: 71.96%] [G loss: 0.675158]\n",
      "13 [D loss: 0.716765, acc.: 71.45%] [G loss: 0.677576]\n",
      "13 [D loss: 0.708408, acc.: 71.03%] [G loss: 0.684254]\n",
      "13 [D loss: 0.707516, acc.: 70.42%] [G loss: 0.684127]\n",
      "13 [D loss: 0.710306, acc.: 70.05%] [G loss: 0.688342]\n",
      "13 [D loss: 0.704200, acc.: 69.81%] [G loss: 0.690886]\n"
     ]
    },
    {
     "name": "stderr",
     "output_type": "stream",
     "text": [
      " 32%|██████████████████████████▏                                                       | 16/50 [00:00<00:01, 33.89it/s]"
     ]
    },
    {
     "name": "stdout",
     "output_type": "stream",
     "text": [
      "13 [D loss: 0.702722, acc.: 70.02%] [G loss: 0.696793]\n",
      "13 [D loss: 0.691909, acc.: 69.68%] [G loss: 0.699157]\n",
      "13 [D loss: 0.691568, acc.: 69.44%] [G loss: 0.696696]\n",
      "13 [D loss: 0.693718, acc.: 69.97%] [G loss: 0.693049]\n",
      "13 [D loss: 0.689179, acc.: 70.12%] [G loss: 0.689115]\n",
      "13 [D loss: 0.702262, acc.: 70.50%] [G loss: 0.687335]\n",
      "13 [D loss: 0.697800, acc.: 71.08%] [G loss: 0.683339]\n"
     ]
    },
    {
     "name": "stderr",
     "output_type": "stream",
     "text": [
      " 40%|████████████████████████████████▊                                                 | 20/50 [00:00<00:00, 33.69it/s]"
     ]
    },
    {
     "name": "stdout",
     "output_type": "stream",
     "text": [
      "13 [D loss: 0.703551, acc.: 71.61%] [G loss: 0.678929]\n",
      "13 [D loss: 0.696534, acc.: 71.90%] [G loss: 0.674819]\n",
      "13 [D loss: 0.691962, acc.: 72.16%] [G loss: 0.671539]\n",
      "13 [D loss: 0.704162, acc.: 72.23%] [G loss: 0.667946]\n",
      "13 [D loss: 0.699266, acc.: 73.15%] [G loss: 0.667298]\n",
      "13 [D loss: 0.688562, acc.: 72.78%] [G loss: 0.666522]\n",
      "13 [D loss: 0.689559, acc.: 72.79%] [G loss: 0.665556]"
     ]
    },
    {
     "name": "stderr",
     "output_type": "stream",
     "text": [
      " 56%|█████████████████████████████████████████████▉                                    | 28/50 [00:00<00:00, 33.35it/s]"
     ]
    },
    {
     "name": "stdout",
     "output_type": "stream",
     "text": [
      "\n",
      "13 [D loss: 0.701540, acc.: 72.65%] [G loss: 0.668849]\n",
      "13 [D loss: 0.691664, acc.: 72.12%] [G loss: 0.669339]\n",
      "13 [D loss: 0.704320, acc.: 72.35%] [G loss: 0.669766]\n",
      "13 [D loss: 0.699735, acc.: 72.01%] [G loss: 0.673188]\n",
      "13 [D loss: 0.699890, acc.: 71.70%] [G loss: 0.678070]\n",
      "13 [D loss: 0.689976, acc.: 71.20%] [G loss: 0.681154]\n"
     ]
    },
    {
     "name": "stderr",
     "output_type": "stream",
     "text": [
      " 64%|████████████████████████████████████████████████████▍                             | 32/50 [00:00<00:00, 33.40it/s]"
     ]
    },
    {
     "name": "stdout",
     "output_type": "stream",
     "text": [
      "13 [D loss: 0.701884, acc.: 71.10%] [G loss: 0.685497]\n",
      "13 [D loss: 0.704602, acc.: 70.40%] [G loss: 0.687756]\n",
      "13 [D loss: 0.693376, acc.: 69.77%] [G loss: 0.691817]\n",
      "13 [D loss: 0.687006, acc.: 69.51%] [G loss: 0.696917]\n",
      "13 [D loss: 0.696366, acc.: 69.10%] [G loss: 0.700561]\n",
      "13 [D loss: 0.690069, acc.: 68.80%] [G loss: 0.705372]\n",
      "13 [D loss: 0.686014, acc.: 68.50%] [G loss: 0.711933]"
     ]
    },
    {
     "name": "stderr",
     "output_type": "stream",
     "text": [
      " 80%|█████████████████████████████████████████████████████████████████▌                | 40/50 [00:01<00:00, 33.63it/s]"
     ]
    },
    {
     "name": "stdout",
     "output_type": "stream",
     "text": [
      "\n",
      "13 [D loss: 0.683671, acc.: 68.08%] [G loss: 0.714898]\n",
      "13 [D loss: 0.687238, acc.: 67.80%] [G loss: 0.719314]\n",
      "13 [D loss: 0.691302, acc.: 66.91%] [G loss: 0.726624]\n",
      "13 [D loss: 0.694596, acc.: 67.04%] [G loss: 0.731243]\n",
      "13 [D loss: 0.689140, acc.: 66.48%] [G loss: 0.730831]\n",
      "13 [D loss: 0.684436, acc.: 65.93%] [G loss: 0.734738]\n"
     ]
    },
    {
     "name": "stderr",
     "output_type": "stream",
     "text": [
      " 96%|██████████████████████████████████████████████████████████████████████████████▋   | 48/50 [00:01<00:00, 33.43it/s]"
     ]
    },
    {
     "name": "stdout",
     "output_type": "stream",
     "text": [
      "13 [D loss: 0.687791, acc.: 66.11%] [G loss: 0.741466]\n",
      "13 [D loss: 0.686922, acc.: 65.56%] [G loss: 0.746069]\n",
      "13 [D loss: 0.691071, acc.: 65.96%] [G loss: 0.743587]\n",
      "13 [D loss: 0.677984, acc.: 65.77%] [G loss: 0.740904]\n",
      "13 [D loss: 0.692620, acc.: 65.79%] [G loss: 0.741449]\n",
      "13 [D loss: 0.704575, acc.: 66.60%] [G loss: 0.738093]\n",
      "13 [D loss: 0.692918, acc.: 66.81%] [G loss: 0.726739]"
     ]
    },
    {
     "name": "stderr",
     "output_type": "stream",
     "text": [
      "100%|██████████████████████████████████████████████████████████████████████████████████| 50/50 [00:01<00:00, 33.53it/s]\n",
      "  8%|██████▋                                                                            | 4/50 [00:00<00:01, 33.52it/s]"
     ]
    },
    {
     "name": "stdout",
     "output_type": "stream",
     "text": [
      "\n",
      "13 [D loss: 0.692570, acc.: 67.18%] [G loss: 0.722988]\n",
      "Epoch 14\n",
      "14 [D loss: 0.697176, acc.: 67.86%] [G loss: 0.720841]\n",
      "14 [D loss: 0.704717, acc.: 68.33%] [G loss: 0.708248]\n",
      "14 [D loss: 0.695122, acc.: 69.44%] [G loss: 0.704596]\n",
      "14 [D loss: 0.693127, acc.: 69.81%] [G loss: 0.700439]\n",
      "14 [D loss: 0.697038, acc.: 70.35%] [G loss: 0.695707]\n"
     ]
    },
    {
     "name": "stderr",
     "output_type": "stream",
     "text": [
      " 24%|███████████████████▋                                                              | 12/50 [00:00<00:01, 33.69it/s]"
     ]
    },
    {
     "name": "stdout",
     "output_type": "stream",
     "text": [
      "14 [D loss: 0.696292, acc.: 70.47%] [G loss: 0.693559]\n",
      "14 [D loss: 0.696398, acc.: 70.84%] [G loss: 0.689361]\n",
      "14 [D loss: 0.687981, acc.: 70.55%] [G loss: 0.691864]\n",
      "14 [D loss: 0.698414, acc.: 70.94%] [G loss: 0.686808]\n",
      "14 [D loss: 0.689028, acc.: 70.89%] [G loss: 0.688141]\n",
      "14 [D loss: 0.680871, acc.: 70.79%] [G loss: 0.689906]\n",
      "14 [D loss: 0.690368, acc.: 70.63%] [G loss: 0.690694]\n"
     ]
    },
    {
     "name": "stderr",
     "output_type": "stream",
     "text": [
      " 32%|██████████████████████████▏                                                       | 16/50 [00:00<00:01, 33.64it/s]"
     ]
    },
    {
     "name": "stdout",
     "output_type": "stream",
     "text": [
      "14 [D loss: 0.679943, acc.: 70.39%] [G loss: 0.696010]\n",
      "14 [D loss: 0.680135, acc.: 70.37%] [G loss: 0.693439]\n",
      "14 [D loss: 0.673672, acc.: 70.11%] [G loss: 0.695397]\n",
      "14 [D loss: 0.674339, acc.: 69.77%] [G loss: 0.695686]\n",
      "14 [D loss: 0.673594, acc.: 69.99%] [G loss: 0.699668]\n",
      "14 [D loss: 0.680767, acc.: 69.93%] [G loss: 0.704874]\n",
      "14 [D loss: 0.678258, acc.: 69.39%] [G loss: 0.710568]"
     ]
    },
    {
     "name": "stderr",
     "output_type": "stream",
     "text": [
      " 48%|███████████████████████████████████████▎                                          | 24/50 [00:00<00:00, 33.61it/s]"
     ]
    },
    {
     "name": "stdout",
     "output_type": "stream",
     "text": [
      "\n",
      "14 [D loss: 0.659958, acc.: 67.95%] [G loss: 0.714676]\n",
      "14 [D loss: 0.665489, acc.: 68.57%] [G loss: 0.716757]\n",
      "14 [D loss: 0.657485, acc.: 68.33%] [G loss: 0.722880]\n",
      "14 [D loss: 0.654655, acc.: 68.10%] [G loss: 0.726341]\n",
      "14 [D loss: 0.637253, acc.: 67.24%] [G loss: 0.720292]\n",
      "14 [D loss: 0.642630, acc.: 68.61%] [G loss: 0.725384]\n"
     ]
    },
    {
     "name": "stderr",
     "output_type": "stream",
     "text": [
      " 56%|█████████████████████████████████████████████▉                                    | 28/50 [00:00<00:00, 33.50it/s]"
     ]
    },
    {
     "name": "stdout",
     "output_type": "stream",
     "text": [
      "14 [D loss: 0.641750, acc.: 67.26%] [G loss: 0.734027]\n",
      "14 [D loss: 0.643823, acc.: 67.86%] [G loss: 0.735934]\n",
      "14 [D loss: 0.639294, acc.: 68.54%] [G loss: 0.742754]\n",
      "14 [D loss: 0.638259, acc.: 67.52%] [G loss: 0.741725]\n",
      "14 [D loss: 0.613492, acc.: 67.76%] [G loss: 0.734940]\n",
      "14 [D loss: 0.617602, acc.: 68.21%] [G loss: 0.732732]\n",
      "14 [D loss: 0.636638, acc.: 67.81%] [G loss: 0.734007]"
     ]
    },
    {
     "name": "stderr",
     "output_type": "stream",
     "text": [
      " 72%|███████████████████████████████████████████████████████████                       | 36/50 [00:01<00:00, 33.57it/s]"
     ]
    },
    {
     "name": "stdout",
     "output_type": "stream",
     "text": [
      "\n",
      "14 [D loss: 0.618474, acc.: 70.30%] [G loss: 0.734641]\n",
      "14 [D loss: 0.614967, acc.: 68.97%] [G loss: 0.740361]\n",
      "14 [D loss: 0.623999, acc.: 67.82%] [G loss: 0.743130]\n",
      "14 [D loss: 0.611816, acc.: 67.74%] [G loss: 0.745777]\n",
      "14 [D loss: 0.604944, acc.: 68.52%] [G loss: 0.742259]\n",
      "14 [D loss: 0.582697, acc.: 66.31%] [G loss: 0.758579]\n"
     ]
    },
    {
     "name": "stderr",
     "output_type": "stream",
     "text": [
      " 88%|████████████████████████████████████████████████████████████████████████▏         | 44/50 [00:01<00:00, 33.51it/s]"
     ]
    },
    {
     "name": "stdout",
     "output_type": "stream",
     "text": [
      "14 [D loss: 0.590134, acc.: 67.07%] [G loss: 0.777341]\n",
      "14 [D loss: 0.594722, acc.: 66.08%] [G loss: 0.785761]\n",
      "14 [D loss: 0.611274, acc.: 65.29%] [G loss: 0.800327]\n",
      "14 [D loss: 0.600298, acc.: 62.04%] [G loss: 0.841150]\n",
      "14 [D loss: 0.596851, acc.: 63.40%] [G loss: 0.856441]\n",
      "14 [D loss: 0.569803, acc.: 62.21%] [G loss: 0.865123]\n",
      "14 [D loss: 0.563979, acc.: 61.02%] [G loss: 0.878150]"
     ]
    },
    {
     "name": "stderr",
     "output_type": "stream",
     "text": [
      "100%|██████████████████████████████████████████████████████████████████████████████████| 50/50 [00:01<00:00, 33.51it/s]\n",
      "  0%|                                                                                           | 0/50 [00:00<?, ?it/s]"
     ]
    },
    {
     "name": "stdout",
     "output_type": "stream",
     "text": [
      "\n",
      "14 [D loss: 0.589628, acc.: 59.90%] [G loss: 0.894141]\n",
      "14 [D loss: 0.602823, acc.: 63.57%] [G loss: 0.880141]\n",
      "14 [D loss: 0.618998, acc.: 65.63%] [G loss: 0.913035]\n",
      "14 [D loss: 0.581253, acc.: 68.89%] [G loss: 0.924512]\n",
      "14 [D loss: 0.605633, acc.: 64.68%] [G loss: 0.927516]\n",
      "Epoch 15\n",
      "15 [D loss: 0.572482, acc.: 63.73%] [G loss: 0.945391]\n"
     ]
    },
    {
     "name": "stderr",
     "output_type": "stream",
     "text": [
      "  8%|██████▋                                                                            | 4/50 [00:00<00:01, 33.81it/s]"
     ]
    },
    {
     "name": "stdout",
     "output_type": "stream",
     "text": [
      "15 [D loss: 0.565389, acc.: 58.44%] [G loss: 0.993377]\n",
      "15 [D loss: 0.566520, acc.: 58.90%] [G loss: 1.039827]\n",
      "15 [D loss: 0.617914, acc.: 56.47%] [G loss: 1.109131]\n",
      "15 [D loss: 0.561438, acc.: 51.86%] [G loss: 1.098965]\n",
      "15 [D loss: 0.564373, acc.: 54.48%] [G loss: 1.210849]\n",
      "15 [D loss: 0.542918, acc.: 54.43%] [G loss: 1.210393]\n",
      "15 [D loss: 0.562242, acc.: 48.29%] [G loss: 1.209984]\n"
     ]
    },
    {
     "name": "stderr",
     "output_type": "stream",
     "text": [
      " 24%|███████████████████▋                                                              | 12/50 [00:00<00:01, 33.64it/s]"
     ]
    },
    {
     "name": "stdout",
     "output_type": "stream",
     "text": [
      "15 [D loss: 0.504893, acc.: 63.31%] [G loss: 1.167052]\n",
      "15 [D loss: 0.542239, acc.: 67.96%] [G loss: 1.007744]\n",
      "15 [D loss: 0.602074, acc.: 74.02%] [G loss: 0.817192]\n",
      "15 [D loss: 0.537729, acc.: 78.42%] [G loss: 0.829811]\n",
      "15 [D loss: 0.549086, acc.: 67.18%] [G loss: 0.887482]\n",
      "15 [D loss: 0.568950, acc.: 65.25%] [G loss: 0.920826]\n",
      "15 [D loss: 0.578954, acc.: 51.67%] [G loss: 1.024343]\n"
     ]
    },
    {
     "name": "stderr",
     "output_type": "stream",
     "text": [
      " 40%|████████████████████████████████▊                                                 | 20/50 [00:00<00:00, 33.58it/s]"
     ]
    },
    {
     "name": "stdout",
     "output_type": "stream",
     "text": [
      "15 [D loss: 0.590347, acc.: 48.39%] [G loss: 1.231224]\n",
      "15 [D loss: 0.566212, acc.: 44.99%] [G loss: 1.220381]\n",
      "15 [D loss: 0.506584, acc.: 46.74%] [G loss: 1.179548]\n",
      "15 [D loss: 0.517476, acc.: 53.23%] [G loss: 1.144885]\n",
      "15 [D loss: 0.534146, acc.: 61.80%] [G loss: 1.197303]\n",
      "15 [D loss: 0.505678, acc.: 63.36%] [G loss: 1.121704]\n",
      "15 [D loss: 0.602143, acc.: 52.21%] [G loss: 1.105556]\n"
     ]
    },
    {
     "name": "stderr",
     "output_type": "stream",
     "text": [
      " 56%|█████████████████████████████████████████████▉                                    | 28/50 [00:00<00:00, 33.44it/s]"
     ]
    },
    {
     "name": "stdout",
     "output_type": "stream",
     "text": [
      "15 [D loss: 0.581178, acc.: 55.56%] [G loss: 1.097238]\n",
      "15 [D loss: 0.587074, acc.: 51.75%] [G loss: 1.204803]\n",
      "15 [D loss: 0.546736, acc.: 47.33%] [G loss: 1.173939]\n",
      "15 [D loss: 0.678739, acc.: 45.79%] [G loss: 1.160043]\n",
      "15 [D loss: 0.554520, acc.: 49.19%] [G loss: 1.199543]\n",
      "15 [D loss: 0.591472, acc.: 42.31%] [G loss: 1.199275]\n",
      "15 [D loss: 0.585345, acc.: 47.70%] [G loss: 1.205112]"
     ]
    },
    {
     "name": "stderr",
     "output_type": "stream",
     "text": [
      " 64%|████████████████████████████████████████████████████▍                             | 32/50 [00:00<00:00, 33.13it/s]"
     ]
    },
    {
     "name": "stdout",
     "output_type": "stream",
     "text": [
      "\n",
      "15 [D loss: 0.510016, acc.: 47.17%] [G loss: 1.334305]\n",
      "15 [D loss: 0.544060, acc.: 46.10%] [G loss: 1.232030]\n",
      "15 [D loss: 0.526390, acc.: 53.40%] [G loss: 1.217883]\n",
      "15 [D loss: 0.527332, acc.: 62.49%] [G loss: 1.248100]\n",
      "15 [D loss: 0.499993, acc.: 66.24%] [G loss: 1.082359]\n",
      "15 [D loss: 0.575511, acc.: 73.90%] [G loss: 0.909766]\n"
     ]
    },
    {
     "name": "stderr",
     "output_type": "stream",
     "text": [
      " 80%|█████████████████████████████████████████████████████████████████▌                | 40/50 [00:01<00:00, 33.16it/s]"
     ]
    },
    {
     "name": "stdout",
     "output_type": "stream",
     "text": [
      "15 [D loss: 0.646989, acc.: 74.13%] [G loss: 0.881824]\n",
      "15 [D loss: 0.642874, acc.: 67.02%] [G loss: 0.958884]\n",
      "15 [D loss: 0.604355, acc.: 49.13%] [G loss: 1.060949]\n",
      "15 [D loss: 0.631456, acc.: 50.15%] [G loss: 1.344038]\n",
      "15 [D loss: 0.682651, acc.: 60.85%] [G loss: 1.118812]\n",
      "15 [D loss: 0.542732, acc.: 74.56%] [G loss: 1.181375]\n",
      "15 [D loss: 0.597990, acc.: 85.16%] [G loss: 0.781795]"
     ]
    },
    {
     "name": "stderr",
     "output_type": "stream",
     "text": [
      " 96%|██████████████████████████████████████████████████████████████████████████████▋   | 48/50 [00:01<00:00, 33.23it/s]"
     ]
    },
    {
     "name": "stdout",
     "output_type": "stream",
     "text": [
      "\n",
      "15 [D loss: 0.653716, acc.: 84.64%] [G loss: 0.868248]\n",
      "15 [D loss: 0.733292, acc.: 60.85%] [G loss: 1.063054]\n",
      "15 [D loss: 0.703679, acc.: 42.24%] [G loss: 1.211001]\n",
      "15 [D loss: 0.618801, acc.: 41.16%] [G loss: 1.251583]\n",
      "15 [D loss: 0.645785, acc.: 41.53%] [G loss: 1.256498]\n",
      "15 [D loss: 0.604598, acc.: 54.95%] [G loss: 1.101410]\n"
     ]
    },
    {
     "name": "stderr",
     "output_type": "stream",
     "text": [
      "100%|██████████████████████████████████████████████████████████████████████████████████| 50/50 [00:01<00:00, 33.29it/s]\n",
      "  8%|██████▋                                                                            | 4/50 [00:00<00:01, 30.69it/s]"
     ]
    },
    {
     "name": "stdout",
     "output_type": "stream",
     "text": [
      "15 [D loss: 0.585616, acc.: 71.67%] [G loss: 0.977234]\n",
      "15 [D loss: 0.640023, acc.: 89.93%] [G loss: 0.804904]\n",
      "Epoch 16\n",
      "16 [D loss: 0.631025, acc.: 94.96%] [G loss: 0.738149]\n",
      "16 [D loss: 0.658357, acc.: 85.60%] [G loss: 0.918899]\n",
      "16 [D loss: 0.812795, acc.: 62.81%] [G loss: 1.106320]\n",
      "16 [D loss: 0.742138, acc.: 45.28%] [G loss: 1.224139]\n",
      "16 [D loss: 0.860552, acc.: 41.02%] [G loss: 1.325370]"
     ]
    },
    {
     "name": "stderr",
     "output_type": "stream",
     "text": [
      " 16%|█████████████▎                                                                     | 8/50 [00:00<00:01, 31.34it/s]"
     ]
    },
    {
     "name": "stdout",
     "output_type": "stream",
     "text": [
      "\n",
      "16 [D loss: 0.728187, acc.: 44.72%] [G loss: 1.350532]\n",
      "16 [D loss: 0.657811, acc.: 51.05%] [G loss: 1.284792]\n",
      "16 [D loss: 0.611980, acc.: 49.10%] [G loss: 1.327495]\n",
      "16 [D loss: 0.601062, acc.: 50.24%] [G loss: 1.239874]\n",
      "16 [D loss: 0.526131, acc.: 54.71%] [G loss: 1.206604]\n",
      "16 [D loss: 0.597574, acc.: 65.39%] [G loss: 1.087325]"
     ]
    },
    {
     "name": "stderr",
     "output_type": "stream",
     "text": [
      " 32%|██████████████████████████▏                                                       | 16/50 [00:00<00:01, 32.17it/s]"
     ]
    },
    {
     "name": "stdout",
     "output_type": "stream",
     "text": [
      "\n",
      "16 [D loss: 0.593275, acc.: 65.22%] [G loss: 0.918498]\n",
      "16 [D loss: 0.693823, acc.: 68.94%] [G loss: 0.954737]\n",
      "16 [D loss: 0.642985, acc.: 71.46%] [G loss: 0.943515]\n",
      "16 [D loss: 0.619632, acc.: 59.72%] [G loss: 1.118751]\n",
      "16 [D loss: 0.616058, acc.: 51.67%] [G loss: 1.029759]\n",
      "16 [D loss: 0.619602, acc.: 55.41%] [G loss: 1.142175]\n"
     ]
    },
    {
     "name": "stderr",
     "output_type": "stream",
     "text": [
      " 40%|████████████████████████████████▊                                                 | 20/50 [00:00<00:00, 32.49it/s]"
     ]
    },
    {
     "name": "stdout",
     "output_type": "stream",
     "text": [
      "16 [D loss: 0.678611, acc.: 53.88%] [G loss: 1.339031]\n",
      "16 [D loss: 0.517748, acc.: 48.47%] [G loss: 1.225125]\n",
      "16 [D loss: 0.564683, acc.: 63.52%] [G loss: 1.170102]\n",
      "16 [D loss: 0.598121, acc.: 82.74%] [G loss: 1.062330]\n",
      "16 [D loss: 0.608625, acc.: 81.29%] [G loss: 0.891501]\n",
      "16 [D loss: 0.798800, acc.: 96.30%] [G loss: 0.738822]\n",
      "16 [D loss: 0.783830, acc.: 94.06%] [G loss: 0.628723]"
     ]
    },
    {
     "name": "stderr",
     "output_type": "stream",
     "text": [
      " 56%|█████████████████████████████████████████████▉                                    | 28/50 [00:00<00:00, 33.09it/s]"
     ]
    },
    {
     "name": "stdout",
     "output_type": "stream",
     "text": [
      "\n",
      "16 [D loss: 0.844692, acc.: 94.99%] [G loss: 0.673929]\n",
      "16 [D loss: 0.869165, acc.: 82.87%] [G loss: 0.711251]\n",
      "16 [D loss: 0.812571, acc.: 73.72%] [G loss: 0.892705]\n",
      "16 [D loss: 0.899823, acc.: 64.95%] [G loss: 0.978057]\n",
      "16 [D loss: 0.750752, acc.: 68.82%] [G loss: 0.841880]\n",
      "16 [D loss: 0.827878, acc.: 71.55%] [G loss: 0.814483]\n"
     ]
    },
    {
     "name": "stderr",
     "output_type": "stream",
     "text": [
      " 72%|███████████████████████████████████████████████████████████                       | 36/50 [00:01<00:00, 33.79it/s]"
     ]
    },
    {
     "name": "stdout",
     "output_type": "stream",
     "text": [
      "16 [D loss: 0.783143, acc.: 83.00%] [G loss: 0.762343]\n",
      "16 [D loss: 0.803374, acc.: 84.72%] [G loss: 0.712330]\n",
      "16 [D loss: 0.825388, acc.: 86.00%] [G loss: 0.671672]\n",
      "16 [D loss: 0.860891, acc.: 82.66%] [G loss: 0.718576]\n",
      "16 [D loss: 0.889102, acc.: 67.60%] [G loss: 0.885406]\n",
      "16 [D loss: 0.831681, acc.: 54.55%] [G loss: 0.970795]\n",
      "16 [D loss: 0.934267, acc.: 49.66%] [G loss: 1.063781]\n",
      "16 [D loss: 0.853806, acc.: 46.25%] [G loss: 1.068738]"
     ]
    },
    {
     "name": "stderr",
     "output_type": "stream",
     "text": [
      " 88%|████████████████████████████████████████████████████████████████████████▏         | 44/50 [00:01<00:00, 34.33it/s]"
     ]
    },
    {
     "name": "stdout",
     "output_type": "stream",
     "text": [
      "\n",
      "16 [D loss: 0.799501, acc.: 44.59%] [G loss: 1.088372]\n",
      "16 [D loss: 0.749789, acc.: 48.07%] [G loss: 1.046955]\n",
      "16 [D loss: 0.747211, acc.: 53.77%] [G loss: 0.998702]\n",
      "16 [D loss: 0.670557, acc.: 57.70%] [G loss: 0.991627]\n",
      "16 [D loss: 0.670249, acc.: 62.98%] [G loss: 0.974498]\n",
      "16 [D loss: 0.684300, acc.: 62.62%] [G loss: 0.917733]\n"
     ]
    },
    {
     "name": "stderr",
     "output_type": "stream",
     "text": [
      "100%|██████████████████████████████████████████████████████████████████████████████████| 50/50 [00:01<00:00, 33.58it/s]\n",
      "  0%|                                                                                           | 0/50 [00:00<?, ?it/s]"
     ]
    },
    {
     "name": "stdout",
     "output_type": "stream",
     "text": [
      "16 [D loss: 0.724819, acc.: 60.82%] [G loss: 0.901159]\n",
      "16 [D loss: 0.726783, acc.: 64.75%] [G loss: 0.815383]\n",
      "16 [D loss: 0.725197, acc.: 62.64%] [G loss: 0.863609]\n",
      "16 [D loss: 0.736987, acc.: 56.78%] [G loss: 0.910526]\n",
      "16 [D loss: 0.681575, acc.: 53.98%] [G loss: 0.912964]\n",
      "16 [D loss: 0.663007, acc.: 55.93%] [G loss: 0.948014]\n",
      "Epoch 17\n",
      "17 [D loss: 0.622002, acc.: 53.44%] [G loss: 0.978887]\n"
     ]
    },
    {
     "name": "stderr",
     "output_type": "stream",
     "text": [
      " 16%|█████████████▎                                                                     | 8/50 [00:00<00:01, 34.45it/s]"
     ]
    },
    {
     "name": "stdout",
     "output_type": "stream",
     "text": [
      "17 [D loss: 0.654632, acc.: 56.29%] [G loss: 0.953279]\n",
      "17 [D loss: 0.624990, acc.: 56.24%] [G loss: 0.947709]\n",
      "17 [D loss: 0.638533, acc.: 57.48%] [G loss: 0.938431]\n",
      "17 [D loss: 0.650791, acc.: 62.72%] [G loss: 0.889733]\n",
      "17 [D loss: 0.596675, acc.: 66.11%] [G loss: 0.890049]\n",
      "17 [D loss: 0.618519, acc.: 64.82%] [G loss: 0.861803]\n",
      "17 [D loss: 0.594063, acc.: 68.06%] [G loss: 0.860964]\n"
     ]
    },
    {
     "name": "stderr",
     "output_type": "stream",
     "text": [
      " 24%|███████████████████▋                                                              | 12/50 [00:00<00:01, 34.25it/s]"
     ]
    },
    {
     "name": "stdout",
     "output_type": "stream",
     "text": [
      "17 [D loss: 0.654698, acc.: 70.43%] [G loss: 0.938962]\n",
      "17 [D loss: 0.790554, acc.: 67.39%] [G loss: 0.875321]\n",
      "17 [D loss: 0.773972, acc.: 67.89%] [G loss: 0.873375]\n",
      "17 [D loss: 0.717200, acc.: 62.21%] [G loss: 0.916729]\n",
      "17 [D loss: 0.658193, acc.: 63.44%] [G loss: 0.901625]\n",
      "17 [D loss: 0.767598, acc.: 60.27%] [G loss: 0.877761]\n",
      "17 [D loss: 0.635575, acc.: 62.81%] [G loss: 0.926312]\n"
     ]
    },
    {
     "name": "stderr",
     "output_type": "stream",
     "text": [
      " 40%|████████████████████████████████▊                                                 | 20/50 [00:00<00:00, 33.91it/s]"
     ]
    },
    {
     "name": "stdout",
     "output_type": "stream",
     "text": [
      "17 [D loss: 0.695863, acc.: 59.52%] [G loss: 0.958379]\n",
      "17 [D loss: 0.663897, acc.: 60.50%] [G loss: 0.906154]\n",
      "17 [D loss: 0.719961, acc.: 64.26%] [G loss: 0.960490]\n",
      "17 [D loss: 0.744639, acc.: 63.51%] [G loss: 0.903867]\n",
      "17 [D loss: 0.655839, acc.: 71.45%] [G loss: 0.944082]\n",
      "17 [D loss: 0.690100, acc.: 67.84%] [G loss: 0.913569]\n",
      "17 [D loss: 0.645533, acc.: 72.62%] [G loss: 0.847610]"
     ]
    },
    {
     "name": "stderr",
     "output_type": "stream",
     "text": [
      " 56%|█████████████████████████████████████████████▉                                    | 28/50 [00:00<00:00, 33.65it/s]"
     ]
    },
    {
     "name": "stdout",
     "output_type": "stream",
     "text": [
      "\n",
      "17 [D loss: 0.729405, acc.: 75.60%] [G loss: 0.808565]\n",
      "17 [D loss: 0.668611, acc.: 78.20%] [G loss: 0.800351]\n",
      "17 [D loss: 0.703275, acc.: 71.96%] [G loss: 0.798627]\n",
      "17 [D loss: 0.760702, acc.: 78.63%] [G loss: 0.793704]\n",
      "17 [D loss: 0.708160, acc.: 67.54%] [G loss: 0.848389]\n",
      "17 [D loss: 0.716042, acc.: 63.10%] [G loss: 0.873242]\n"
     ]
    },
    {
     "name": "stderr",
     "output_type": "stream",
     "text": [
      " 64%|████████████████████████████████████████████████████▍                             | 32/50 [00:00<00:00, 33.53it/s]"
     ]
    },
    {
     "name": "stdout",
     "output_type": "stream",
     "text": [
      "17 [D loss: 0.718666, acc.: 60.10%] [G loss: 0.996898]\n",
      "17 [D loss: 0.787747, acc.: 53.57%] [G loss: 1.023075]\n",
      "17 [D loss: 0.733270, acc.: 53.51%] [G loss: 1.015656]\n",
      "17 [D loss: 0.664367, acc.: 55.56%] [G loss: 1.020343]\n",
      "17 [D loss: 0.623816, acc.: 51.96%] [G loss: 1.026062]\n",
      "17 [D loss: 0.677984, acc.: 57.82%] [G loss: 1.045840]\n",
      "17 [D loss: 0.546788, acc.: 62.88%] [G loss: 0.951806]"
     ]
    },
    {
     "name": "stderr",
     "output_type": "stream",
     "text": [
      " 80%|█████████████████████████████████████████████████████████████████▌                | 40/50 [00:01<00:00, 33.24it/s]"
     ]
    },
    {
     "name": "stdout",
     "output_type": "stream",
     "text": [
      "\n",
      "17 [D loss: 0.570114, acc.: 64.87%] [G loss: 0.937772]\n",
      "17 [D loss: 0.669150, acc.: 67.68%] [G loss: 0.918106]\n",
      "17 [D loss: 0.679187, acc.: 75.86%] [G loss: 0.847521]\n",
      "17 [D loss: 0.689145, acc.: 71.02%] [G loss: 0.772245]\n",
      "17 [D loss: 0.680154, acc.: 73.32%] [G loss: 0.816843]\n",
      "17 [D loss: 0.685438, acc.: 69.61%] [G loss: 0.762651]\n"
     ]
    },
    {
     "name": "stderr",
     "output_type": "stream",
     "text": [
      " 88%|████████████████████████████████████████████████████████████████████████▏         | 44/50 [00:01<00:00, 33.16it/s]"
     ]
    },
    {
     "name": "stdout",
     "output_type": "stream",
     "text": [
      "17 [D loss: 0.809787, acc.: 67.78%] [G loss: 0.805641]\n",
      "17 [D loss: 0.800958, acc.: 65.70%] [G loss: 0.818134]\n",
      "17 [D loss: 0.725500, acc.: 67.05%] [G loss: 0.835927]\n",
      "17 [D loss: 0.686881, acc.: 68.79%] [G loss: 0.800583]\n",
      "17 [D loss: 0.770632, acc.: 68.64%] [G loss: 0.802704]\n",
      "17 [D loss: 0.753447, acc.: 68.11%] [G loss: 0.802724]\n",
      "17 [D loss: 0.723601, acc.: 67.24%] [G loss: 0.813718]"
     ]
    },
    {
     "name": "stderr",
     "output_type": "stream",
     "text": [
      "100%|██████████████████████████████████████████████████████████████████████████████████| 50/50 [00:01<00:00, 33.53it/s]\n",
      "  8%|██████▋                                                                            | 4/50 [00:00<00:01, 33.81it/s]"
     ]
    },
    {
     "name": "stdout",
     "output_type": "stream",
     "text": [
      "\n",
      "17 [D loss: 0.783317, acc.: 67.82%] [G loss: 0.811735]\n",
      "17 [D loss: 0.823736, acc.: 64.28%] [G loss: 0.821697]\n",
      "Epoch 18\n",
      "18 [D loss: 0.732237, acc.: 60.42%] [G loss: 0.841385]\n",
      "18 [D loss: 0.742364, acc.: 60.00%] [G loss: 0.865641]\n",
      "18 [D loss: 0.703446, acc.: 55.90%] [G loss: 0.907325]\n",
      "18 [D loss: 0.671530, acc.: 54.31%] [G loss: 0.930279]\n"
     ]
    },
    {
     "name": "stderr",
     "output_type": "stream",
     "text": [
      " 16%|█████████████▎                                                                     | 8/50 [00:00<00:01, 33.64it/s]"
     ]
    },
    {
     "name": "stdout",
     "output_type": "stream",
     "text": [
      "18 [D loss: 0.662888, acc.: 52.29%] [G loss: 0.975367]\n",
      "18 [D loss: 0.638907, acc.: 52.48%] [G loss: 1.010022]\n",
      "18 [D loss: 0.644813, acc.: 54.73%] [G loss: 0.985485]\n",
      "18 [D loss: 0.604121, acc.: 54.84%] [G loss: 0.941359]\n",
      "18 [D loss: 0.619906, acc.: 64.38%] [G loss: 0.929672]\n",
      "18 [D loss: 0.638603, acc.: 70.43%] [G loss: 0.882711]\n",
      "18 [D loss: 0.664311, acc.: 77.62%] [G loss: 0.794505]"
     ]
    },
    {
     "name": "stderr",
     "output_type": "stream",
     "text": [
      " 32%|██████████████████████████▏                                                       | 16/50 [00:00<00:01, 33.35it/s]"
     ]
    },
    {
     "name": "stdout",
     "output_type": "stream",
     "text": [
      "\n",
      "18 [D loss: 0.677091, acc.: 82.62%] [G loss: 0.753966]\n",
      "18 [D loss: 0.798616, acc.: 86.53%] [G loss: 0.710781]\n",
      "18 [D loss: 0.815458, acc.: 80.52%] [G loss: 0.729906]\n",
      "18 [D loss: 0.863137, acc.: 71.50%] [G loss: 0.793514]\n",
      "18 [D loss: 0.812235, acc.: 61.73%] [G loss: 0.821612]\n",
      "18 [D loss: 0.777350, acc.: 57.98%] [G loss: 0.853402]"
     ]
    },
    {
     "name": "stderr",
     "output_type": "stream",
     "text": [
      " 40%|████████████████████████████████▊                                                 | 20/50 [00:00<00:00, 33.32it/s]"
     ]
    },
    {
     "name": "stdout",
     "output_type": "stream",
     "text": [
      "\n",
      "18 [D loss: 0.741808, acc.: 56.51%] [G loss: 0.911169]\n",
      "18 [D loss: 0.689263, acc.: 53.57%] [G loss: 0.960767]\n",
      "18 [D loss: 0.772080, acc.: 51.90%] [G loss: 0.972943]\n",
      "18 [D loss: 0.648712, acc.: 50.24%] [G loss: 1.000893]\n",
      "18 [D loss: 0.600341, acc.: 50.17%] [G loss: 1.053717]\n",
      "18 [D loss: 0.551928, acc.: 49.34%] [G loss: 1.042435]\n"
     ]
    },
    {
     "name": "stderr",
     "output_type": "stream",
     "text": [
      " 56%|█████████████████████████████████████████████▉                                    | 28/50 [00:00<00:00, 33.42it/s]"
     ]
    },
    {
     "name": "stdout",
     "output_type": "stream",
     "text": [
      "18 [D loss: 0.548380, acc.: 49.69%] [G loss: 1.062603]\n",
      "18 [D loss: 0.581184, acc.: 50.75%] [G loss: 1.052938]\n",
      "18 [D loss: 0.581673, acc.: 55.04%] [G loss: 1.029866]\n",
      "18 [D loss: 0.600768, acc.: 58.14%] [G loss: 1.008487]\n",
      "18 [D loss: 0.575044, acc.: 61.73%] [G loss: 0.998744]\n",
      "18 [D loss: 0.633912, acc.: 57.73%] [G loss: 0.965479]\n",
      "18 [D loss: 0.576450, acc.: 64.63%] [G loss: 0.931835]\n"
     ]
    },
    {
     "name": "stderr",
     "output_type": "stream",
     "text": [
      " 72%|███████████████████████████████████████████████████████████                       | 36/50 [00:01<00:00, 33.56it/s]"
     ]
    },
    {
     "name": "stdout",
     "output_type": "stream",
     "text": [
      "18 [D loss: 0.666125, acc.: 62.92%] [G loss: 0.925023]\n",
      "18 [D loss: 0.697457, acc.: 61.86%] [G loss: 0.904354]\n",
      "18 [D loss: 0.617972, acc.: 56.10%] [G loss: 0.919134]\n",
      "18 [D loss: 0.661315, acc.: 66.07%] [G loss: 0.863483]\n",
      "18 [D loss: 0.639512, acc.: 70.33%] [G loss: 0.860554]\n",
      "18 [D loss: 0.626239, acc.: 78.77%] [G loss: 0.766953]\n",
      "18 [D loss: 0.663836, acc.: 82.40%] [G loss: 0.750058]"
     ]
    },
    {
     "name": "stderr",
     "output_type": "stream",
     "text": [
      " 80%|█████████████████████████████████████████████████████████████████▌                | 40/50 [00:01<00:00, 33.46it/s]"
     ]
    },
    {
     "name": "stdout",
     "output_type": "stream",
     "text": [
      "\n",
      "18 [D loss: 0.645896, acc.: 78.83%] [G loss: 0.704436]\n",
      "18 [D loss: 0.675773, acc.: 81.77%] [G loss: 0.736851]\n",
      "18 [D loss: 0.659676, acc.: 78.18%] [G loss: 0.763744]\n",
      "18 [D loss: 0.756927, acc.: 71.90%] [G loss: 0.791460]\n",
      "18 [D loss: 0.791702, acc.: 70.41%] [G loss: 0.833571]\n",
      "18 [D loss: 0.651791, acc.: 61.72%] [G loss: 0.845501]\n",
      "18 [D loss: 0.656085, acc.: 61.87%] [G loss: 0.909664]"
     ]
    },
    {
     "name": "stderr",
     "output_type": "stream",
     "text": [
      " 96%|██████████████████████████████████████████████████████████████████████████████▋   | 48/50 [00:01<00:00, 33.64it/s]"
     ]
    },
    {
     "name": "stdout",
     "output_type": "stream",
     "text": [
      "\n",
      "18 [D loss: 0.735429, acc.: 56.80%] [G loss: 0.897215]\n",
      "18 [D loss: 0.638119, acc.: 56.22%] [G loss: 0.893806]\n",
      "18 [D loss: 0.578416, acc.: 58.27%] [G loss: 0.921540]\n",
      "18 [D loss: 0.587111, acc.: 62.83%] [G loss: 0.916544]\n",
      "18 [D loss: 0.597079, acc.: 66.00%] [G loss: 0.946919]\n",
      "18 [D loss: 0.637016, acc.: 67.97%] [G loss: 0.891740]\n"
     ]
    },
    {
     "name": "stderr",
     "output_type": "stream",
     "text": [
      "100%|██████████████████████████████████████████████████████████████████████████████████| 50/50 [00:01<00:00, 33.40it/s]\n",
      "  8%|██████▋                                                                            | 4/50 [00:00<00:01, 32.97it/s]"
     ]
    },
    {
     "name": "stdout",
     "output_type": "stream",
     "text": [
      "Epoch 19\n",
      "19 [D loss: 0.638943, acc.: 68.86%] [G loss: 0.827372]\n",
      "19 [D loss: 0.741303, acc.: 73.62%] [G loss: 0.826396]\n",
      "19 [D loss: 0.758811, acc.: 73.34%] [G loss: 0.823504]\n",
      "19 [D loss: 0.678028, acc.: 67.61%] [G loss: 0.849458]\n",
      "19 [D loss: 0.701633, acc.: 65.28%] [G loss: 0.885365]\n",
      "19 [D loss: 0.780407, acc.: 64.41%] [G loss: 0.863114]\n"
     ]
    },
    {
     "name": "stderr",
     "output_type": "stream",
     "text": [
      " 24%|███████████████████▋                                                              | 12/50 [00:00<00:01, 33.05it/s]"
     ]
    },
    {
     "name": "stdout",
     "output_type": "stream",
     "text": [
      "19 [D loss: 0.801737, acc.: 61.93%] [G loss: 0.853364]\n",
      "19 [D loss: 0.754526, acc.: 64.75%] [G loss: 0.837508]\n",
      "19 [D loss: 0.785999, acc.: 63.31%] [G loss: 0.826069]\n",
      "19 [D loss: 0.716239, acc.: 64.46%] [G loss: 0.807909]\n",
      "19 [D loss: 0.747634, acc.: 64.81%] [G loss: 0.795753]\n",
      "19 [D loss: 0.696082, acc.: 63.14%] [G loss: 0.847521]\n",
      "19 [D loss: 0.753394, acc.: 64.83%] [G loss: 0.839430]"
     ]
    },
    {
     "name": "stderr",
     "output_type": "stream",
     "text": [
      " 32%|██████████████████████████▏                                                       | 16/50 [00:00<00:01, 33.27it/s]"
     ]
    },
    {
     "name": "stdout",
     "output_type": "stream",
     "text": [
      "\n",
      "19 [D loss: 0.734879, acc.: 62.85%] [G loss: 0.818913]\n",
      "19 [D loss: 0.772939, acc.: 62.50%] [G loss: 0.884219]\n",
      "19 [D loss: 0.737224, acc.: 59.61%] [G loss: 0.902914]\n",
      "19 [D loss: 0.726000, acc.: 60.43%] [G loss: 0.888874]\n",
      "19 [D loss: 0.638925, acc.: 57.67%] [G loss: 0.902157]\n",
      "19 [D loss: 0.669712, acc.: 60.19%] [G loss: 0.883211]\n"
     ]
    },
    {
     "name": "stderr",
     "output_type": "stream",
     "text": [
      " 48%|███████████████████████████████████████▎                                          | 24/50 [00:00<00:00, 33.29it/s]"
     ]
    },
    {
     "name": "stdout",
     "output_type": "stream",
     "text": [
      "19 [D loss: 0.631584, acc.: 61.07%] [G loss: 0.905343]\n",
      "19 [D loss: 0.591438, acc.: 59.82%] [G loss: 0.891439]\n",
      "19 [D loss: 0.697395, acc.: 63.09%] [G loss: 0.923711]\n",
      "19 [D loss: 0.659493, acc.: 62.96%] [G loss: 0.861171]\n",
      "19 [D loss: 0.620250, acc.: 67.36%] [G loss: 0.812246]\n",
      "19 [D loss: 0.701568, acc.: 73.50%] [G loss: 0.759202]\n",
      "19 [D loss: 0.640788, acc.: 79.83%] [G loss: 0.790639]"
     ]
    },
    {
     "name": "stderr",
     "output_type": "stream",
     "text": [
      " 64%|████████████████████████████████████████████████████▍                             | 32/50 [00:00<00:00, 33.29it/s]"
     ]
    },
    {
     "name": "stdout",
     "output_type": "stream",
     "text": [
      "\n",
      "19 [D loss: 0.738064, acc.: 78.09%] [G loss: 0.734948]\n",
      "19 [D loss: 0.769892, acc.: 77.04%] [G loss: 0.738777]\n",
      "19 [D loss: 0.742009, acc.: 76.69%] [G loss: 0.759387]\n",
      "19 [D loss: 0.785072, acc.: 73.70%] [G loss: 0.754744]\n",
      "19 [D loss: 0.796865, acc.: 70.76%] [G loss: 0.768506]\n",
      "19 [D loss: 0.785875, acc.: 67.05%] [G loss: 0.791559]\n"
     ]
    },
    {
     "name": "stderr",
     "output_type": "stream",
     "text": [
      " 72%|███████████████████████████████████████████████████████████                       | 36/50 [00:01<00:00, 33.19it/s]"
     ]
    },
    {
     "name": "stdout",
     "output_type": "stream",
     "text": [
      "19 [D loss: 0.811130, acc.: 68.74%] [G loss: 0.766856]\n",
      "19 [D loss: 0.758377, acc.: 65.49%] [G loss: 0.818414]\n",
      "19 [D loss: 0.811020, acc.: 61.88%] [G loss: 0.853261]\n",
      "19 [D loss: 0.780522, acc.: 66.49%] [G loss: 0.859672]\n",
      "19 [D loss: 0.798180, acc.: 62.55%] [G loss: 0.843663]\n",
      "19 [D loss: 0.788261, acc.: 63.11%] [G loss: 0.854062]\n",
      "19 [D loss: 0.777892, acc.: 61.55%] [G loss: 0.866851]"
     ]
    },
    {
     "name": "stderr",
     "output_type": "stream",
     "text": [
      " 88%|████████████████████████████████████████████████████████████████████████▏         | 44/50 [00:01<00:00, 33.30it/s]"
     ]
    },
    {
     "name": "stdout",
     "output_type": "stream",
     "text": [
      "\n",
      "19 [D loss: 0.751135, acc.: 63.10%] [G loss: 0.859841]\n",
      "19 [D loss: 0.766410, acc.: 62.31%] [G loss: 0.845924]\n",
      "19 [D loss: 0.829743, acc.: 63.69%] [G loss: 0.819491]\n",
      "19 [D loss: 0.738701, acc.: 61.17%] [G loss: 0.823956]\n",
      "19 [D loss: 0.720149, acc.: 64.62%] [G loss: 0.793720]\n",
      "19 [D loss: 0.759756, acc.: 65.42%] [G loss: 0.785631]\n"
     ]
    },
    {
     "name": "stderr",
     "output_type": "stream",
     "text": [
      "100%|██████████████████████████████████████████████████████████████████████████████████| 50/50 [00:01<00:00, 33.22it/s]\n",
      "  0%|                                                                                           | 0/50 [00:00<?, ?it/s]"
     ]
    },
    {
     "name": "stdout",
     "output_type": "stream",
     "text": [
      "19 [D loss: 0.744694, acc.: 67.95%] [G loss: 0.803464]\n",
      "19 [D loss: 0.725010, acc.: 68.28%] [G loss: 0.767072]\n",
      "19 [D loss: 0.723468, acc.: 68.79%] [G loss: 0.741961]\n",
      "19 [D loss: 0.747535, acc.: 70.96%] [G loss: 0.725606]\n",
      "19 [D loss: 0.711053, acc.: 71.35%] [G loss: 0.749717]\n",
      "Epoch 20\n",
      "20 [D loss: 0.712302, acc.: 69.68%] [G loss: 0.720340]\n",
      "20 [D loss: 0.727667, acc.: 69.12%] [G loss: 0.725303]"
     ]
    },
    {
     "name": "stderr",
     "output_type": "stream",
     "text": [
      "  8%|██████▋                                                                            | 4/50 [00:00<00:01, 32.70it/s]"
     ]
    },
    {
     "name": "stdout",
     "output_type": "stream",
     "text": [
      "\n",
      "20 [D loss: 0.726189, acc.: 70.61%] [G loss: 0.721136]\n",
      "20 [D loss: 0.734727, acc.: 70.97%] [G loss: 0.722691]\n",
      "20 [D loss: 0.670322, acc.: 69.15%] [G loss: 0.717327]\n",
      "20 [D loss: 0.775016, acc.: 68.76%] [G loss: 0.728902]\n",
      "20 [D loss: 0.724390, acc.: 68.55%] [G loss: 0.728661]\n",
      "20 [D loss: 0.655953, acc.: 68.05%] [G loss: 0.734038]"
     ]
    },
    {
     "name": "stderr",
     "output_type": "stream",
     "text": [
      " 24%|███████████████████▋                                                              | 12/50 [00:00<00:01, 32.87it/s]"
     ]
    },
    {
     "name": "stdout",
     "output_type": "stream",
     "text": [
      "\n",
      "20 [D loss: 0.680561, acc.: 68.03%] [G loss: 0.743992]\n",
      "20 [D loss: 0.665030, acc.: 66.41%] [G loss: 0.737723]\n",
      "20 [D loss: 0.683556, acc.: 67.55%] [G loss: 0.763695]\n",
      "20 [D loss: 0.617134, acc.: 63.78%] [G loss: 0.777164]\n",
      "20 [D loss: 0.618301, acc.: 64.51%] [G loss: 0.812332]\n",
      "20 [D loss: 0.617887, acc.: 63.66%] [G loss: 0.797347]"
     ]
    },
    {
     "name": "stderr",
     "output_type": "stream",
     "text": [
      " 40%|████████████████████████████████▊                                                 | 20/50 [00:00<00:00, 32.94it/s]"
     ]
    },
    {
     "name": "stdout",
     "output_type": "stream",
     "text": [
      "\n",
      "20 [D loss: 0.653540, acc.: 62.13%] [G loss: 0.827198]\n",
      "20 [D loss: 0.573776, acc.: 63.87%] [G loss: 0.847366]\n",
      "20 [D loss: 0.622219, acc.: 62.18%] [G loss: 0.842160]\n",
      "20 [D loss: 0.629866, acc.: 64.86%] [G loss: 0.814310]\n",
      "20 [D loss: 0.624498, acc.: 67.14%] [G loss: 0.810710]\n",
      "20 [D loss: 0.616404, acc.: 71.12%] [G loss: 0.796267]\n"
     ]
    },
    {
     "name": "stderr",
     "output_type": "stream",
     "text": [
      " 48%|███████████████████████████████████████▎                                          | 24/50 [00:00<00:00, 32.95it/s]"
     ]
    },
    {
     "name": "stdout",
     "output_type": "stream",
     "text": [
      "20 [D loss: 0.566490, acc.: 73.89%] [G loss: 0.770073]\n",
      "20 [D loss: 0.670221, acc.: 77.81%] [G loss: 0.713695]\n",
      "20 [D loss: 0.668576, acc.: 81.28%] [G loss: 0.708679]\n",
      "20 [D loss: 0.687426, acc.: 80.88%] [G loss: 0.669593]\n",
      "20 [D loss: 0.669732, acc.: 86.48%] [G loss: 0.671575]\n",
      "20 [D loss: 0.759258, acc.: 83.83%] [G loss: 0.681066]\n",
      "20 [D loss: 0.749006, acc.: 78.22%] [G loss: 0.707499]"
     ]
    },
    {
     "name": "stderr",
     "output_type": "stream",
     "text": [
      " 64%|████████████████████████████████████████████████████▍                             | 32/50 [00:00<00:00, 32.82it/s]"
     ]
    },
    {
     "name": "stdout",
     "output_type": "stream",
     "text": [
      "\n",
      "20 [D loss: 0.769127, acc.: 72.79%] [G loss: 0.704214]\n",
      "20 [D loss: 0.768258, acc.: 69.26%] [G loss: 0.711000]\n",
      "20 [D loss: 0.753516, acc.: 68.72%] [G loss: 0.720859]\n",
      "20 [D loss: 0.745444, acc.: 68.90%] [G loss: 0.718542]\n",
      "20 [D loss: 0.739960, acc.: 67.62%] [G loss: 0.732257]\n",
      "20 [D loss: 0.707156, acc.: 66.59%] [G loss: 0.751696]"
     ]
    },
    {
     "name": "stderr",
     "output_type": "stream",
     "text": [
      " 72%|███████████████████████████████████████████████████████████                       | 36/50 [00:01<00:00, 32.78it/s]"
     ]
    },
    {
     "name": "stdout",
     "output_type": "stream",
     "text": [
      "\n",
      "20 [D loss: 0.697702, acc.: 65.13%] [G loss: 0.759065]\n",
      "20 [D loss: 0.660850, acc.: 63.92%] [G loss: 0.778973]\n",
      "20 [D loss: 0.687844, acc.: 62.31%] [G loss: 0.803313]\n",
      "20 [D loss: 0.682607, acc.: 60.43%] [G loss: 0.815371]\n",
      "20 [D loss: 0.636162, acc.: 59.88%] [G loss: 0.825901]\n",
      "20 [D loss: 0.637210, acc.: 57.74%] [G loss: 0.871465]\n"
     ]
    },
    {
     "name": "stderr",
     "output_type": "stream",
     "text": [
      " 88%|████████████████████████████████████████████████████████████████████████▏         | 44/50 [00:01<00:00, 33.13it/s]"
     ]
    },
    {
     "name": "stdout",
     "output_type": "stream",
     "text": [
      "20 [D loss: 0.615018, acc.: 56.21%] [G loss: 0.893952]\n",
      "20 [D loss: 0.566325, acc.: 56.80%] [G loss: 0.909876]\n",
      "20 [D loss: 0.593626, acc.: 56.44%] [G loss: 0.903641]\n",
      "20 [D loss: 0.606037, acc.: 60.34%] [G loss: 0.896382]\n",
      "20 [D loss: 0.548046, acc.: 60.15%] [G loss: 0.876259]\n",
      "20 [D loss: 0.584488, acc.: 58.72%] [G loss: 0.912113]\n",
      "20 [D loss: 0.584560, acc.: 64.67%] [G loss: 0.895553]"
     ]
    },
    {
     "name": "stderr",
     "output_type": "stream",
     "text": [
      "100%|██████████████████████████████████████████████████████████████████████████████████| 50/50 [00:01<00:00, 33.00it/s]\n",
      "  0%|                                                                                           | 0/50 [00:00<?, ?it/s]"
     ]
    },
    {
     "name": "stdout",
     "output_type": "stream",
     "text": [
      "\n",
      "20 [D loss: 0.620980, acc.: 66.42%] [G loss: 0.787941]\n",
      "20 [D loss: 0.628224, acc.: 71.13%] [G loss: 0.771413]\n",
      "20 [D loss: 0.605164, acc.: 71.26%] [G loss: 0.755729]\n",
      "20 [D loss: 0.594524, acc.: 75.91%] [G loss: 0.740868]\n",
      "Epoch 21\n",
      "21 [D loss: 0.643603, acc.: 76.97%] [G loss: 0.729060]\n",
      "21 [D loss: 0.632568, acc.: 74.67%] [G loss: 0.702781]\n"
     ]
    },
    {
     "name": "stderr",
     "output_type": "stream",
     "text": [
      " 16%|█████████████▎                                                                     | 8/50 [00:00<00:01, 33.05it/s]"
     ]
    },
    {
     "name": "stdout",
     "output_type": "stream",
     "text": [
      "21 [D loss: 0.656264, acc.: 72.79%] [G loss: 0.713947]\n",
      "21 [D loss: 0.650575, acc.: 72.06%] [G loss: 0.697131]\n",
      "21 [D loss: 0.676228, acc.: 71.44%] [G loss: 0.771117]\n",
      "21 [D loss: 0.651663, acc.: 70.00%] [G loss: 0.778272]\n",
      "21 [D loss: 0.625250, acc.: 71.30%] [G loss: 0.768219]\n",
      "21 [D loss: 0.592639, acc.: 68.54%] [G loss: 0.763820]\n",
      "21 [D loss: 0.630185, acc.: 67.07%] [G loss: 0.789512]"
     ]
    },
    {
     "name": "stderr",
     "output_type": "stream",
     "text": [
      " 24%|███████████████████▋                                                              | 12/50 [00:00<00:01, 32.78it/s]"
     ]
    },
    {
     "name": "stdout",
     "output_type": "stream",
     "text": [
      "\n",
      "21 [D loss: 0.591294, acc.: 71.08%] [G loss: 0.733496]\n",
      "21 [D loss: 0.619056, acc.: 68.05%] [G loss: 0.709319]\n",
      "21 [D loss: 0.613490, acc.: 73.58%] [G loss: 0.707636]\n",
      "21 [D loss: 0.562970, acc.: 81.77%] [G loss: 0.695851]\n",
      "21 [D loss: 0.577927, acc.: 90.04%] [G loss: 0.647598]\n",
      "21 [D loss: 0.551038, acc.: 90.16%] [G loss: 0.629384]"
     ]
    },
    {
     "name": "stderr",
     "output_type": "stream",
     "text": [
      " 40%|████████████████████████████████▊                                                 | 20/50 [00:00<00:00, 33.10it/s]"
     ]
    },
    {
     "name": "stdout",
     "output_type": "stream",
     "text": [
      "\n",
      "21 [D loss: 0.553153, acc.: 90.65%] [G loss: 0.588964]\n",
      "21 [D loss: 0.607573, acc.: 100.11%] [G loss: 0.588620]\n",
      "21 [D loss: 0.594355, acc.: 100.48%] [G loss: 0.589389]\n",
      "21 [D loss: 0.676646, acc.: 94.96%] [G loss: 0.572428]\n",
      "21 [D loss: 0.651483, acc.: 93.35%] [G loss: 0.576408]\n",
      "21 [D loss: 0.654098, acc.: 88.65%] [G loss: 0.596554]\n",
      "21 [D loss: 0.692354, acc.: 86.09%] [G loss: 0.661757]"
     ]
    },
    {
     "name": "stderr",
     "output_type": "stream",
     "text": [
      " 56%|█████████████████████████████████████████████▉                                    | 28/50 [00:00<00:00, 33.29it/s]"
     ]
    },
    {
     "name": "stdout",
     "output_type": "stream",
     "text": [
      "\n",
      "21 [D loss: 0.681171, acc.: 76.87%] [G loss: 0.643556]\n",
      "21 [D loss: 0.727888, acc.: 75.82%] [G loss: 0.677438]\n",
      "21 [D loss: 0.711278, acc.: 72.89%] [G loss: 0.711025]\n",
      "21 [D loss: 0.744397, acc.: 69.97%] [G loss: 0.724655]\n",
      "21 [D loss: 0.784979, acc.: 68.01%] [G loss: 0.735564]\n",
      "21 [D loss: 0.717641, acc.: 64.92%] [G loss: 0.737760]\n"
     ]
    },
    {
     "name": "stderr",
     "output_type": "stream",
     "text": [
      " 64%|████████████████████████████████████████████████████▍                             | 32/50 [00:00<00:00, 33.27it/s]"
     ]
    },
    {
     "name": "stdout",
     "output_type": "stream",
     "text": [
      "21 [D loss: 0.732450, acc.: 66.18%] [G loss: 0.760309]\n",
      "21 [D loss: 0.752880, acc.: 65.94%] [G loss: 0.759931]\n",
      "21 [D loss: 0.743308, acc.: 63.60%] [G loss: 0.779744]\n",
      "21 [D loss: 0.727589, acc.: 63.26%] [G loss: 0.789121]\n",
      "21 [D loss: 0.724307, acc.: 62.65%] [G loss: 0.806469]\n",
      "21 [D loss: 0.726135, acc.: 61.71%] [G loss: 0.817908]\n",
      "21 [D loss: 0.754728, acc.: 61.44%] [G loss: 0.812375]\n"
     ]
    },
    {
     "name": "stderr",
     "output_type": "stream",
     "text": [
      " 80%|█████████████████████████████████████████████████████████████████▌                | 40/50 [00:01<00:00, 33.32it/s]"
     ]
    },
    {
     "name": "stdout",
     "output_type": "stream",
     "text": [
      "21 [D loss: 0.716691, acc.: 61.22%] [G loss: 0.807003]\n",
      "21 [D loss: 0.735984, acc.: 62.02%] [G loss: 0.819076]\n",
      "21 [D loss: 0.747107, acc.: 62.35%] [G loss: 0.810409]\n",
      "21 [D loss: 0.710910, acc.: 62.73%] [G loss: 0.799877]\n",
      "21 [D loss: 0.729831, acc.: 63.69%] [G loss: 0.793671]\n",
      "21 [D loss: 0.737556, acc.: 64.92%] [G loss: 0.771466]\n",
      "21 [D loss: 0.732929, acc.: 65.34%] [G loss: 0.773559]\n"
     ]
    },
    {
     "name": "stderr",
     "output_type": "stream",
     "text": [
      " 96%|██████████████████████████████████████████████████████████████████████████████▋   | 48/50 [00:01<00:00, 33.53it/s]"
     ]
    },
    {
     "name": "stdout",
     "output_type": "stream",
     "text": [
      "21 [D loss: 0.741322, acc.: 64.83%] [G loss: 0.755197]\n",
      "21 [D loss: 0.740349, acc.: 66.94%] [G loss: 0.742841]\n",
      "21 [D loss: 0.745200, acc.: 66.62%] [G loss: 0.739267]\n",
      "21 [D loss: 0.747122, acc.: 67.66%] [G loss: 0.729343]\n",
      "21 [D loss: 0.750008, acc.: 67.51%] [G loss: 0.716462]\n",
      "21 [D loss: 0.736299, acc.: 67.79%] [G loss: 0.712757]\n",
      "21 [D loss: 0.710688, acc.: 68.02%] [G loss: 0.715085]"
     ]
    },
    {
     "name": "stderr",
     "output_type": "stream",
     "text": [
      "100%|██████████████████████████████████████████████████████████████████████████████████| 50/50 [00:01<00:00, 33.20it/s]\n",
      "  8%|██████▋                                                                            | 4/50 [00:00<00:01, 34.10it/s]"
     ]
    },
    {
     "name": "stdout",
     "output_type": "stream",
     "text": [
      "\n",
      "21 [D loss: 0.686444, acc.: 68.87%] [G loss: 0.709196]\n",
      "Epoch 22\n",
      "22 [D loss: 0.681905, acc.: 68.61%] [G loss: 0.711238]\n",
      "22 [D loss: 0.664258, acc.: 69.47%] [G loss: 0.708903]\n",
      "22 [D loss: 0.669204, acc.: 68.18%] [G loss: 0.712834]\n",
      "22 [D loss: 0.645966, acc.: 68.82%] [G loss: 0.711772]\n",
      "22 [D loss: 0.639135, acc.: 68.51%] [G loss: 0.717155]"
     ]
    },
    {
     "name": "stderr",
     "output_type": "stream",
     "text": [
      " 16%|█████████████▎                                                                     | 8/50 [00:00<00:01, 33.92it/s]"
     ]
    },
    {
     "name": "stdout",
     "output_type": "stream",
     "text": [
      "\n",
      "22 [D loss: 0.644008, acc.: 68.23%] [G loss: 0.719850]\n",
      "22 [D loss: 0.640537, acc.: 69.14%] [G loss: 0.723270]\n",
      "22 [D loss: 0.614815, acc.: 68.77%] [G loss: 0.725705]\n",
      "22 [D loss: 0.606464, acc.: 67.64%] [G loss: 0.727186]\n",
      "22 [D loss: 0.580862, acc.: 69.45%] [G loss: 0.731121]\n",
      "22 [D loss: 0.563869, acc.: 68.73%] [G loss: 0.737265]\n",
      "22 [D loss: 0.549915, acc.: 68.49%] [G loss: 0.734712]"
     ]
    },
    {
     "name": "stderr",
     "output_type": "stream",
     "text": [
      " 32%|██████████████████████████▏                                                       | 16/50 [00:00<00:01, 33.84it/s]"
     ]
    },
    {
     "name": "stdout",
     "output_type": "stream",
     "text": [
      "\n",
      "22 [D loss: 0.578121, acc.: 71.05%] [G loss: 0.737709]\n",
      "22 [D loss: 0.577932, acc.: 68.89%] [G loss: 0.728493]\n",
      "22 [D loss: 0.579243, acc.: 69.12%] [G loss: 0.741731]\n",
      "22 [D loss: 0.589462, acc.: 68.85%] [G loss: 0.727172]\n",
      "22 [D loss: 0.576238, acc.: 71.11%] [G loss: 0.697613]\n",
      "22 [D loss: 0.591781, acc.: 73.55%] [G loss: 0.708063]\n"
     ]
    },
    {
     "name": "stderr",
     "output_type": "stream",
     "text": [
      " 48%|███████████████████████████████████████▎                                          | 24/50 [00:00<00:00, 33.76it/s]"
     ]
    },
    {
     "name": "stdout",
     "output_type": "stream",
     "text": [
      "22 [D loss: 0.562981, acc.: 74.47%] [G loss: 0.684120]\n",
      "22 [D loss: 0.606075, acc.: 75.58%] [G loss: 0.694946]\n",
      "22 [D loss: 0.618366, acc.: 75.55%] [G loss: 0.685681]\n",
      "22 [D loss: 0.662989, acc.: 74.82%] [G loss: 0.682626]\n",
      "22 [D loss: 0.627236, acc.: 79.25%] [G loss: 0.665626]\n",
      "22 [D loss: 0.600906, acc.: 79.52%] [G loss: 0.662323]\n",
      "22 [D loss: 0.611442, acc.: 76.07%] [G loss: 0.669403]\n"
     ]
    },
    {
     "name": "stderr",
     "output_type": "stream",
     "text": [
      " 56%|█████████████████████████████████████████████▉                                    | 28/50 [00:00<00:00, 33.52it/s]"
     ]
    },
    {
     "name": "stdout",
     "output_type": "stream",
     "text": [
      "22 [D loss: 0.687454, acc.: 75.23%] [G loss: 0.673200]\n",
      "22 [D loss: 0.653692, acc.: 76.08%] [G loss: 0.667940]\n",
      "22 [D loss: 0.650408, acc.: 75.17%] [G loss: 0.667359]\n",
      "22 [D loss: 0.629130, acc.: 74.88%] [G loss: 0.681064]\n",
      "22 [D loss: 0.684783, acc.: 74.03%] [G loss: 0.693088]\n",
      "22 [D loss: 0.646572, acc.: 72.90%] [G loss: 0.671203]\n",
      "22 [D loss: 0.605353, acc.: 73.06%] [G loss: 0.699496]"
     ]
    },
    {
     "name": "stderr",
     "output_type": "stream",
     "text": [
      " 72%|███████████████████████████████████████████████████████████                       | 36/50 [00:01<00:00, 33.33it/s]"
     ]
    },
    {
     "name": "stdout",
     "output_type": "stream",
     "text": [
      "\n",
      "22 [D loss: 0.625034, acc.: 75.32%] [G loss: 0.698836]\n",
      "22 [D loss: 0.652336, acc.: 70.40%] [G loss: 0.692391]\n",
      "22 [D loss: 0.650541, acc.: 70.11%] [G loss: 0.726478]\n",
      "22 [D loss: 0.612074, acc.: 75.12%] [G loss: 0.745476]\n",
      "22 [D loss: 0.650142, acc.: 69.30%] [G loss: 0.749917]\n",
      "22 [D loss: 0.652415, acc.: 68.79%] [G loss: 0.749370]"
     ]
    },
    {
     "name": "stderr",
     "output_type": "stream",
     "text": [
      " 88%|████████████████████████████████████████████████████████████████████████▏         | 44/50 [00:01<00:00, 33.43it/s]"
     ]
    },
    {
     "name": "stdout",
     "output_type": "stream",
     "text": [
      "\n",
      "22 [D loss: 0.636643, acc.: 65.19%] [G loss: 0.768704]\n",
      "22 [D loss: 0.638487, acc.: 66.31%] [G loss: 0.756618]\n",
      "22 [D loss: 0.611696, acc.: 67.88%] [G loss: 0.784707]\n",
      "22 [D loss: 0.670507, acc.: 70.34%] [G loss: 0.798685]\n",
      "22 [D loss: 0.621556, acc.: 66.95%] [G loss: 0.803200]\n",
      "22 [D loss: 0.705236, acc.: 72.58%] [G loss: 0.784833]\n"
     ]
    },
    {
     "name": "stderr",
     "output_type": "stream",
     "text": [
      "100%|██████████████████████████████████████████████████████████████████████████████████| 50/50 [00:01<00:00, 33.49it/s]\n",
      "  0%|                                                                                           | 0/50 [00:00<?, ?it/s]"
     ]
    },
    {
     "name": "stdout",
     "output_type": "stream",
     "text": [
      "22 [D loss: 0.674118, acc.: 69.63%] [G loss: 0.739363]\n",
      "22 [D loss: 0.669098, acc.: 80.57%] [G loss: 0.758778]\n",
      "22 [D loss: 0.715808, acc.: 85.47%] [G loss: 0.720374]\n",
      "22 [D loss: 0.729171, acc.: 79.66%] [G loss: 0.737169]\n",
      "22 [D loss: 0.728939, acc.: 77.08%] [G loss: 0.718645]\n",
      "22 [D loss: 0.772921, acc.: 72.77%] [G loss: 0.754444]\n",
      "Epoch 23\n",
      "23 [D loss: 0.797660, acc.: 68.64%] [G loss: 0.782402]"
     ]
    },
    {
     "name": "stderr",
     "output_type": "stream",
     "text": [
      "  8%|██████▋                                                                            | 4/50 [00:00<00:01, 32.97it/s]"
     ]
    },
    {
     "name": "stdout",
     "output_type": "stream",
     "text": [
      "\n",
      "23 [D loss: 0.823067, acc.: 64.00%] [G loss: 0.785407]\n",
      "23 [D loss: 0.812404, acc.: 64.63%] [G loss: 0.780299]\n",
      "23 [D loss: 0.792809, acc.: 62.85%] [G loss: 0.797165]\n",
      "23 [D loss: 0.786151, acc.: 62.07%] [G loss: 0.804184]\n",
      "23 [D loss: 0.817698, acc.: 60.64%] [G loss: 0.821311]\n",
      "23 [D loss: 0.783141, acc.: 58.94%] [G loss: 0.849169]\n"
     ]
    },
    {
     "name": "stderr",
     "output_type": "stream",
     "text": [
      " 24%|███████████████████▋                                                              | 12/50 [00:00<00:01, 33.33it/s]"
     ]
    },
    {
     "name": "stdout",
     "output_type": "stream",
     "text": [
      "23 [D loss: 0.781603, acc.: 56.96%] [G loss: 0.886528]\n",
      "23 [D loss: 0.761143, acc.: 54.87%] [G loss: 0.907849]\n",
      "23 [D loss: 0.776540, acc.: 52.68%] [G loss: 0.972822]\n",
      "23 [D loss: 0.771916, acc.: 51.01%] [G loss: 0.995683]\n",
      "23 [D loss: 0.765781, acc.: 48.62%] [G loss: 1.030544]\n",
      "23 [D loss: 0.755595, acc.: 45.71%] [G loss: 1.061851]\n",
      "23 [D loss: 0.756045, acc.: 46.79%] [G loss: 1.070000]"
     ]
    },
    {
     "name": "stderr",
     "output_type": "stream",
     "text": [
      " 40%|████████████████████████████████▊                                                 | 20/50 [00:00<00:00, 33.43it/s]"
     ]
    },
    {
     "name": "stdout",
     "output_type": "stream",
     "text": [
      "\n",
      "23 [D loss: 0.739081, acc.: 46.28%] [G loss: 1.076082]\n",
      "23 [D loss: 0.744410, acc.: 46.14%] [G loss: 1.078995]\n",
      "23 [D loss: 0.739724, acc.: 48.93%] [G loss: 1.071679]\n",
      "23 [D loss: 0.729320, acc.: 49.99%] [G loss: 1.058180]\n",
      "23 [D loss: 0.733067, acc.: 48.15%] [G loss: 1.068888]\n",
      "23 [D loss: 0.738617, acc.: 50.06%] [G loss: 1.058602]\n"
     ]
    },
    {
     "name": "stderr",
     "output_type": "stream",
     "text": [
      " 48%|███████████████████████████████████████▎                                          | 24/50 [00:00<00:00, 33.54it/s]"
     ]
    },
    {
     "name": "stdout",
     "output_type": "stream",
     "text": [
      "23 [D loss: 0.736943, acc.: 50.35%] [G loss: 1.051642]\n",
      "23 [D loss: 0.726179, acc.: 49.71%] [G loss: 1.068755]\n",
      "23 [D loss: 0.744726, acc.: 47.82%] [G loss: 1.057412]\n",
      "23 [D loss: 0.698075, acc.: 46.63%] [G loss: 1.111939]\n",
      "23 [D loss: 0.706251, acc.: 48.38%] [G loss: 1.195101]\n",
      "23 [D loss: 0.700668, acc.: 46.83%] [G loss: 1.110991]\n",
      "23 [D loss: 0.718060, acc.: 47.37%] [G loss: 1.104128]\n"
     ]
    },
    {
     "name": "stderr",
     "output_type": "stream",
     "text": [
      " 64%|████████████████████████████████████████████████████▍                             | 32/50 [00:00<00:00, 33.51it/s]"
     ]
    },
    {
     "name": "stdout",
     "output_type": "stream",
     "text": [
      "23 [D loss: 0.673283, acc.: 53.71%] [G loss: 1.018221]\n",
      "23 [D loss: 0.667488, acc.: 54.85%] [G loss: 1.040797]\n",
      "23 [D loss: 0.655048, acc.: 60.24%] [G loss: 0.859684]\n",
      "23 [D loss: 0.679510, acc.: 66.27%] [G loss: 0.767965]\n",
      "23 [D loss: 0.585562, acc.: 71.35%] [G loss: 0.707110]\n",
      "23 [D loss: 0.669563, acc.: 79.78%] [G loss: 0.649329]\n",
      "23 [D loss: 0.603216, acc.: 81.01%] [G loss: 0.613608]"
     ]
    },
    {
     "name": "stderr",
     "output_type": "stream",
     "text": [
      " 80%|█████████████████████████████████████████████████████████████████▌                | 40/50 [00:01<00:00, 33.68it/s]"
     ]
    },
    {
     "name": "stdout",
     "output_type": "stream",
     "text": [
      "\n",
      "23 [D loss: 0.585666, acc.: 85.51%] [G loss: 0.580699]\n",
      "23 [D loss: 0.586690, acc.: 88.12%] [G loss: 0.599959]\n",
      "23 [D loss: 0.584629, acc.: 93.42%] [G loss: 0.574826]\n",
      "23 [D loss: 0.612693, acc.: 85.47%] [G loss: 0.573252]\n",
      "23 [D loss: 0.605911, acc.: 91.37%] [G loss: 0.598308]\n",
      "23 [D loss: 0.619275, acc.: 83.38%] [G loss: 0.613227]\n"
     ]
    },
    {
     "name": "stderr",
     "output_type": "stream",
     "text": [
      " 88%|████████████████████████████████████████████████████████████████████████▏         | 44/50 [00:01<00:00, 32.56it/s]"
     ]
    },
    {
     "name": "stdout",
     "output_type": "stream",
     "text": [
      "23 [D loss: 0.629373, acc.: 76.96%] [G loss: 0.641219]\n",
      "23 [D loss: 0.604856, acc.: 80.45%] [G loss: 0.666790]\n",
      "23 [D loss: 0.636270, acc.: 80.52%] [G loss: 0.701535]\n",
      "23 [D loss: 0.668558, acc.: 73.79%] [G loss: 0.681134]\n",
      "23 [D loss: 0.656207, acc.: 73.97%] [G loss: 0.709009]\n",
      "23 [D loss: 0.645439, acc.: 74.25%] [G loss: 0.702280]\n"
     ]
    },
    {
     "name": "stderr",
     "output_type": "stream",
     "text": [
      "100%|██████████████████████████████████████████████████████████████████████████████████| 50/50 [00:01<00:00, 33.02it/s]\n",
      "  0%|                                                                                           | 0/50 [00:00<?, ?it/s]"
     ]
    },
    {
     "name": "stdout",
     "output_type": "stream",
     "text": [
      "23 [D loss: 0.676182, acc.: 74.32%] [G loss: 0.689694]\n",
      "23 [D loss: 0.698372, acc.: 73.32%] [G loss: 0.704139]\n",
      "23 [D loss: 0.701259, acc.: 76.82%] [G loss: 0.714889]\n",
      "23 [D loss: 0.714317, acc.: 72.07%] [G loss: 0.748067]\n",
      "Epoch 24\n",
      "24 [D loss: 0.762666, acc.: 67.58%] [G loss: 0.771587]\n",
      "24 [D loss: 0.741460, acc.: 65.99%] [G loss: 0.756683]\n",
      "24 [D loss: 0.776750, acc.: 66.91%] [G loss: 0.747492]"
     ]
    },
    {
     "name": "stderr",
     "output_type": "stream",
     "text": [
      " 16%|█████████████▎                                                                     | 8/50 [00:00<00:01, 31.36it/s]"
     ]
    },
    {
     "name": "stdout",
     "output_type": "stream",
     "text": [
      "\n",
      "24 [D loss: 0.773252, acc.: 67.31%] [G loss: 0.737797]\n",
      "24 [D loss: 0.755973, acc.: 66.77%] [G loss: 0.729971]\n",
      "24 [D loss: 0.743281, acc.: 67.16%] [G loss: 0.727680]\n",
      "24 [D loss: 0.745953, acc.: 68.09%] [G loss: 0.722817]\n",
      "24 [D loss: 0.740467, acc.: 68.66%] [G loss: 0.714162]\n",
      "24 [D loss: 0.721746, acc.: 68.01%] [G loss: 0.709240]"
     ]
    },
    {
     "name": "stderr",
     "output_type": "stream",
     "text": [
      " 24%|███████████████████▋                                                              | 12/50 [00:00<00:01, 31.68it/s]"
     ]
    },
    {
     "name": "stdout",
     "output_type": "stream",
     "text": [
      "\n",
      "24 [D loss: 0.753327, acc.: 68.54%] [G loss: 0.702633]\n",
      "24 [D loss: 0.721556, acc.: 68.46%] [G loss: 0.714945]\n",
      "24 [D loss: 0.732040, acc.: 68.59%] [G loss: 0.716938]\n",
      "24 [D loss: 0.714118, acc.: 68.68%] [G loss: 0.712605]\n",
      "24 [D loss: 0.712456, acc.: 68.23%] [G loss: 0.716682]\n",
      "24 [D loss: 0.707364, acc.: 68.39%] [G loss: 0.721918]"
     ]
    },
    {
     "name": "stderr",
     "output_type": "stream",
     "text": [
      " 40%|████████████████████████████████▊                                                 | 20/50 [00:00<00:00, 32.46it/s]"
     ]
    },
    {
     "name": "stdout",
     "output_type": "stream",
     "text": [
      "\n",
      "24 [D loss: 0.690213, acc.: 67.43%] [G loss: 0.718067]\n",
      "24 [D loss: 0.705855, acc.: 66.97%] [G loss: 0.721309]\n",
      "24 [D loss: 0.705990, acc.: 67.58%] [G loss: 0.733673]\n",
      "24 [D loss: 0.699374, acc.: 66.92%] [G loss: 0.727721]\n",
      "24 [D loss: 0.707137, acc.: 67.81%] [G loss: 0.731045]\n",
      "24 [D loss: 0.680883, acc.: 67.54%] [G loss: 0.720026]\n"
     ]
    },
    {
     "name": "stderr",
     "output_type": "stream",
     "text": [
      " 48%|███████████████████████████████████████▎                                          | 24/50 [00:00<00:00, 32.53it/s]"
     ]
    },
    {
     "name": "stdout",
     "output_type": "stream",
     "text": [
      "24 [D loss: 0.664252, acc.: 67.31%] [G loss: 0.731209]\n",
      "24 [D loss: 0.643969, acc.: 67.57%] [G loss: 0.728127]\n",
      "24 [D loss: 0.650712, acc.: 67.22%] [G loss: 0.717518]\n",
      "24 [D loss: 0.646209, acc.: 68.51%] [G loss: 0.712994]\n",
      "24 [D loss: 0.629598, acc.: 68.69%] [G loss: 0.707708]\n",
      "24 [D loss: 0.647331, acc.: 70.17%] [G loss: 0.701277]\n",
      "24 [D loss: 0.629809, acc.: 70.90%] [G loss: 0.704436]"
     ]
    },
    {
     "name": "stderr",
     "output_type": "stream",
     "text": [
      " 64%|████████████████████████████████████████████████████▍                             | 32/50 [00:00<00:00, 32.59it/s]"
     ]
    },
    {
     "name": "stdout",
     "output_type": "stream",
     "text": [
      "\n",
      "24 [D loss: 0.607828, acc.: 74.55%] [G loss: 0.691574]\n",
      "24 [D loss: 0.632270, acc.: 71.48%] [G loss: 0.706172]\n",
      "24 [D loss: 0.634841, acc.: 75.04%] [G loss: 0.696681]\n",
      "24 [D loss: 0.644971, acc.: 73.52%] [G loss: 0.676931]\n",
      "24 [D loss: 0.684535, acc.: 78.26%] [G loss: 0.671880]\n",
      "24 [D loss: 0.653186, acc.: 77.46%] [G loss: 0.656539]"
     ]
    },
    {
     "name": "stderr",
     "output_type": "stream",
     "text": [
      " 80%|█████████████████████████████████████████████████████████████████▌                | 40/50 [00:01<00:00, 32.94it/s]"
     ]
    },
    {
     "name": "stdout",
     "output_type": "stream",
     "text": [
      "\n",
      "24 [D loss: 0.670738, acc.: 83.65%] [G loss: 0.653408]\n",
      "24 [D loss: 0.683957, acc.: 80.70%] [G loss: 0.654897]\n",
      "24 [D loss: 0.722161, acc.: 80.82%] [G loss: 0.649827]\n",
      "24 [D loss: 0.736730, acc.: 80.62%] [G loss: 0.648659]\n",
      "24 [D loss: 0.755897, acc.: 75.90%] [G loss: 0.667904]\n",
      "24 [D loss: 0.727232, acc.: 74.46%] [G loss: 0.669893]\n"
     ]
    },
    {
     "name": "stderr",
     "output_type": "stream",
     "text": [
      " 88%|████████████████████████████████████████████████████████████████████████▏         | 44/50 [00:01<00:00, 32.79it/s]"
     ]
    },
    {
     "name": "stdout",
     "output_type": "stream",
     "text": [
      "24 [D loss: 0.741135, acc.: 71.80%] [G loss: 0.675488]\n",
      "24 [D loss: 0.746892, acc.: 71.95%] [G loss: 0.679267]\n",
      "24 [D loss: 0.741818, acc.: 71.29%] [G loss: 0.682347]\n",
      "24 [D loss: 0.739466, acc.: 70.78%] [G loss: 0.694223]\n",
      "24 [D loss: 0.728632, acc.: 69.64%] [G loss: 0.697370]\n",
      "24 [D loss: 0.733088, acc.: 69.00%] [G loss: 0.711326]\n",
      "24 [D loss: 0.727182, acc.: 68.24%] [G loss: 0.725716]"
     ]
    },
    {
     "name": "stderr",
     "output_type": "stream",
     "text": [
      "100%|██████████████████████████████████████████████████████████████████████████████████| 50/50 [00:01<00:00, 32.49it/s]\n",
      "  0%|                                                                                           | 0/50 [00:00<?, ?it/s]"
     ]
    },
    {
     "name": "stdout",
     "output_type": "stream",
     "text": [
      "\n",
      "24 [D loss: 0.722050, acc.: 67.14%] [G loss: 0.740667]\n",
      "24 [D loss: 0.728191, acc.: 65.21%] [G loss: 0.760469]\n",
      "24 [D loss: 0.721946, acc.: 62.76%] [G loss: 0.788313]\n",
      "Epoch 25\n",
      "25 [D loss: 0.715099, acc.: 59.97%] [G loss: 0.826587]\n",
      "25 [D loss: 0.726531, acc.: 57.17%] [G loss: 0.879769]\n"
     ]
    },
    {
     "name": "stderr",
     "output_type": "stream",
     "text": [
      " 16%|█████████████▎                                                                     | 8/50 [00:00<00:01, 31.44it/s]"
     ]
    },
    {
     "name": "stdout",
     "output_type": "stream",
     "text": [
      "25 [D loss: 0.735168, acc.: 55.20%] [G loss: 0.908775]\n",
      "25 [D loss: 0.717024, acc.: 53.56%] [G loss: 0.920945]\n",
      "25 [D loss: 0.747797, acc.: 52.62%] [G loss: 0.947989]\n",
      "25 [D loss: 0.720752, acc.: 51.94%] [G loss: 0.973830]\n",
      "25 [D loss: 0.747040, acc.: 54.74%] [G loss: 0.966811]\n",
      "25 [D loss: 0.738793, acc.: 55.18%] [G loss: 0.925855]\n",
      "25 [D loss: 0.746331, acc.: 56.32%] [G loss: 0.901934]"
     ]
    },
    {
     "name": "stderr",
     "output_type": "stream",
     "text": [
      " 24%|███████████████████▋                                                              | 12/50 [00:00<00:01, 31.73it/s]"
     ]
    },
    {
     "name": "stdout",
     "output_type": "stream",
     "text": [
      "\n",
      "25 [D loss: 0.758562, acc.: 58.17%] [G loss: 0.889057]\n",
      "25 [D loss: 0.762873, acc.: 60.64%] [G loss: 0.852386]\n",
      "25 [D loss: 0.752485, acc.: 60.08%] [G loss: 0.829567]\n",
      "25 [D loss: 0.754749, acc.: 61.11%] [G loss: 0.813613]\n",
      "25 [D loss: 0.760192, acc.: 60.95%] [G loss: 0.828440]\n",
      "25 [D loss: 0.746652, acc.: 60.28%] [G loss: 0.844180]"
     ]
    },
    {
     "name": "stderr",
     "output_type": "stream",
     "text": [
      " 40%|████████████████████████████████▊                                                 | 20/50 [00:00<00:00, 31.66it/s]"
     ]
    },
    {
     "name": "stdout",
     "output_type": "stream",
     "text": [
      "\n",
      "25 [D loss: 0.737284, acc.: 57.17%] [G loss: 0.875126]\n",
      "25 [D loss: 0.745018, acc.: 55.51%] [G loss: 0.917963]\n",
      "25 [D loss: 0.763816, acc.: 51.76%] [G loss: 0.943702]\n",
      "25 [D loss: 0.753649, acc.: 49.62%] [G loss: 1.005294]\n",
      "25 [D loss: 0.761761, acc.: 47.27%] [G loss: 1.056716]\n",
      "25 [D loss: 0.754973, acc.: 45.73%] [G loss: 1.100985]"
     ]
    },
    {
     "name": "stderr",
     "output_type": "stream",
     "text": [
      " 48%|███████████████████████████████████████▎                                          | 24/50 [00:00<00:00, 31.59it/s]"
     ]
    },
    {
     "name": "stdout",
     "output_type": "stream",
     "text": [
      "\n",
      "25 [D loss: 0.746314, acc.: 45.64%] [G loss: 1.133265]\n",
      "25 [D loss: 0.736908, acc.: 46.63%] [G loss: 1.111953]\n",
      "25 [D loss: 0.761644, acc.: 45.46%] [G loss: 1.077233]\n",
      "25 [D loss: 0.765881, acc.: 48.62%] [G loss: 1.001629]\n",
      "25 [D loss: 0.786191, acc.: 52.88%] [G loss: 0.939263]\n",
      "25 [D loss: 0.767960, acc.: 54.74%] [G loss: 0.890395]"
     ]
    },
    {
     "name": "stderr",
     "output_type": "stream",
     "text": [
      " 64%|████████████████████████████████████████████████████▍                             | 32/50 [00:01<00:00, 31.68it/s]"
     ]
    },
    {
     "name": "stdout",
     "output_type": "stream",
     "text": [
      "\n",
      "25 [D loss: 0.788730, acc.: 59.84%] [G loss: 0.842954]\n",
      "25 [D loss: 0.797061, acc.: 65.24%] [G loss: 0.773119]\n",
      "25 [D loss: 0.751859, acc.: 65.80%] [G loss: 0.746461]\n",
      "25 [D loss: 0.772144, acc.: 68.96%] [G loss: 0.729643]\n",
      "25 [D loss: 0.764471, acc.: 70.47%] [G loss: 0.704760]\n",
      "25 [D loss: 0.763240, acc.: 70.85%] [G loss: 0.704149]"
     ]
    },
    {
     "name": "stderr",
     "output_type": "stream",
     "text": [
      " 72%|███████████████████████████████████████████████████████████                       | 36/50 [00:01<00:00, 30.86it/s]"
     ]
    },
    {
     "name": "stdout",
     "output_type": "stream",
     "text": [
      "\n",
      "25 [D loss: 0.762457, acc.: 71.26%] [G loss: 0.704105]\n",
      "25 [D loss: 0.752664, acc.: 69.51%] [G loss: 0.726111]\n",
      "25 [D loss: 0.732528, acc.: 67.46%] [G loss: 0.749613]\n",
      "25 [D loss: 0.751243, acc.: 64.48%] [G loss: 0.793186]\n",
      "25 [D loss: 0.748783, acc.: 60.64%] [G loss: 0.850185]\n"
     ]
    },
    {
     "name": "stderr",
     "output_type": "stream",
     "text": [
      " 88%|████████████████████████████████████████████████████████████████████████▏         | 44/50 [00:01<00:00, 31.58it/s]"
     ]
    },
    {
     "name": "stdout",
     "output_type": "stream",
     "text": [
      "25 [D loss: 0.716670, acc.: 56.44%] [G loss: 0.896686]\n",
      "25 [D loss: 0.730606, acc.: 50.86%] [G loss: 1.011958]\n",
      "25 [D loss: 0.738831, acc.: 48.35%] [G loss: 1.084428]\n",
      "25 [D loss: 0.736247, acc.: 47.24%] [G loss: 1.044913]\n",
      "25 [D loss: 0.725723, acc.: 50.05%] [G loss: 1.000602]\n",
      "25 [D loss: 0.740219, acc.: 54.62%] [G loss: 0.927317]\n",
      "25 [D loss: 0.750574, acc.: 59.49%] [G loss: 0.841352]"
     ]
    },
    {
     "name": "stderr",
     "output_type": "stream",
     "text": [
      "100%|██████████████████████████████████████████████████████████████████████████████████| 50/50 [00:01<00:00, 31.60it/s]\n",
      "  0%|                                                                                           | 0/50 [00:00<?, ?it/s]"
     ]
    },
    {
     "name": "stdout",
     "output_type": "stream",
     "text": [
      "\n",
      "25 [D loss: 0.725789, acc.: 64.32%] [G loss: 0.763104]\n",
      "25 [D loss: 0.760243, acc.: 68.09%] [G loss: 0.715819]\n",
      "25 [D loss: 0.744391, acc.: 71.32%] [G loss: 0.691117]\n",
      "25 [D loss: 0.743134, acc.: 71.32%] [G loss: 0.670767]\n",
      "25 [D loss: 0.748326, acc.: 71.57%] [G loss: 0.679059]\n",
      "Epoch 26\n",
      "26 [D loss: 0.729002, acc.: 72.09%] [G loss: 0.670662]"
     ]
    },
    {
     "name": "stderr",
     "output_type": "stream",
     "text": [
      "  8%|██████▋                                                                            | 4/50 [00:00<00:01, 31.91it/s]"
     ]
    },
    {
     "name": "stdout",
     "output_type": "stream",
     "text": [
      "\n",
      "26 [D loss: 0.708066, acc.: 72.39%] [G loss: 0.670187]\n",
      "26 [D loss: 0.723012, acc.: 72.25%] [G loss: 0.665582]\n",
      "26 [D loss: 0.702510, acc.: 72.00%] [G loss: 0.669986]\n",
      "26 [D loss: 0.697275, acc.: 72.89%] [G loss: 0.666191]\n",
      "26 [D loss: 0.718637, acc.: 72.98%] [G loss: 0.663836]\n",
      "26 [D loss: 0.692751, acc.: 73.91%] [G loss: 0.659115]"
     ]
    },
    {
     "name": "stderr",
     "output_type": "stream",
     "text": [
      " 24%|███████████████████▋                                                              | 12/50 [00:00<00:01, 31.99it/s]"
     ]
    },
    {
     "name": "stdout",
     "output_type": "stream",
     "text": [
      "\n",
      "26 [D loss: 0.720702, acc.: 74.47%] [G loss: 0.656865]\n",
      "26 [D loss: 0.673794, acc.: 74.02%] [G loss: 0.655829]\n",
      "26 [D loss: 0.702547, acc.: 75.22%] [G loss: 0.657580]\n",
      "26 [D loss: 0.725636, acc.: 74.43%] [G loss: 0.647609]\n",
      "26 [D loss: 0.693662, acc.: 75.96%] [G loss: 0.654425]\n",
      "26 [D loss: 0.690706, acc.: 74.85%] [G loss: 0.643641]"
     ]
    },
    {
     "name": "stderr",
     "output_type": "stream",
     "text": [
      " 32%|██████████████████████████▏                                                       | 16/50 [00:00<00:01, 31.89it/s]"
     ]
    },
    {
     "name": "stdout",
     "output_type": "stream",
     "text": [
      "\n",
      "26 [D loss: 0.677618, acc.: 75.67%] [G loss: 0.648250]\n",
      "26 [D loss: 0.683698, acc.: 74.40%] [G loss: 0.649050]\n",
      "26 [D loss: 0.697420, acc.: 75.41%] [G loss: 0.653600]\n",
      "26 [D loss: 0.697109, acc.: 76.40%] [G loss: 0.657489]\n",
      "26 [D loss: 0.687751, acc.: 74.48%] [G loss: 0.680128]\n",
      "26 [D loss: 0.705373, acc.: 72.65%] [G loss: 0.682926]"
     ]
    },
    {
     "name": "stderr",
     "output_type": "stream",
     "text": [
      " 48%|███████████████████████████████████████▎                                          | 24/50 [00:00<00:00, 31.92it/s]"
     ]
    },
    {
     "name": "stdout",
     "output_type": "stream",
     "text": [
      "\n",
      "26 [D loss: 0.719140, acc.: 70.87%] [G loss: 0.696708]\n",
      "26 [D loss: 0.723015, acc.: 69.87%] [G loss: 0.714999]\n",
      "26 [D loss: 0.721956, acc.: 68.07%] [G loss: 0.732632]\n",
      "26 [D loss: 0.723466, acc.: 63.98%] [G loss: 0.765579]\n",
      "26 [D loss: 0.730355, acc.: 64.42%] [G loss: 0.781509]\n",
      "26 [D loss: 0.735786, acc.: 63.02%] [G loss: 0.799375]"
     ]
    },
    {
     "name": "stderr",
     "output_type": "stream",
     "text": [
      " 56%|█████████████████████████████████████████████▉                                    | 28/50 [00:00<00:00, 31.69it/s]"
     ]
    },
    {
     "name": "stdout",
     "output_type": "stream",
     "text": [
      "\n",
      "26 [D loss: 0.729506, acc.: 61.48%] [G loss: 0.819100]\n",
      "26 [D loss: 0.748151, acc.: 60.70%] [G loss: 0.815858]\n",
      "26 [D loss: 0.750602, acc.: 61.95%] [G loss: 0.825808]\n",
      "26 [D loss: 0.751383, acc.: 63.12%] [G loss: 0.784120]\n",
      "26 [D loss: 0.745960, acc.: 64.82%] [G loss: 0.759606]\n"
     ]
    },
    {
     "name": "stderr",
     "output_type": "stream",
     "text": [
      " 70%|█████████████████████████████████████████████████████████▍                        | 35/50 [00:01<00:00, 31.44it/s]"
     ]
    },
    {
     "name": "stdout",
     "output_type": "stream",
     "text": [
      "26 [D loss: 0.762720, acc.: 66.78%] [G loss: 0.740771]\n",
      "26 [D loss: 0.745268, acc.: 67.44%] [G loss: 0.722811]\n",
      "26 [D loss: 0.743967, acc.: 68.28%] [G loss: 0.716420]\n",
      "26 [D loss: 0.753156, acc.: 68.24%] [G loss: 0.703242]\n",
      "26 [D loss: 0.735569, acc.: 69.13%] [G loss: 0.704368]\n",
      "26 [D loss: 0.722136, acc.: 69.09%] [G loss: 0.701560]\n",
      "26 [D loss: 0.721943, acc.: 68.94%] [G loss: 0.699204]"
     ]
    },
    {
     "name": "stderr",
     "output_type": "stream",
     "text": [
      " 78%|███████████████████████████████████████████████████████████████▉                  | 39/50 [00:01<00:00, 31.36it/s]"
     ]
    },
    {
     "name": "stdout",
     "output_type": "stream",
     "text": [
      "\n",
      "26 [D loss: 0.716372, acc.: 69.58%] [G loss: 0.701624]\n",
      "26 [D loss: 0.718671, acc.: 69.84%] [G loss: 0.699180]\n",
      "26 [D loss: 0.717143, acc.: 69.35%] [G loss: 0.694609]\n",
      "26 [D loss: 0.709276, acc.: 69.85%] [G loss: 0.698659]\n",
      "26 [D loss: 0.702062, acc.: 69.32%] [G loss: 0.699154]\n",
      "26 [D loss: 0.712160, acc.: 69.32%] [G loss: 0.702411]"
     ]
    },
    {
     "name": "stderr",
     "output_type": "stream",
     "text": [
      " 94%|█████████████████████████████████████████████████████████████████████████████     | 47/50 [00:01<00:00, 31.79it/s]"
     ]
    },
    {
     "name": "stdout",
     "output_type": "stream",
     "text": [
      "\n",
      "26 [D loss: 0.716816, acc.: 69.38%] [G loss: 0.697448]\n",
      "26 [D loss: 0.705560, acc.: 69.59%] [G loss: 0.696372]\n",
      "26 [D loss: 0.710107, acc.: 69.87%] [G loss: 0.697585]\n",
      "26 [D loss: 0.704374, acc.: 69.43%] [G loss: 0.698332]\n",
      "26 [D loss: 0.699219, acc.: 69.80%] [G loss: 0.693982]\n",
      "26 [D loss: 0.691711, acc.: 69.94%] [G loss: 0.692766]"
     ]
    },
    {
     "name": "stderr",
     "output_type": "stream",
     "text": [
      "100%|██████████████████████████████████████████████████████████████████████████████████| 50/50 [00:01<00:00, 31.72it/s]\n",
      "  8%|██████▋                                                                            | 4/50 [00:00<00:01, 31.91it/s]"
     ]
    },
    {
     "name": "stdout",
     "output_type": "stream",
     "text": [
      "\n",
      "26 [D loss: 0.698402, acc.: 69.86%] [G loss: 0.689942]\n",
      "Epoch 27\n",
      "27 [D loss: 0.693848, acc.: 69.65%] [G loss: 0.691336]\n",
      "27 [D loss: 0.721390, acc.: 70.09%] [G loss: 0.692106]\n",
      "27 [D loss: 0.691040, acc.: 70.65%] [G loss: 0.688789]\n",
      "27 [D loss: 0.704929, acc.: 70.69%] [G loss: 0.688970]\n",
      "27 [D loss: 0.692978, acc.: 70.94%] [G loss: 0.687700]"
     ]
    },
    {
     "name": "stderr",
     "output_type": "stream",
     "text": [
      " 16%|█████████████▎                                                                     | 8/50 [00:00<00:01, 31.91it/s]"
     ]
    },
    {
     "name": "stdout",
     "output_type": "stream",
     "text": [
      "\n",
      "27 [D loss: 0.689852, acc.: 70.43%] [G loss: 0.685835]\n",
      "27 [D loss: 0.707123, acc.: 70.53%] [G loss: 0.688559]\n",
      "27 [D loss: 0.702370, acc.: 70.54%] [G loss: 0.686013]\n",
      "27 [D loss: 0.694760, acc.: 70.95%] [G loss: 0.686831]\n",
      "27 [D loss: 0.689328, acc.: 70.57%] [G loss: 0.686371]\n",
      "27 [D loss: 0.690700, acc.: 70.57%] [G loss: 0.685722]"
     ]
    },
    {
     "name": "stderr",
     "output_type": "stream",
     "text": [
      " 32%|██████████████████████████▏                                                       | 16/50 [00:00<00:01, 31.85it/s]"
     ]
    },
    {
     "name": "stdout",
     "output_type": "stream",
     "text": [
      "\n",
      "27 [D loss: 0.688911, acc.: 70.27%] [G loss: 0.690098]\n",
      "27 [D loss: 0.695474, acc.: 70.26%] [G loss: 0.687750]\n",
      "27 [D loss: 0.698662, acc.: 70.34%] [G loss: 0.694149]\n",
      "27 [D loss: 0.699634, acc.: 70.27%] [G loss: 0.689485]\n",
      "27 [D loss: 0.689039, acc.: 70.05%] [G loss: 0.694304]\n",
      "27 [D loss: 0.687769, acc.: 69.59%] [G loss: 0.692356]"
     ]
    },
    {
     "name": "stderr",
     "output_type": "stream",
     "text": [
      " 40%|████████████████████████████████▊                                                 | 20/50 [00:00<00:00, 32.02it/s]"
     ]
    },
    {
     "name": "stdout",
     "output_type": "stream",
     "text": [
      "\n",
      "27 [D loss: 0.703420, acc.: 69.87%] [G loss: 0.695829]\n",
      "27 [D loss: 0.682213, acc.: 69.56%] [G loss: 0.699865]\n",
      "27 [D loss: 0.689314, acc.: 69.32%] [G loss: 0.702538]\n",
      "27 [D loss: 0.687416, acc.: 69.16%] [G loss: 0.702361]\n",
      "27 [D loss: 0.693757, acc.: 68.74%] [G loss: 0.706599]\n",
      "27 [D loss: 0.686787, acc.: 68.41%] [G loss: 0.708759]"
     ]
    },
    {
     "name": "stderr",
     "output_type": "stream",
     "text": [
      " 56%|█████████████████████████████████████████████▉                                    | 28/50 [00:00<00:00, 31.96it/s]"
     ]
    },
    {
     "name": "stdout",
     "output_type": "stream",
     "text": [
      "\n",
      "27 [D loss: 0.687253, acc.: 68.23%] [G loss: 0.712951]\n",
      "27 [D loss: 0.686448, acc.: 68.41%] [G loss: 0.716824]\n",
      "27 [D loss: 0.687640, acc.: 67.95%] [G loss: 0.712501]\n",
      "27 [D loss: 0.691114, acc.: 67.68%] [G loss: 0.715654]\n",
      "27 [D loss: 0.684743, acc.: 68.37%] [G loss: 0.715107]\n",
      "27 [D loss: 0.689388, acc.: 67.70%] [G loss: 0.720116]"
     ]
    },
    {
     "name": "stderr",
     "output_type": "stream",
     "text": [
      " 64%|████████████████████████████████████████████████████▍                             | 32/50 [00:01<00:00, 32.10it/s]"
     ]
    },
    {
     "name": "stdout",
     "output_type": "stream",
     "text": [
      "\n",
      "27 [D loss: 0.692214, acc.: 67.87%] [G loss: 0.718070]\n",
      "27 [D loss: 0.693901, acc.: 67.73%] [G loss: 0.713781]\n",
      "27 [D loss: 0.684063, acc.: 67.76%] [G loss: 0.718679]\n",
      "27 [D loss: 0.694460, acc.: 68.37%] [G loss: 0.712415]\n",
      "27 [D loss: 0.697841, acc.: 68.28%] [G loss: 0.708623]\n",
      "27 [D loss: 0.691123, acc.: 68.96%] [G loss: 0.703713]\n"
     ]
    },
    {
     "name": "stderr",
     "output_type": "stream",
     "text": [
      " 80%|█████████████████████████████████████████████████████████████████▌                | 40/50 [00:01<00:00, 31.85it/s]"
     ]
    },
    {
     "name": "stdout",
     "output_type": "stream",
     "text": [
      "27 [D loss: 0.691463, acc.: 69.40%] [G loss: 0.705553]\n",
      "27 [D loss: 0.684238, acc.: 69.24%] [G loss: 0.698429]\n",
      "27 [D loss: 0.688005, acc.: 70.08%] [G loss: 0.696068]\n",
      "27 [D loss: 0.699002, acc.: 70.55%] [G loss: 0.687368]\n",
      "27 [D loss: 0.683875, acc.: 70.67%] [G loss: 0.682948]\n",
      "27 [D loss: 0.689984, acc.: 71.30%] [G loss: 0.678535]\n"
     ]
    },
    {
     "name": "stderr",
     "output_type": "stream",
     "text": [
      " 96%|██████████████████████████████████████████████████████████████████████████████▋   | 48/50 [00:01<00:00, 32.09it/s]"
     ]
    },
    {
     "name": "stdout",
     "output_type": "stream",
     "text": [
      "27 [D loss: 0.684623, acc.: 71.57%] [G loss: 0.675950]\n",
      "27 [D loss: 0.680728, acc.: 71.62%] [G loss: 0.676348]\n",
      "27 [D loss: 0.691838, acc.: 72.03%] [G loss: 0.673035]\n",
      "27 [D loss: 0.692164, acc.: 73.07%] [G loss: 0.667486]\n",
      "27 [D loss: 0.681452, acc.: 72.74%] [G loss: 0.667342]\n",
      "27 [D loss: 0.682472, acc.: 73.05%] [G loss: 0.660870]\n",
      "27 [D loss: 0.675308, acc.: 73.45%] [G loss: 0.660483]\n"
     ]
    },
    {
     "name": "stderr",
     "output_type": "stream",
     "text": [
      "100%|██████████████████████████████████████████████████████████████████████████████████| 50/50 [00:01<00:00, 31.96it/s]\n",
      "  8%|██████▋                                                                            | 4/50 [00:00<00:01, 33.52it/s]"
     ]
    },
    {
     "name": "stdout",
     "output_type": "stream",
     "text": [
      "27 [D loss: 0.685872, acc.: 73.45%] [G loss: 0.656880]\n",
      "27 [D loss: 0.680129, acc.: 74.16%] [G loss: 0.655563]\n",
      "Epoch 28\n",
      "28 [D loss: 0.679321, acc.: 73.76%] [G loss: 0.654366]\n",
      "28 [D loss: 0.682544, acc.: 74.09%] [G loss: 0.656604]\n",
      "28 [D loss: 0.681098, acc.: 74.33%] [G loss: 0.650514]\n",
      "28 [D loss: 0.687717, acc.: 74.32%] [G loss: 0.651929]\n",
      "28 [D loss: 0.684066, acc.: 74.14%] [G loss: 0.651263]"
     ]
    },
    {
     "name": "stderr",
     "output_type": "stream",
     "text": [
      " 16%|█████████████▎                                                                     | 8/50 [00:00<00:01, 32.70it/s]"
     ]
    },
    {
     "name": "stdout",
     "output_type": "stream",
     "text": [
      "\n",
      "28 [D loss: 0.681905, acc.: 73.69%] [G loss: 0.653716]\n",
      "28 [D loss: 0.679838, acc.: 74.36%] [G loss: 0.656294]\n",
      "28 [D loss: 0.681685, acc.: 74.25%] [G loss: 0.653362]\n",
      "28 [D loss: 0.686832, acc.: 73.83%] [G loss: 0.655757]\n",
      "28 [D loss: 0.675224, acc.: 73.83%] [G loss: 0.655814]\n",
      "28 [D loss: 0.678092, acc.: 73.65%] [G loss: 0.661502]\n"
     ]
    },
    {
     "name": "stderr",
     "output_type": "stream",
     "text": [
      " 32%|██████████████████████████▏                                                       | 16/50 [00:00<00:01, 32.53it/s]"
     ]
    },
    {
     "name": "stdout",
     "output_type": "stream",
     "text": [
      "28 [D loss: 0.677297, acc.: 73.39%] [G loss: 0.659747]\n",
      "28 [D loss: 0.682249, acc.: 73.38%] [G loss: 0.662311]\n",
      "28 [D loss: 0.679696, acc.: 72.93%] [G loss: 0.662377]\n",
      "28 [D loss: 0.670349, acc.: 72.65%] [G loss: 0.671781]\n",
      "28 [D loss: 0.670464, acc.: 72.70%] [G loss: 0.674483]\n",
      "28 [D loss: 0.675501, acc.: 72.26%] [G loss: 0.671638]\n",
      "28 [D loss: 0.678870, acc.: 71.61%] [G loss: 0.674356]\n"
     ]
    },
    {
     "name": "stderr",
     "output_type": "stream",
     "text": [
      " 48%|███████████████████████████████████████▎                                          | 24/50 [00:00<00:00, 32.97it/s]"
     ]
    },
    {
     "name": "stdout",
     "output_type": "stream",
     "text": [
      "28 [D loss: 0.677873, acc.: 71.44%] [G loss: 0.681792]\n",
      "28 [D loss: 0.675367, acc.: 71.11%] [G loss: 0.683188]\n",
      "28 [D loss: 0.676190, acc.: 70.63%] [G loss: 0.685534]\n",
      "28 [D loss: 0.674155, acc.: 69.87%] [G loss: 0.692506]\n",
      "28 [D loss: 0.673362, acc.: 69.71%] [G loss: 0.699591]\n",
      "28 [D loss: 0.672969, acc.: 68.71%] [G loss: 0.705429]\n",
      "28 [D loss: 0.671154, acc.: 69.01%] [G loss: 0.715119]"
     ]
    },
    {
     "name": "stderr",
     "output_type": "stream",
     "text": [
      " 56%|█████████████████████████████████████████████▉                                    | 28/50 [00:00<00:00, 32.57it/s]"
     ]
    },
    {
     "name": "stdout",
     "output_type": "stream",
     "text": [
      "\n",
      "28 [D loss: 0.682010, acc.: 67.92%] [G loss: 0.718160]\n",
      "28 [D loss: 0.675994, acc.: 67.92%] [G loss: 0.721808]\n",
      "28 [D loss: 0.676155, acc.: 67.22%] [G loss: 0.732234]\n",
      "28 [D loss: 0.676221, acc.: 66.84%] [G loss: 0.731982]\n",
      "28 [D loss: 0.686517, acc.: 66.76%] [G loss: 0.743952]\n",
      "28 [D loss: 0.685601, acc.: 66.38%] [G loss: 0.743184]"
     ]
    },
    {
     "name": "stderr",
     "output_type": "stream",
     "text": [
      " 72%|███████████████████████████████████████████████████████████                       | 36/50 [00:01<00:00, 31.94it/s]"
     ]
    },
    {
     "name": "stdout",
     "output_type": "stream",
     "text": [
      "\n",
      "28 [D loss: 0.688434, acc.: 65.67%] [G loss: 0.757035]\n",
      "28 [D loss: 0.695224, acc.: 65.84%] [G loss: 0.747486]\n",
      "28 [D loss: 0.681485, acc.: 65.12%] [G loss: 0.754441]\n",
      "28 [D loss: 0.691858, acc.: 64.91%] [G loss: 0.746554]\n",
      "28 [D loss: 0.690258, acc.: 65.62%] [G loss: 0.760744]\n",
      "28 [D loss: 0.691844, acc.: 65.32%] [G loss: 0.760287]"
     ]
    },
    {
     "name": "stderr",
     "output_type": "stream",
     "text": [
      " 80%|█████████████████████████████████████████████████████████████████▌                | 40/50 [00:01<00:00, 31.33it/s]"
     ]
    },
    {
     "name": "stdout",
     "output_type": "stream",
     "text": [
      "\n",
      "28 [D loss: 0.685108, acc.: 64.92%] [G loss: 0.756696]\n",
      "28 [D loss: 0.692002, acc.: 65.63%] [G loss: 0.759191]\n",
      "28 [D loss: 0.693462, acc.: 65.32%] [G loss: 0.755300]\n",
      "28 [D loss: 0.699450, acc.: 65.46%] [G loss: 0.752695]\n",
      "28 [D loss: 0.710054, acc.: 66.03%] [G loss: 0.748188]\n"
     ]
    },
    {
     "name": "stderr",
     "output_type": "stream",
     "text": [
      " 96%|██████████████████████████████████████████████████████████████████████████████▋   | 48/50 [00:01<00:00, 31.44it/s]"
     ]
    },
    {
     "name": "stdout",
     "output_type": "stream",
     "text": [
      "28 [D loss: 0.704032, acc.: 65.87%] [G loss: 0.732112]\n",
      "28 [D loss: 0.694697, acc.: 66.49%] [G loss: 0.742272]\n",
      "28 [D loss: 0.709754, acc.: 67.53%] [G loss: 0.729764]\n",
      "28 [D loss: 0.704614, acc.: 67.67%] [G loss: 0.727673]\n",
      "28 [D loss: 0.703233, acc.: 67.64%] [G loss: 0.723720]\n",
      "28 [D loss: 0.699901, acc.: 68.17%] [G loss: 0.715058]\n",
      "28 [D loss: 0.696393, acc.: 68.36%] [G loss: 0.708343]"
     ]
    },
    {
     "name": "stderr",
     "output_type": "stream",
     "text": [
      "100%|██████████████████████████████████████████████████████████████████████████████████| 50/50 [00:01<00:00, 31.82it/s]\n",
      "  6%|████▉                                                                              | 3/50 [00:00<00:01, 29.62it/s]"
     ]
    },
    {
     "name": "stdout",
     "output_type": "stream",
     "text": [
      "\n",
      "28 [D loss: 0.700152, acc.: 69.54%] [G loss: 0.701490]\n",
      "Epoch 29\n",
      "29 [D loss: 0.707478, acc.: 69.35%] [G loss: 0.705795]\n",
      "29 [D loss: 0.709546, acc.: 70.47%] [G loss: 0.701783]\n",
      "29 [D loss: 0.694510, acc.: 70.85%] [G loss: 0.697536]\n",
      "29 [D loss: 0.707681, acc.: 70.97%] [G loss: 0.687309]\n"
     ]
    },
    {
     "name": "stderr",
     "output_type": "stream",
     "text": [
      " 14%|███████████▌                                                                       | 7/50 [00:00<00:01, 30.34it/s]"
     ]
    },
    {
     "name": "stdout",
     "output_type": "stream",
     "text": [
      "29 [D loss: 0.705970, acc.: 71.23%] [G loss: 0.680938]\n",
      "29 [D loss: 0.706650, acc.: 71.31%] [G loss: 0.682364]\n",
      "29 [D loss: 0.705599, acc.: 72.13%] [G loss: 0.678434]\n",
      "29 [D loss: 0.708455, acc.: 71.92%] [G loss: 0.675667]\n",
      "29 [D loss: 0.697693, acc.: 72.01%] [G loss: 0.675478]\n",
      "29 [D loss: 0.682707, acc.: 72.25%] [G loss: 0.672401]\n",
      "29 [D loss: 0.693534, acc.: 72.22%] [G loss: 0.674918]"
     ]
    },
    {
     "name": "stderr",
     "output_type": "stream",
     "text": [
      " 30%|████████████████████████▌                                                         | 15/50 [00:00<00:01, 31.27it/s]"
     ]
    },
    {
     "name": "stdout",
     "output_type": "stream",
     "text": [
      "\n",
      "29 [D loss: 0.682545, acc.: 71.65%] [G loss: 0.674453]\n",
      "29 [D loss: 0.689308, acc.: 72.24%] [G loss: 0.678625]\n",
      "29 [D loss: 0.689880, acc.: 71.35%] [G loss: 0.682575]\n",
      "29 [D loss: 0.690209, acc.: 71.96%] [G loss: 0.687879]\n",
      "29 [D loss: 0.684215, acc.: 70.75%] [G loss: 0.685386]\n",
      "29 [D loss: 0.686257, acc.: 70.81%] [G loss: 0.686653]"
     ]
    },
    {
     "name": "stderr",
     "output_type": "stream",
     "text": [
      " 44%|████████████████████████████████████                                              | 22/50 [00:00<00:00, 31.53it/s]"
     ]
    },
    {
     "name": "stdout",
     "output_type": "stream",
     "text": [
      "\n",
      "29 [D loss: 0.688119, acc.: 70.08%] [G loss: 0.701186]\n",
      "29 [D loss: 0.685602, acc.: 69.88%] [G loss: 0.704394]\n",
      "29 [D loss: 0.683881, acc.: 68.90%] [G loss: 0.709494]\n",
      "29 [D loss: 0.683407, acc.: 68.95%] [G loss: 0.721686]\n",
      "29 [D loss: 0.696449, acc.: 67.62%] [G loss: 0.735311]\n",
      "29 [D loss: 0.691071, acc.: 66.51%] [G loss: 0.741173]"
     ]
    },
    {
     "name": "stderr",
     "output_type": "stream",
     "text": [
      " 52%|██████████████████████████████████████████▋                                       | 26/50 [00:00<00:00, 31.50it/s]"
     ]
    },
    {
     "name": "stdout",
     "output_type": "stream",
     "text": [
      "\n",
      "29 [D loss: 0.685490, acc.: 65.26%] [G loss: 0.751153]\n",
      "29 [D loss: 0.699588, acc.: 65.15%] [G loss: 0.767043]\n",
      "29 [D loss: 0.689561, acc.: 63.64%] [G loss: 0.780567]\n",
      "29 [D loss: 0.691116, acc.: 62.57%] [G loss: 0.794954]\n",
      "29 [D loss: 0.692402, acc.: 60.60%] [G loss: 0.830748]\n",
      "29 [D loss: 0.688304, acc.: 59.08%] [G loss: 0.845055]"
     ]
    },
    {
     "name": "stderr",
     "output_type": "stream",
     "text": [
      " 64%|████████████████████████████████████████████████████▍                             | 32/50 [00:01<00:00, 30.54it/s]"
     ]
    },
    {
     "name": "stdout",
     "output_type": "stream",
     "text": [
      "\n",
      "29 [D loss: 0.698750, acc.: 56.83%] [G loss: 0.884636]\n",
      "29 [D loss: 0.697232, acc.: 55.38%] [G loss: 0.924175]\n",
      "29 [D loss: 0.699117, acc.: 52.82%] [G loss: 0.932485]\n",
      "29 [D loss: 0.718897, acc.: 52.99%] [G loss: 0.972806]\n",
      "29 [D loss: 0.693842, acc.: 51.84%] [G loss: 0.983652]\n",
      "29 [D loss: 0.727784, acc.: 51.65%] [G loss: 1.007682]"
     ]
    },
    {
     "name": "stderr",
     "output_type": "stream",
     "text": [
      " 80%|█████████████████████████████████████████████████████████████████▌                | 40/50 [00:01<00:00, 31.20it/s]"
     ]
    },
    {
     "name": "stdout",
     "output_type": "stream",
     "text": [
      "\n",
      "29 [D loss: 0.718333, acc.: 52.51%] [G loss: 0.979621]\n",
      "29 [D loss: 0.731331, acc.: 54.47%] [G loss: 0.947846]\n",
      "29 [D loss: 0.749473, acc.: 55.74%] [G loss: 0.898606]\n",
      "29 [D loss: 0.747501, acc.: 60.28%] [G loss: 0.854545]\n",
      "29 [D loss: 0.724516, acc.: 64.04%] [G loss: 0.805942]\n",
      "29 [D loss: 0.736353, acc.: 66.87%] [G loss: 0.773508]"
     ]
    },
    {
     "name": "stderr",
     "output_type": "stream",
     "text": [
      " 88%|████████████████████████████████████████████████████████████████████████▏         | 44/50 [00:01<00:00, 30.97it/s]"
     ]
    },
    {
     "name": "stdout",
     "output_type": "stream",
     "text": [
      "\n",
      "29 [D loss: 0.757720, acc.: 69.25%] [G loss: 0.727531]\n",
      "29 [D loss: 0.718132, acc.: 70.00%] [G loss: 0.729769]\n",
      "29 [D loss: 0.745592, acc.: 69.68%] [G loss: 0.729139]\n",
      "29 [D loss: 0.722389, acc.: 68.80%] [G loss: 0.732052]\n",
      "29 [D loss: 0.707272, acc.: 65.98%] [G loss: 0.784297]\n",
      "29 [D loss: 0.725016, acc.: 63.68%] [G loss: 0.856496]"
     ]
    },
    {
     "name": "stderr",
     "output_type": "stream",
     "text": [
      "100%|██████████████████████████████████████████████████████████████████████████████████| 50/50 [00:01<00:00, 31.30it/s]\n",
      "  0%|                                                                                           | 0/50 [00:00<?, ?it/s]"
     ]
    },
    {
     "name": "stdout",
     "output_type": "stream",
     "text": [
      "\n",
      "29 [D loss: 0.722754, acc.: 57.01%] [G loss: 0.938656]\n",
      "29 [D loss: 0.707437, acc.: 50.55%] [G loss: 1.079608]\n",
      "29 [D loss: 0.719215, acc.: 43.14%] [G loss: 1.263852]\n",
      "Epoch 30\n",
      "30 [D loss: 0.720486, acc.: 39.52%] [G loss: 1.294620]\n",
      "30 [D loss: 0.767372, acc.: 39.95%] [G loss: 1.340746]\n"
     ]
    },
    {
     "name": "stderr",
     "output_type": "stream",
     "text": [
      " 16%|█████████████▎                                                                     | 8/50 [00:00<00:01, 31.71it/s]"
     ]
    },
    {
     "name": "stdout",
     "output_type": "stream",
     "text": [
      "30 [D loss: 0.728068, acc.: 41.68%] [G loss: 1.310204]\n",
      "30 [D loss: 0.780736, acc.: 45.51%] [G loss: 1.145783]\n",
      "30 [D loss: 0.729278, acc.: 49.98%] [G loss: 1.062324]\n",
      "30 [D loss: 0.729795, acc.: 55.34%] [G loss: 0.927578]\n",
      "30 [D loss: 0.748225, acc.: 60.42%] [G loss: 0.828517]\n",
      "30 [D loss: 0.754195, acc.: 66.13%] [G loss: 0.769430]\n",
      "30 [D loss: 0.735388, acc.: 67.81%] [G loss: 0.736525]\n"
     ]
    },
    {
     "name": "stderr",
     "output_type": "stream",
     "text": [
      " 24%|███████████████████▋                                                              | 12/50 [00:00<00:01, 31.85it/s]"
     ]
    },
    {
     "name": "stdout",
     "output_type": "stream",
     "text": [
      "30 [D loss: 0.741152, acc.: 69.03%] [G loss: 0.718964]\n",
      "30 [D loss: 0.714592, acc.: 69.65%] [G loss: 0.721894]\n",
      "30 [D loss: 0.741889, acc.: 68.66%] [G loss: 0.731746]\n",
      "30 [D loss: 0.705499, acc.: 66.42%] [G loss: 0.774423]\n",
      "30 [D loss: 0.737807, acc.: 63.81%] [G loss: 0.796105]\n",
      "30 [D loss: 0.725184, acc.: 60.57%] [G loss: 0.858169]\n",
      "30 [D loss: 0.715466, acc.: 60.28%] [G loss: 0.915740]"
     ]
    },
    {
     "name": "stderr",
     "output_type": "stream",
     "text": [
      " 40%|████████████████████████████████▊                                                 | 20/50 [00:00<00:00, 31.75it/s]"
     ]
    },
    {
     "name": "stdout",
     "output_type": "stream",
     "text": [
      "\n",
      "30 [D loss: 0.717852, acc.: 56.59%] [G loss: 0.909331]\n",
      "30 [D loss: 0.724510, acc.: 58.98%] [G loss: 0.886063]\n",
      "30 [D loss: 0.749862, acc.: 58.87%] [G loss: 0.853567]\n",
      "30 [D loss: 0.724428, acc.: 60.78%] [G loss: 0.839665]\n",
      "30 [D loss: 0.750323, acc.: 62.17%] [G loss: 0.831599]\n",
      "30 [D loss: 0.737688, acc.: 64.68%] [G loss: 0.799007]"
     ]
    },
    {
     "name": "stderr",
     "output_type": "stream",
     "text": [
      " 48%|███████████████████████████████████████▎                                          | 24/50 [00:00<00:00, 31.72it/s]"
     ]
    },
    {
     "name": "stdout",
     "output_type": "stream",
     "text": [
      "\n",
      "30 [D loss: 0.738087, acc.: 65.77%] [G loss: 0.777096]\n",
      "30 [D loss: 0.760515, acc.: 66.17%] [G loss: 0.761582]\n",
      "30 [D loss: 0.737894, acc.: 66.19%] [G loss: 0.744858]\n",
      "30 [D loss: 0.710044, acc.: 65.86%] [G loss: 0.758653]\n",
      "30 [D loss: 0.744762, acc.: 66.91%] [G loss: 0.758743]\n",
      "30 [D loss: 0.727725, acc.: 67.19%] [G loss: 0.747015]"
     ]
    },
    {
     "name": "stderr",
     "output_type": "stream",
     "text": [
      " 64%|████████████████████████████████████████████████████▍                             | 32/50 [00:01<00:00, 31.08it/s]"
     ]
    },
    {
     "name": "stdout",
     "output_type": "stream",
     "text": [
      "\n",
      "30 [D loss: 0.708871, acc.: 67.78%] [G loss: 0.724792]\n",
      "30 [D loss: 0.728257, acc.: 69.01%] [G loss: 0.721636]\n",
      "30 [D loss: 0.696880, acc.: 69.29%] [G loss: 0.713779]\n",
      "30 [D loss: 0.732605, acc.: 69.97%] [G loss: 0.709939]\n",
      "30 [D loss: 0.722729, acc.: 69.90%] [G loss: 0.697952]\n"
     ]
    },
    {
     "name": "stderr",
     "output_type": "stream",
     "text": [
      " 78%|███████████████████████████████████████████████████████████████▉                  | 39/50 [00:01<00:00, 30.86it/s]"
     ]
    },
    {
     "name": "stdout",
     "output_type": "stream",
     "text": [
      "30 [D loss: 0.732702, acc.: 70.91%] [G loss: 0.694517]\n",
      "30 [D loss: 0.688448, acc.: 70.94%] [G loss: 0.689923]\n",
      "30 [D loss: 0.692546, acc.: 70.10%] [G loss: 0.700926]\n",
      "30 [D loss: 0.695767, acc.: 70.80%] [G loss: 0.696259]\n",
      "30 [D loss: 0.712924, acc.: 70.11%] [G loss: 0.697571]\n",
      "30 [D loss: 0.692260, acc.: 69.32%] [G loss: 0.700350]\n"
     ]
    },
    {
     "name": "stderr",
     "output_type": "stream",
     "text": [
      " 86%|██████████████████████████████████████████████████████████████████████▌           | 43/50 [00:01<00:00, 30.95it/s]"
     ]
    },
    {
     "name": "stdout",
     "output_type": "stream",
     "text": [
      "30 [D loss: 0.707882, acc.: 68.62%] [G loss: 0.715589]\n",
      "30 [D loss: 0.693065, acc.: 67.79%] [G loss: 0.728751]\n",
      "30 [D loss: 0.705798, acc.: 67.78%] [G loss: 0.740572]\n",
      "30 [D loss: 0.695123, acc.: 65.33%] [G loss: 0.755248]\n",
      "30 [D loss: 0.697583, acc.: 64.67%] [G loss: 0.782587]\n",
      "30 [D loss: 0.691119, acc.: 64.59%] [G loss: 0.796954]\n",
      "30 [D loss: 0.691650, acc.: 63.60%] [G loss: 0.804955]"
     ]
    },
    {
     "name": "stderr",
     "output_type": "stream",
     "text": [
      "100%|██████████████████████████████████████████████████████████████████████████████████| 50/50 [00:01<00:00, 31.28it/s]\n",
      "  0%|                                                                                           | 0/50 [00:00<?, ?it/s]"
     ]
    },
    {
     "name": "stdout",
     "output_type": "stream",
     "text": [
      "\n",
      "30 [D loss: 0.708229, acc.: 63.12%] [G loss: 0.794950]\n",
      "30 [D loss: 0.698600, acc.: 63.13%] [G loss: 0.806103]\n",
      "30 [D loss: 0.707396, acc.: 65.14%] [G loss: 0.781870]\n",
      "30 [D loss: 0.716906, acc.: 65.61%] [G loss: 0.763382]\n",
      "Epoch 31\n",
      "31 [D loss: 0.730065, acc.: 66.72%] [G loss: 0.747673]\n"
     ]
    },
    {
     "name": "stderr",
     "output_type": "stream",
     "text": [
      " 14%|███████████▌                                                                       | 7/50 [00:00<00:01, 30.34it/s]"
     ]
    },
    {
     "name": "stdout",
     "output_type": "stream",
     "text": [
      "31 [D loss: 0.726709, acc.: 66.59%] [G loss: 0.725874]\n",
      "31 [D loss: 0.713941, acc.: 68.48%] [G loss: 0.719069]\n",
      "31 [D loss: 0.715607, acc.: 69.68%] [G loss: 0.707041]\n",
      "31 [D loss: 0.732722, acc.: 71.64%] [G loss: 0.676769]\n",
      "31 [D loss: 0.708853, acc.: 72.71%] [G loss: 0.670648]\n",
      "31 [D loss: 0.720994, acc.: 74.17%] [G loss: 0.655508]\n",
      "31 [D loss: 0.682845, acc.: 74.79%] [G loss: 0.648358]"
     ]
    },
    {
     "name": "stderr",
     "output_type": "stream",
     "text": [
      " 26%|█████████████████████▎                                                            | 13/50 [00:00<00:01, 29.61it/s]"
     ]
    },
    {
     "name": "stdout",
     "output_type": "stream",
     "text": [
      "\n",
      "31 [D loss: 0.704533, acc.: 75.20%] [G loss: 0.643867]\n",
      "31 [D loss: 0.679833, acc.: 75.40%] [G loss: 0.638366]\n",
      "31 [D loss: 0.688302, acc.: 75.76%] [G loss: 0.637812]\n",
      "31 [D loss: 0.667840, acc.: 76.03%] [G loss: 0.635964]\n",
      "31 [D loss: 0.679604, acc.: 75.77%] [G loss: 0.638439]\n"
     ]
    },
    {
     "name": "stderr",
     "output_type": "stream",
     "text": [
      " 32%|██████████████████████████▏                                                       | 16/50 [00:00<00:01, 28.93it/s]"
     ]
    },
    {
     "name": "stdout",
     "output_type": "stream",
     "text": [
      "31 [D loss: 0.673175, acc.: 75.75%] [G loss: 0.640206]\n",
      "31 [D loss: 0.660011, acc.: 75.17%] [G loss: 0.649888]\n",
      "31 [D loss: 0.656045, acc.: 74.29%] [G loss: 0.657646]\n",
      "31 [D loss: 0.665841, acc.: 73.36%] [G loss: 0.668549]\n",
      "31 [D loss: 0.667564, acc.: 71.74%] [G loss: 0.681490]\n",
      "31 [D loss: 0.656361, acc.: 71.32%] [G loss: 0.702626]\n"
     ]
    },
    {
     "name": "stderr",
     "output_type": "stream",
     "text": [
      " 46%|█████████████████████████████████████▋                                            | 23/50 [00:00<00:00, 28.89it/s]"
     ]
    },
    {
     "name": "stdout",
     "output_type": "stream",
     "text": [
      "31 [D loss: 0.661974, acc.: 68.08%] [G loss: 0.725084]\n",
      "31 [D loss: 0.664002, acc.: 67.05%] [G loss: 0.754500]\n",
      "31 [D loss: 0.665707, acc.: 63.41%] [G loss: 0.778836]\n",
      "31 [D loss: 0.684868, acc.: 61.51%] [G loss: 0.820594]\n",
      "31 [D loss: 0.657142, acc.: 58.90%] [G loss: 0.857625]\n",
      "31 [D loss: 0.686575, acc.: 57.45%] [G loss: 0.879774]\n"
     ]
    },
    {
     "name": "stderr",
     "output_type": "stream",
     "text": [
      " 58%|███████████████████████████████████████████████▌                                  | 29/50 [00:00<00:00, 28.69it/s]"
     ]
    },
    {
     "name": "stdout",
     "output_type": "stream",
     "text": [
      "31 [D loss: 0.692393, acc.: 53.53%] [G loss: 0.920003]\n",
      "31 [D loss: 0.694194, acc.: 54.59%] [G loss: 0.933525]\n",
      "31 [D loss: 0.691834, acc.: 54.30%] [G loss: 0.922491]\n",
      "31 [D loss: 0.693760, acc.: 54.52%] [G loss: 0.909979]\n",
      "31 [D loss: 0.730590, acc.: 56.55%] [G loss: 0.905115]\n",
      "31 [D loss: 0.696193, acc.: 58.61%] [G loss: 0.867684]\n"
     ]
    },
    {
     "name": "stderr",
     "output_type": "stream",
     "text": [
      " 70%|█████████████████████████████████████████████████████████▍                        | 35/50 [00:01<00:00, 29.10it/s]"
     ]
    },
    {
     "name": "stdout",
     "output_type": "stream",
     "text": [
      "31 [D loss: 0.713049, acc.: 59.80%] [G loss: 0.847669]\n",
      "31 [D loss: 0.699602, acc.: 63.79%] [G loss: 0.816792]\n",
      "31 [D loss: 0.715201, acc.: 65.41%] [G loss: 0.792182]\n",
      "31 [D loss: 0.697221, acc.: 69.25%] [G loss: 0.758083]\n",
      "31 [D loss: 0.736417, acc.: 71.41%] [G loss: 0.738392]\n",
      "31 [D loss: 0.692410, acc.: 72.29%] [G loss: 0.728437]\n"
     ]
    },
    {
     "name": "stderr",
     "output_type": "stream",
     "text": [
      " 84%|████████████████████████████████████████████████████████████████████▉             | 42/50 [00:01<00:00, 28.68it/s]"
     ]
    },
    {
     "name": "stdout",
     "output_type": "stream",
     "text": [
      "31 [D loss: 0.736501, acc.: 72.81%] [G loss: 0.721627]\n",
      "31 [D loss: 0.716563, acc.: 72.31%] [G loss: 0.730841]\n",
      "31 [D loss: 0.764769, acc.: 72.35%] [G loss: 0.723760]\n",
      "31 [D loss: 0.722060, acc.: 71.45%] [G loss: 0.714710]\n",
      "31 [D loss: 0.716101, acc.: 71.31%] [G loss: 0.723144]\n",
      "31 [D loss: 0.701837, acc.: 70.64%] [G loss: 0.745834]\n"
     ]
    },
    {
     "name": "stderr",
     "output_type": "stream",
     "text": [
      " 98%|████████████████████████████████████████████████████████████████████████████████▎ | 49/50 [00:01<00:00, 29.66it/s]"
     ]
    },
    {
     "name": "stdout",
     "output_type": "stream",
     "text": [
      "31 [D loss: 0.683215, acc.: 67.35%] [G loss: 0.774091]\n",
      "31 [D loss: 0.676593, acc.: 65.88%] [G loss: 0.818064]\n",
      "31 [D loss: 0.665478, acc.: 60.98%] [G loss: 0.879780]\n",
      "31 [D loss: 0.698356, acc.: 57.67%] [G loss: 0.958751]\n",
      "31 [D loss: 0.662606, acc.: 53.91%] [G loss: 0.974314]\n",
      "31 [D loss: 0.694899, acc.: 49.87%] [G loss: 1.018586]\n",
      "31 [D loss: 0.666520, acc.: 51.10%] [G loss: 1.055162]"
     ]
    },
    {
     "name": "stderr",
     "output_type": "stream",
     "text": [
      "100%|██████████████████████████████████████████████████████████████████████████████████| 50/50 [00:01<00:00, 29.26it/s]\n",
      "  8%|██████▋                                                                            | 4/50 [00:00<00:01, 30.92it/s]"
     ]
    },
    {
     "name": "stdout",
     "output_type": "stream",
     "text": [
      "\n",
      "Epoch 32\n",
      "32 [D loss: 0.612985, acc.: 49.48%] [G loss: 1.095168]\n",
      "32 [D loss: 0.599523, acc.: 52.18%] [G loss: 1.041880]\n",
      "32 [D loss: 0.576625, acc.: 51.95%] [G loss: 1.028803]\n",
      "32 [D loss: 0.532511, acc.: 54.54%] [G loss: 0.947323]\n",
      "32 [D loss: 0.595454, acc.: 60.54%] [G loss: 0.955381]\n"
     ]
    },
    {
     "name": "stderr",
     "output_type": "stream",
     "text": [
      " 16%|█████████████▎                                                                     | 8/50 [00:00<00:01, 30.78it/s]"
     ]
    },
    {
     "name": "stdout",
     "output_type": "stream",
     "text": [
      "32 [D loss: 0.553199, acc.: 60.84%] [G loss: 0.930218]\n",
      "32 [D loss: 0.558902, acc.: 62.72%] [G loss: 0.880529]\n",
      "32 [D loss: 0.583896, acc.: 67.97%] [G loss: 0.881394]\n",
      "32 [D loss: 0.528084, acc.: 65.13%] [G loss: 0.838102]\n",
      "32 [D loss: 0.495019, acc.: 62.45%] [G loss: 0.940168]\n",
      "32 [D loss: 0.415787, acc.: 68.23%] [G loss: 0.920053]\n",
      "32 [D loss: 0.525951, acc.: 66.54%] [G loss: 0.934214]"
     ]
    },
    {
     "name": "stderr",
     "output_type": "stream",
     "text": [
      " 32%|██████████████████████████▏                                                       | 16/50 [00:00<00:01, 31.42it/s]"
     ]
    },
    {
     "name": "stdout",
     "output_type": "stream",
     "text": [
      "\n",
      "32 [D loss: 0.430119, acc.: 73.17%] [G loss: 0.908923]\n",
      "32 [D loss: 0.475398, acc.: 72.49%] [G loss: 0.845048]\n",
      "32 [D loss: 0.448379, acc.: 80.52%] [G loss: 0.841802]\n",
      "32 [D loss: 0.532975, acc.: 77.80%] [G loss: 0.798705]\n",
      "32 [D loss: 0.650395, acc.: 71.45%] [G loss: 0.878311]\n",
      "32 [D loss: 0.544584, acc.: 68.34%] [G loss: 1.001524]"
     ]
    },
    {
     "name": "stderr",
     "output_type": "stream",
     "text": [
      " 40%|████████████████████████████████▊                                                 | 20/50 [00:00<00:00, 31.42it/s]"
     ]
    },
    {
     "name": "stdout",
     "output_type": "stream",
     "text": [
      "\n",
      "32 [D loss: 0.473686, acc.: 59.03%] [G loss: 1.166335]\n",
      "32 [D loss: 0.525938, acc.: 40.58%] [G loss: 1.373996]\n",
      "32 [D loss: 0.505582, acc.: 42.16%] [G loss: 1.383578]\n",
      "32 [D loss: 0.440124, acc.: 54.17%] [G loss: 1.258872]\n",
      "32 [D loss: 0.501582, acc.: 62.71%] [G loss: 1.245070]\n",
      "32 [D loss: 0.532624, acc.: 77.50%] [G loss: 0.914608]"
     ]
    },
    {
     "name": "stderr",
     "output_type": "stream",
     "text": [
      " 56%|█████████████████████████████████████████████▉                                    | 28/50 [00:00<00:00, 32.00it/s]"
     ]
    },
    {
     "name": "stdout",
     "output_type": "stream",
     "text": [
      "\n",
      "32 [D loss: 0.495481, acc.: 100.11%] [G loss: 0.840515]\n",
      "32 [D loss: 0.538232, acc.: 86.25%] [G loss: 0.853681]\n",
      "32 [D loss: 0.688293, acc.: 74.01%] [G loss: 0.764384]\n",
      "32 [D loss: 0.679497, acc.: 74.21%] [G loss: 0.893402]\n",
      "32 [D loss: 0.711477, acc.: 72.60%] [G loss: 0.864197]\n",
      "32 [D loss: 0.736186, acc.: 71.54%] [G loss: 0.887713]"
     ]
    },
    {
     "name": "stderr",
     "output_type": "stream",
     "text": [
      " 72%|███████████████████████████████████████████████████████████                       | 36/50 [00:01<00:00, 32.46it/s]"
     ]
    },
    {
     "name": "stdout",
     "output_type": "stream",
     "text": [
      "\n",
      "32 [D loss: 0.703349, acc.: 78.10%] [G loss: 0.855222]\n",
      "32 [D loss: 0.731652, acc.: 70.59%] [G loss: 0.975560]\n",
      "32 [D loss: 0.841864, acc.: 56.56%] [G loss: 1.099685]\n",
      "32 [D loss: 0.789992, acc.: 50.42%] [G loss: 1.163641]\n",
      "32 [D loss: 0.817990, acc.: 50.03%] [G loss: 1.183682]\n",
      "32 [D loss: 0.791743, acc.: 59.17%] [G loss: 1.105667]\n"
     ]
    },
    {
     "name": "stderr",
     "output_type": "stream",
     "text": [
      " 80%|█████████████████████████████████████████████████████████████████▌                | 40/50 [00:01<00:00, 32.85it/s]"
     ]
    },
    {
     "name": "stdout",
     "output_type": "stream",
     "text": [
      "32 [D loss: 0.746691, acc.: 66.63%] [G loss: 0.949456]\n",
      "32 [D loss: 0.741873, acc.: 81.77%] [G loss: 0.799500]\n",
      "32 [D loss: 0.763598, acc.: 77.44%] [G loss: 0.815912]\n",
      "32 [D loss: 0.808269, acc.: 71.47%] [G loss: 0.777498]\n",
      "32 [D loss: 0.792286, acc.: 67.09%] [G loss: 0.793441]\n",
      "32 [D loss: 0.756588, acc.: 65.42%] [G loss: 0.787083]\n",
      "32 [D loss: 0.723062, acc.: 64.88%] [G loss: 0.833421]"
     ]
    },
    {
     "name": "stderr",
     "output_type": "stream",
     "text": [
      " 96%|██████████████████████████████████████████████████████████████████████████████▋   | 48/50 [00:01<00:00, 32.70it/s]"
     ]
    },
    {
     "name": "stdout",
     "output_type": "stream",
     "text": [
      "\n",
      "32 [D loss: 0.724499, acc.: 64.14%] [G loss: 0.795725]\n",
      "32 [D loss: 0.670815, acc.: 65.87%] [G loss: 0.770669]\n",
      "32 [D loss: 0.657611, acc.: 69.16%] [G loss: 0.750486]\n",
      "32 [D loss: 0.594118, acc.: 70.71%] [G loss: 0.738025]\n",
      "32 [D loss: 0.609289, acc.: 78.99%] [G loss: 0.734413]\n",
      "32 [D loss: 0.571844, acc.: 77.44%] [G loss: 0.726182]"
     ]
    },
    {
     "name": "stderr",
     "output_type": "stream",
     "text": [
      "100%|██████████████████████████████████████████████████████████████████████████████████| 50/50 [00:01<00:00, 32.15it/s]\n",
      "  8%|██████▋                                                                            | 4/50 [00:00<00:01, 33.24it/s]"
     ]
    },
    {
     "name": "stdout",
     "output_type": "stream",
     "text": [
      "\n",
      "32 [D loss: 0.613290, acc.: 79.69%] [G loss: 0.769507]\n",
      "Epoch 33\n",
      "33 [D loss: 0.682697, acc.: 71.15%] [G loss: 0.789404]\n",
      "33 [D loss: 0.697353, acc.: 65.48%] [G loss: 0.845649]\n",
      "33 [D loss: 0.651509, acc.: 65.51%] [G loss: 0.888223]\n",
      "33 [D loss: 0.681674, acc.: 70.54%] [G loss: 0.863959]\n",
      "33 [D loss: 0.754893, acc.: 75.78%] [G loss: 0.822054]"
     ]
    },
    {
     "name": "stderr",
     "output_type": "stream",
     "text": [
      " 16%|█████████████▎                                                                     | 8/50 [00:00<00:01, 32.91it/s]"
     ]
    },
    {
     "name": "stdout",
     "output_type": "stream",
     "text": [
      "\n",
      "33 [D loss: 0.778832, acc.: 87.23%] [G loss: 0.704293]\n",
      "33 [D loss: 0.755441, acc.: 87.00%] [G loss: 0.687724]\n",
      "33 [D loss: 0.820116, acc.: 80.69%] [G loss: 0.748518]\n",
      "33 [D loss: 0.878660, acc.: 64.35%] [G loss: 0.849904]\n",
      "33 [D loss: 0.847164, acc.: 53.73%] [G loss: 0.974786]\n",
      "33 [D loss: 0.868330, acc.: 51.24%] [G loss: 1.034759]"
     ]
    },
    {
     "name": "stderr",
     "output_type": "stream",
     "text": [
      " 30%|████████████████████████▌                                                         | 15/50 [00:00<00:01, 31.44it/s]"
     ]
    },
    {
     "name": "stdout",
     "output_type": "stream",
     "text": [
      "\n",
      "33 [D loss: 0.816947, acc.: 45.29%] [G loss: 1.083268]\n",
      "33 [D loss: 0.810365, acc.: 44.02%] [G loss: 1.152406]\n",
      "33 [D loss: 0.806319, acc.: 41.01%] [G loss: 1.184551]\n",
      "33 [D loss: 0.798029, acc.: 40.30%] [G loss: 1.166762]\n",
      "33 [D loss: 0.782699, acc.: 43.16%] [G loss: 1.115082]\n"
     ]
    },
    {
     "name": "stderr",
     "output_type": "stream",
     "text": [
      " 44%|████████████████████████████████████                                              | 22/50 [00:00<00:00, 30.76it/s]"
     ]
    },
    {
     "name": "stdout",
     "output_type": "stream",
     "text": [
      "33 [D loss: 0.725885, acc.: 45.83%] [G loss: 1.079305]\n",
      "33 [D loss: 0.717383, acc.: 48.36%] [G loss: 0.993215]\n",
      "33 [D loss: 0.745344, acc.: 57.55%] [G loss: 0.894511]\n",
      "33 [D loss: 0.701142, acc.: 62.48%] [G loss: 0.838126]\n",
      "33 [D loss: 0.698494, acc.: 67.51%] [G loss: 0.772227]\n",
      "33 [D loss: 0.695666, acc.: 69.51%] [G loss: 0.749997]\n",
      "33 [D loss: 0.686849, acc.: 69.83%] [G loss: 0.735040]"
     ]
    },
    {
     "name": "stderr",
     "output_type": "stream",
     "text": [
      " 56%|█████████████████████████████████████████████▉                                    | 28/50 [00:00<00:00, 29.66it/s]"
     ]
    },
    {
     "name": "stdout",
     "output_type": "stream",
     "text": [
      "\n",
      "33 [D loss: 0.654131, acc.: 66.79%] [G loss: 0.753770]\n",
      "33 [D loss: 0.647536, acc.: 63.63%] [G loss: 0.786193]\n",
      "33 [D loss: 0.645659, acc.: 61.75%] [G loss: 0.901686]\n",
      "33 [D loss: 0.630197, acc.: 55.81%] [G loss: 0.906606]\n",
      "33 [D loss: 0.669977, acc.: 56.20%] [G loss: 1.009671]\n"
     ]
    },
    {
     "name": "stderr",
     "output_type": "stream",
     "text": [
      " 62%|██████████████████████████████████████████████████▊                               | 31/50 [00:01<00:00, 29.21it/s]"
     ]
    },
    {
     "name": "stdout",
     "output_type": "stream",
     "text": [
      "33 [D loss: 0.621451, acc.: 55.56%] [G loss: 0.930654]\n",
      "33 [D loss: 0.590100, acc.: 61.64%] [G loss: 0.906802]\n",
      "33 [D loss: 0.535001, acc.: 64.98%] [G loss: 0.812109]\n",
      "33 [D loss: 0.587345, acc.: 75.85%] [G loss: 0.726197]\n",
      "33 [D loss: 0.571171, acc.: 81.80%] [G loss: 0.680070]\n",
      "33 [D loss: 0.604329, acc.: 80.85%] [G loss: 0.650921]\n"
     ]
    },
    {
     "name": "stderr",
     "output_type": "stream",
     "text": [
      " 76%|██████████████████████████████████████████████████████████████▎                   | 38/50 [00:01<00:00, 29.50it/s]"
     ]
    },
    {
     "name": "stdout",
     "output_type": "stream",
     "text": [
      "33 [D loss: 0.581286, acc.: 82.58%] [G loss: 0.612021]\n",
      "33 [D loss: 0.597386, acc.: 81.61%] [G loss: 0.623143]\n",
      "33 [D loss: 0.599258, acc.: 79.32%] [G loss: 0.649775]\n",
      "33 [D loss: 0.546592, acc.: 76.90%] [G loss: 0.660761]\n",
      "33 [D loss: 0.577000, acc.: 74.29%] [G loss: 0.704896]\n",
      "33 [D loss: 0.554688, acc.: 71.84%] [G loss: 0.752071]\n"
     ]
    },
    {
     "name": "stderr",
     "output_type": "stream",
     "text": [
      " 88%|████████████████████████████████████████████████████████████████████████▏         | 44/50 [00:01<00:00, 29.45it/s]"
     ]
    },
    {
     "name": "stdout",
     "output_type": "stream",
     "text": [
      "33 [D loss: 0.575244, acc.: 68.07%] [G loss: 0.861299]\n",
      "33 [D loss: 0.480752, acc.: 62.62%] [G loss: 0.936681]\n",
      "33 [D loss: 0.502798, acc.: 59.28%] [G loss: 1.043460]\n",
      "33 [D loss: 0.481405, acc.: 58.75%] [G loss: 1.033281]\n",
      "33 [D loss: 0.565724, acc.: 57.19%] [G loss: 0.992582]\n",
      "33 [D loss: 0.557264, acc.: 72.03%] [G loss: 0.938292]\n"
     ]
    },
    {
     "name": "stderr",
     "output_type": "stream",
     "text": [
      "100%|██████████████████████████████████████████████████████████████████████████████████| 50/50 [00:01<00:00, 30.06it/s]\n",
      "  0%|                                                                                           | 0/50 [00:00<?, ?it/s]"
     ]
    },
    {
     "name": "stdout",
     "output_type": "stream",
     "text": [
      "33 [D loss: 0.504132, acc.: 84.11%] [G loss: 0.804291]\n",
      "33 [D loss: 0.654178, acc.: 91.66%] [G loss: 0.641138]\n",
      "33 [D loss: 0.596948, acc.: 94.76%] [G loss: 0.613557]\n",
      "33 [D loss: 0.595666, acc.: 97.70%] [G loss: 0.589940]\n",
      "Epoch 34\n",
      "34 [D loss: 0.641693, acc.: 97.54%] [G loss: 0.591721]\n",
      "34 [D loss: 0.757875, acc.: 88.03%] [G loss: 0.662034]\n"
     ]
    },
    {
     "name": "stderr",
     "output_type": "stream",
     "text": [
      " 16%|█████████████▎                                                                     | 8/50 [00:00<00:01, 31.44it/s]"
     ]
    },
    {
     "name": "stdout",
     "output_type": "stream",
     "text": [
      "34 [D loss: 0.730593, acc.: 73.40%] [G loss: 0.728044]\n",
      "34 [D loss: 0.660989, acc.: 67.42%] [G loss: 0.790981]\n",
      "34 [D loss: 0.688553, acc.: 62.60%] [G loss: 0.841262]\n",
      "34 [D loss: 0.724811, acc.: 56.06%] [G loss: 0.956651]\n",
      "34 [D loss: 0.651433, acc.: 50.69%] [G loss: 0.971952]\n",
      "34 [D loss: 0.642101, acc.: 49.70%] [G loss: 1.071719]\n",
      "34 [D loss: 0.622147, acc.: 47.93%] [G loss: 1.137086]"
     ]
    },
    {
     "name": "stderr",
     "output_type": "stream",
     "text": [
      " 28%|██████████████████████▉                                                           | 14/50 [00:00<00:01, 30.27it/s]"
     ]
    },
    {
     "name": "stdout",
     "output_type": "stream",
     "text": [
      "\n",
      "34 [D loss: 0.579801, acc.: 50.03%] [G loss: 1.089370]\n",
      "34 [D loss: 0.614018, acc.: 62.43%] [G loss: 1.049342]\n",
      "34 [D loss: 0.608112, acc.: 63.34%] [G loss: 0.964091]\n",
      "34 [D loss: 0.672963, acc.: 73.76%] [G loss: 0.852872]\n",
      "34 [D loss: 0.734248, acc.: 74.61%] [G loss: 0.798774]\n"
     ]
    },
    {
     "name": "stderr",
     "output_type": "stream",
     "text": [
      " 34%|███████████████████████████▉                                                      | 17/50 [00:00<00:01, 29.80it/s]"
     ]
    },
    {
     "name": "stdout",
     "output_type": "stream",
     "text": [
      "34 [D loss: 0.756732, acc.: 69.87%] [G loss: 0.812164]\n",
      "34 [D loss: 0.739244, acc.: 64.56%] [G loss: 0.810629]\n",
      "34 [D loss: 0.712427, acc.: 64.81%] [G loss: 0.813485]\n",
      "34 [D loss: 0.694607, acc.: 66.49%] [G loss: 0.809009]\n",
      "34 [D loss: 0.687264, acc.: 66.07%] [G loss: 0.843559]\n",
      "34 [D loss: 0.634664, acc.: 63.10%] [G loss: 0.830965]\n"
     ]
    },
    {
     "name": "stderr",
     "output_type": "stream",
     "text": [
      " 48%|███████████████████████████████████████▎                                          | 24/50 [00:00<00:00, 29.48it/s]"
     ]
    },
    {
     "name": "stdout",
     "output_type": "stream",
     "text": [
      "34 [D loss: 0.625948, acc.: 62.19%] [G loss: 0.890576]\n",
      "34 [D loss: 0.629219, acc.: 61.88%] [G loss: 0.903301]\n",
      "34 [D loss: 0.579335, acc.: 61.72%] [G loss: 0.908621]\n",
      "34 [D loss: 0.546873, acc.: 59.66%] [G loss: 0.887059]\n",
      "34 [D loss: 0.523096, acc.: 63.20%] [G loss: 0.842991]\n",
      "34 [D loss: 0.499030, acc.: 68.28%] [G loss: 0.826687]\n"
     ]
    },
    {
     "name": "stderr",
     "output_type": "stream",
     "text": [
      " 62%|██████████████████████████████████████████████████▊                               | 31/50 [00:01<00:00, 29.36it/s]"
     ]
    },
    {
     "name": "stdout",
     "output_type": "stream",
     "text": [
      "34 [D loss: 0.480405, acc.: 68.59%] [G loss: 0.826174]\n",
      "34 [D loss: 0.412101, acc.: 67.02%] [G loss: 0.806765]\n",
      "34 [D loss: 0.492252, acc.: 77.30%] [G loss: 0.756852]\n",
      "34 [D loss: 0.500648, acc.: 89.49%] [G loss: 0.698425]\n",
      "34 [D loss: 0.519252, acc.: 81.65%] [G loss: 0.779717]\n",
      "34 [D loss: 0.521524, acc.: 87.03%] [G loss: 0.716384]\n"
     ]
    },
    {
     "name": "stderr",
     "output_type": "stream",
     "text": [
      " 70%|█████████████████████████████████████████████████████████▍                        | 35/50 [00:01<00:00, 30.22it/s]"
     ]
    },
    {
     "name": "stdout",
     "output_type": "stream",
     "text": [
      "34 [D loss: 0.576397, acc.: 79.63%] [G loss: 0.829782]\n",
      "34 [D loss: 0.629537, acc.: 70.37%] [G loss: 0.885130]\n",
      "34 [D loss: 0.670192, acc.: 72.34%] [G loss: 0.898593]\n",
      "34 [D loss: 0.683645, acc.: 72.89%] [G loss: 0.916894]\n",
      "34 [D loss: 0.754318, acc.: 72.85%] [G loss: 0.840326]\n",
      "34 [D loss: 0.746941, acc.: 80.95%] [G loss: 0.782558]\n",
      "34 [D loss: 0.756538, acc.: 75.83%] [G loss: 0.722981]"
     ]
    },
    {
     "name": "stderr",
     "output_type": "stream",
     "text": [
      " 86%|██████████████████████████████████████████████████████████████████████▌           | 43/50 [00:01<00:00, 31.59it/s]"
     ]
    },
    {
     "name": "stdout",
     "output_type": "stream",
     "text": [
      "\n",
      "34 [D loss: 0.757135, acc.: 76.39%] [G loss: 0.739575]\n",
      "34 [D loss: 0.717426, acc.: 69.16%] [G loss: 0.765079]\n",
      "34 [D loss: 0.736811, acc.: 67.66%] [G loss: 0.801710]\n",
      "34 [D loss: 0.778475, acc.: 61.18%] [G loss: 0.894032]\n",
      "34 [D loss: 0.678706, acc.: 57.32%] [G loss: 0.901005]\n",
      "34 [D loss: 0.675882, acc.: 57.80%] [G loss: 0.932180]"
     ]
    },
    {
     "name": "stderr",
     "output_type": "stream",
     "text": [
      "100%|██████████████████████████████████████████████████████████████████████████████████| 50/50 [00:01<00:00, 30.88it/s]\n",
      "  0%|                                                                                           | 0/50 [00:00<?, ?it/s]"
     ]
    },
    {
     "name": "stdout",
     "output_type": "stream",
     "text": [
      "\n",
      "34 [D loss: 0.629925, acc.: 56.80%] [G loss: 0.885752]\n",
      "34 [D loss: 0.646596, acc.: 62.75%] [G loss: 0.877018]\n",
      "34 [D loss: 0.636331, acc.: 64.98%] [G loss: 0.806311]\n",
      "34 [D loss: 0.580901, acc.: 77.53%] [G loss: 0.785318]\n",
      "34 [D loss: 0.592716, acc.: 72.63%] [G loss: 0.770144]\n",
      "Epoch 35\n",
      "35 [D loss: 0.555465, acc.: 76.98%] [G loss: 0.763926]"
     ]
    },
    {
     "name": "stderr",
     "output_type": "stream",
     "text": [
      "  8%|██████▋                                                                            | 4/50 [00:00<00:01, 32.70it/s]"
     ]
    },
    {
     "name": "stdout",
     "output_type": "stream",
     "text": [
      "\n",
      "35 [D loss: 0.608328, acc.: 80.13%] [G loss: 0.760431]\n",
      "35 [D loss: 0.696778, acc.: 81.38%] [G loss: 0.786956]\n",
      "35 [D loss: 0.738461, acc.: 72.45%] [G loss: 0.771677]\n",
      "35 [D loss: 0.772664, acc.: 68.87%] [G loss: 0.825634]\n",
      "35 [D loss: 0.793000, acc.: 61.46%] [G loss: 0.923493]\n",
      "35 [D loss: 0.816345, acc.: 57.86%] [G loss: 0.963129]\n"
     ]
    },
    {
     "name": "stderr",
     "output_type": "stream",
     "text": [
      " 24%|███████████████████▋                                                              | 12/50 [00:00<00:01, 33.01it/s]"
     ]
    },
    {
     "name": "stdout",
     "output_type": "stream",
     "text": [
      "35 [D loss: 0.810763, acc.: 54.66%] [G loss: 0.945645]\n",
      "35 [D loss: 0.797747, acc.: 56.36%] [G loss: 0.923143]\n",
      "35 [D loss: 0.785499, acc.: 59.63%] [G loss: 0.933184]\n",
      "35 [D loss: 0.768185, acc.: 59.44%] [G loss: 0.915378]\n",
      "35 [D loss: 0.776368, acc.: 58.78%] [G loss: 0.881093]\n",
      "35 [D loss: 0.800883, acc.: 64.30%] [G loss: 0.869704]\n",
      "35 [D loss: 0.755740, acc.: 63.72%] [G loss: 0.860018]"
     ]
    },
    {
     "name": "stderr",
     "output_type": "stream",
     "text": [
      " 40%|████████████████████████████████▊                                                 | 20/50 [00:00<00:00, 33.32it/s]"
     ]
    },
    {
     "name": "stdout",
     "output_type": "stream",
     "text": [
      "\n",
      "35 [D loss: 0.760031, acc.: 61.04%] [G loss: 0.827365]\n",
      "35 [D loss: 0.725780, acc.: 62.38%] [G loss: 0.816217]\n",
      "35 [D loss: 0.742157, acc.: 60.31%] [G loss: 0.847417]\n",
      "35 [D loss: 0.672797, acc.: 58.13%] [G loss: 0.874643]\n",
      "35 [D loss: 0.650124, acc.: 56.04%] [G loss: 0.916270]\n",
      "35 [D loss: 0.606033, acc.: 57.62%] [G loss: 0.897780]\n"
     ]
    },
    {
     "name": "stderr",
     "output_type": "stream",
     "text": [
      " 48%|███████████████████████████████████████▎                                          | 24/50 [00:00<00:00, 33.30it/s]"
     ]
    },
    {
     "name": "stdout",
     "output_type": "stream",
     "text": [
      "35 [D loss: 0.551434, acc.: 55.56%] [G loss: 0.932311]\n",
      "35 [D loss: 0.558921, acc.: 57.17%] [G loss: 0.903027]\n",
      "35 [D loss: 0.578277, acc.: 58.22%] [G loss: 0.891993]\n",
      "35 [D loss: 0.530989, acc.: 57.74%] [G loss: 0.921904]\n",
      "35 [D loss: 0.567629, acc.: 62.22%] [G loss: 0.918440]\n",
      "35 [D loss: 0.486492, acc.: 59.51%] [G loss: 0.908367]\n",
      "35 [D loss: 0.446046, acc.: 59.56%] [G loss: 0.972810]\n"
     ]
    },
    {
     "name": "stderr",
     "output_type": "stream",
     "text": [
      " 64%|████████████████████████████████████████████████████▍                             | 32/50 [00:00<00:00, 33.13it/s]"
     ]
    },
    {
     "name": "stdout",
     "output_type": "stream",
     "text": [
      "35 [D loss: 0.484438, acc.: 70.41%] [G loss: 0.848094]\n",
      "35 [D loss: 0.463054, acc.: 81.82%] [G loss: 0.703680]\n",
      "35 [D loss: 0.578481, acc.: 89.51%] [G loss: 0.724604]\n",
      "35 [D loss: 0.532697, acc.: 97.59%] [G loss: 0.600123]\n",
      "35 [D loss: 0.521999, acc.: 99.90%] [G loss: 0.571964]\n",
      "35 [D loss: 0.657594, acc.: 115.51%] [G loss: 0.509915]\n",
      "35 [D loss: 0.635006, acc.: 103.30%] [G loss: 0.535137]"
     ]
    },
    {
     "name": "stderr",
     "output_type": "stream",
     "text": [
      " 72%|███████████████████████████████████████████████████████████                       | 36/50 [00:01<00:00, 33.00it/s]"
     ]
    },
    {
     "name": "stdout",
     "output_type": "stream",
     "text": [
      "\n",
      "35 [D loss: 0.694809, acc.: 103.47%] [G loss: 0.576591]\n",
      "35 [D loss: 0.758753, acc.: 94.11%] [G loss: 0.613302]\n",
      "35 [D loss: 0.721459, acc.: 83.94%] [G loss: 0.655208]\n",
      "35 [D loss: 0.794412, acc.: 75.24%] [G loss: 0.677226]\n",
      "35 [D loss: 0.758602, acc.: 70.51%] [G loss: 0.724488]\n",
      "35 [D loss: 0.780059, acc.: 66.55%] [G loss: 0.800380]"
     ]
    },
    {
     "name": "stderr",
     "output_type": "stream",
     "text": [
      " 88%|████████████████████████████████████████████████████████████████████████▏         | 44/50 [00:01<00:00, 33.01it/s]"
     ]
    },
    {
     "name": "stdout",
     "output_type": "stream",
     "text": [
      "\n",
      "35 [D loss: 0.727847, acc.: 61.61%] [G loss: 0.872439]\n",
      "35 [D loss: 0.725192, acc.: 52.31%] [G loss: 1.019534]\n",
      "35 [D loss: 0.710990, acc.: 47.97%] [G loss: 1.135842]\n",
      "35 [D loss: 0.667043, acc.: 46.80%] [G loss: 1.201180]\n",
      "35 [D loss: 0.627063, acc.: 51.42%] [G loss: 1.031524]\n",
      "35 [D loss: 0.609247, acc.: 59.94%] [G loss: 0.920056]\n"
     ]
    },
    {
     "name": "stderr",
     "output_type": "stream",
     "text": [
      "100%|██████████████████████████████████████████████████████████████████████████████████| 50/50 [00:01<00:00, 33.07it/s]\n",
      "  0%|                                                                                           | 0/50 [00:00<?, ?it/s]"
     ]
    },
    {
     "name": "stdout",
     "output_type": "stream",
     "text": [
      "35 [D loss: 0.566496, acc.: 65.88%] [G loss: 0.879255]\n",
      "35 [D loss: 0.568703, acc.: 65.47%] [G loss: 0.820976]\n",
      "35 [D loss: 0.558494, acc.: 66.96%] [G loss: 0.795216]\n",
      "35 [D loss: 0.606050, acc.: 82.08%] [G loss: 0.703242]\n",
      "Epoch 36\n",
      "36 [D loss: 0.636187, acc.: 88.26%] [G loss: 0.691130]\n",
      "36 [D loss: 0.676691, acc.: 96.16%] [G loss: 0.600796]\n",
      "36 [D loss: 0.686475, acc.: 102.75%] [G loss: 0.550919]"
     ]
    },
    {
     "name": "stderr",
     "output_type": "stream",
     "text": [
      " 16%|█████████████▎                                                                     | 8/50 [00:00<00:01, 32.94it/s]"
     ]
    },
    {
     "name": "stdout",
     "output_type": "stream",
     "text": [
      "\n",
      "36 [D loss: 0.693198, acc.: 96.85%] [G loss: 0.607833]\n",
      "36 [D loss: 0.806229, acc.: 81.83%] [G loss: 0.706614]\n",
      "36 [D loss: 0.768266, acc.: 67.80%] [G loss: 0.803707]\n",
      "36 [D loss: 0.789653, acc.: 59.18%] [G loss: 0.865982]\n",
      "36 [D loss: 0.824513, acc.: 55.47%] [G loss: 0.898251]\n",
      "36 [D loss: 0.789843, acc.: 57.74%] [G loss: 0.870081]"
     ]
    },
    {
     "name": "stderr",
     "output_type": "stream",
     "text": [
      " 24%|███████████████████▋                                                              | 12/50 [00:00<00:01, 32.79it/s]"
     ]
    },
    {
     "name": "stdout",
     "output_type": "stream",
     "text": [
      "\n",
      "36 [D loss: 0.803325, acc.: 59.93%] [G loss: 0.889794]\n",
      "36 [D loss: 0.758966, acc.: 65.69%] [G loss: 0.824263]\n",
      "36 [D loss: 0.778148, acc.: 71.85%] [G loss: 0.746175]\n",
      "36 [D loss: 0.818739, acc.: 71.05%] [G loss: 0.715534]\n",
      "36 [D loss: 0.795568, acc.: 69.58%] [G loss: 0.703363]\n",
      "36 [D loss: 0.802483, acc.: 69.20%] [G loss: 0.706290]"
     ]
    },
    {
     "name": "stderr",
     "output_type": "stream",
     "text": [
      " 40%|████████████████████████████████▊                                                 | 20/50 [00:00<00:00, 32.88it/s]"
     ]
    },
    {
     "name": "stdout",
     "output_type": "stream",
     "text": [
      "\n",
      "36 [D loss: 0.747252, acc.: 68.28%] [G loss: 0.727363]\n",
      "36 [D loss: 0.744724, acc.: 66.57%] [G loss: 0.743278]\n",
      "36 [D loss: 0.723782, acc.: 65.16%] [G loss: 0.769058]\n",
      "36 [D loss: 0.721770, acc.: 62.64%] [G loss: 0.789585]\n",
      "36 [D loss: 0.722357, acc.: 60.66%] [G loss: 0.821971]\n",
      "36 [D loss: 0.682440, acc.: 59.28%] [G loss: 0.856641]\n"
     ]
    },
    {
     "name": "stderr",
     "output_type": "stream",
     "text": [
      " 56%|█████████████████████████████████████████████▉                                    | 28/50 [00:00<00:00, 33.01it/s]"
     ]
    },
    {
     "name": "stdout",
     "output_type": "stream",
     "text": [
      "36 [D loss: 0.681210, acc.: 56.69%] [G loss: 0.865261]\n",
      "36 [D loss: 0.692024, acc.: 56.66%] [G loss: 0.879381]\n",
      "36 [D loss: 0.706077, acc.: 55.94%] [G loss: 0.872146]\n",
      "36 [D loss: 0.622368, acc.: 56.62%] [G loss: 0.874533]\n",
      "36 [D loss: 0.611320, acc.: 58.20%] [G loss: 0.839918]\n",
      "36 [D loss: 0.581028, acc.: 61.52%] [G loss: 0.820815]\n",
      "36 [D loss: 0.602715, acc.: 66.17%] [G loss: 0.774302]\n"
     ]
    },
    {
     "name": "stderr",
     "output_type": "stream",
     "text": [
      " 64%|████████████████████████████████████████████████████▍                             | 32/50 [00:00<00:00, 32.27it/s]"
     ]
    },
    {
     "name": "stdout",
     "output_type": "stream",
     "text": [
      "36 [D loss: 0.574269, acc.: 70.30%] [G loss: 0.742182]\n",
      "36 [D loss: 0.573053, acc.: 75.31%] [G loss: 0.687460]\n",
      "36 [D loss: 0.551669, acc.: 78.68%] [G loss: 0.658661]\n",
      "36 [D loss: 0.602060, acc.: 80.59%] [G loss: 0.616626]\n",
      "36 [D loss: 0.611396, acc.: 91.02%] [G loss: 0.601212]\n",
      "36 [D loss: 0.629934, acc.: 87.59%] [G loss: 0.619132]\n",
      "36 [D loss: 0.675967, acc.: 83.12%] [G loss: 0.603169]"
     ]
    },
    {
     "name": "stderr",
     "output_type": "stream",
     "text": [
      " 80%|█████████████████████████████████████████████████████████████████▌                | 40/50 [00:01<00:00, 32.24it/s]"
     ]
    },
    {
     "name": "stdout",
     "output_type": "stream",
     "text": [
      "\n",
      "36 [D loss: 0.620184, acc.: 80.33%] [G loss: 0.624577]\n",
      "36 [D loss: 0.667173, acc.: 82.35%] [G loss: 0.627198]\n",
      "36 [D loss: 0.683221, acc.: 80.59%] [G loss: 0.631085]\n",
      "36 [D loss: 0.669408, acc.: 79.53%] [G loss: 0.637192]\n",
      "36 [D loss: 0.660397, acc.: 79.05%] [G loss: 0.644620]\n",
      "36 [D loss: 0.652373, acc.: 80.88%] [G loss: 0.620041]"
     ]
    },
    {
     "name": "stderr",
     "output_type": "stream",
     "text": [
      " 88%|████████████████████████████████████████████████████████████████████████▏         | 44/50 [00:01<00:00, 31.61it/s]"
     ]
    },
    {
     "name": "stdout",
     "output_type": "stream",
     "text": [
      "\n",
      "36 [D loss: 0.625414, acc.: 77.29%] [G loss: 0.662031]\n",
      "36 [D loss: 0.648791, acc.: 77.37%] [G loss: 0.668234]\n",
      "36 [D loss: 0.632734, acc.: 79.94%] [G loss: 0.674226]\n",
      "36 [D loss: 0.668988, acc.: 75.43%] [G loss: 0.665698]\n",
      "36 [D loss: 0.630209, acc.: 76.28%] [G loss: 0.677424]\n",
      "36 [D loss: 0.668898, acc.: 75.81%] [G loss: 0.675900]"
     ]
    },
    {
     "name": "stderr",
     "output_type": "stream",
     "text": [
      "100%|██████████████████████████████████████████████████████████████████████████████████| 50/50 [00:01<00:00, 32.19it/s]\n",
      "  0%|                                                                                           | 0/50 [00:00<?, ?it/s]"
     ]
    },
    {
     "name": "stdout",
     "output_type": "stream",
     "text": [
      "\n",
      "36 [D loss: 0.692644, acc.: 76.86%] [G loss: 0.668203]\n",
      "36 [D loss: 0.669113, acc.: 75.52%] [G loss: 0.655233]\n",
      "36 [D loss: 0.662712, acc.: 78.74%] [G loss: 0.659923]\n",
      "Epoch 37\n",
      "37 [D loss: 0.698193, acc.: 82.67%] [G loss: 0.647997]\n",
      "37 [D loss: 0.723906, acc.: 76.90%] [G loss: 0.659290]\n",
      "37 [D loss: 0.725947, acc.: 74.22%] [G loss: 0.671131]"
     ]
    },
    {
     "name": "stderr",
     "output_type": "stream",
     "text": [
      " 16%|█████████████▎                                                                     | 8/50 [00:00<00:01, 31.84it/s]"
     ]
    },
    {
     "name": "stdout",
     "output_type": "stream",
     "text": [
      "\n",
      "37 [D loss: 0.721251, acc.: 73.71%] [G loss: 0.679070]\n",
      "37 [D loss: 0.725866, acc.: 71.60%] [G loss: 0.704812]\n",
      "37 [D loss: 0.745776, acc.: 69.82%] [G loss: 0.705603]\n",
      "37 [D loss: 0.720810, acc.: 69.80%] [G loss: 0.701008]\n",
      "37 [D loss: 0.744976, acc.: 69.14%] [G loss: 0.709893]\n",
      "37 [D loss: 0.735608, acc.: 69.36%] [G loss: 0.708942]"
     ]
    },
    {
     "name": "stderr",
     "output_type": "stream",
     "text": [
      " 24%|███████████████████▋                                                              | 12/50 [00:00<00:01, 31.94it/s]"
     ]
    },
    {
     "name": "stdout",
     "output_type": "stream",
     "text": [
      "\n",
      "37 [D loss: 0.710519, acc.: 70.00%] [G loss: 0.701662]\n",
      "37 [D loss: 0.718867, acc.: 69.98%] [G loss: 0.703476]\n",
      "37 [D loss: 0.748296, acc.: 70.33%] [G loss: 0.695533]\n",
      "37 [D loss: 0.728499, acc.: 70.72%] [G loss: 0.686803]\n",
      "37 [D loss: 0.718729, acc.: 71.58%] [G loss: 0.682349]\n",
      "37 [D loss: 0.735583, acc.: 71.79%] [G loss: 0.676359]"
     ]
    },
    {
     "name": "stderr",
     "output_type": "stream",
     "text": [
      " 40%|████████████████████████████████▊                                                 | 20/50 [00:00<00:00, 31.70it/s]"
     ]
    },
    {
     "name": "stdout",
     "output_type": "stream",
     "text": [
      "\n",
      "37 [D loss: 0.712451, acc.: 72.75%] [G loss: 0.667723]\n",
      "37 [D loss: 0.698666, acc.: 72.33%] [G loss: 0.662405]\n",
      "37 [D loss: 0.711324, acc.: 72.57%] [G loss: 0.663284]\n",
      "37 [D loss: 0.710460, acc.: 73.22%] [G loss: 0.659691]\n",
      "37 [D loss: 0.727748, acc.: 73.61%] [G loss: 0.663034]\n",
      "37 [D loss: 0.707606, acc.: 73.68%] [G loss: 0.660404]"
     ]
    },
    {
     "name": "stderr",
     "output_type": "stream",
     "text": [
      " 48%|███████████████████████████████████████▎                                          | 24/50 [00:00<00:00, 31.39it/s]"
     ]
    },
    {
     "name": "stdout",
     "output_type": "stream",
     "text": [
      "\n",
      "37 [D loss: 0.683511, acc.: 73.83%] [G loss: 0.658208]\n",
      "37 [D loss: 0.700409, acc.: 73.40%] [G loss: 0.656826]\n",
      "37 [D loss: 0.691691, acc.: 73.58%] [G loss: 0.657317]\n",
      "37 [D loss: 0.686285, acc.: 73.20%] [G loss: 0.658020]\n",
      "37 [D loss: 0.696073, acc.: 73.35%] [G loss: 0.661380]\n"
     ]
    },
    {
     "name": "stderr",
     "output_type": "stream",
     "text": [
      " 64%|████████████████████████████████████████████████████▍                             | 32/50 [00:01<00:00, 31.96it/s]"
     ]
    },
    {
     "name": "stdout",
     "output_type": "stream",
     "text": [
      "37 [D loss: 0.684014, acc.: 72.83%] [G loss: 0.659161]\n",
      "37 [D loss: 0.686601, acc.: 72.85%] [G loss: 0.666388]\n",
      "37 [D loss: 0.701504, acc.: 72.14%] [G loss: 0.666164]\n",
      "37 [D loss: 0.690048, acc.: 73.16%] [G loss: 0.668099]\n",
      "37 [D loss: 0.695084, acc.: 72.57%] [G loss: 0.670098]\n",
      "37 [D loss: 0.679790, acc.: 72.45%] [G loss: 0.669313]\n",
      "37 [D loss: 0.679643, acc.: 71.86%] [G loss: 0.676267]\n"
     ]
    },
    {
     "name": "stderr",
     "output_type": "stream",
     "text": [
      " 72%|███████████████████████████████████████████████████████████                       | 36/50 [00:01<00:00, 32.18it/s]"
     ]
    },
    {
     "name": "stdout",
     "output_type": "stream",
     "text": [
      "37 [D loss: 0.688271, acc.: 71.73%] [G loss: 0.677573]\n",
      "37 [D loss: 0.681456, acc.: 71.59%] [G loss: 0.674903]\n",
      "37 [D loss: 0.675656, acc.: 71.44%] [G loss: 0.678655]\n",
      "37 [D loss: 0.678925, acc.: 71.37%] [G loss: 0.679110]\n",
      "37 [D loss: 0.678689, acc.: 71.03%] [G loss: 0.678927]\n",
      "37 [D loss: 0.685037, acc.: 71.34%] [G loss: 0.678435]\n",
      "37 [D loss: 0.683562, acc.: 71.01%] [G loss: 0.684531]"
     ]
    },
    {
     "name": "stderr",
     "output_type": "stream",
     "text": [
      " 88%|████████████████████████████████████████████████████████████████████████▏         | 44/50 [00:01<00:00, 32.46it/s]"
     ]
    },
    {
     "name": "stdout",
     "output_type": "stream",
     "text": [
      "\n",
      "37 [D loss: 0.687831, acc.: 71.12%] [G loss: 0.683103]\n",
      "37 [D loss: 0.680688, acc.: 71.10%] [G loss: 0.681036]\n",
      "37 [D loss: 0.677652, acc.: 70.87%] [G loss: 0.686443]\n",
      "37 [D loss: 0.691329, acc.: 71.14%] [G loss: 0.680937]\n",
      "37 [D loss: 0.681742, acc.: 71.02%] [G loss: 0.679882]\n",
      "37 [D loss: 0.678910, acc.: 71.39%] [G loss: 0.682414]"
     ]
    },
    {
     "name": "stderr",
     "output_type": "stream",
     "text": [
      "100%|██████████████████████████████████████████████████████████████████████████████████| 50/50 [00:01<00:00, 32.15it/s]\n",
      "  0%|                                                                                           | 0/50 [00:00<?, ?it/s]"
     ]
    },
    {
     "name": "stdout",
     "output_type": "stream",
     "text": [
      "\n",
      "37 [D loss: 0.675034, acc.: 71.51%] [G loss: 0.678929]\n",
      "37 [D loss: 0.672811, acc.: 71.11%] [G loss: 0.678162]\n",
      "37 [D loss: 0.678770, acc.: 71.31%] [G loss: 0.680432]\n",
      "37 [D loss: 0.688310, acc.: 71.77%] [G loss: 0.675269]\n",
      "Epoch 38\n",
      "38 [D loss: 0.671541, acc.: 71.78%] [G loss: 0.671804]\n",
      "38 [D loss: 0.677995, acc.: 71.84%] [G loss: 0.671246]"
     ]
    },
    {
     "name": "stderr",
     "output_type": "stream",
     "text": [
      "  8%|██████▋                                                                            | 4/50 [00:00<00:01, 32.43it/s]"
     ]
    },
    {
     "name": "stdout",
     "output_type": "stream",
     "text": [
      "\n",
      "38 [D loss: 0.683275, acc.: 72.03%] [G loss: 0.669329]\n",
      "38 [D loss: 0.676884, acc.: 72.04%] [G loss: 0.668882]\n",
      "38 [D loss: 0.678175, acc.: 72.33%] [G loss: 0.669406]\n",
      "38 [D loss: 0.680467, acc.: 72.12%] [G loss: 0.666042]\n",
      "38 [D loss: 0.686054, acc.: 72.74%] [G loss: 0.666185]\n",
      "38 [D loss: 0.684788, acc.: 72.65%] [G loss: 0.664453]"
     ]
    },
    {
     "name": "stderr",
     "output_type": "stream",
     "text": [
      " 24%|███████████████████▋                                                              | 12/50 [00:00<00:01, 32.12it/s]"
     ]
    },
    {
     "name": "stdout",
     "output_type": "stream",
     "text": [
      "\n",
      "38 [D loss: 0.683679, acc.: 72.68%] [G loss: 0.662889]\n",
      "38 [D loss: 0.683035, acc.: 72.56%] [G loss: 0.660609]\n",
      "38 [D loss: 0.680316, acc.: 72.93%] [G loss: 0.657425]\n",
      "38 [D loss: 0.678845, acc.: 72.73%] [G loss: 0.665435]\n",
      "38 [D loss: 0.678808, acc.: 73.33%] [G loss: 0.663924]\n",
      "38 [D loss: 0.673571, acc.: 73.07%] [G loss: 0.663245]"
     ]
    },
    {
     "name": "stderr",
     "output_type": "stream",
     "text": [
      " 32%|██████████████████████████▏                                                       | 16/50 [00:00<00:01, 32.13it/s]"
     ]
    },
    {
     "name": "stdout",
     "output_type": "stream",
     "text": [
      "\n",
      "38 [D loss: 0.672113, acc.: 72.72%] [G loss: 0.666239]\n",
      "38 [D loss: 0.675144, acc.: 72.76%] [G loss: 0.665690]\n",
      "38 [D loss: 0.682438, acc.: 72.96%] [G loss: 0.667817]\n",
      "38 [D loss: 0.684473, acc.: 72.58%] [G loss: 0.666350]\n",
      "38 [D loss: 0.678509, acc.: 73.05%] [G loss: 0.665002]\n",
      "38 [D loss: 0.685414, acc.: 72.64%] [G loss: 0.667255]"
     ]
    },
    {
     "name": "stderr",
     "output_type": "stream",
     "text": [
      " 48%|███████████████████████████████████████▎                                          | 24/50 [00:00<00:00, 32.47it/s]"
     ]
    },
    {
     "name": "stdout",
     "output_type": "stream",
     "text": [
      "\n",
      "38 [D loss: 0.679941, acc.: 72.55%] [G loss: 0.666529]\n",
      "38 [D loss: 0.680688, acc.: 72.07%] [G loss: 0.669621]\n",
      "38 [D loss: 0.680099, acc.: 72.13%] [G loss: 0.667280]\n",
      "38 [D loss: 0.686217, acc.: 72.38%] [G loss: 0.670216]\n",
      "38 [D loss: 0.689378, acc.: 72.17%] [G loss: 0.668999]\n",
      "38 [D loss: 0.681488, acc.: 72.03%] [G loss: 0.669850]\n"
     ]
    },
    {
     "name": "stderr",
     "output_type": "stream",
     "text": [
      " 64%|████████████████████████████████████████████████████▍                             | 32/50 [00:00<00:00, 32.19it/s]"
     ]
    },
    {
     "name": "stdout",
     "output_type": "stream",
     "text": [
      "38 [D loss: 0.678608, acc.: 71.91%] [G loss: 0.671884]\n",
      "38 [D loss: 0.681577, acc.: 72.18%] [G loss: 0.675224]\n",
      "38 [D loss: 0.685915, acc.: 71.98%] [G loss: 0.673647]\n",
      "38 [D loss: 0.672023, acc.: 71.70%] [G loss: 0.672539]\n",
      "38 [D loss: 0.666353, acc.: 71.88%] [G loss: 0.678081]\n",
      "38 [D loss: 0.681731, acc.: 71.60%] [G loss: 0.676334]\n",
      "38 [D loss: 0.683686, acc.: 71.67%] [G loss: 0.678960]"
     ]
    },
    {
     "name": "stderr",
     "output_type": "stream",
     "text": [
      " 72%|███████████████████████████████████████████████████████████                       | 36/50 [00:01<00:00, 32.26it/s]"
     ]
    },
    {
     "name": "stdout",
     "output_type": "stream",
     "text": [
      "\n",
      "38 [D loss: 0.682555, acc.: 71.21%] [G loss: 0.678503]\n",
      "38 [D loss: 0.678673, acc.: 71.65%] [G loss: 0.678557]\n",
      "38 [D loss: 0.672517, acc.: 71.60%] [G loss: 0.680636]\n",
      "38 [D loss: 0.687380, acc.: 71.55%] [G loss: 0.679983]\n",
      "38 [D loss: 0.676435, acc.: 71.61%] [G loss: 0.680477]\n",
      "38 [D loss: 0.674460, acc.: 71.18%] [G loss: 0.679681]\n"
     ]
    },
    {
     "name": "stderr",
     "output_type": "stream",
     "text": [
      " 88%|████████████████████████████████████████████████████████████████████████▏         | 44/50 [00:01<00:00, 32.52it/s]"
     ]
    },
    {
     "name": "stdout",
     "output_type": "stream",
     "text": [
      "38 [D loss: 0.672510, acc.: 71.36%] [G loss: 0.680116]\n",
      "38 [D loss: 0.680717, acc.: 71.21%] [G loss: 0.678171]\n",
      "38 [D loss: 0.668820, acc.: 71.25%] [G loss: 0.678461]\n",
      "38 [D loss: 0.671480, acc.: 71.30%] [G loss: 0.676836]\n",
      "38 [D loss: 0.678334, acc.: 71.48%] [G loss: 0.680998]\n",
      "38 [D loss: 0.686211, acc.: 71.45%] [G loss: 0.676795]\n",
      "38 [D loss: 0.661477, acc.: 71.54%] [G loss: 0.678992]"
     ]
    },
    {
     "name": "stderr",
     "output_type": "stream",
     "text": [
      "100%|██████████████████████████████████████████████████████████████████████████████████| 50/50 [00:01<00:00, 32.30it/s]\n",
      "  0%|                                                                                           | 0/50 [00:00<?, ?it/s]"
     ]
    },
    {
     "name": "stdout",
     "output_type": "stream",
     "text": [
      "\n",
      "38 [D loss: 0.673829, acc.: 71.73%] [G loss: 0.672662]\n",
      "38 [D loss: 0.667118, acc.: 71.68%] [G loss: 0.676727]\n",
      "38 [D loss: 0.669705, acc.: 71.41%] [G loss: 0.679618]\n",
      "38 [D loss: 0.668236, acc.: 71.83%] [G loss: 0.675849]\n",
      "Epoch 39\n",
      "39 [D loss: 0.662683, acc.: 71.70%] [G loss: 0.676663]\n",
      "39 [D loss: 0.667052, acc.: 71.75%] [G loss: 0.677681]"
     ]
    },
    {
     "name": "stderr",
     "output_type": "stream",
     "text": [
      "  8%|██████▋                                                                            | 4/50 [00:00<00:01, 32.17it/s]"
     ]
    },
    {
     "name": "stdout",
     "output_type": "stream",
     "text": [
      "\n",
      "39 [D loss: 0.669592, acc.: 71.43%] [G loss: 0.677565]\n",
      "39 [D loss: 0.660303, acc.: 72.01%] [G loss: 0.675911]\n",
      "39 [D loss: 0.665675, acc.: 71.94%] [G loss: 0.673061]\n",
      "39 [D loss: 0.659349, acc.: 71.87%] [G loss: 0.679020]\n",
      "39 [D loss: 0.656018, acc.: 71.67%] [G loss: 0.679806]\n",
      "39 [D loss: 0.660912, acc.: 71.49%] [G loss: 0.676432]"
     ]
    },
    {
     "name": "stderr",
     "output_type": "stream",
     "text": [
      " 24%|███████████████████▋                                                              | 12/50 [00:00<00:01, 32.39it/s]"
     ]
    },
    {
     "name": "stdout",
     "output_type": "stream",
     "text": [
      "\n",
      "39 [D loss: 0.656512, acc.: 71.69%] [G loss: 0.676642]\n",
      "39 [D loss: 0.655290, acc.: 71.64%] [G loss: 0.683222]\n",
      "39 [D loss: 0.658996, acc.: 71.17%] [G loss: 0.680985]\n",
      "39 [D loss: 0.650641, acc.: 71.03%] [G loss: 0.682329]\n",
      "39 [D loss: 0.655773, acc.: 71.32%] [G loss: 0.678903]\n",
      "39 [D loss: 0.658242, acc.: 71.42%] [G loss: 0.685162]"
     ]
    },
    {
     "name": "stderr",
     "output_type": "stream",
     "text": [
      " 32%|██████████████████████████▏                                                       | 16/50 [00:00<00:01, 32.01it/s]"
     ]
    },
    {
     "name": "stdout",
     "output_type": "stream",
     "text": [
      "\n",
      "39 [D loss: 0.662375, acc.: 71.45%] [G loss: 0.688941]\n",
      "39 [D loss: 0.657604, acc.: 71.41%] [G loss: 0.686740]\n",
      "39 [D loss: 0.653873, acc.: 70.96%] [G loss: 0.684465]\n",
      "39 [D loss: 0.644580, acc.: 70.64%] [G loss: 0.684673]\n",
      "39 [D loss: 0.652493, acc.: 69.68%] [G loss: 0.692218]\n",
      "39 [D loss: 0.656194, acc.: 71.43%] [G loss: 0.696812]"
     ]
    },
    {
     "name": "stderr",
     "output_type": "stream",
     "text": [
      " 48%|███████████████████████████████████████▎                                          | 24/50 [00:00<00:00, 31.04it/s]"
     ]
    },
    {
     "name": "stdout",
     "output_type": "stream",
     "text": [
      "\n",
      "39 [D loss: 0.655842, acc.: 69.88%] [G loss: 0.699198]\n",
      "39 [D loss: 0.648010, acc.: 69.99%] [G loss: 0.709414]\n",
      "39 [D loss: 0.646335, acc.: 69.36%] [G loss: 0.704700]\n",
      "39 [D loss: 0.651820, acc.: 69.75%] [G loss: 0.697450]\n",
      "39 [D loss: 0.655720, acc.: 70.70%] [G loss: 0.693857]\n",
      "39 [D loss: 0.650886, acc.: 71.17%] [G loss: 0.700573]"
     ]
    },
    {
     "name": "stderr",
     "output_type": "stream",
     "text": [
      " 56%|█████████████████████████████████████████████▉                                    | 28/50 [00:00<00:00, 31.08it/s]"
     ]
    },
    {
     "name": "stdout",
     "output_type": "stream",
     "text": [
      "\n",
      "39 [D loss: 0.654419, acc.: 70.81%] [G loss: 0.691089]\n",
      "39 [D loss: 0.657277, acc.: 70.09%] [G loss: 0.699880]\n",
      "39 [D loss: 0.642573, acc.: 70.74%] [G loss: 0.693857]\n",
      "39 [D loss: 0.643830, acc.: 71.24%] [G loss: 0.689952]\n",
      "39 [D loss: 0.662624, acc.: 71.91%] [G loss: 0.686511]\n"
     ]
    },
    {
     "name": "stderr",
     "output_type": "stream",
     "text": [
      " 72%|███████████████████████████████████████████████████████████                       | 36/50 [00:01<00:00, 31.15it/s]"
     ]
    },
    {
     "name": "stdout",
     "output_type": "stream",
     "text": [
      "39 [D loss: 0.655921, acc.: 71.88%] [G loss: 0.683276]\n",
      "39 [D loss: 0.659886, acc.: 72.28%] [G loss: 0.679884]\n",
      "39 [D loss: 0.655793, acc.: 72.87%] [G loss: 0.675937]\n",
      "39 [D loss: 0.656635, acc.: 72.76%] [G loss: 0.686670]\n",
      "39 [D loss: 0.663478, acc.: 71.54%] [G loss: 0.690156]\n",
      "39 [D loss: 0.661036, acc.: 72.09%] [G loss: 0.710755]\n"
     ]
    },
    {
     "name": "stderr",
     "output_type": "stream",
     "text": [
      " 80%|█████████████████████████████████████████████████████████████████▌                | 40/50 [00:01<00:00, 31.08it/s]"
     ]
    },
    {
     "name": "stdout",
     "output_type": "stream",
     "text": [
      "39 [D loss: 0.678798, acc.: 69.60%] [G loss: 0.712489]\n",
      "39 [D loss: 0.668843, acc.: 70.02%] [G loss: 0.722324]\n",
      "39 [D loss: 0.685565, acc.: 68.80%] [G loss: 0.753777]\n",
      "39 [D loss: 0.668389, acc.: 65.18%] [G loss: 0.782130]\n",
      "39 [D loss: 0.674135, acc.: 63.17%] [G loss: 0.803438]\n",
      "39 [D loss: 0.679428, acc.: 60.45%] [G loss: 0.853777]\n",
      "39 [D loss: 0.675642, acc.: 57.87%] [G loss: 0.902201]"
     ]
    },
    {
     "name": "stderr",
     "output_type": "stream",
     "text": [
      " 96%|██████████████████████████████████████████████████████████████████████████████▋   | 48/50 [00:01<00:00, 31.37it/s]"
     ]
    },
    {
     "name": "stdout",
     "output_type": "stream",
     "text": [
      "\n",
      "39 [D loss: 0.699311, acc.: 54.76%] [G loss: 0.937193]\n",
      "39 [D loss: 0.696391, acc.: 53.04%] [G loss: 0.993256]\n",
      "39 [D loss: 0.706765, acc.: 51.13%] [G loss: 0.992210]\n",
      "39 [D loss: 0.727587, acc.: 50.85%] [G loss: 1.016010]\n",
      "39 [D loss: 0.707575, acc.: 49.82%] [G loss: 1.023183]\n",
      "39 [D loss: 0.711461, acc.: 53.48%] [G loss: 0.969860]"
     ]
    },
    {
     "name": "stderr",
     "output_type": "stream",
     "text": [
      "100%|██████████████████████████████████████████████████████████████████████████████████| 50/50 [00:01<00:00, 31.32it/s]\n",
      "  8%|██████▋                                                                            | 4/50 [00:00<00:01, 31.91it/s]"
     ]
    },
    {
     "name": "stdout",
     "output_type": "stream",
     "text": [
      "\n",
      "Epoch 40\n",
      "40 [D loss: 0.733680, acc.: 54.63%] [G loss: 0.956667]\n",
      "40 [D loss: 0.757198, acc.: 58.85%] [G loss: 0.868975]\n",
      "40 [D loss: 0.749040, acc.: 63.03%] [G loss: 0.855936]\n",
      "40 [D loss: 0.717416, acc.: 65.51%] [G loss: 0.788152]\n",
      "40 [D loss: 0.742376, acc.: 67.83%] [G loss: 0.770705]\n"
     ]
    },
    {
     "name": "stderr",
     "output_type": "stream",
     "text": [
      " 16%|█████████████▎                                                                     | 8/50 [00:00<00:01, 31.61it/s]"
     ]
    },
    {
     "name": "stdout",
     "output_type": "stream",
     "text": [
      "40 [D loss: 0.743527, acc.: 67.71%] [G loss: 0.759635]\n",
      "40 [D loss: 0.771016, acc.: 69.26%] [G loss: 0.741791]\n",
      "40 [D loss: 0.773660, acc.: 68.91%] [G loss: 0.754088]\n",
      "40 [D loss: 0.775706, acc.: 67.55%] [G loss: 0.784163]\n",
      "40 [D loss: 0.779522, acc.: 65.41%] [G loss: 0.805083]\n",
      "40 [D loss: 0.784198, acc.: 62.47%] [G loss: 0.829949]\n",
      "40 [D loss: 0.776942, acc.: 59.20%] [G loss: 0.865110]"
     ]
    },
    {
     "name": "stderr",
     "output_type": "stream",
     "text": [
      " 32%|██████████████████████████▏                                                       | 16/50 [00:00<00:01, 31.59it/s]"
     ]
    },
    {
     "name": "stdout",
     "output_type": "stream",
     "text": [
      "\n",
      "40 [D loss: 0.753496, acc.: 59.10%] [G loss: 0.913036]\n",
      "40 [D loss: 0.773712, acc.: 57.90%] [G loss: 0.926835]\n",
      "40 [D loss: 0.766355, acc.: 57.12%] [G loss: 0.893318]\n",
      "40 [D loss: 0.768781, acc.: 57.34%] [G loss: 0.873221]\n",
      "40 [D loss: 0.751361, acc.: 62.02%] [G loss: 0.824555]\n",
      "40 [D loss: 0.772598, acc.: 63.21%] [G loss: 0.795626]"
     ]
    },
    {
     "name": "stderr",
     "output_type": "stream",
     "text": [
      " 40%|████████████████████████████████▊                                                 | 20/50 [00:00<00:00, 31.39it/s]"
     ]
    },
    {
     "name": "stdout",
     "output_type": "stream",
     "text": [
      "\n",
      "40 [D loss: 0.744131, acc.: 65.22%] [G loss: 0.745141]\n",
      "40 [D loss: 0.745711, acc.: 67.24%] [G loss: 0.736969]\n",
      "40 [D loss: 0.757696, acc.: 69.05%] [G loss: 0.729633]\n",
      "40 [D loss: 0.736428, acc.: 68.81%] [G loss: 0.720488]\n",
      "40 [D loss: 0.732440, acc.: 67.50%] [G loss: 0.733271]\n"
     ]
    },
    {
     "name": "stderr",
     "output_type": "stream",
     "text": [
      " 56%|█████████████████████████████████████████████▉                                    | 28/50 [00:00<00:00, 31.20it/s]"
     ]
    },
    {
     "name": "stdout",
     "output_type": "stream",
     "text": [
      "40 [D loss: 0.756952, acc.: 67.36%] [G loss: 0.738674]\n",
      "40 [D loss: 0.740587, acc.: 65.77%] [G loss: 0.753689]\n",
      "40 [D loss: 0.767713, acc.: 65.77%] [G loss: 0.780652]\n",
      "40 [D loss: 0.764882, acc.: 66.08%] [G loss: 0.777361]\n",
      "40 [D loss: 0.746268, acc.: 65.68%] [G loss: 0.751759]\n",
      "40 [D loss: 0.725296, acc.: 65.07%] [G loss: 0.746788]\n",
      "40 [D loss: 0.727410, acc.: 66.97%] [G loss: 0.727069]"
     ]
    },
    {
     "name": "stderr",
     "output_type": "stream",
     "text": [
      " 64%|████████████████████████████████████████████████████▍                             | 32/50 [00:01<00:00, 31.04it/s]"
     ]
    },
    {
     "name": "stdout",
     "output_type": "stream",
     "text": [
      "\n",
      "40 [D loss: 0.725183, acc.: 68.56%] [G loss: 0.716298]\n",
      "40 [D loss: 0.719391, acc.: 70.87%] [G loss: 0.705624]\n",
      "40 [D loss: 0.759953, acc.: 71.70%] [G loss: 0.689905]\n",
      "40 [D loss: 0.728876, acc.: 71.88%] [G loss: 0.675650]\n",
      "40 [D loss: 0.728528, acc.: 72.34%] [G loss: 0.670830]\n",
      "40 [D loss: 0.733919, acc.: 73.24%] [G loss: 0.664530]"
     ]
    },
    {
     "name": "stderr",
     "output_type": "stream",
     "text": [
      " 80%|█████████████████████████████████████████████████████████████████▌                | 40/50 [00:01<00:00, 31.53it/s]"
     ]
    },
    {
     "name": "stdout",
     "output_type": "stream",
     "text": [
      "\n",
      "40 [D loss: 0.732464, acc.: 72.89%] [G loss: 0.665606]\n",
      "40 [D loss: 0.737115, acc.: 72.42%] [G loss: 0.668215]\n",
      "40 [D loss: 0.719591, acc.: 72.56%] [G loss: 0.667766]\n",
      "40 [D loss: 0.727406, acc.: 72.38%] [G loss: 0.667487]\n",
      "40 [D loss: 0.717004, acc.: 72.27%] [G loss: 0.680532]\n",
      "40 [D loss: 0.704452, acc.: 71.42%] [G loss: 0.677622]"
     ]
    },
    {
     "name": "stderr",
     "output_type": "stream",
     "text": [
      " 88%|████████████████████████████████████████████████████████████████████████▏         | 44/50 [00:01<00:00, 31.57it/s]"
     ]
    },
    {
     "name": "stdout",
     "output_type": "stream",
     "text": [
      "\n",
      "40 [D loss: 0.715780, acc.: 71.03%] [G loss: 0.682627]\n",
      "40 [D loss: 0.718052, acc.: 70.96%] [G loss: 0.687728]\n",
      "40 [D loss: 0.733775, acc.: 70.27%] [G loss: 0.686403]\n",
      "40 [D loss: 0.715595, acc.: 70.39%] [G loss: 0.683451]\n",
      "40 [D loss: 0.703536, acc.: 70.13%] [G loss: 0.691367]\n",
      "40 [D loss: 0.701651, acc.: 70.27%] [G loss: 0.685460]"
     ]
    },
    {
     "name": "stderr",
     "output_type": "stream",
     "text": [
      "100%|██████████████████████████████████████████████████████████████████████████████████| 50/50 [00:01<00:00, 31.44it/s]\n",
      "  0%|                                                                                           | 0/50 [00:00<?, ?it/s]"
     ]
    },
    {
     "name": "stdout",
     "output_type": "stream",
     "text": [
      "\n",
      "40 [D loss: 0.695563, acc.: 70.55%] [G loss: 0.689472]\n",
      "40 [D loss: 0.694535, acc.: 70.48%] [G loss: 0.687429]\n",
      "Epoch 41\n",
      "41 [D loss: 0.696760, acc.: 70.52%] [G loss: 0.688920]\n",
      "41 [D loss: 0.713344, acc.: 70.88%] [G loss: 0.683234]\n",
      "41 [D loss: 0.697080, acc.: 71.25%] [G loss: 0.679856]\n"
     ]
    },
    {
     "name": "stderr",
     "output_type": "stream",
     "text": [
      " 16%|█████████████▎                                                                     | 8/50 [00:00<00:01, 33.35it/s]"
     ]
    },
    {
     "name": "stdout",
     "output_type": "stream",
     "text": [
      "41 [D loss: 0.687764, acc.: 71.50%] [G loss: 0.675962]\n",
      "41 [D loss: 0.692276, acc.: 71.75%] [G loss: 0.677121]\n",
      "41 [D loss: 0.692578, acc.: 72.10%] [G loss: 0.672701]\n",
      "41 [D loss: 0.696299, acc.: 72.65%] [G loss: 0.667994]\n",
      "41 [D loss: 0.703662, acc.: 72.82%] [G loss: 0.669326]\n",
      "41 [D loss: 0.681482, acc.: 73.02%] [G loss: 0.663839]\n",
      "41 [D loss: 0.687309, acc.: 72.83%] [G loss: 0.661426]"
     ]
    },
    {
     "name": "stderr",
     "output_type": "stream",
     "text": [
      " 24%|███████████████████▋                                                              | 12/50 [00:00<00:01, 33.07it/s]"
     ]
    },
    {
     "name": "stdout",
     "output_type": "stream",
     "text": [
      "\n",
      "41 [D loss: 0.693646, acc.: 72.95%] [G loss: 0.660878]\n",
      "41 [D loss: 0.691620, acc.: 73.36%] [G loss: 0.663698]\n",
      "41 [D loss: 0.698308, acc.: 73.21%] [G loss: 0.661894]\n",
      "41 [D loss: 0.693566, acc.: 73.23%] [G loss: 0.663117]\n",
      "41 [D loss: 0.702902, acc.: 73.58%] [G loss: 0.660925]\n",
      "41 [D loss: 0.695920, acc.: 73.22%] [G loss: 0.657203]"
     ]
    },
    {
     "name": "stderr",
     "output_type": "stream",
     "text": [
      " 40%|████████████████████████████████▊                                                 | 20/50 [00:00<00:00, 33.16it/s]"
     ]
    },
    {
     "name": "stdout",
     "output_type": "stream",
     "text": [
      "\n",
      "41 [D loss: 0.696034, acc.: 73.72%] [G loss: 0.657447]\n",
      "41 [D loss: 0.692951, acc.: 73.58%] [G loss: 0.656271]\n",
      "41 [D loss: 0.692807, acc.: 73.52%] [G loss: 0.657626]\n",
      "41 [D loss: 0.678740, acc.: 73.74%] [G loss: 0.654593]\n",
      "41 [D loss: 0.686888, acc.: 73.83%] [G loss: 0.654795]\n",
      "41 [D loss: 0.681827, acc.: 73.81%] [G loss: 0.652944]\n"
     ]
    },
    {
     "name": "stderr",
     "output_type": "stream",
     "text": [
      " 56%|█████████████████████████████████████████████▉                                    | 28/50 [00:00<00:00, 33.20it/s]"
     ]
    },
    {
     "name": "stdout",
     "output_type": "stream",
     "text": [
      "41 [D loss: 0.687074, acc.: 73.95%] [G loss: 0.653459]\n",
      "41 [D loss: 0.679539, acc.: 74.22%] [G loss: 0.651627]\n",
      "41 [D loss: 0.676436, acc.: 74.18%] [G loss: 0.653325]\n",
      "41 [D loss: 0.675293, acc.: 73.92%] [G loss: 0.651311]\n",
      "41 [D loss: 0.663782, acc.: 73.98%] [G loss: 0.651558]\n",
      "41 [D loss: 0.672450, acc.: 74.12%] [G loss: 0.649736]\n",
      "41 [D loss: 0.679794, acc.: 74.20%] [G loss: 0.652175]"
     ]
    },
    {
     "name": "stderr",
     "output_type": "stream",
     "text": [
      " 64%|████████████████████████████████████████████████████▍                             | 32/50 [00:00<00:00, 33.21it/s]"
     ]
    },
    {
     "name": "stdout",
     "output_type": "stream",
     "text": [
      "\n",
      "41 [D loss: 0.670494, acc.: 74.29%] [G loss: 0.648268]\n",
      "41 [D loss: 0.673589, acc.: 74.39%] [G loss: 0.648395]\n",
      "41 [D loss: 0.667834, acc.: 74.56%] [G loss: 0.647960]\n",
      "41 [D loss: 0.673677, acc.: 74.17%] [G loss: 0.647442]\n",
      "41 [D loss: 0.663116, acc.: 74.46%] [G loss: 0.646922]\n",
      "41 [D loss: 0.665943, acc.: 74.32%] [G loss: 0.650520]\n"
     ]
    },
    {
     "name": "stderr",
     "output_type": "stream",
     "text": [
      " 80%|█████████████████████████████████████████████████████████████████▌                | 40/50 [00:01<00:00, 33.40it/s]"
     ]
    },
    {
     "name": "stdout",
     "output_type": "stream",
     "text": [
      "41 [D loss: 0.660537, acc.: 74.32%] [G loss: 0.647987]\n",
      "41 [D loss: 0.664984, acc.: 74.47%] [G loss: 0.650046]\n",
      "41 [D loss: 0.664074, acc.: 74.28%] [G loss: 0.649243]\n",
      "41 [D loss: 0.657100, acc.: 74.30%] [G loss: 0.651459]\n",
      "41 [D loss: 0.662270, acc.: 74.01%] [G loss: 0.653514]\n",
      "41 [D loss: 0.655484, acc.: 74.05%] [G loss: 0.652616]\n",
      "41 [D loss: 0.657775, acc.: 73.67%] [G loss: 0.656311]"
     ]
    },
    {
     "name": "stderr",
     "output_type": "stream",
     "text": [
      " 96%|██████████████████████████████████████████████████████████████████████████████▋   | 48/50 [00:01<00:00, 33.35it/s]"
     ]
    },
    {
     "name": "stdout",
     "output_type": "stream",
     "text": [
      "\n",
      "41 [D loss: 0.664424, acc.: 73.55%] [G loss: 0.658055]\n",
      "41 [D loss: 0.656980, acc.: 73.36%] [G loss: 0.659313]\n",
      "41 [D loss: 0.656198, acc.: 73.11%] [G loss: 0.663110]\n",
      "41 [D loss: 0.655768, acc.: 72.84%] [G loss: 0.665291]\n",
      "41 [D loss: 0.659637, acc.: 72.76%] [G loss: 0.665079]\n",
      "41 [D loss: 0.653216, acc.: 72.12%] [G loss: 0.671298]\n"
     ]
    },
    {
     "name": "stderr",
     "output_type": "stream",
     "text": [
      "100%|██████████████████████████████████████████████████████████████████████████████████| 50/50 [00:01<00:00, 33.20it/s]\n",
      "  8%|██████▋                                                                            | 4/50 [00:00<00:01, 33.81it/s]"
     ]
    },
    {
     "name": "stdout",
     "output_type": "stream",
     "text": [
      "41 [D loss: 0.656579, acc.: 72.10%] [G loss: 0.672480]\n",
      "41 [D loss: 0.652052, acc.: 71.46%] [G loss: 0.673521]\n",
      "Epoch 42\n",
      "42 [D loss: 0.655622, acc.: 71.64%] [G loss: 0.678761]\n",
      "42 [D loss: 0.652961, acc.: 70.97%] [G loss: 0.684441]\n",
      "42 [D loss: 0.655235, acc.: 70.85%] [G loss: 0.688759]\n",
      "42 [D loss: 0.655522, acc.: 70.16%] [G loss: 0.690143]\n",
      "42 [D loss: 0.652857, acc.: 70.22%] [G loss: 0.693854]"
     ]
    },
    {
     "name": "stderr",
     "output_type": "stream",
     "text": [
      " 16%|█████████████▎                                                                     | 8/50 [00:00<00:01, 33.55it/s]"
     ]
    },
    {
     "name": "stdout",
     "output_type": "stream",
     "text": [
      "\n",
      "42 [D loss: 0.655300, acc.: 69.88%] [G loss: 0.690161]\n",
      "42 [D loss: 0.651170, acc.: 69.71%] [G loss: 0.698270]\n",
      "42 [D loss: 0.654417, acc.: 69.50%] [G loss: 0.691646]\n",
      "42 [D loss: 0.651282, acc.: 69.37%] [G loss: 0.696229]\n",
      "42 [D loss: 0.657575, acc.: 69.54%] [G loss: 0.696859]\n",
      "42 [D loss: 0.662246, acc.: 69.93%] [G loss: 0.699435]\n"
     ]
    },
    {
     "name": "stderr",
     "output_type": "stream",
     "text": [
      " 32%|██████████████████████████▏                                                       | 16/50 [00:00<00:01, 33.51it/s]"
     ]
    },
    {
     "name": "stdout",
     "output_type": "stream",
     "text": [
      "42 [D loss: 0.656505, acc.: 70.11%] [G loss: 0.692096]\n",
      "42 [D loss: 0.652948, acc.: 70.36%] [G loss: 0.692755]\n",
      "42 [D loss: 0.650174, acc.: 70.69%] [G loss: 0.691514]\n",
      "42 [D loss: 0.648962, acc.: 70.99%] [G loss: 0.687324]\n",
      "42 [D loss: 0.651550, acc.: 70.98%] [G loss: 0.682288]\n",
      "42 [D loss: 0.643002, acc.: 71.44%] [G loss: 0.676109]\n",
      "42 [D loss: 0.652933, acc.: 72.23%] [G loss: 0.671170]"
     ]
    },
    {
     "name": "stderr",
     "output_type": "stream",
     "text": [
      " 40%|████████████████████████████████▊                                                 | 20/50 [00:00<00:00, 33.26it/s]"
     ]
    },
    {
     "name": "stdout",
     "output_type": "stream",
     "text": [
      "\n",
      "42 [D loss: 0.653692, acc.: 72.88%] [G loss: 0.664794]\n",
      "42 [D loss: 0.650922, acc.: 73.22%] [G loss: 0.663435]\n",
      "42 [D loss: 0.650068, acc.: 73.44%] [G loss: 0.656441]\n",
      "42 [D loss: 0.651283, acc.: 73.75%] [G loss: 0.653584]\n",
      "42 [D loss: 0.658058, acc.: 74.25%] [G loss: 0.651973]\n",
      "42 [D loss: 0.656190, acc.: 75.21%] [G loss: 0.646308]"
     ]
    },
    {
     "name": "stderr",
     "output_type": "stream",
     "text": [
      " 56%|█████████████████████████████████████████████▉                                    | 28/50 [00:00<00:00, 33.05it/s]"
     ]
    },
    {
     "name": "stdout",
     "output_type": "stream",
     "text": [
      "\n",
      "42 [D loss: 0.656403, acc.: 75.30%] [G loss: 0.644208]\n",
      "42 [D loss: 0.660187, acc.: 75.35%] [G loss: 0.637958]\n",
      "42 [D loss: 0.652129, acc.: 75.95%] [G loss: 0.643094]\n",
      "42 [D loss: 0.658415, acc.: 76.10%] [G loss: 0.637221]\n",
      "42 [D loss: 0.661208, acc.: 75.75%] [G loss: 0.642638]\n",
      "42 [D loss: 0.656235, acc.: 75.87%] [G loss: 0.640852]\n"
     ]
    },
    {
     "name": "stderr",
     "output_type": "stream",
     "text": [
      " 72%|███████████████████████████████████████████████████████████                       | 36/50 [00:01<00:00, 33.09it/s]"
     ]
    },
    {
     "name": "stdout",
     "output_type": "stream",
     "text": [
      "42 [D loss: 0.660507, acc.: 75.97%] [G loss: 0.641498]\n",
      "42 [D loss: 0.658946, acc.: 75.78%] [G loss: 0.645626]\n",
      "42 [D loss: 0.668153, acc.: 75.41%] [G loss: 0.646207]\n",
      "42 [D loss: 0.663083, acc.: 74.46%] [G loss: 0.653274]\n",
      "42 [D loss: 0.670685, acc.: 74.47%] [G loss: 0.657414]\n",
      "42 [D loss: 0.663517, acc.: 73.50%] [G loss: 0.665801]\n",
      "42 [D loss: 0.670367, acc.: 72.81%] [G loss: 0.670727]"
     ]
    },
    {
     "name": "stderr",
     "output_type": "stream",
     "text": [
      " 80%|█████████████████████████████████████████████████████████████████▌                | 40/50 [00:01<00:00, 33.22it/s]"
     ]
    },
    {
     "name": "stdout",
     "output_type": "stream",
     "text": [
      "\n",
      "42 [D loss: 0.668614, acc.: 72.20%] [G loss: 0.675416]\n",
      "42 [D loss: 0.676801, acc.: 71.11%] [G loss: 0.684931]\n",
      "42 [D loss: 0.673682, acc.: 70.27%] [G loss: 0.696751]\n",
      "42 [D loss: 0.676649, acc.: 69.72%] [G loss: 0.706227]\n",
      "42 [D loss: 0.679321, acc.: 68.72%] [G loss: 0.715917]\n",
      "42 [D loss: 0.673584, acc.: 68.03%] [G loss: 0.721029]\n"
     ]
    },
    {
     "name": "stderr",
     "output_type": "stream",
     "text": [
      " 96%|██████████████████████████████████████████████████████████████████████████████▋   | 48/50 [00:01<00:00, 33.46it/s]"
     ]
    },
    {
     "name": "stdout",
     "output_type": "stream",
     "text": [
      "42 [D loss: 0.673949, acc.: 67.06%] [G loss: 0.731105]\n",
      "42 [D loss: 0.675087, acc.: 66.24%] [G loss: 0.740903]\n",
      "42 [D loss: 0.673846, acc.: 65.25%] [G loss: 0.754487]\n",
      "42 [D loss: 0.677701, acc.: 64.50%] [G loss: 0.758525]\n",
      "42 [D loss: 0.680445, acc.: 63.84%] [G loss: 0.765439]\n",
      "42 [D loss: 0.691121, acc.: 63.30%] [G loss: 0.772330]\n",
      "42 [D loss: 0.680433, acc.: 62.86%] [G loss: 0.777791]"
     ]
    },
    {
     "name": "stderr",
     "output_type": "stream",
     "text": [
      "100%|██████████████████████████████████████████████████████████████████████████████████| 50/50 [00:01<00:00, 33.24it/s]\n",
      "  8%|██████▋                                                                            | 4/50 [00:00<00:01, 33.24it/s]"
     ]
    },
    {
     "name": "stdout",
     "output_type": "stream",
     "text": [
      "\n",
      "Epoch 43\n",
      "43 [D loss: 0.691392, acc.: 62.44%] [G loss: 0.785363]\n",
      "43 [D loss: 0.682840, acc.: 62.08%] [G loss: 0.785594]\n",
      "43 [D loss: 0.686906, acc.: 62.72%] [G loss: 0.786422]\n",
      "43 [D loss: 0.681195, acc.: 62.70%] [G loss: 0.776142]\n",
      "43 [D loss: 0.696947, acc.: 62.84%] [G loss: 0.780989]\n",
      "43 [D loss: 0.680299, acc.: 64.09%] [G loss: 0.773250]\n"
     ]
    },
    {
     "name": "stderr",
     "output_type": "stream",
     "text": [
      " 24%|███████████████████▋                                                              | 12/50 [00:00<00:01, 33.28it/s]"
     ]
    },
    {
     "name": "stdout",
     "output_type": "stream",
     "text": [
      "43 [D loss: 0.688122, acc.: 64.36%] [G loss: 0.765663]\n",
      "43 [D loss: 0.691896, acc.: 64.09%] [G loss: 0.766428]\n",
      "43 [D loss: 0.684566, acc.: 64.95%] [G loss: 0.752337]\n",
      "43 [D loss: 0.691275, acc.: 67.22%] [G loss: 0.746334]\n",
      "43 [D loss: 0.698708, acc.: 67.05%] [G loss: 0.732676]\n",
      "43 [D loss: 0.704584, acc.: 68.83%] [G loss: 0.727377]\n",
      "43 [D loss: 0.707614, acc.: 68.64%] [G loss: 0.714060]"
     ]
    },
    {
     "name": "stderr",
     "output_type": "stream",
     "text": [
      " 32%|██████████████████████████▏                                                       | 16/50 [00:00<00:01, 33.02it/s]"
     ]
    },
    {
     "name": "stdout",
     "output_type": "stream",
     "text": [
      "\n",
      "43 [D loss: 0.691261, acc.: 70.37%] [G loss: 0.705299]\n",
      "43 [D loss: 0.715030, acc.: 70.88%] [G loss: 0.693717]\n",
      "43 [D loss: 0.693255, acc.: 71.37%] [G loss: 0.698537]\n",
      "43 [D loss: 0.702778, acc.: 71.79%] [G loss: 0.690518]\n",
      "43 [D loss: 0.699884, acc.: 70.50%] [G loss: 0.703978]\n",
      "43 [D loss: 0.710394, acc.: 69.70%] [G loss: 0.706707]"
     ]
    },
    {
     "name": "stderr",
     "output_type": "stream",
     "text": [
      " 48%|███████████████████████████████████████▎                                          | 24/50 [00:00<00:00, 33.13it/s]"
     ]
    },
    {
     "name": "stdout",
     "output_type": "stream",
     "text": [
      "\n",
      "43 [D loss: 0.714704, acc.: 69.34%] [G loss: 0.713335]\n",
      "43 [D loss: 0.710044, acc.: 67.62%] [G loss: 0.732805]\n",
      "43 [D loss: 0.720808, acc.: 67.29%] [G loss: 0.755538]\n",
      "43 [D loss: 0.723912, acc.: 64.72%] [G loss: 0.765704]\n",
      "43 [D loss: 0.719723, acc.: 63.19%] [G loss: 0.797421]\n",
      "43 [D loss: 0.723212, acc.: 61.43%] [G loss: 0.832188]\n"
     ]
    },
    {
     "name": "stderr",
     "output_type": "stream",
     "text": [
      " 56%|█████████████████████████████████████████████▉                                    | 28/50 [00:00<00:00, 33.08it/s]"
     ]
    },
    {
     "name": "stdout",
     "output_type": "stream",
     "text": [
      "43 [D loss: 0.721392, acc.: 59.21%] [G loss: 0.840427]\n",
      "43 [D loss: 0.738231, acc.: 56.82%] [G loss: 0.885555]\n",
      "43 [D loss: 0.731989, acc.: 55.42%] [G loss: 0.905298]\n",
      "43 [D loss: 0.728948, acc.: 54.67%] [G loss: 0.911544]\n",
      "43 [D loss: 0.725691, acc.: 54.35%] [G loss: 0.922037]\n",
      "43 [D loss: 0.735657, acc.: 53.13%] [G loss: 0.933708]\n",
      "43 [D loss: 0.741681, acc.: 53.05%] [G loss: 0.937325]"
     ]
    },
    {
     "name": "stderr",
     "output_type": "stream",
     "text": [
      " 72%|███████████████████████████████████████████████████████████                       | 36/50 [00:01<00:00, 33.27it/s]"
     ]
    },
    {
     "name": "stdout",
     "output_type": "stream",
     "text": [
      "\n",
      "43 [D loss: 0.753907, acc.: 53.73%] [G loss: 0.932125]\n",
      "43 [D loss: 0.709359, acc.: 54.25%] [G loss: 0.918893]\n",
      "43 [D loss: 0.719585, acc.: 55.91%] [G loss: 0.910052]\n",
      "43 [D loss: 0.736248, acc.: 56.80%] [G loss: 0.879994]\n",
      "43 [D loss: 0.722527, acc.: 58.60%] [G loss: 0.854627]\n",
      "43 [D loss: 0.728021, acc.: 61.58%] [G loss: 0.836029]\n"
     ]
    },
    {
     "name": "stderr",
     "output_type": "stream",
     "text": [
      " 88%|████████████████████████████████████████████████████████████████████████▏         | 44/50 [00:01<00:00, 33.42it/s]"
     ]
    },
    {
     "name": "stdout",
     "output_type": "stream",
     "text": [
      "43 [D loss: 0.734132, acc.: 62.17%] [G loss: 0.828402]\n",
      "43 [D loss: 0.739871, acc.: 63.38%] [G loss: 0.806807]\n",
      "43 [D loss: 0.734837, acc.: 63.18%] [G loss: 0.812494]\n",
      "43 [D loss: 0.729532, acc.: 63.98%] [G loss: 0.802945]\n",
      "43 [D loss: 0.725267, acc.: 63.92%] [G loss: 0.805507]\n",
      "43 [D loss: 0.753619, acc.: 62.64%] [G loss: 0.811439]\n",
      "43 [D loss: 0.720641, acc.: 61.87%] [G loss: 0.851354]"
     ]
    },
    {
     "name": "stderr",
     "output_type": "stream",
     "text": [
      "100%|██████████████████████████████████████████████████████████████████████████████████| 50/50 [00:01<00:00, 33.22it/s]\n",
      "  0%|                                                                                           | 0/50 [00:00<?, ?it/s]"
     ]
    },
    {
     "name": "stdout",
     "output_type": "stream",
     "text": [
      "\n",
      "43 [D loss: 0.746162, acc.: 59.80%] [G loss: 0.891444]\n",
      "43 [D loss: 0.746423, acc.: 57.69%] [G loss: 0.923354]\n",
      "43 [D loss: 0.737904, acc.: 55.92%] [G loss: 0.922256]\n",
      "43 [D loss: 0.721269, acc.: 55.64%] [G loss: 0.950734]\n",
      "43 [D loss: 0.737267, acc.: 57.66%] [G loss: 0.927956]\n",
      "Epoch 44\n",
      "44 [D loss: 0.738385, acc.: 58.91%] [G loss: 0.901116]\n"
     ]
    },
    {
     "name": "stderr",
     "output_type": "stream",
     "text": [
      "  8%|██████▋                                                                            | 4/50 [00:00<00:01, 32.97it/s]"
     ]
    },
    {
     "name": "stdout",
     "output_type": "stream",
     "text": [
      "44 [D loss: 0.763303, acc.: 61.30%] [G loss: 0.837891]\n",
      "44 [D loss: 0.741035, acc.: 62.14%] [G loss: 0.823175]\n",
      "44 [D loss: 0.748360, acc.: 62.88%] [G loss: 0.786483]\n",
      "44 [D loss: 0.736419, acc.: 64.10%] [G loss: 0.805743]\n",
      "44 [D loss: 0.728252, acc.: 61.78%] [G loss: 0.814993]\n",
      "44 [D loss: 0.727783, acc.: 58.95%] [G loss: 0.856778]\n",
      "44 [D loss: 0.737457, acc.: 55.68%] [G loss: 0.911698]"
     ]
    },
    {
     "name": "stderr",
     "output_type": "stream",
     "text": [
      " 24%|███████████████████▋                                                              | 12/50 [00:00<00:01, 33.17it/s]"
     ]
    },
    {
     "name": "stdout",
     "output_type": "stream",
     "text": [
      "\n",
      "44 [D loss: 0.720529, acc.: 55.26%] [G loss: 0.919798]\n",
      "44 [D loss: 0.744714, acc.: 52.82%] [G loss: 0.930693]\n",
      "44 [D loss: 0.746284, acc.: 55.87%] [G loss: 0.900103]\n",
      "44 [D loss: 0.744601, acc.: 58.02%] [G loss: 0.797250]\n",
      "44 [D loss: 0.741782, acc.: 62.19%] [G loss: 0.771125]\n",
      "44 [D loss: 0.740671, acc.: 67.03%] [G loss: 0.733569]\n"
     ]
    },
    {
     "name": "stderr",
     "output_type": "stream",
     "text": [
      " 40%|████████████████████████████████▊                                                 | 20/50 [00:00<00:00, 33.18it/s]"
     ]
    },
    {
     "name": "stdout",
     "output_type": "stream",
     "text": [
      "44 [D loss: 0.725646, acc.: 71.75%] [G loss: 0.688083]\n",
      "44 [D loss: 0.729716, acc.: 71.62%] [G loss: 0.693473]\n",
      "44 [D loss: 0.732366, acc.: 71.67%] [G loss: 0.679688]\n",
      "44 [D loss: 0.755167, acc.: 70.44%] [G loss: 0.696495]\n",
      "44 [D loss: 0.725531, acc.: 69.61%] [G loss: 0.709673]\n",
      "44 [D loss: 0.748028, acc.: 67.82%] [G loss: 0.724824]\n",
      "44 [D loss: 0.736122, acc.: 66.93%] [G loss: 0.738320]"
     ]
    },
    {
     "name": "stderr",
     "output_type": "stream",
     "text": [
      " 48%|███████████████████████████████████████▎                                          | 24/50 [00:00<00:00, 33.20it/s]"
     ]
    },
    {
     "name": "stdout",
     "output_type": "stream",
     "text": [
      "\n",
      "44 [D loss: 0.723674, acc.: 66.90%] [G loss: 0.736614]\n",
      "44 [D loss: 0.729793, acc.: 66.40%] [G loss: 0.749838]\n",
      "44 [D loss: 0.742541, acc.: 66.06%] [G loss: 0.741480]\n",
      "44 [D loss: 0.714150, acc.: 67.05%] [G loss: 0.735181]\n",
      "44 [D loss: 0.730828, acc.: 68.95%] [G loss: 0.713690]\n",
      "44 [D loss: 0.736476, acc.: 69.25%] [G loss: 0.706412]"
     ]
    },
    {
     "name": "stderr",
     "output_type": "stream",
     "text": [
      " 64%|████████████████████████████████████████████████████▍                             | 32/50 [00:00<00:00, 33.02it/s]"
     ]
    },
    {
     "name": "stdout",
     "output_type": "stream",
     "text": [
      "\n",
      "44 [D loss: 0.731787, acc.: 69.86%] [G loss: 0.689305]\n",
      "44 [D loss: 0.726980, acc.: 71.01%] [G loss: 0.683408]\n",
      "44 [D loss: 0.725159, acc.: 71.05%] [G loss: 0.683284]\n",
      "44 [D loss: 0.718704, acc.: 71.28%] [G loss: 0.684683]\n",
      "44 [D loss: 0.724042, acc.: 70.99%] [G loss: 0.685145]\n",
      "44 [D loss: 0.713455, acc.: 71.44%] [G loss: 0.682895]\n"
     ]
    },
    {
     "name": "stderr",
     "output_type": "stream",
     "text": [
      " 72%|███████████████████████████████████████████████████████████                       | 36/50 [00:01<00:00, 33.09it/s]"
     ]
    },
    {
     "name": "stdout",
     "output_type": "stream",
     "text": [
      "44 [D loss: 0.704545, acc.: 70.74%] [G loss: 0.688509]\n",
      "44 [D loss: 0.715567, acc.: 70.98%] [G loss: 0.687654]\n",
      "44 [D loss: 0.714353, acc.: 70.16%] [G loss: 0.694243]\n",
      "44 [D loss: 0.701991, acc.: 70.59%] [G loss: 0.690477]\n",
      "44 [D loss: 0.687526, acc.: 70.01%] [G loss: 0.693247]\n",
      "44 [D loss: 0.697663, acc.: 70.10%] [G loss: 0.694261]\n",
      "44 [D loss: 0.705955, acc.: 69.45%] [G loss: 0.699954]"
     ]
    },
    {
     "name": "stderr",
     "output_type": "stream",
     "text": [
      " 88%|████████████████████████████████████████████████████████████████████████▏         | 44/50 [00:01<00:00, 33.06it/s]"
     ]
    },
    {
     "name": "stdout",
     "output_type": "stream",
     "text": [
      "\n",
      "44 [D loss: 0.707702, acc.: 69.76%] [G loss: 0.698010]\n",
      "44 [D loss: 0.699390, acc.: 69.91%] [G loss: 0.697099]\n",
      "44 [D loss: 0.696181, acc.: 69.73%] [G loss: 0.699806]\n",
      "44 [D loss: 0.703004, acc.: 70.03%] [G loss: 0.697906]\n",
      "44 [D loss: 0.710840, acc.: 69.46%] [G loss: 0.700620]\n",
      "44 [D loss: 0.695410, acc.: 69.96%] [G loss: 0.690036]\n"
     ]
    },
    {
     "name": "stderr",
     "output_type": "stream",
     "text": [
      "100%|██████████████████████████████████████████████████████████████████████████████████| 50/50 [00:01<00:00, 33.13it/s]\n",
      "  0%|                                                                                           | 0/50 [00:00<?, ?it/s]"
     ]
    },
    {
     "name": "stdout",
     "output_type": "stream",
     "text": [
      "44 [D loss: 0.683184, acc.: 70.19%] [G loss: 0.691380]\n",
      "44 [D loss: 0.693891, acc.: 70.62%] [G loss: 0.694407]\n",
      "44 [D loss: 0.695094, acc.: 70.62%] [G loss: 0.693241]\n",
      "44 [D loss: 0.697724, acc.: 70.15%] [G loss: 0.686598]\n",
      "Epoch 45\n",
      "45 [D loss: 0.685702, acc.: 70.78%] [G loss: 0.690921]\n",
      "45 [D loss: 0.685485, acc.: 70.56%] [G loss: 0.689728]\n",
      "45 [D loss: 0.699982, acc.: 71.12%] [G loss: 0.691428]"
     ]
    },
    {
     "name": "stderr",
     "output_type": "stream",
     "text": [
      " 16%|█████████████▎                                                                     | 8/50 [00:00<00:01, 33.38it/s]"
     ]
    },
    {
     "name": "stdout",
     "output_type": "stream",
     "text": [
      "\n",
      "45 [D loss: 0.683566, acc.: 70.79%] [G loss: 0.688367]\n",
      "45 [D loss: 0.683324, acc.: 70.66%] [G loss: 0.694392]\n",
      "45 [D loss: 0.676755, acc.: 70.32%] [G loss: 0.686614]\n",
      "45 [D loss: 0.697842, acc.: 70.71%] [G loss: 0.686928]\n",
      "45 [D loss: 0.685415, acc.: 70.68%] [G loss: 0.690570]\n",
      "45 [D loss: 0.680239, acc.: 70.73%] [G loss: 0.689772]\n"
     ]
    },
    {
     "name": "stderr",
     "output_type": "stream",
     "text": [
      " 24%|███████████████████▋                                                              | 12/50 [00:00<00:01, 33.68it/s]"
     ]
    },
    {
     "name": "stdout",
     "output_type": "stream",
     "text": [
      "45 [D loss: 0.685028, acc.: 70.67%] [G loss: 0.691032]\n",
      "45 [D loss: 0.677119, acc.: 70.63%] [G loss: 0.694936]\n",
      "45 [D loss: 0.687266, acc.: 70.91%] [G loss: 0.694153]\n",
      "45 [D loss: 0.680979, acc.: 70.76%] [G loss: 0.684999]\n",
      "45 [D loss: 0.681443, acc.: 71.54%] [G loss: 0.689261]\n",
      "45 [D loss: 0.685804, acc.: 71.65%] [G loss: 0.684542]\n",
      "45 [D loss: 0.684950, acc.: 71.78%] [G loss: 0.676366]"
     ]
    },
    {
     "name": "stderr",
     "output_type": "stream",
     "text": [
      " 40%|████████████████████████████████▊                                                 | 20/50 [00:00<00:00, 34.06it/s]"
     ]
    },
    {
     "name": "stdout",
     "output_type": "stream",
     "text": [
      "\n",
      "45 [D loss: 0.681521, acc.: 71.97%] [G loss: 0.678563]\n",
      "45 [D loss: 0.679498, acc.: 72.12%] [G loss: 0.673648]\n",
      "45 [D loss: 0.675318, acc.: 72.81%] [G loss: 0.672037]\n",
      "45 [D loss: 0.681241, acc.: 72.70%] [G loss: 0.668385]\n",
      "45 [D loss: 0.679249, acc.: 73.13%] [G loss: 0.667243]\n",
      "45 [D loss: 0.675562, acc.: 73.02%] [G loss: 0.668172]\n",
      "45 [D loss: 0.679394, acc.: 72.93%] [G loss: 0.666882]"
     ]
    },
    {
     "name": "stderr",
     "output_type": "stream",
     "text": [
      " 56%|█████████████████████████████████████████████▉                                    | 28/50 [00:00<00:00, 34.26it/s]"
     ]
    },
    {
     "name": "stdout",
     "output_type": "stream",
     "text": [
      "\n",
      "45 [D loss: 0.684319, acc.: 72.94%] [G loss: 0.667751]\n",
      "45 [D loss: 0.674194, acc.: 72.81%] [G loss: 0.667692]\n",
      "45 [D loss: 0.680776, acc.: 72.43%] [G loss: 0.671907]\n",
      "45 [D loss: 0.682528, acc.: 72.34%] [G loss: 0.673866]\n",
      "45 [D loss: 0.678259, acc.: 71.79%] [G loss: 0.677303]\n",
      "45 [D loss: 0.678167, acc.: 71.45%] [G loss: 0.684035]\n"
     ]
    },
    {
     "name": "stderr",
     "output_type": "stream",
     "text": [
      " 72%|███████████████████████████████████████████████████████████                       | 36/50 [00:01<00:00, 34.39it/s]"
     ]
    },
    {
     "name": "stdout",
     "output_type": "stream",
     "text": [
      "45 [D loss: 0.678390, acc.: 71.32%] [G loss: 0.682659]\n",
      "45 [D loss: 0.667425, acc.: 70.73%] [G loss: 0.687529]\n",
      "45 [D loss: 0.679911, acc.: 70.40%] [G loss: 0.694959]\n",
      "45 [D loss: 0.682230, acc.: 69.19%] [G loss: 0.703860]\n",
      "45 [D loss: 0.684632, acc.: 68.40%] [G loss: 0.711132]\n",
      "45 [D loss: 0.675640, acc.: 67.83%] [G loss: 0.725584]\n",
      "45 [D loss: 0.677068, acc.: 67.52%] [G loss: 0.737752]\n"
     ]
    },
    {
     "name": "stderr",
     "output_type": "stream",
     "text": [
      " 80%|█████████████████████████████████████████████████████████████████▌                | 40/50 [00:01<00:00, 34.12it/s]"
     ]
    },
    {
     "name": "stdout",
     "output_type": "stream",
     "text": [
      "45 [D loss: 0.674381, acc.: 66.35%] [G loss: 0.743941]\n",
      "45 [D loss: 0.679611, acc.: 65.50%] [G loss: 0.754652]\n",
      "45 [D loss: 0.673594, acc.: 64.73%] [G loss: 0.762696]\n",
      "45 [D loss: 0.672619, acc.: 63.69%] [G loss: 0.776383]\n",
      "45 [D loss: 0.668895, acc.: 62.83%] [G loss: 0.788045]\n",
      "45 [D loss: 0.680377, acc.: 62.12%] [G loss: 0.801373]\n",
      "45 [D loss: 0.663260, acc.: 61.40%] [G loss: 0.797597]\n"
     ]
    },
    {
     "name": "stderr",
     "output_type": "stream",
     "text": [
      " 96%|██████████████████████████████████████████████████████████████████████████████▋   | 48/50 [00:01<00:00, 33.64it/s]"
     ]
    },
    {
     "name": "stdout",
     "output_type": "stream",
     "text": [
      "45 [D loss: 0.674757, acc.: 60.31%] [G loss: 0.815598]\n",
      "45 [D loss: 0.684647, acc.: 59.95%] [G loss: 0.817596]\n",
      "45 [D loss: 0.679401, acc.: 60.35%] [G loss: 0.826174]\n",
      "45 [D loss: 0.677526, acc.: 60.27%] [G loss: 0.819384]\n",
      "45 [D loss: 0.664621, acc.: 60.58%] [G loss: 0.823767]\n",
      "45 [D loss: 0.682141, acc.: 60.81%] [G loss: 0.816028]\n",
      "45 [D loss: 0.678062, acc.: 61.58%] [G loss: 0.798102]"
     ]
    },
    {
     "name": "stderr",
     "output_type": "stream",
     "text": [
      "100%|██████████████████████████████████████████████████████████████████████████████████| 50/50 [00:01<00:00, 33.94it/s]\n",
      "  8%|██████▋                                                                            | 4/50 [00:00<00:01, 32.70it/s]"
     ]
    },
    {
     "name": "stdout",
     "output_type": "stream",
     "text": [
      "\n",
      "Epoch 46\n",
      "46 [D loss: 0.675797, acc.: 63.23%] [G loss: 0.795049]\n",
      "46 [D loss: 0.677657, acc.: 63.88%] [G loss: 0.779563]\n",
      "46 [D loss: 0.688457, acc.: 65.23%] [G loss: 0.762021]\n",
      "46 [D loss: 0.691197, acc.: 67.61%] [G loss: 0.757136]\n",
      "46 [D loss: 0.682870, acc.: 68.34%] [G loss: 0.738783]\n",
      "46 [D loss: 0.704680, acc.: 70.36%] [G loss: 0.727891]"
     ]
    },
    {
     "name": "stderr",
     "output_type": "stream",
     "text": [
      " 24%|███████████████████▋                                                              | 12/50 [00:00<00:01, 33.00it/s]"
     ]
    },
    {
     "name": "stdout",
     "output_type": "stream",
     "text": [
      "\n",
      "46 [D loss: 0.708068, acc.: 70.61%] [G loss: 0.719450]\n",
      "46 [D loss: 0.701287, acc.: 70.14%] [G loss: 0.711532]\n",
      "46 [D loss: 0.703625, acc.: 71.39%] [G loss: 0.708373]\n",
      "46 [D loss: 0.705346, acc.: 71.96%] [G loss: 0.702824]\n",
      "46 [D loss: 0.686610, acc.: 71.35%] [G loss: 0.714373]\n",
      "46 [D loss: 0.694781, acc.: 71.00%] [G loss: 0.720020]\n"
     ]
    },
    {
     "name": "stderr",
     "output_type": "stream",
     "text": [
      " 32%|██████████████████████████▏                                                       | 16/50 [00:00<00:01, 32.99it/s]"
     ]
    },
    {
     "name": "stdout",
     "output_type": "stream",
     "text": [
      "46 [D loss: 0.710341, acc.: 70.43%] [G loss: 0.724263]\n",
      "46 [D loss: 0.691799, acc.: 68.61%] [G loss: 0.749192]\n",
      "46 [D loss: 0.701252, acc.: 66.55%] [G loss: 0.776805]\n",
      "46 [D loss: 0.694824, acc.: 64.46%] [G loss: 0.792988]\n",
      "46 [D loss: 0.688842, acc.: 64.53%] [G loss: 0.808508]\n",
      "46 [D loss: 0.695936, acc.: 63.12%] [G loss: 0.820475]\n",
      "46 [D loss: 0.692135, acc.: 61.73%] [G loss: 0.823434]"
     ]
    },
    {
     "name": "stderr",
     "output_type": "stream",
     "text": [
      " 48%|███████████████████████████████████████▎                                          | 24/50 [00:00<00:00, 33.34it/s]"
     ]
    },
    {
     "name": "stdout",
     "output_type": "stream",
     "text": [
      "\n",
      "46 [D loss: 0.692568, acc.: 62.72%] [G loss: 0.808901]\n",
      "46 [D loss: 0.677701, acc.: 66.25%] [G loss: 0.789461]\n",
      "46 [D loss: 0.696499, acc.: 68.58%] [G loss: 0.754735]\n",
      "46 [D loss: 0.682103, acc.: 71.22%] [G loss: 0.720609]\n",
      "46 [D loss: 0.678099, acc.: 73.14%] [G loss: 0.694494]\n",
      "46 [D loss: 0.679529, acc.: 73.79%] [G loss: 0.693974]\n"
     ]
    },
    {
     "name": "stderr",
     "output_type": "stream",
     "text": [
      " 56%|█████████████████████████████████████████████▉                                    | 28/50 [00:00<00:00, 32.90it/s]"
     ]
    },
    {
     "name": "stdout",
     "output_type": "stream",
     "text": [
      "46 [D loss: 0.676660, acc.: 74.79%] [G loss: 0.689172]\n",
      "46 [D loss: 0.673145, acc.: 74.55%] [G loss: 0.691228]\n",
      "46 [D loss: 0.661156, acc.: 71.19%] [G loss: 0.740644]\n",
      "46 [D loss: 0.679693, acc.: 67.56%] [G loss: 0.808744]\n",
      "46 [D loss: 0.684701, acc.: 59.75%] [G loss: 0.905218]\n",
      "46 [D loss: 0.682364, acc.: 53.99%] [G loss: 1.082577]\n",
      "46 [D loss: 0.675840, acc.: 54.07%] [G loss: 1.023684]"
     ]
    },
    {
     "name": "stderr",
     "output_type": "stream",
     "text": [
      " 72%|███████████████████████████████████████████████████████████                       | 36/50 [00:01<00:00, 33.12it/s]"
     ]
    },
    {
     "name": "stdout",
     "output_type": "stream",
     "text": [
      "\n",
      "46 [D loss: 0.663090, acc.: 54.08%] [G loss: 0.967137]\n",
      "46 [D loss: 0.646773, acc.: 56.78%] [G loss: 0.992232]\n",
      "46 [D loss: 0.621526, acc.: 64.22%] [G loss: 0.808874]\n",
      "46 [D loss: 0.586813, acc.: 67.88%] [G loss: 0.769248]\n",
      "46 [D loss: 0.627782, acc.: 72.66%] [G loss: 0.683081]\n",
      "46 [D loss: 0.572113, acc.: 74.39%] [G loss: 0.685682]\n"
     ]
    },
    {
     "name": "stderr",
     "output_type": "stream",
     "text": [
      " 88%|████████████████████████████████████████████████████████████████████████▏         | 44/50 [00:01<00:00, 33.41it/s]"
     ]
    },
    {
     "name": "stdout",
     "output_type": "stream",
     "text": [
      "46 [D loss: 0.551341, acc.: 78.31%] [G loss: 0.691760]\n",
      "46 [D loss: 0.596632, acc.: 82.29%] [G loss: 0.691908]\n",
      "46 [D loss: 0.583781, acc.: 75.40%] [G loss: 0.665775]\n",
      "46 [D loss: 0.610961, acc.: 82.98%] [G loss: 0.658473]\n",
      "46 [D loss: 0.578442, acc.: 80.48%] [G loss: 0.666054]\n",
      "46 [D loss: 0.620793, acc.: 84.95%] [G loss: 0.682306]\n",
      "46 [D loss: 0.629705, acc.: 84.95%] [G loss: 0.700944]"
     ]
    },
    {
     "name": "stderr",
     "output_type": "stream",
     "text": [
      "100%|██████████████████████████████████████████████████████████████████████████████████| 50/50 [00:01<00:00, 32.96it/s]\n",
      "  0%|                                                                                           | 0/50 [00:00<?, ?it/s]"
     ]
    },
    {
     "name": "stdout",
     "output_type": "stream",
     "text": [
      "\n",
      "46 [D loss: 0.686494, acc.: 80.62%] [G loss: 0.726147]\n",
      "46 [D loss: 0.691226, acc.: 71.81%] [G loss: 0.755915]\n",
      "46 [D loss: 0.760071, acc.: 65.04%] [G loss: 0.779689]\n",
      "46 [D loss: 0.725233, acc.: 62.55%] [G loss: 0.800876]\n",
      "46 [D loss: 0.728529, acc.: 62.23%] [G loss: 0.823894]\n",
      "Epoch 47\n",
      "47 [D loss: 0.720810, acc.: 58.07%] [G loss: 0.842772]"
     ]
    },
    {
     "name": "stderr",
     "output_type": "stream",
     "text": [
      " 14%|███████████▌                                                                       | 7/50 [00:00<00:01, 30.76it/s]"
     ]
    },
    {
     "name": "stdout",
     "output_type": "stream",
     "text": [
      "\n",
      "47 [D loss: 0.739523, acc.: 57.10%] [G loss: 0.886687]\n",
      "47 [D loss: 0.726317, acc.: 55.77%] [G loss: 0.880227]\n",
      "47 [D loss: 0.701694, acc.: 58.52%] [G loss: 0.866125]\n",
      "47 [D loss: 0.684477, acc.: 61.53%] [G loss: 0.858991]\n",
      "47 [D loss: 0.658850, acc.: 65.46%] [G loss: 0.787158]\n",
      "47 [D loss: 0.651901, acc.: 68.53%] [G loss: 0.754955]\n"
     ]
    },
    {
     "name": "stderr",
     "output_type": "stream",
     "text": [
      " 22%|██████████████████                                                                | 11/50 [00:00<00:01, 31.54it/s]"
     ]
    },
    {
     "name": "stdout",
     "output_type": "stream",
     "text": [
      "47 [D loss: 0.660933, acc.: 72.19%] [G loss: 0.733319]\n",
      "47 [D loss: 0.684119, acc.: 73.70%] [G loss: 0.714192]\n",
      "47 [D loss: 0.685185, acc.: 72.88%] [G loss: 0.696009]\n",
      "47 [D loss: 0.666423, acc.: 74.59%] [G loss: 0.692072]\n",
      "47 [D loss: 0.667714, acc.: 72.12%] [G loss: 0.691328]\n",
      "47 [D loss: 0.690162, acc.: 72.92%] [G loss: 0.691299]\n",
      "47 [D loss: 0.683008, acc.: 73.08%] [G loss: 0.672164]"
     ]
    },
    {
     "name": "stderr",
     "output_type": "stream",
     "text": [
      " 38%|███████████████████████████████▏                                                  | 19/50 [00:00<00:00, 32.60it/s]"
     ]
    },
    {
     "name": "stdout",
     "output_type": "stream",
     "text": [
      "\n",
      "47 [D loss: 0.678266, acc.: 73.85%] [G loss: 0.679218]\n",
      "47 [D loss: 0.679883, acc.: 75.60%] [G loss: 0.677618]\n",
      "47 [D loss: 0.649952, acc.: 75.82%] [G loss: 0.678822]\n",
      "47 [D loss: 0.694504, acc.: 74.49%] [G loss: 0.680318]\n",
      "47 [D loss: 0.705477, acc.: 77.60%] [G loss: 0.671853]\n",
      "47 [D loss: 0.698970, acc.: 74.15%] [G loss: 0.695725]\n"
     ]
    },
    {
     "name": "stderr",
     "output_type": "stream",
     "text": [
      " 54%|████████████████████████████████████████████▎                                     | 27/50 [00:00<00:00, 33.03it/s]"
     ]
    },
    {
     "name": "stdout",
     "output_type": "stream",
     "text": [
      "47 [D loss: 0.694075, acc.: 74.45%] [G loss: 0.696441]\n",
      "47 [D loss: 0.717465, acc.: 71.63%] [G loss: 0.697359]\n",
      "47 [D loss: 0.716482, acc.: 70.62%] [G loss: 0.712993]\n",
      "47 [D loss: 0.743104, acc.: 70.15%] [G loss: 0.714617]\n",
      "47 [D loss: 0.735046, acc.: 69.18%] [G loss: 0.725375]\n",
      "47 [D loss: 0.753511, acc.: 68.74%] [G loss: 0.725700]\n",
      "47 [D loss: 0.730759, acc.: 67.55%] [G loss: 0.742373]\n"
     ]
    },
    {
     "name": "stderr",
     "output_type": "stream",
     "text": [
      " 62%|██████████████████████████████████████████████████▊                               | 31/50 [00:00<00:00, 33.01it/s]"
     ]
    },
    {
     "name": "stdout",
     "output_type": "stream",
     "text": [
      "47 [D loss: 0.736518, acc.: 66.42%] [G loss: 0.743662]\n",
      "47 [D loss: 0.759656, acc.: 66.74%] [G loss: 0.756568]\n",
      "47 [D loss: 0.746085, acc.: 65.66%] [G loss: 0.753881]\n",
      "47 [D loss: 0.746366, acc.: 64.94%] [G loss: 0.761605]\n",
      "47 [D loss: 0.729690, acc.: 63.52%] [G loss: 0.794086]\n",
      "47 [D loss: 0.735918, acc.: 63.13%] [G loss: 0.787939]\n",
      "47 [D loss: 0.723164, acc.: 61.46%] [G loss: 0.813097]"
     ]
    },
    {
     "name": "stderr",
     "output_type": "stream",
     "text": [
      " 78%|███████████████████████████████████████████████████████████████▉                  | 39/50 [00:01<00:00, 33.35it/s]"
     ]
    },
    {
     "name": "stdout",
     "output_type": "stream",
     "text": [
      "\n",
      "47 [D loss: 0.720333, acc.: 60.91%] [G loss: 0.831484]\n",
      "47 [D loss: 0.745035, acc.: 58.61%] [G loss: 0.852572]\n",
      "47 [D loss: 0.729091, acc.: 57.24%] [G loss: 0.851396]\n",
      "47 [D loss: 0.733308, acc.: 58.21%] [G loss: 0.860519]\n",
      "47 [D loss: 0.729900, acc.: 58.38%] [G loss: 0.860525]\n",
      "47 [D loss: 0.712615, acc.: 58.78%] [G loss: 0.848625]\n"
     ]
    },
    {
     "name": "stderr",
     "output_type": "stream",
     "text": [
      " 86%|██████████████████████████████████████████████████████████████████████▌           | 43/50 [00:01<00:00, 33.49it/s]"
     ]
    },
    {
     "name": "stdout",
     "output_type": "stream",
     "text": [
      "47 [D loss: 0.691333, acc.: 59.46%] [G loss: 0.836122]\n",
      "47 [D loss: 0.705172, acc.: 61.13%] [G loss: 0.818951]\n",
      "47 [D loss: 0.694756, acc.: 62.58%] [G loss: 0.783444]\n",
      "47 [D loss: 0.684783, acc.: 65.02%] [G loss: 0.764818]\n",
      "47 [D loss: 0.652067, acc.: 67.37%] [G loss: 0.746799]\n",
      "47 [D loss: 0.645539, acc.: 69.26%] [G loss: 0.728958]\n",
      "47 [D loss: 0.671972, acc.: 69.73%] [G loss: 0.723436]"
     ]
    },
    {
     "name": "stderr",
     "output_type": "stream",
     "text": [
      "100%|██████████████████████████████████████████████████████████████████████████████████| 50/50 [00:01<00:00, 33.22it/s]\n",
      "  0%|                                                                                           | 0/50 [00:00<?, ?it/s]"
     ]
    },
    {
     "name": "stdout",
     "output_type": "stream",
     "text": [
      "\n",
      "47 [D loss: 0.656592, acc.: 71.86%] [G loss: 0.698532]\n",
      "47 [D loss: 0.627976, acc.: 72.70%] [G loss: 0.690441]\n",
      "47 [D loss: 0.646368, acc.: 76.37%] [G loss: 0.680522]\n",
      "Epoch 48\n",
      "48 [D loss: 0.629077, acc.: 74.78%] [G loss: 0.680184]\n",
      "48 [D loss: 0.613582, acc.: 75.93%] [G loss: 0.665380]\n",
      "48 [D loss: 0.630664, acc.: 77.23%] [G loss: 0.678088]"
     ]
    },
    {
     "name": "stderr",
     "output_type": "stream",
     "text": [
      " 16%|█████████████▎                                                                     | 8/50 [00:00<00:01, 33.13it/s]"
     ]
    },
    {
     "name": "stdout",
     "output_type": "stream",
     "text": [
      "\n",
      "48 [D loss: 0.645010, acc.: 74.53%] [G loss: 0.680769]\n",
      "48 [D loss: 0.657372, acc.: 74.26%] [G loss: 0.688407]\n",
      "48 [D loss: 0.632247, acc.: 71.56%] [G loss: 0.674189]\n",
      "48 [D loss: 0.650924, acc.: 76.75%] [G loss: 0.668557]\n",
      "48 [D loss: 0.646253, acc.: 74.62%] [G loss: 0.693874]\n",
      "48 [D loss: 0.642643, acc.: 73.92%] [G loss: 0.696252]\n"
     ]
    },
    {
     "name": "stderr",
     "output_type": "stream",
     "text": [
      " 24%|███████████████████▋                                                              | 12/50 [00:00<00:01, 33.08it/s]"
     ]
    },
    {
     "name": "stdout",
     "output_type": "stream",
     "text": [
      "48 [D loss: 0.659115, acc.: 72.13%] [G loss: 0.690196]\n",
      "48 [D loss: 0.675571, acc.: 75.19%] [G loss: 0.703807]\n",
      "48 [D loss: 0.691127, acc.: 73.00%] [G loss: 0.724206]\n",
      "48 [D loss: 0.702438, acc.: 72.45%] [G loss: 0.725037]\n",
      "48 [D loss: 0.706649, acc.: 71.74%] [G loss: 0.726769]\n",
      "48 [D loss: 0.695014, acc.: 69.55%] [G loss: 0.724252]\n",
      "48 [D loss: 0.699782, acc.: 66.39%] [G loss: 0.733806]"
     ]
    },
    {
     "name": "stderr",
     "output_type": "stream",
     "text": [
      " 40%|████████████████████████████████▊                                                 | 20/50 [00:00<00:00, 33.39it/s]"
     ]
    },
    {
     "name": "stdout",
     "output_type": "stream",
     "text": [
      "\n",
      "48 [D loss: 0.702499, acc.: 65.93%] [G loss: 0.756656]\n",
      "48 [D loss: 0.692896, acc.: 65.15%] [G loss: 0.772492]\n",
      "48 [D loss: 0.705685, acc.: 63.63%] [G loss: 0.789247]\n",
      "48 [D loss: 0.686996, acc.: 62.23%] [G loss: 0.819105]\n",
      "48 [D loss: 0.709375, acc.: 60.04%] [G loss: 0.833505]\n",
      "48 [D loss: 0.700043, acc.: 59.61%] [G loss: 0.849716]\n"
     ]
    },
    {
     "name": "stderr",
     "output_type": "stream",
     "text": [
      " 56%|█████████████████████████████████████████████▉                                    | 28/50 [00:00<00:00, 33.48it/s]"
     ]
    },
    {
     "name": "stdout",
     "output_type": "stream",
     "text": [
      "48 [D loss: 0.697033, acc.: 60.17%] [G loss: 0.853589]\n",
      "48 [D loss: 0.668782, acc.: 61.45%] [G loss: 0.866031]\n",
      "48 [D loss: 0.673276, acc.: 60.41%] [G loss: 0.847598]\n",
      "48 [D loss: 0.652327, acc.: 63.97%] [G loss: 0.831528]\n",
      "48 [D loss: 0.655230, acc.: 66.48%] [G loss: 0.783150]\n",
      "48 [D loss: 0.654728, acc.: 69.65%] [G loss: 0.756395]\n",
      "48 [D loss: 0.666644, acc.: 68.66%] [G loss: 0.732427]\n"
     ]
    },
    {
     "name": "stderr",
     "output_type": "stream",
     "text": [
      " 64%|████████████████████████████████████████████████████▍                             | 32/50 [00:00<00:00, 33.41it/s]"
     ]
    },
    {
     "name": "stdout",
     "output_type": "stream",
     "text": [
      "48 [D loss: 0.683232, acc.: 72.69%] [G loss: 0.712609]\n",
      "48 [D loss: 0.660165, acc.: 71.42%] [G loss: 0.710753]\n",
      "48 [D loss: 0.658431, acc.: 74.45%] [G loss: 0.681938]\n",
      "48 [D loss: 0.631753, acc.: 74.62%] [G loss: 0.691577]\n",
      "48 [D loss: 0.651341, acc.: 76.57%] [G loss: 0.692186]\n",
      "48 [D loss: 0.638354, acc.: 75.01%] [G loss: 0.685561]\n",
      "48 [D loss: 0.612409, acc.: 74.20%] [G loss: 0.687773]"
     ]
    },
    {
     "name": "stderr",
     "output_type": "stream",
     "text": [
      " 80%|█████████████████████████████████████████████████████████████████▌                | 40/50 [00:01<00:00, 33.36it/s]"
     ]
    },
    {
     "name": "stdout",
     "output_type": "stream",
     "text": [
      "\n",
      "48 [D loss: 0.641415, acc.: 71.92%] [G loss: 0.678992]\n",
      "48 [D loss: 0.614230, acc.: 74.41%] [G loss: 0.676115]\n",
      "48 [D loss: 0.620764, acc.: 73.76%] [G loss: 0.679376]\n",
      "48 [D loss: 0.607834, acc.: 76.49%] [G loss: 0.688228]\n",
      "48 [D loss: 0.613147, acc.: 76.66%] [G loss: 0.667716]\n",
      "48 [D loss: 0.602540, acc.: 77.28%] [G loss: 0.659316]\n"
     ]
    },
    {
     "name": "stderr",
     "output_type": "stream",
     "text": [
      " 96%|██████████████████████████████████████████████████████████████████████████████▋   | 48/50 [00:01<00:00, 33.44it/s]"
     ]
    },
    {
     "name": "stdout",
     "output_type": "stream",
     "text": [
      "48 [D loss: 0.581796, acc.: 80.06%] [G loss: 0.667590]\n",
      "48 [D loss: 0.606490, acc.: 81.91%] [G loss: 0.657985]\n",
      "48 [D loss: 0.654132, acc.: 77.63%] [G loss: 0.665412]\n",
      "48 [D loss: 0.620552, acc.: 76.01%] [G loss: 0.666178]\n",
      "48 [D loss: 0.599086, acc.: 75.75%] [G loss: 0.689500]\n",
      "48 [D loss: 0.616446, acc.: 70.81%] [G loss: 0.709216]\n",
      "48 [D loss: 0.632175, acc.: 73.94%] [G loss: 0.755424]"
     ]
    },
    {
     "name": "stderr",
     "output_type": "stream",
     "text": [
      "100%|██████████████████████████████████████████████████████████████████████████████████| 50/50 [00:01<00:00, 33.35it/s]\n",
      "  8%|██████▋                                                                            | 4/50 [00:00<00:01, 33.52it/s]"
     ]
    },
    {
     "name": "stdout",
     "output_type": "stream",
     "text": [
      "\n",
      "48 [D loss: 0.639011, acc.: 67.02%] [G loss: 0.768394]\n",
      "Epoch 49\n",
      "49 [D loss: 0.646115, acc.: 74.08%] [G loss: 0.798989]\n",
      "49 [D loss: 0.674367, acc.: 68.28%] [G loss: 0.810383]\n",
      "49 [D loss: 0.677434, acc.: 67.11%] [G loss: 0.855589]\n",
      "49 [D loss: 0.698997, acc.: 66.09%] [G loss: 0.804096]\n",
      "49 [D loss: 0.702073, acc.: 65.60%] [G loss: 0.783323]"
     ]
    },
    {
     "name": "stderr",
     "output_type": "stream",
     "text": [
      " 16%|█████████████▎                                                                     | 8/50 [00:00<00:01, 33.35it/s]"
     ]
    },
    {
     "name": "stdout",
     "output_type": "stream",
     "text": [
      "\n",
      "49 [D loss: 0.749345, acc.: 74.67%] [G loss: 0.764771]\n",
      "49 [D loss: 0.721245, acc.: 69.17%] [G loss: 0.762917]\n",
      "49 [D loss: 0.781319, acc.: 66.25%] [G loss: 0.760499]\n",
      "49 [D loss: 0.753850, acc.: 65.97%] [G loss: 0.773091]\n",
      "49 [D loss: 0.733028, acc.: 64.14%] [G loss: 0.787922]\n",
      "49 [D loss: 0.705069, acc.: 64.03%] [G loss: 0.793974]\n"
     ]
    },
    {
     "name": "stderr",
     "output_type": "stream",
     "text": [
      " 32%|██████████████████████████▏                                                       | 16/50 [00:00<00:01, 33.44it/s]"
     ]
    },
    {
     "name": "stdout",
     "output_type": "stream",
     "text": [
      "49 [D loss: 0.699649, acc.: 65.04%] [G loss: 0.772788]\n",
      "49 [D loss: 0.626456, acc.: 65.90%] [G loss: 0.795199]\n",
      "49 [D loss: 0.617806, acc.: 67.24%] [G loss: 0.780215]\n",
      "49 [D loss: 0.630006, acc.: 65.06%] [G loss: 0.796385]\n",
      "49 [D loss: 0.664266, acc.: 64.40%] [G loss: 0.800847]\n",
      "49 [D loss: 0.573958, acc.: 64.71%] [G loss: 0.811716]\n",
      "49 [D loss: 0.580469, acc.: 64.18%] [G loss: 0.786921]"
     ]
    },
    {
     "name": "stderr",
     "output_type": "stream",
     "text": [
      " 48%|███████████████████████████████████████▎                                          | 24/50 [00:00<00:00, 33.31it/s]"
     ]
    },
    {
     "name": "stdout",
     "output_type": "stream",
     "text": [
      "\n",
      "49 [D loss: 0.530187, acc.: 68.36%] [G loss: 0.790061]\n",
      "49 [D loss: 0.541039, acc.: 70.13%] [G loss: 0.782125]\n",
      "49 [D loss: 0.528723, acc.: 73.26%] [G loss: 0.740283]\n",
      "49 [D loss: 0.482642, acc.: 77.86%] [G loss: 0.735794]\n",
      "49 [D loss: 0.518234, acc.: 85.52%] [G loss: 0.680252]\n",
      "49 [D loss: 0.574878, acc.: 78.54%] [G loss: 0.640278]\n"
     ]
    },
    {
     "name": "stderr",
     "output_type": "stream",
     "text": [
      " 56%|█████████████████████████████████████████████▉                                    | 28/50 [00:00<00:00, 33.12it/s]"
     ]
    },
    {
     "name": "stdout",
     "output_type": "stream",
     "text": [
      "49 [D loss: 0.565791, acc.: 85.65%] [G loss: 0.625327]\n",
      "49 [D loss: 0.571013, acc.: 91.73%] [G loss: 0.636607]\n",
      "49 [D loss: 0.594279, acc.: 92.60%] [G loss: 0.544429]\n",
      "49 [D loss: 0.623351, acc.: 92.63%] [G loss: 0.579725]\n",
      "49 [D loss: 0.614654, acc.: 90.18%] [G loss: 0.610181]\n",
      "49 [D loss: 0.700631, acc.: 86.81%] [G loss: 0.590684]\n",
      "49 [D loss: 0.717888, acc.: 90.91%] [G loss: 0.635790]"
     ]
    },
    {
     "name": "stderr",
     "output_type": "stream",
     "text": [
      " 72%|███████████████████████████████████████████████████████████                       | 36/50 [00:01<00:00, 33.04it/s]"
     ]
    },
    {
     "name": "stdout",
     "output_type": "stream",
     "text": [
      "\n",
      "49 [D loss: 0.712974, acc.: 85.58%] [G loss: 0.679324]\n",
      "49 [D loss: 0.733980, acc.: 78.87%] [G loss: 0.741266]\n",
      "49 [D loss: 0.750035, acc.: 66.64%] [G loss: 0.794102]\n",
      "49 [D loss: 0.791516, acc.: 62.52%] [G loss: 0.827934]\n",
      "49 [D loss: 0.796594, acc.: 58.73%] [G loss: 0.846626]\n",
      "49 [D loss: 0.778711, acc.: 56.61%] [G loss: 0.899319]"
     ]
    },
    {
     "name": "stderr",
     "output_type": "stream",
     "text": [
      " 80%|█████████████████████████████████████████████████████████████████▌                | 40/50 [00:01<00:00, 32.94it/s]"
     ]
    },
    {
     "name": "stdout",
     "output_type": "stream",
     "text": [
      "\n",
      "49 [D loss: 0.801449, acc.: 55.26%] [G loss: 0.916315]\n",
      "49 [D loss: 0.779824, acc.: 53.51%] [G loss: 0.949557]\n",
      "49 [D loss: 0.789504, acc.: 51.55%] [G loss: 0.969829]\n",
      "49 [D loss: 0.782322, acc.: 50.76%] [G loss: 0.975582]\n",
      "49 [D loss: 0.766122, acc.: 50.66%] [G loss: 0.970515]\n",
      "49 [D loss: 0.788743, acc.: 52.02%] [G loss: 0.930831]\n"
     ]
    },
    {
     "name": "stderr",
     "output_type": "stream",
     "text": [
      " 96%|██████████████████████████████████████████████████████████████████████████████▋   | 48/50 [00:01<00:00, 32.95it/s]"
     ]
    },
    {
     "name": "stdout",
     "output_type": "stream",
     "text": [
      "49 [D loss: 0.788584, acc.: 55.44%] [G loss: 0.900660]\n",
      "49 [D loss: 0.776612, acc.: 59.35%] [G loss: 0.838567]\n",
      "49 [D loss: 0.774751, acc.: 62.67%] [G loss: 0.793493]\n",
      "49 [D loss: 0.755177, acc.: 65.10%] [G loss: 0.751422]\n",
      "49 [D loss: 0.732986, acc.: 66.64%] [G loss: 0.744416]\n",
      "49 [D loss: 0.756337, acc.: 68.65%] [G loss: 0.711158]\n",
      "49 [D loss: 0.748429, acc.: 70.39%] [G loss: 0.706530]"
     ]
    },
    {
     "name": "stderr",
     "output_type": "stream",
     "text": [
      "100%|██████████████████████████████████████████████████████████████████████████████████| 50/50 [00:01<00:00, 33.07it/s]\n",
      "  8%|██████▋                                                                            | 4/50 [00:00<00:01, 32.97it/s]"
     ]
    },
    {
     "name": "stdout",
     "output_type": "stream",
     "text": [
      "\n",
      "Epoch 50\n",
      "50 [D loss: 0.723599, acc.: 70.19%] [G loss: 0.696785]\n",
      "50 [D loss: 0.693785, acc.: 70.84%] [G loss: 0.690790]\n",
      "50 [D loss: 0.687982, acc.: 70.81%] [G loss: 0.704345]\n",
      "50 [D loss: 0.677848, acc.: 70.03%] [G loss: 0.707575]\n",
      "50 [D loss: 0.633235, acc.: 69.90%] [G loss: 0.701881]\n",
      "50 [D loss: 0.636212, acc.: 69.02%] [G loss: 0.711485]"
     ]
    },
    {
     "name": "stderr",
     "output_type": "stream",
     "text": [
      " 16%|█████████████▎                                                                     | 8/50 [00:00<00:01, 32.72it/s]"
     ]
    },
    {
     "name": "stdout",
     "output_type": "stream",
     "text": [
      "\n",
      "50 [D loss: 0.608744, acc.: 68.53%] [G loss: 0.716432]\n",
      "50 [D loss: 0.552499, acc.: 68.27%] [G loss: 0.719086]\n",
      "50 [D loss: 0.557825, acc.: 67.42%] [G loss: 0.733765]\n",
      "50 [D loss: 0.511781, acc.: 67.15%] [G loss: 0.729029]\n",
      "50 [D loss: 0.503693, acc.: 67.77%] [G loss: 0.725811]\n",
      "50 [D loss: 0.476322, acc.: 68.44%] [G loss: 0.719310]\n"
     ]
    },
    {
     "name": "stderr",
     "output_type": "stream",
     "text": [
      " 32%|██████████████████████████▏                                                       | 16/50 [00:00<00:01, 32.56it/s]"
     ]
    },
    {
     "name": "stdout",
     "output_type": "stream",
     "text": [
      "50 [D loss: 0.460409, acc.: 69.38%] [G loss: 0.707960]\n",
      "50 [D loss: 0.438493, acc.: 72.76%] [G loss: 0.696127]\n",
      "50 [D loss: 0.404943, acc.: 75.65%] [G loss: 0.711369]\n",
      "50 [D loss: 0.457457, acc.: 80.25%] [G loss: 0.670295]\n",
      "50 [D loss: 0.471256, acc.: 93.78%] [G loss: 0.661742]\n",
      "50 [D loss: 0.537050, acc.: 97.52%] [G loss: 0.636911]\n",
      "50 [D loss: 0.564809, acc.: 100.17%] [G loss: 0.562365]\n"
     ]
    },
    {
     "name": "stderr",
     "output_type": "stream",
     "text": [
      " 48%|███████████████████████████████████████▎                                          | 24/50 [00:00<00:00, 32.80it/s]"
     ]
    },
    {
     "name": "stdout",
     "output_type": "stream",
     "text": [
      "50 [D loss: 0.629021, acc.: 109.97%] [G loss: 0.568955]\n",
      "50 [D loss: 0.684491, acc.: 107.96%] [G loss: 0.600873]\n",
      "50 [D loss: 0.690650, acc.: 92.56%] [G loss: 0.648268]\n",
      "50 [D loss: 0.754494, acc.: 77.59%] [G loss: 0.755846]\n",
      "50 [D loss: 0.768318, acc.: 64.58%] [G loss: 0.847168]\n",
      "50 [D loss: 0.794952, acc.: 59.00%] [G loss: 0.853899]\n",
      "50 [D loss: 0.785159, acc.: 55.97%] [G loss: 0.902945]"
     ]
    },
    {
     "name": "stderr",
     "output_type": "stream",
     "text": [
      " 56%|█████████████████████████████████████████████▉                                    | 28/50 [00:00<00:00, 32.85it/s]"
     ]
    },
    {
     "name": "stdout",
     "output_type": "stream",
     "text": [
      "\n",
      "50 [D loss: 0.768372, acc.: 56.85%] [G loss: 0.882099]\n",
      "50 [D loss: 0.776454, acc.: 56.90%] [G loss: 0.871407]\n",
      "50 [D loss: 0.799898, acc.: 58.10%] [G loss: 0.843611]\n",
      "50 [D loss: 0.778362, acc.: 59.05%] [G loss: 0.834567]\n",
      "50 [D loss: 0.784333, acc.: 59.04%] [G loss: 0.822714]\n",
      "50 [D loss: 0.784326, acc.: 58.94%] [G loss: 0.826103]"
     ]
    },
    {
     "name": "stderr",
     "output_type": "stream",
     "text": [
      " 72%|███████████████████████████████████████████████████████████                       | 36/50 [00:01<00:00, 32.85it/s]"
     ]
    },
    {
     "name": "stdout",
     "output_type": "stream",
     "text": [
      "\n",
      "50 [D loss: 0.778115, acc.: 57.87%] [G loss: 0.831073]\n",
      "50 [D loss: 0.767173, acc.: 56.84%] [G loss: 0.855436]\n",
      "50 [D loss: 0.749996, acc.: 55.41%] [G loss: 0.868328]\n",
      "50 [D loss: 0.738046, acc.: 53.64%] [G loss: 0.924017]\n",
      "50 [D loss: 0.732561, acc.: 52.92%] [G loss: 0.919586]\n",
      "50 [D loss: 0.754924, acc.: 52.52%] [G loss: 0.908302]\n"
     ]
    },
    {
     "name": "stderr",
     "output_type": "stream",
     "text": [
      " 88%|████████████████████████████████████████████████████████████████████████▏         | 44/50 [00:01<00:00, 32.77it/s]"
     ]
    },
    {
     "name": "stdout",
     "output_type": "stream",
     "text": [
      "50 [D loss: 0.725329, acc.: 52.50%] [G loss: 0.923959]\n",
      "50 [D loss: 0.714133, acc.: 54.07%] [G loss: 0.916510]\n",
      "50 [D loss: 0.716180, acc.: 55.54%] [G loss: 0.902650]\n",
      "50 [D loss: 0.729584, acc.: 58.12%] [G loss: 0.860267]\n",
      "50 [D loss: 0.737423, acc.: 60.87%] [G loss: 0.805907]\n",
      "50 [D loss: 0.723311, acc.: 64.62%] [G loss: 0.768180]\n",
      "50 [D loss: 0.712563, acc.: 67.19%] [G loss: 0.742187]"
     ]
    },
    {
     "name": "stderr",
     "output_type": "stream",
     "text": [
      "100%|██████████████████████████████████████████████████████████████████████████████████| 50/50 [00:01<00:00, 32.74it/s]\n",
      "  0%|                                                                                           | 0/50 [00:00<?, ?it/s]"
     ]
    },
    {
     "name": "stdout",
     "output_type": "stream",
     "text": [
      "\n",
      "50 [D loss: 0.727899, acc.: 69.11%] [G loss: 0.707836]\n",
      "50 [D loss: 0.714973, acc.: 70.19%] [G loss: 0.695041]\n",
      "50 [D loss: 0.695059, acc.: 69.79%] [G loss: 0.702520]\n",
      "50 [D loss: 0.702578, acc.: 69.70%] [G loss: 0.723207]\n",
      "50 [D loss: 0.712110, acc.: 67.57%] [G loss: 0.758123]\n",
      "Epoch 51\n",
      "51 [D loss: 0.695270, acc.: 65.00%] [G loss: 0.784167]"
     ]
    },
    {
     "name": "stderr",
     "output_type": "stream",
     "text": [
      "  8%|██████▋                                                                            | 4/50 [00:00<00:01, 31.17it/s]"
     ]
    },
    {
     "name": "stdout",
     "output_type": "stream",
     "text": [
      "\n",
      "51 [D loss: 0.712764, acc.: 62.82%] [G loss: 0.791553]\n",
      "51 [D loss: 0.695809, acc.: 62.11%] [G loss: 0.881115]\n",
      "51 [D loss: 0.707354, acc.: 60.59%] [G loss: 0.856941]\n",
      "51 [D loss: 0.717060, acc.: 62.27%] [G loss: 0.813286]\n",
      "51 [D loss: 0.736710, acc.: 65.35%] [G loss: 0.769903]\n",
      "51 [D loss: 0.707353, acc.: 70.80%] [G loss: 0.725632]"
     ]
    },
    {
     "name": "stderr",
     "output_type": "stream",
     "text": [
      " 24%|███████████████████▋                                                              | 12/50 [00:00<00:01, 31.90it/s]"
     ]
    },
    {
     "name": "stdout",
     "output_type": "stream",
     "text": [
      "\n",
      "51 [D loss: 0.754530, acc.: 74.26%] [G loss: 0.650554]\n",
      "51 [D loss: 0.699186, acc.: 76.02%] [G loss: 0.639657]\n",
      "51 [D loss: 0.713137, acc.: 76.84%] [G loss: 0.633728]\n",
      "51 [D loss: 0.723225, acc.: 77.04%] [G loss: 0.618767]\n",
      "51 [D loss: 0.690797, acc.: 78.37%] [G loss: 0.623931]\n",
      "51 [D loss: 0.701743, acc.: 77.28%] [G loss: 0.624273]"
     ]
    },
    {
     "name": "stderr",
     "output_type": "stream",
     "text": [
      " 32%|██████████████████████████▏                                                       | 16/50 [00:00<00:01, 32.06it/s]"
     ]
    },
    {
     "name": "stdout",
     "output_type": "stream",
     "text": [
      "\n",
      "51 [D loss: 0.683853, acc.: 77.71%] [G loss: 0.626759]\n",
      "51 [D loss: 0.679339, acc.: 76.36%] [G loss: 0.630991]\n",
      "51 [D loss: 0.668377, acc.: 76.10%] [G loss: 0.636297]\n",
      "51 [D loss: 0.673158, acc.: 75.67%] [G loss: 0.644833]\n",
      "51 [D loss: 0.624683, acc.: 74.36%] [G loss: 0.652062]\n",
      "51 [D loss: 0.654462, acc.: 73.70%] [G loss: 0.656269]"
     ]
    },
    {
     "name": "stderr",
     "output_type": "stream",
     "text": [
      " 48%|███████████████████████████████████████▎                                          | 24/50 [00:00<00:00, 32.35it/s]"
     ]
    },
    {
     "name": "stdout",
     "output_type": "stream",
     "text": [
      "\n",
      "51 [D loss: 0.647230, acc.: 73.00%] [G loss: 0.669020]\n",
      "51 [D loss: 0.579657, acc.: 73.04%] [G loss: 0.664669]\n",
      "51 [D loss: 0.595125, acc.: 73.49%] [G loss: 0.675323]\n",
      "51 [D loss: 0.556557, acc.: 73.81%] [G loss: 0.680098]\n",
      "51 [D loss: 0.554512, acc.: 73.64%] [G loss: 0.667083]\n",
      "51 [D loss: 0.529806, acc.: 75.10%] [G loss: 0.674050]"
     ]
    },
    {
     "name": "stderr",
     "output_type": "stream",
     "text": [
      " 56%|█████████████████████████████████████████████▉                                    | 28/50 [00:00<00:00, 32.30it/s]"
     ]
    },
    {
     "name": "stdout",
     "output_type": "stream",
     "text": [
      "\n",
      "51 [D loss: 0.535007, acc.: 75.67%] [G loss: 0.659007]\n",
      "51 [D loss: 0.445151, acc.: 80.83%] [G loss: 0.671778]\n",
      "51 [D loss: 0.514393, acc.: 76.70%] [G loss: 0.659247]\n",
      "51 [D loss: 0.518669, acc.: 81.08%] [G loss: 0.681948]\n",
      "51 [D loss: 0.584798, acc.: 85.16%] [G loss: 0.668256]\n",
      "51 [D loss: 0.539845, acc.: 81.69%] [G loss: 0.637317]\n"
     ]
    },
    {
     "name": "stderr",
     "output_type": "stream",
     "text": [
      " 72%|███████████████████████████████████████████████████████████                       | 36/50 [00:01<00:00, 32.56it/s]"
     ]
    },
    {
     "name": "stdout",
     "output_type": "stream",
     "text": [
      "51 [D loss: 0.600275, acc.: 90.15%] [G loss: 0.648748]\n",
      "51 [D loss: 0.585624, acc.: 95.36%] [G loss: 0.613362]\n",
      "51 [D loss: 0.661587, acc.: 94.07%] [G loss: 0.599077]\n",
      "51 [D loss: 0.723264, acc.: 91.98%] [G loss: 0.621325]\n",
      "51 [D loss: 0.730690, acc.: 84.67%] [G loss: 0.696520]\n",
      "51 [D loss: 0.739386, acc.: 72.12%] [G loss: 0.763511]\n",
      "51 [D loss: 0.762194, acc.: 62.17%] [G loss: 0.839063]"
     ]
    },
    {
     "name": "stderr",
     "output_type": "stream",
     "text": [
      " 80%|█████████████████████████████████████████████████████████████████▌                | 40/50 [00:01<00:00, 32.44it/s]"
     ]
    },
    {
     "name": "stdout",
     "output_type": "stream",
     "text": [
      "\n",
      "51 [D loss: 0.770335, acc.: 58.32%] [G loss: 0.883655]\n",
      "51 [D loss: 0.776384, acc.: 53.42%] [G loss: 0.904987]\n",
      "51 [D loss: 0.773638, acc.: 52.89%] [G loss: 0.977630]\n",
      "51 [D loss: 0.757702, acc.: 51.41%] [G loss: 1.008008]\n",
      "51 [D loss: 0.746464, acc.: 51.55%] [G loss: 0.994318]\n",
      "51 [D loss: 0.743963, acc.: 52.77%] [G loss: 0.967649]"
     ]
    },
    {
     "name": "stderr",
     "output_type": "stream",
     "text": [
      " 96%|██████████████████████████████████████████████████████████████████████████████▋   | 48/50 [00:01<00:00, 32.71it/s]"
     ]
    },
    {
     "name": "stdout",
     "output_type": "stream",
     "text": [
      "\n",
      "51 [D loss: 0.737561, acc.: 55.05%] [G loss: 0.908973]\n",
      "51 [D loss: 0.728577, acc.: 56.95%] [G loss: 0.886795]\n",
      "51 [D loss: 0.744597, acc.: 59.09%] [G loss: 0.849317]\n",
      "51 [D loss: 0.716047, acc.: 60.46%] [G loss: 0.829573]\n",
      "51 [D loss: 0.731914, acc.: 63.99%] [G loss: 0.800380]\n",
      "51 [D loss: 0.700571, acc.: 62.98%] [G loss: 0.778600]"
     ]
    },
    {
     "name": "stderr",
     "output_type": "stream",
     "text": [
      "100%|██████████████████████████████████████████████████████████████████████████████████| 50/50 [00:01<00:00, 32.51it/s]\n",
      "  8%|██████▋                                                                            | 4/50 [00:00<00:01, 33.81it/s]"
     ]
    },
    {
     "name": "stdout",
     "output_type": "stream",
     "text": [
      "\n",
      "Epoch 52\n",
      "52 [D loss: 0.707300, acc.: 64.05%] [G loss: 0.797993]\n",
      "52 [D loss: 0.728164, acc.: 63.56%] [G loss: 0.801427]\n",
      "52 [D loss: 0.715044, acc.: 61.22%] [G loss: 0.826455]\n",
      "52 [D loss: 0.725428, acc.: 59.08%] [G loss: 0.880219]\n",
      "52 [D loss: 0.720964, acc.: 57.79%] [G loss: 0.889873]\n",
      "52 [D loss: 0.714101, acc.: 54.91%] [G loss: 0.922371]\n",
      "52 [D loss: 0.716462, acc.: 52.46%] [G loss: 0.981975]"
     ]
    },
    {
     "name": "stderr",
     "output_type": "stream",
     "text": [
      " 24%|███████████████████▋                                                              | 12/50 [00:00<00:01, 33.48it/s]"
     ]
    },
    {
     "name": "stdout",
     "output_type": "stream",
     "text": [
      "\n",
      "52 [D loss: 0.736809, acc.: 49.24%] [G loss: 1.074773]\n",
      "52 [D loss: 0.731948, acc.: 49.75%] [G loss: 1.042241]\n",
      "52 [D loss: 0.764041, acc.: 50.04%] [G loss: 1.036790]\n",
      "52 [D loss: 0.739926, acc.: 52.26%] [G loss: 0.984958]\n",
      "52 [D loss: 0.766497, acc.: 56.80%] [G loss: 0.884309]\n",
      "52 [D loss: 0.776639, acc.: 62.49%] [G loss: 0.816437]"
     ]
    },
    {
     "name": "stderr",
     "output_type": "stream",
     "text": [
      " 32%|██████████████████████████▏                                                       | 16/50 [00:00<00:01, 33.24it/s]"
     ]
    },
    {
     "name": "stdout",
     "output_type": "stream",
     "text": [
      "\n",
      "52 [D loss: 0.769143, acc.: 66.26%] [G loss: 0.774477]\n",
      "52 [D loss: 0.766713, acc.: 67.77%] [G loss: 0.750377]\n",
      "52 [D loss: 0.779683, acc.: 70.06%] [G loss: 0.739929]\n",
      "52 [D loss: 0.747541, acc.: 67.40%] [G loss: 0.738441]\n",
      "52 [D loss: 0.759848, acc.: 65.33%] [G loss: 0.759037]\n",
      "52 [D loss: 0.753259, acc.: 62.19%] [G loss: 0.838429]\n"
     ]
    },
    {
     "name": "stderr",
     "output_type": "stream",
     "text": [
      " 48%|███████████████████████████████████████▎                                          | 24/50 [00:00<00:00, 33.30it/s]"
     ]
    },
    {
     "name": "stdout",
     "output_type": "stream",
     "text": [
      "52 [D loss: 0.750562, acc.: 62.14%] [G loss: 0.820225]\n",
      "52 [D loss: 0.751579, acc.: 61.33%] [G loss: 0.883444]\n",
      "52 [D loss: 0.754700, acc.: 61.30%] [G loss: 0.866238]\n",
      "52 [D loss: 0.784308, acc.: 60.67%] [G loss: 0.819977]\n",
      "52 [D loss: 0.752087, acc.: 63.24%] [G loss: 0.791806]\n",
      "52 [D loss: 0.760359, acc.: 64.58%] [G loss: 0.769462]\n",
      "52 [D loss: 0.760658, acc.: 65.08%] [G loss: 0.750116]"
     ]
    },
    {
     "name": "stderr",
     "output_type": "stream",
     "text": [
      " 64%|████████████████████████████████████████████████████▍                             | 32/50 [00:00<00:00, 33.52it/s]"
     ]
    },
    {
     "name": "stdout",
     "output_type": "stream",
     "text": [
      "\n",
      "52 [D loss: 0.748410, acc.: 66.48%] [G loss: 0.751203]\n",
      "52 [D loss: 0.745703, acc.: 67.86%] [G loss: 0.720846]\n",
      "52 [D loss: 0.750443, acc.: 68.82%] [G loss: 0.712798]\n",
      "52 [D loss: 0.743451, acc.: 70.24%] [G loss: 0.698532]\n",
      "52 [D loss: 0.743679, acc.: 70.11%] [G loss: 0.690656]\n",
      "52 [D loss: 0.726758, acc.: 71.21%] [G loss: 0.688595]\n"
     ]
    },
    {
     "name": "stderr",
     "output_type": "stream",
     "text": [
      " 72%|███████████████████████████████████████████████████████████                       | 36/50 [00:01<00:00, 33.19it/s]"
     ]
    },
    {
     "name": "stdout",
     "output_type": "stream",
     "text": [
      "52 [D loss: 0.730457, acc.: 71.49%] [G loss: 0.678817]\n",
      "52 [D loss: 0.714080, acc.: 71.94%] [G loss: 0.671736]\n",
      "52 [D loss: 0.717635, acc.: 72.32%] [G loss: 0.668276]\n",
      "52 [D loss: 0.716482, acc.: 72.70%] [G loss: 0.667743]\n",
      "52 [D loss: 0.699519, acc.: 72.91%] [G loss: 0.664413]\n",
      "52 [D loss: 0.691401, acc.: 73.27%] [G loss: 0.659277]\n",
      "52 [D loss: 0.695122, acc.: 73.68%] [G loss: 0.656792]"
     ]
    },
    {
     "name": "stderr",
     "output_type": "stream",
     "text": [
      " 88%|████████████████████████████████████████████████████████████████████████▏         | 44/50 [00:01<00:00, 33.27it/s]"
     ]
    },
    {
     "name": "stdout",
     "output_type": "stream",
     "text": [
      "\n",
      "52 [D loss: 0.711814, acc.: 74.32%] [G loss: 0.646639]\n",
      "52 [D loss: 0.692178, acc.: 74.58%] [G loss: 0.647843]\n",
      "52 [D loss: 0.668187, acc.: 75.13%] [G loss: 0.644466]\n",
      "52 [D loss: 0.676451, acc.: 75.30%] [G loss: 0.642419]\n",
      "52 [D loss: 0.688268, acc.: 75.69%] [G loss: 0.636406]\n",
      "52 [D loss: 0.663652, acc.: 75.76%] [G loss: 0.638099]"
     ]
    },
    {
     "name": "stderr",
     "output_type": "stream",
     "text": [
      "100%|██████████████████████████████████████████████████████████████████████████████████| 50/50 [00:01<00:00, 33.20it/s]\n",
      "  0%|                                                                                           | 0/50 [00:00<?, ?it/s]"
     ]
    },
    {
     "name": "stdout",
     "output_type": "stream",
     "text": [
      "\n",
      "52 [D loss: 0.666387, acc.: 75.96%] [G loss: 0.634472]\n",
      "52 [D loss: 0.665791, acc.: 76.13%] [G loss: 0.636171]\n",
      "52 [D loss: 0.663169, acc.: 76.11%] [G loss: 0.634618]\n",
      "52 [D loss: 0.679122, acc.: 76.10%] [G loss: 0.632881]\n",
      "52 [D loss: 0.665401, acc.: 76.47%] [G loss: 0.635144]\n",
      "Epoch 53\n",
      "53 [D loss: 0.666987, acc.: 76.05%] [G loss: 0.634040]"
     ]
    },
    {
     "name": "stderr",
     "output_type": "stream",
     "text": [
      "  8%|██████▋                                                                            | 4/50 [00:00<00:01, 32.97it/s]"
     ]
    },
    {
     "name": "stdout",
     "output_type": "stream",
     "text": [
      "\n",
      "53 [D loss: 0.658902, acc.: 76.02%] [G loss: 0.634135]\n",
      "53 [D loss: 0.661850, acc.: 76.17%] [G loss: 0.633132]\n",
      "53 [D loss: 0.659905, acc.: 76.07%] [G loss: 0.635816]\n",
      "53 [D loss: 0.660426, acc.: 75.95%] [G loss: 0.636048]\n",
      "53 [D loss: 0.659129, acc.: 75.88%] [G loss: 0.636715]\n",
      "53 [D loss: 0.670437, acc.: 75.98%] [G loss: 0.633684]\n"
     ]
    },
    {
     "name": "stderr",
     "output_type": "stream",
     "text": [
      " 24%|███████████████████▋                                                              | 12/50 [00:00<00:01, 32.81it/s]"
     ]
    },
    {
     "name": "stdout",
     "output_type": "stream",
     "text": [
      "53 [D loss: 0.666343, acc.: 76.00%] [G loss: 0.636024]\n",
      "53 [D loss: 0.653804, acc.: 76.13%] [G loss: 0.634526]\n",
      "53 [D loss: 0.656705, acc.: 75.74%] [G loss: 0.634936]\n",
      "53 [D loss: 0.649212, acc.: 75.69%] [G loss: 0.639028]\n",
      "53 [D loss: 0.643956, acc.: 75.50%] [G loss: 0.638066]\n",
      "53 [D loss: 0.641453, acc.: 75.46%] [G loss: 0.639866]\n",
      "53 [D loss: 0.638123, acc.: 75.42%] [G loss: 0.637522]"
     ]
    },
    {
     "name": "stderr",
     "output_type": "stream",
     "text": [
      " 32%|██████████████████████████▏                                                       | 16/50 [00:00<00:01, 32.61it/s]"
     ]
    },
    {
     "name": "stdout",
     "output_type": "stream",
     "text": [
      "\n",
      "53 [D loss: 0.644121, acc.: 74.92%] [G loss: 0.641623]\n",
      "53 [D loss: 0.648412, acc.: 74.98%] [G loss: 0.643962]\n",
      "53 [D loss: 0.633869, acc.: 74.90%] [G loss: 0.646551]\n",
      "53 [D loss: 0.634161, acc.: 74.62%] [G loss: 0.647232]\n",
      "53 [D loss: 0.637019, acc.: 74.43%] [G loss: 0.650151]\n",
      "53 [D loss: 0.642906, acc.: 73.92%] [G loss: 0.653411]"
     ]
    },
    {
     "name": "stderr",
     "output_type": "stream",
     "text": [
      " 48%|███████████████████████████████████████▎                                          | 24/50 [00:00<00:00, 33.24it/s]"
     ]
    },
    {
     "name": "stdout",
     "output_type": "stream",
     "text": [
      "\n",
      "53 [D loss: 0.639622, acc.: 73.71%] [G loss: 0.654866]\n",
      "53 [D loss: 0.645808, acc.: 73.87%] [G loss: 0.658346]\n",
      "53 [D loss: 0.629763, acc.: 73.49%] [G loss: 0.660867]\n",
      "53 [D loss: 0.631953, acc.: 73.23%] [G loss: 0.661525]\n",
      "53 [D loss: 0.636718, acc.: 73.00%] [G loss: 0.664037]\n",
      "53 [D loss: 0.641244, acc.: 73.09%] [G loss: 0.664991]\n",
      "53 [D loss: 0.635466, acc.: 72.68%] [G loss: 0.669821]"
     ]
    },
    {
     "name": "stderr",
     "output_type": "stream",
     "text": [
      " 64%|████████████████████████████████████████████████████▍                             | 32/50 [00:00<00:00, 33.99it/s]"
     ]
    },
    {
     "name": "stdout",
     "output_type": "stream",
     "text": [
      "\n",
      "53 [D loss: 0.636090, acc.: 72.41%] [G loss: 0.667241]\n",
      "53 [D loss: 0.632684, acc.: 72.60%] [G loss: 0.667659]\n",
      "53 [D loss: 0.650481, acc.: 72.75%] [G loss: 0.670841]\n",
      "53 [D loss: 0.640117, acc.: 72.96%] [G loss: 0.665892]\n",
      "53 [D loss: 0.635662, acc.: 72.92%] [G loss: 0.663737]\n",
      "53 [D loss: 0.635507, acc.: 73.75%] [G loss: 0.666746]\n"
     ]
    },
    {
     "name": "stderr",
     "output_type": "stream",
     "text": [
      " 80%|█████████████████████████████████████████████████████████████████▌                | 40/50 [00:01<00:00, 34.37it/s]"
     ]
    },
    {
     "name": "stdout",
     "output_type": "stream",
     "text": [
      "53 [D loss: 0.645430, acc.: 72.96%] [G loss: 0.661248]\n",
      "53 [D loss: 0.637954, acc.: 73.82%] [G loss: 0.662463]\n",
      "53 [D loss: 0.646389, acc.: 73.72%] [G loss: 0.659739]\n",
      "53 [D loss: 0.642616, acc.: 74.01%] [G loss: 0.653885]\n",
      "53 [D loss: 0.646947, acc.: 74.57%] [G loss: 0.654362]\n",
      "53 [D loss: 0.647279, acc.: 74.17%] [G loss: 0.646532]\n",
      "53 [D loss: 0.647450, acc.: 75.14%] [G loss: 0.646295]\n"
     ]
    },
    {
     "name": "stderr",
     "output_type": "stream",
     "text": [
      " 88%|████████████████████████████████████████████████████████████████████████▏         | 44/50 [00:01<00:00, 34.29it/s]"
     ]
    },
    {
     "name": "stdout",
     "output_type": "stream",
     "text": [
      "53 [D loss: 0.647916, acc.: 75.50%] [G loss: 0.641597]\n",
      "53 [D loss: 0.644464, acc.: 75.82%] [G loss: 0.644010]\n",
      "53 [D loss: 0.647827, acc.: 75.79%] [G loss: 0.638869]\n",
      "53 [D loss: 0.656418, acc.: 75.95%] [G loss: 0.639216]\n",
      "53 [D loss: 0.653763, acc.: 76.27%] [G loss: 0.639325]\n",
      "53 [D loss: 0.659612, acc.: 77.00%] [G loss: 0.637067]\n",
      "53 [D loss: 0.651626, acc.: 76.81%] [G loss: 0.638429]\n"
     ]
    },
    {
     "name": "stderr",
     "output_type": "stream",
     "text": [
      "100%|██████████████████████████████████████████████████████████████████████████████████| 50/50 [00:01<00:00, 33.76it/s]\n",
      "  8%|██████▋                                                                            | 4/50 [00:00<00:01, 34.39it/s]"
     ]
    },
    {
     "name": "stdout",
     "output_type": "stream",
     "text": [
      "53 [D loss: 0.673736, acc.: 76.34%] [G loss: 0.638067]\n",
      "53 [D loss: 0.667555, acc.: 76.24%] [G loss: 0.640348]\n",
      "53 [D loss: 0.668250, acc.: 76.29%] [G loss: 0.640597]\n",
      "Epoch 54\n",
      "54 [D loss: 0.674568, acc.: 76.27%] [G loss: 0.641030]\n",
      "54 [D loss: 0.665663, acc.: 75.50%] [G loss: 0.637992]\n",
      "54 [D loss: 0.670351, acc.: 75.70%] [G loss: 0.643132]\n",
      "54 [D loss: 0.669303, acc.: 75.70%] [G loss: 0.650564]\n"
     ]
    },
    {
     "name": "stderr",
     "output_type": "stream",
     "text": [
      " 16%|█████████████▎                                                                     | 8/50 [00:00<00:01, 33.86it/s]"
     ]
    },
    {
     "name": "stdout",
     "output_type": "stream",
     "text": [
      "54 [D loss: 0.674849, acc.: 75.14%] [G loss: 0.651509]\n",
      "54 [D loss: 0.675856, acc.: 74.50%] [G loss: 0.661457]\n",
      "54 [D loss: 0.677446, acc.: 74.18%] [G loss: 0.666125]\n",
      "54 [D loss: 0.678966, acc.: 72.79%] [G loss: 0.675304]\n",
      "54 [D loss: 0.691184, acc.: 71.92%] [G loss: 0.678339]\n",
      "54 [D loss: 0.690488, acc.: 71.16%] [G loss: 0.694175]\n",
      "54 [D loss: 0.697464, acc.: 70.33%] [G loss: 0.708771]"
     ]
    },
    {
     "name": "stderr",
     "output_type": "stream",
     "text": [
      " 32%|██████████████████████████▏                                                       | 16/50 [00:00<00:01, 33.34it/s]"
     ]
    },
    {
     "name": "stdout",
     "output_type": "stream",
     "text": [
      "\n",
      "54 [D loss: 0.696866, acc.: 69.41%] [G loss: 0.713329]\n",
      "54 [D loss: 0.695983, acc.: 68.12%] [G loss: 0.728819]\n",
      "54 [D loss: 0.700102, acc.: 66.14%] [G loss: 0.748041]\n",
      "54 [D loss: 0.696581, acc.: 65.70%] [G loss: 0.756862]\n",
      "54 [D loss: 0.694417, acc.: 63.78%] [G loss: 0.781816]\n",
      "54 [D loss: 0.690816, acc.: 62.48%] [G loss: 0.807924]"
     ]
    },
    {
     "name": "stderr",
     "output_type": "stream",
     "text": [
      " 40%|████████████████████████████████▊                                                 | 20/50 [00:00<00:00, 33.15it/s]"
     ]
    },
    {
     "name": "stdout",
     "output_type": "stream",
     "text": [
      "\n",
      "54 [D loss: 0.705446, acc.: 60.88%] [G loss: 0.833223]\n",
      "54 [D loss: 0.706324, acc.: 58.89%] [G loss: 0.835775]\n",
      "54 [D loss: 0.705730, acc.: 58.24%] [G loss: 0.878981]\n",
      "54 [D loss: 0.716665, acc.: 57.19%] [G loss: 0.901990]\n",
      "54 [D loss: 0.703388, acc.: 56.66%] [G loss: 0.895586]\n",
      "54 [D loss: 0.709376, acc.: 57.03%] [G loss: 0.917089]\n"
     ]
    },
    {
     "name": "stderr",
     "output_type": "stream",
     "text": [
      " 56%|█████████████████████████████████████████████▉                                    | 28/50 [00:00<00:00, 33.17it/s]"
     ]
    },
    {
     "name": "stdout",
     "output_type": "stream",
     "text": [
      "54 [D loss: 0.731255, acc.: 57.05%] [G loss: 0.883637]\n",
      "54 [D loss: 0.726785, acc.: 58.06%] [G loss: 0.883857]\n",
      "54 [D loss: 0.721659, acc.: 59.73%] [G loss: 0.859075]\n",
      "54 [D loss: 0.744798, acc.: 63.26%] [G loss: 0.811671]\n",
      "54 [D loss: 0.722523, acc.: 64.13%] [G loss: 0.776467]\n",
      "54 [D loss: 0.731001, acc.: 66.68%] [G loss: 0.746832]\n",
      "54 [D loss: 0.720180, acc.: 68.32%] [G loss: 0.727528]"
     ]
    },
    {
     "name": "stderr",
     "output_type": "stream",
     "text": [
      " 72%|███████████████████████████████████████████████████████████                       | 36/50 [00:01<00:00, 33.29it/s]"
     ]
    },
    {
     "name": "stdout",
     "output_type": "stream",
     "text": [
      "\n",
      "54 [D loss: 0.750350, acc.: 69.37%] [G loss: 0.713178]\n",
      "54 [D loss: 0.727410, acc.: 70.24%] [G loss: 0.713741]\n",
      "54 [D loss: 0.737063, acc.: 71.23%] [G loss: 0.701561]\n",
      "54 [D loss: 0.733621, acc.: 70.97%] [G loss: 0.706560]\n",
      "54 [D loss: 0.744710, acc.: 70.55%] [G loss: 0.704497]\n",
      "54 [D loss: 0.717379, acc.: 70.56%] [G loss: 0.709423]\n"
     ]
    },
    {
     "name": "stderr",
     "output_type": "stream",
     "text": [
      " 80%|█████████████████████████████████████████████████████████████████▌                | 40/50 [00:01<00:00, 33.28it/s]"
     ]
    },
    {
     "name": "stdout",
     "output_type": "stream",
     "text": [
      "54 [D loss: 0.705898, acc.: 69.79%] [G loss: 0.714859]\n",
      "54 [D loss: 0.705283, acc.: 69.28%] [G loss: 0.718126]\n",
      "54 [D loss: 0.706218, acc.: 68.38%] [G loss: 0.727040]\n",
      "54 [D loss: 0.721742, acc.: 67.61%] [G loss: 0.738472]\n",
      "54 [D loss: 0.712525, acc.: 67.74%] [G loss: 0.734595]\n",
      "54 [D loss: 0.727616, acc.: 66.75%] [G loss: 0.745688]\n",
      "54 [D loss: 0.711410, acc.: 66.95%] [G loss: 0.738473]"
     ]
    },
    {
     "name": "stderr",
     "output_type": "stream",
     "text": [
      " 96%|██████████████████████████████████████████████████████████████████████████████▋   | 48/50 [00:01<00:00, 33.12it/s]"
     ]
    },
    {
     "name": "stdout",
     "output_type": "stream",
     "text": [
      "\n",
      "54 [D loss: 0.715216, acc.: 67.22%] [G loss: 0.745192]\n",
      "54 [D loss: 0.728307, acc.: 67.23%] [G loss: 0.737529]\n",
      "54 [D loss: 0.726198, acc.: 66.58%] [G loss: 0.736069]\n",
      "54 [D loss: 0.723744, acc.: 67.08%] [G loss: 0.739497]\n",
      "54 [D loss: 0.723658, acc.: 66.80%] [G loss: 0.742269]\n",
      "54 [D loss: 0.715989, acc.: 66.25%] [G loss: 0.758030]\n"
     ]
    },
    {
     "name": "stderr",
     "output_type": "stream",
     "text": [
      "100%|██████████████████████████████████████████████████████████████████████████████████| 50/50 [00:01<00:00, 33.15it/s]\n",
      "  8%|██████▋                                                                            | 4/50 [00:00<00:01, 33.24it/s]"
     ]
    },
    {
     "name": "stdout",
     "output_type": "stream",
     "text": [
      "54 [D loss: 0.727074, acc.: 66.34%] [G loss: 0.759596]\n",
      "Epoch 55\n",
      "55 [D loss: 0.753856, acc.: 65.08%] [G loss: 0.769164]\n",
      "55 [D loss: 0.731723, acc.: 64.46%] [G loss: 0.770572]\n",
      "55 [D loss: 0.733312, acc.: 62.87%] [G loss: 0.789338]\n",
      "55 [D loss: 0.732407, acc.: 62.12%] [G loss: 0.801124]\n",
      "55 [D loss: 0.731454, acc.: 61.60%] [G loss: 0.816030]\n",
      "55 [D loss: 0.740772, acc.: 61.18%] [G loss: 0.817390]"
     ]
    },
    {
     "name": "stderr",
     "output_type": "stream",
     "text": [
      " 16%|█████████████▎                                                                     | 8/50 [00:00<00:01, 32.91it/s]"
     ]
    },
    {
     "name": "stdout",
     "output_type": "stream",
     "text": [
      "\n",
      "55 [D loss: 0.726804, acc.: 60.27%] [G loss: 0.822602]\n",
      "55 [D loss: 0.747931, acc.: 60.61%] [G loss: 0.812972]\n",
      "55 [D loss: 0.748980, acc.: 61.98%] [G loss: 0.803614]\n",
      "55 [D loss: 0.741122, acc.: 63.35%] [G loss: 0.794705]\n",
      "55 [D loss: 0.748537, acc.: 63.60%] [G loss: 0.771141]\n",
      "55 [D loss: 0.723091, acc.: 64.05%] [G loss: 0.774609]"
     ]
    },
    {
     "name": "stderr",
     "output_type": "stream",
     "text": [
      " 32%|██████████████████████████▏                                                       | 16/50 [00:00<00:01, 33.08it/s]"
     ]
    },
    {
     "name": "stdout",
     "output_type": "stream",
     "text": [
      "\n",
      "55 [D loss: 0.739094, acc.: 64.53%] [G loss: 0.757506]\n",
      "55 [D loss: 0.729075, acc.: 65.32%] [G loss: 0.747633]\n",
      "55 [D loss: 0.760328, acc.: 66.20%] [G loss: 0.745074]\n",
      "55 [D loss: 0.763321, acc.: 67.33%] [G loss: 0.726057]\n",
      "55 [D loss: 0.719806, acc.: 68.82%] [G loss: 0.719439]\n",
      "55 [D loss: 0.733673, acc.: 69.62%] [G loss: 0.704526]\n"
     ]
    },
    {
     "name": "stderr",
     "output_type": "stream",
     "text": [
      " 48%|███████████████████████████████████████▎                                          | 24/50 [00:00<00:00, 33.11it/s]"
     ]
    },
    {
     "name": "stdout",
     "output_type": "stream",
     "text": [
      "55 [D loss: 0.728368, acc.: 70.34%] [G loss: 0.688054]\n",
      "55 [D loss: 0.739792, acc.: 71.90%] [G loss: 0.690670]\n",
      "55 [D loss: 0.718763, acc.: 71.44%] [G loss: 0.681910]\n",
      "55 [D loss: 0.721780, acc.: 72.52%] [G loss: 0.677802]\n",
      "55 [D loss: 0.717324, acc.: 72.95%] [G loss: 0.666578]\n",
      "55 [D loss: 0.727488, acc.: 72.95%] [G loss: 0.664180]\n",
      "55 [D loss: 0.718623, acc.: 73.65%] [G loss: 0.663049]"
     ]
    },
    {
     "name": "stderr",
     "output_type": "stream",
     "text": [
      " 56%|█████████████████████████████████████████████▉                                    | 28/50 [00:00<00:00, 32.98it/s]"
     ]
    },
    {
     "name": "stdout",
     "output_type": "stream",
     "text": [
      "\n",
      "55 [D loss: 0.700893, acc.: 73.85%] [G loss: 0.660897]\n",
      "55 [D loss: 0.701141, acc.: 73.81%] [G loss: 0.663112]\n",
      "55 [D loss: 0.689574, acc.: 73.12%] [G loss: 0.664185]\n",
      "55 [D loss: 0.697723, acc.: 73.04%] [G loss: 0.667890]\n",
      "55 [D loss: 0.685733, acc.: 73.28%] [G loss: 0.669081]\n",
      "55 [D loss: 0.705006, acc.: 72.41%] [G loss: 0.674310]"
     ]
    },
    {
     "name": "stderr",
     "output_type": "stream",
     "text": [
      " 72%|███████████████████████████████████████████████████████████                       | 36/50 [00:01<00:00, 33.17it/s]"
     ]
    },
    {
     "name": "stdout",
     "output_type": "stream",
     "text": [
      "\n",
      "55 [D loss: 0.697316, acc.: 72.28%] [G loss: 0.672990]\n",
      "55 [D loss: 0.702013, acc.: 71.72%] [G loss: 0.677241]\n",
      "55 [D loss: 0.690432, acc.: 71.30%] [G loss: 0.679420]\n",
      "55 [D loss: 0.701008, acc.: 70.91%] [G loss: 0.686453]\n",
      "55 [D loss: 0.692681, acc.: 70.91%] [G loss: 0.686192]\n",
      "55 [D loss: 0.707886, acc.: 70.94%] [G loss: 0.686652]\n"
     ]
    },
    {
     "name": "stderr",
     "output_type": "stream",
     "text": [
      " 80%|█████████████████████████████████████████████████████████████████▌                | 40/50 [00:01<00:00, 33.19it/s]"
     ]
    },
    {
     "name": "stdout",
     "output_type": "stream",
     "text": [
      "55 [D loss: 0.687396, acc.: 70.59%] [G loss: 0.689667]\n",
      "55 [D loss: 0.693205, acc.: 70.71%] [G loss: 0.686319]\n",
      "55 [D loss: 0.693657, acc.: 70.40%] [G loss: 0.687756]\n",
      "55 [D loss: 0.684456, acc.: 70.42%] [G loss: 0.691767]\n",
      "55 [D loss: 0.689707, acc.: 69.92%] [G loss: 0.695520]\n",
      "55 [D loss: 0.679523, acc.: 69.74%] [G loss: 0.694473]\n",
      "55 [D loss: 0.695086, acc.: 69.86%] [G loss: 0.694022]"
     ]
    },
    {
     "name": "stderr",
     "output_type": "stream",
     "text": [
      "100%|██████████████████████████████████████████████████████████████████████████████████| 50/50 [00:01<00:00, 33.09it/s]\n",
      "  0%|                                                                                           | 0/50 [00:00<?, ?it/s]"
     ]
    },
    {
     "name": "stdout",
     "output_type": "stream",
     "text": [
      "\n",
      "55 [D loss: 0.688519, acc.: 69.97%] [G loss: 0.693476]\n",
      "55 [D loss: 0.689190, acc.: 70.32%] [G loss: 0.689538]\n",
      "55 [D loss: 0.689298, acc.: 70.28%] [G loss: 0.689048]\n",
      "55 [D loss: 0.687950, acc.: 70.45%] [G loss: 0.685406]\n",
      "55 [D loss: 0.679956, acc.: 70.77%] [G loss: 0.682619]\n",
      "55 [D loss: 0.699515, acc.: 71.15%] [G loss: 0.678893]\n",
      "Epoch 56\n"
     ]
    },
    {
     "name": "stderr",
     "output_type": "stream",
     "text": [
      "  8%|██████▋                                                                            | 4/50 [00:00<00:01, 33.24it/s]"
     ]
    },
    {
     "name": "stdout",
     "output_type": "stream",
     "text": [
      "56 [D loss: 0.689753, acc.: 71.57%] [G loss: 0.673444]\n",
      "56 [D loss: 0.676439, acc.: 72.02%] [G loss: 0.670021]\n",
      "56 [D loss: 0.679792, acc.: 72.31%] [G loss: 0.666317]\n",
      "56 [D loss: 0.677012, acc.: 72.81%] [G loss: 0.664473]\n",
      "56 [D loss: 0.677045, acc.: 73.10%] [G loss: 0.658070]\n",
      "56 [D loss: 0.676828, acc.: 73.64%] [G loss: 0.659325]\n",
      "56 [D loss: 0.675633, acc.: 73.64%] [G loss: 0.654018]\n"
     ]
    },
    {
     "name": "stderr",
     "output_type": "stream",
     "text": [
      " 24%|███████████████████▋                                                              | 12/50 [00:00<00:01, 33.22it/s]"
     ]
    },
    {
     "name": "stdout",
     "output_type": "stream",
     "text": [
      "56 [D loss: 0.667947, acc.: 74.32%] [G loss: 0.650660]\n",
      "56 [D loss: 0.678244, acc.: 74.48%] [G loss: 0.646886]\n",
      "56 [D loss: 0.670002, acc.: 74.67%] [G loss: 0.644208]\n",
      "56 [D loss: 0.678653, acc.: 74.70%] [G loss: 0.643367]\n",
      "56 [D loss: 0.672259, acc.: 74.90%] [G loss: 0.641029]\n",
      "56 [D loss: 0.669770, acc.: 75.48%] [G loss: 0.640650]\n",
      "56 [D loss: 0.668587, acc.: 75.67%] [G loss: 0.637675]"
     ]
    },
    {
     "name": "stderr",
     "output_type": "stream",
     "text": [
      " 40%|████████████████████████████████▊                                                 | 20/50 [00:00<00:00, 33.28it/s]"
     ]
    },
    {
     "name": "stdout",
     "output_type": "stream",
     "text": [
      "\n",
      "56 [D loss: 0.667419, acc.: 75.50%] [G loss: 0.636755]\n",
      "56 [D loss: 0.668193, acc.: 75.49%] [G loss: 0.641273]\n",
      "56 [D loss: 0.667508, acc.: 75.25%] [G loss: 0.639036]\n",
      "56 [D loss: 0.663115, acc.: 75.20%] [G loss: 0.640500]\n",
      "56 [D loss: 0.659742, acc.: 75.00%] [G loss: 0.642742]\n",
      "56 [D loss: 0.664621, acc.: 74.88%] [G loss: 0.646484]\n"
     ]
    },
    {
     "name": "stderr",
     "output_type": "stream",
     "text": [
      " 48%|███████████████████████████████████████▎                                          | 24/50 [00:00<00:00, 33.10it/s]"
     ]
    },
    {
     "name": "stdout",
     "output_type": "stream",
     "text": [
      "56 [D loss: 0.671352, acc.: 74.55%] [G loss: 0.647685]\n",
      "56 [D loss: 0.660046, acc.: 74.36%] [G loss: 0.651689]\n",
      "56 [D loss: 0.660166, acc.: 74.14%] [G loss: 0.652853]\n",
      "56 [D loss: 0.660210, acc.: 73.71%] [G loss: 0.657277]\n",
      "56 [D loss: 0.668614, acc.: 73.40%] [G loss: 0.659488]\n",
      "56 [D loss: 0.658321, acc.: 72.97%] [G loss: 0.662300]\n",
      "56 [D loss: 0.666333, acc.: 73.02%] [G loss: 0.664260]"
     ]
    },
    {
     "name": "stderr",
     "output_type": "stream",
     "text": [
      " 64%|████████████████████████████████████████████████████▍                             | 32/50 [00:00<00:00, 33.31it/s]"
     ]
    },
    {
     "name": "stdout",
     "output_type": "stream",
     "text": [
      "\n",
      "56 [D loss: 0.663745, acc.: 72.83%] [G loss: 0.667439]\n",
      "56 [D loss: 0.662524, acc.: 72.28%] [G loss: 0.665681]\n",
      "56 [D loss: 0.662910, acc.: 72.48%] [G loss: 0.665589]\n",
      "56 [D loss: 0.669262, acc.: 72.32%] [G loss: 0.665244]\n",
      "56 [D loss: 0.659694, acc.: 72.85%] [G loss: 0.667122]\n",
      "56 [D loss: 0.664831, acc.: 72.80%] [G loss: 0.666903]\n"
     ]
    },
    {
     "name": "stderr",
     "output_type": "stream",
     "text": [
      " 72%|███████████████████████████████████████████████████████████                       | 36/50 [00:01<00:00, 33.04it/s]"
     ]
    },
    {
     "name": "stdout",
     "output_type": "stream",
     "text": [
      "56 [D loss: 0.658015, acc.: 72.68%] [G loss: 0.663474]\n",
      "56 [D loss: 0.659904, acc.: 72.90%] [G loss: 0.663329]\n",
      "56 [D loss: 0.656446, acc.: 73.08%] [G loss: 0.664708]\n",
      "56 [D loss: 0.662888, acc.: 72.97%] [G loss: 0.661527]\n",
      "56 [D loss: 0.660067, acc.: 73.04%] [G loss: 0.659097]\n",
      "56 [D loss: 0.656718, acc.: 73.44%] [G loss: 0.657588]\n",
      "56 [D loss: 0.656398, acc.: 73.42%] [G loss: 0.657490]"
     ]
    },
    {
     "name": "stderr",
     "output_type": "stream",
     "text": [
      " 88%|████████████████████████████████████████████████████████████████████████▏         | 44/50 [00:01<00:00, 33.26it/s]"
     ]
    },
    {
     "name": "stdout",
     "output_type": "stream",
     "text": [
      "\n",
      "56 [D loss: 0.657381, acc.: 73.60%] [G loss: 0.658475]\n",
      "56 [D loss: 0.664348, acc.: 73.27%] [G loss: 0.656155]\n",
      "56 [D loss: 0.650492, acc.: 73.82%] [G loss: 0.653387]\n",
      "56 [D loss: 0.650473, acc.: 73.64%] [G loss: 0.655201]\n",
      "56 [D loss: 0.649823, acc.: 73.70%] [G loss: 0.653395]\n",
      "56 [D loss: 0.645083, acc.: 73.79%] [G loss: 0.655053]\n"
     ]
    },
    {
     "name": "stderr",
     "output_type": "stream",
     "text": [
      "100%|██████████████████████████████████████████████████████████████████████████████████| 50/50 [00:01<00:00, 33.15it/s]\n",
      "  0%|                                                                                           | 0/50 [00:00<?, ?it/s]"
     ]
    },
    {
     "name": "stdout",
     "output_type": "stream",
     "text": [
      "56 [D loss: 0.654196, acc.: 73.99%] [G loss: 0.655473]\n",
      "56 [D loss: 0.653189, acc.: 73.92%] [G loss: 0.650723]\n",
      "56 [D loss: 0.649469, acc.: 73.85%] [G loss: 0.649838]\n",
      "56 [D loss: 0.649546, acc.: 74.06%] [G loss: 0.652602]\n",
      "Epoch 57\n",
      "57 [D loss: 0.656237, acc.: 74.30%] [G loss: 0.653799]\n",
      "57 [D loss: 0.649865, acc.: 74.18%] [G loss: 0.652794]\n",
      "57 [D loss: 0.657089, acc.: 73.87%] [G loss: 0.652469]"
     ]
    },
    {
     "name": "stderr",
     "output_type": "stream",
     "text": [
      " 16%|█████████████▎                                                                     | 8/50 [00:00<00:01, 33.05it/s]"
     ]
    },
    {
     "name": "stdout",
     "output_type": "stream",
     "text": [
      "\n",
      "57 [D loss: 0.650723, acc.: 74.13%] [G loss: 0.649612]\n",
      "57 [D loss: 0.650667, acc.: 74.04%] [G loss: 0.653086]\n",
      "57 [D loss: 0.646138, acc.: 74.22%] [G loss: 0.654138]\n",
      "57 [D loss: 0.650060, acc.: 73.87%] [G loss: 0.654043]\n",
      "57 [D loss: 0.654339, acc.: 74.15%] [G loss: 0.655818]\n",
      "57 [D loss: 0.657361, acc.: 73.99%] [G loss: 0.655702]"
     ]
    },
    {
     "name": "stderr",
     "output_type": "stream",
     "text": [
      " 24%|███████████████████▋                                                              | 12/50 [00:00<00:01, 33.19it/s]"
     ]
    },
    {
     "name": "stdout",
     "output_type": "stream",
     "text": [
      "\n",
      "57 [D loss: 0.659112, acc.: 73.74%] [G loss: 0.655295]\n",
      "57 [D loss: 0.648519, acc.: 73.73%] [G loss: 0.658580]\n",
      "57 [D loss: 0.648253, acc.: 73.49%] [G loss: 0.658597]\n",
      "57 [D loss: 0.649868, acc.: 73.59%] [G loss: 0.661341]\n",
      "57 [D loss: 0.651459, acc.: 73.13%] [G loss: 0.664432]\n",
      "57 [D loss: 0.649951, acc.: 72.95%] [G loss: 0.664289]\n"
     ]
    },
    {
     "name": "stderr",
     "output_type": "stream",
     "text": [
      " 40%|████████████████████████████████▊                                                 | 20/50 [00:00<00:00, 33.19it/s]"
     ]
    },
    {
     "name": "stdout",
     "output_type": "stream",
     "text": [
      "57 [D loss: 0.651078, acc.: 72.63%] [G loss: 0.667192]\n",
      "57 [D loss: 0.655616, acc.: 72.35%] [G loss: 0.670789]\n",
      "57 [D loss: 0.650316, acc.: 71.80%] [G loss: 0.676099]\n",
      "57 [D loss: 0.650113, acc.: 71.67%] [G loss: 0.681234]\n",
      "57 [D loss: 0.656558, acc.: 71.12%] [G loss: 0.684058]\n",
      "57 [D loss: 0.651183, acc.: 70.74%] [G loss: 0.687512]\n",
      "57 [D loss: 0.652279, acc.: 70.07%] [G loss: 0.694734]"
     ]
    },
    {
     "name": "stderr",
     "output_type": "stream",
     "text": [
      " 48%|███████████████████████████████████████▎                                          | 24/50 [00:00<00:00, 33.12it/s]"
     ]
    },
    {
     "name": "stdout",
     "output_type": "stream",
     "text": [
      "\n",
      "57 [D loss: 0.657717, acc.: 69.74%] [G loss: 0.698822]\n",
      "57 [D loss: 0.657689, acc.: 69.31%] [G loss: 0.703562]\n",
      "57 [D loss: 0.657656, acc.: 69.08%] [G loss: 0.707998]\n",
      "57 [D loss: 0.660072, acc.: 68.27%] [G loss: 0.712090]\n",
      "57 [D loss: 0.655348, acc.: 68.48%] [G loss: 0.711412]\n",
      "57 [D loss: 0.659657, acc.: 67.96%] [G loss: 0.709158]"
     ]
    },
    {
     "name": "stderr",
     "output_type": "stream",
     "text": [
      " 64%|████████████████████████████████████████████████████▍                             | 32/50 [00:00<00:00, 32.61it/s]"
     ]
    },
    {
     "name": "stdout",
     "output_type": "stream",
     "text": [
      "\n",
      "57 [D loss: 0.661528, acc.: 68.17%] [G loss: 0.714168]\n",
      "57 [D loss: 0.659359, acc.: 68.29%] [G loss: 0.717633]\n",
      "57 [D loss: 0.659974, acc.: 68.87%] [G loss: 0.710690]\n",
      "57 [D loss: 0.666975, acc.: 69.22%] [G loss: 0.709353]\n",
      "57 [D loss: 0.665313, acc.: 68.81%] [G loss: 0.704889]\n",
      "57 [D loss: 0.664424, acc.: 69.93%] [G loss: 0.702854]\n"
     ]
    },
    {
     "name": "stderr",
     "output_type": "stream",
     "text": [
      " 80%|█████████████████████████████████████████████████████████████████▌                | 40/50 [00:01<00:00, 33.23it/s]"
     ]
    },
    {
     "name": "stdout",
     "output_type": "stream",
     "text": [
      "57 [D loss: 0.662632, acc.: 69.62%] [G loss: 0.698250]\n",
      "57 [D loss: 0.663331, acc.: 70.49%] [G loss: 0.690346]\n",
      "57 [D loss: 0.669887, acc.: 71.23%] [G loss: 0.686821]\n",
      "57 [D loss: 0.671242, acc.: 71.71%] [G loss: 0.680941]\n",
      "57 [D loss: 0.662699, acc.: 72.32%] [G loss: 0.676401]\n",
      "57 [D loss: 0.674613, acc.: 72.80%] [G loss: 0.671339]\n",
      "57 [D loss: 0.683465, acc.: 73.15%] [G loss: 0.667262]"
     ]
    },
    {
     "name": "stderr",
     "output_type": "stream",
     "text": [
      " 88%|████████████████████████████████████████████████████████████████████████▏         | 44/50 [00:01<00:00, 33.07it/s]"
     ]
    },
    {
     "name": "stdout",
     "output_type": "stream",
     "text": [
      "\n",
      "57 [D loss: 0.666564, acc.: 74.19%] [G loss: 0.660546]\n",
      "57 [D loss: 0.677001, acc.: 74.14%] [G loss: 0.659720]\n",
      "57 [D loss: 0.672964, acc.: 74.61%] [G loss: 0.655957]\n",
      "57 [D loss: 0.671739, acc.: 74.26%] [G loss: 0.655384]\n",
      "57 [D loss: 0.684781, acc.: 74.54%] [G loss: 0.655023]\n",
      "57 [D loss: 0.675031, acc.: 74.06%] [G loss: 0.655921]\n"
     ]
    },
    {
     "name": "stderr",
     "output_type": "stream",
     "text": [
      "100%|██████████████████████████████████████████████████████████████████████████████████| 50/50 [00:01<00:00, 33.04it/s]\n",
      "  0%|                                                                                           | 0/50 [00:00<?, ?it/s]"
     ]
    },
    {
     "name": "stdout",
     "output_type": "stream",
     "text": [
      "57 [D loss: 0.686570, acc.: 74.12%] [G loss: 0.662540]\n",
      "57 [D loss: 0.678610, acc.: 73.15%] [G loss: 0.672465]\n",
      "57 [D loss: 0.679182, acc.: 72.02%] [G loss: 0.680878]\n",
      "Epoch 58\n",
      "58 [D loss: 0.673630, acc.: 71.68%] [G loss: 0.689496]\n",
      "58 [D loss: 0.686191, acc.: 70.23%] [G loss: 0.698032]\n",
      "58 [D loss: 0.682109, acc.: 69.23%] [G loss: 0.708042]\n",
      "58 [D loss: 0.690239, acc.: 67.69%] [G loss: 0.732864]"
     ]
    },
    {
     "name": "stderr",
     "output_type": "stream",
     "text": [
      " 16%|█████████████▎                                                                     | 8/50 [00:00<00:01, 34.04it/s]"
     ]
    },
    {
     "name": "stdout",
     "output_type": "stream",
     "text": [
      "\n",
      "58 [D loss: 0.696065, acc.: 67.35%] [G loss: 0.741299]\n",
      "58 [D loss: 0.694804, acc.: 65.38%] [G loss: 0.756634]\n",
      "58 [D loss: 0.702967, acc.: 64.08%] [G loss: 0.769853]\n",
      "58 [D loss: 0.693477, acc.: 63.84%] [G loss: 0.775720]\n",
      "58 [D loss: 0.698780, acc.: 62.91%] [G loss: 0.781757]\n",
      "58 [D loss: 0.695238, acc.: 62.76%] [G loss: 0.791045]"
     ]
    },
    {
     "name": "stderr",
     "output_type": "stream",
     "text": [
      " 32%|██████████████████████████▏                                                       | 16/50 [00:00<00:01, 33.74it/s]"
     ]
    },
    {
     "name": "stdout",
     "output_type": "stream",
     "text": [
      "\n",
      "58 [D loss: 0.702647, acc.: 63.13%] [G loss: 0.794084]\n",
      "58 [D loss: 0.701180, acc.: 62.62%] [G loss: 0.788624]\n",
      "58 [D loss: 0.721395, acc.: 63.65%] [G loss: 0.798570]\n",
      "58 [D loss: 0.704355, acc.: 64.13%] [G loss: 0.765477]\n",
      "58 [D loss: 0.700229, acc.: 65.05%] [G loss: 0.754891]\n",
      "58 [D loss: 0.703223, acc.: 66.58%] [G loss: 0.743083]\n"
     ]
    },
    {
     "name": "stderr",
     "output_type": "stream",
     "text": [
      " 40%|████████████████████████████████▊                                                 | 20/50 [00:00<00:00, 33.67it/s]"
     ]
    },
    {
     "name": "stdout",
     "output_type": "stream",
     "text": [
      "58 [D loss: 0.701545, acc.: 67.37%] [G loss: 0.729077]\n",
      "58 [D loss: 0.700477, acc.: 67.59%] [G loss: 0.720561]\n",
      "58 [D loss: 0.707724, acc.: 69.72%] [G loss: 0.706136]\n",
      "58 [D loss: 0.702120, acc.: 69.87%] [G loss: 0.701613]\n",
      "58 [D loss: 0.721863, acc.: 70.45%] [G loss: 0.698828]\n",
      "58 [D loss: 0.714196, acc.: 71.35%] [G loss: 0.691739]\n",
      "58 [D loss: 0.705803, acc.: 70.57%] [G loss: 0.692061]\n"
     ]
    },
    {
     "name": "stderr",
     "output_type": "stream",
     "text": [
      " 56%|█████████████████████████████████████████████▉                                    | 28/50 [00:00<00:00, 33.34it/s]"
     ]
    },
    {
     "name": "stdout",
     "output_type": "stream",
     "text": [
      "58 [D loss: 0.703660, acc.: 70.38%] [G loss: 0.704757]\n",
      "58 [D loss: 0.700914, acc.: 69.29%] [G loss: 0.713069]\n",
      "58 [D loss: 0.703752, acc.: 67.69%] [G loss: 0.740993]\n",
      "58 [D loss: 0.711459, acc.: 65.94%] [G loss: 0.768053]\n",
      "58 [D loss: 0.710522, acc.: 64.35%] [G loss: 0.792103]\n",
      "58 [D loss: 0.724620, acc.: 60.72%] [G loss: 0.841896]\n",
      "58 [D loss: 0.713503, acc.: 58.57%] [G loss: 0.847393]"
     ]
    },
    {
     "name": "stderr",
     "output_type": "stream",
     "text": [
      " 72%|███████████████████████████████████████████████████████████                       | 36/50 [00:01<00:00, 33.43it/s]"
     ]
    },
    {
     "name": "stdout",
     "output_type": "stream",
     "text": [
      "\n",
      "58 [D loss: 0.706689, acc.: 57.19%] [G loss: 0.900739]\n",
      "58 [D loss: 0.721292, acc.: 57.87%] [G loss: 0.889982]\n",
      "58 [D loss: 0.713706, acc.: 57.66%] [G loss: 0.862756]\n",
      "58 [D loss: 0.741671, acc.: 63.24%] [G loss: 0.826512]\n",
      "58 [D loss: 0.724891, acc.: 65.44%] [G loss: 0.771239]\n",
      "58 [D loss: 0.746858, acc.: 68.84%] [G loss: 0.720503]\n"
     ]
    },
    {
     "name": "stderr",
     "output_type": "stream",
     "text": [
      " 80%|█████████████████████████████████████████████████████████████████▌                | 40/50 [00:01<00:00, 33.21it/s]"
     ]
    },
    {
     "name": "stdout",
     "output_type": "stream",
     "text": [
      "58 [D loss: 0.725840, acc.: 70.31%] [G loss: 0.698111]\n",
      "58 [D loss: 0.710362, acc.: 71.64%] [G loss: 0.681350]\n",
      "58 [D loss: 0.731928, acc.: 72.32%] [G loss: 0.675900]\n",
      "58 [D loss: 0.734795, acc.: 71.90%] [G loss: 0.677252]\n",
      "58 [D loss: 0.720362, acc.: 71.67%] [G loss: 0.680388]\n",
      "58 [D loss: 0.742446, acc.: 71.11%] [G loss: 0.688037]\n",
      "58 [D loss: 0.715923, acc.: 70.05%] [G loss: 0.694315]\n"
     ]
    },
    {
     "name": "stderr",
     "output_type": "stream",
     "text": [
      "100%|██████████████████████████████████████████████████████████████████████████████████| 50/50 [00:01<00:00, 33.35it/s]"
     ]
    },
    {
     "name": "stdout",
     "output_type": "stream",
     "text": [
      "58 [D loss: 0.717209, acc.: 70.18%] [G loss: 0.698489]\n",
      "58 [D loss: 0.717043, acc.: 69.06%] [G loss: 0.708855]\n",
      "58 [D loss: 0.728789, acc.: 68.25%] [G loss: 0.720297]\n",
      "58 [D loss: 0.717230, acc.: 67.95%] [G loss: 0.715002]\n",
      "58 [D loss: 0.707293, acc.: 68.28%] [G loss: 0.718956]\n",
      "58 [D loss: 0.706966, acc.: 68.26%] [G loss: 0.723226]\n",
      "58 [D loss: 0.704019, acc.: 68.18%] [G loss: 0.722727]\n",
      "Epoch 59"
     ]
    },
    {
     "name": "stderr",
     "output_type": "stream",
     "text": [
      "\n",
      "  8%|██████▋                                                                            | 4/50 [00:00<00:01, 34.10it/s]"
     ]
    },
    {
     "name": "stdout",
     "output_type": "stream",
     "text": [
      "\n",
      "59 [D loss: 0.711622, acc.: 68.27%] [G loss: 0.711998]\n",
      "59 [D loss: 0.700870, acc.: 69.13%] [G loss: 0.703166]\n",
      "59 [D loss: 0.715433, acc.: 69.10%] [G loss: 0.701232]\n",
      "59 [D loss: 0.709407, acc.: 69.46%] [G loss: 0.702905]\n",
      "59 [D loss: 0.731480, acc.: 70.01%] [G loss: 0.695268]\n",
      "59 [D loss: 0.710879, acc.: 70.10%] [G loss: 0.694886]\n"
     ]
    },
    {
     "name": "stderr",
     "output_type": "stream",
     "text": [
      " 24%|███████████████████▋                                                              | 12/50 [00:00<00:01, 33.34it/s]"
     ]
    },
    {
     "name": "stdout",
     "output_type": "stream",
     "text": [
      "59 [D loss: 0.710099, acc.: 70.05%] [G loss: 0.693645]\n",
      "59 [D loss: 0.704435, acc.: 70.16%] [G loss: 0.691870]\n",
      "59 [D loss: 0.711024, acc.: 70.55%] [G loss: 0.690157]\n",
      "59 [D loss: 0.708753, acc.: 70.14%] [G loss: 0.693810]\n",
      "59 [D loss: 0.716835, acc.: 70.36%] [G loss: 0.689997]\n",
      "59 [D loss: 0.707830, acc.: 70.51%] [G loss: 0.691191]\n",
      "59 [D loss: 0.697687, acc.: 70.06%] [G loss: 0.689140]"
     ]
    },
    {
     "name": "stderr",
     "output_type": "stream",
     "text": [
      " 32%|██████████████████████████▏                                                       | 16/50 [00:00<00:01, 33.31it/s]"
     ]
    },
    {
     "name": "stdout",
     "output_type": "stream",
     "text": [
      "\n",
      "59 [D loss: 0.713046, acc.: 70.35%] [G loss: 0.689301]\n",
      "59 [D loss: 0.703899, acc.: 70.25%] [G loss: 0.688290]\n",
      "59 [D loss: 0.702321, acc.: 70.36%] [G loss: 0.688653]\n",
      "59 [D loss: 0.688025, acc.: 70.77%] [G loss: 0.685940]\n",
      "59 [D loss: 0.702372, acc.: 70.66%] [G loss: 0.686041]\n",
      "59 [D loss: 0.689185, acc.: 70.91%] [G loss: 0.686309]\n"
     ]
    },
    {
     "name": "stderr",
     "output_type": "stream",
     "text": [
      " 48%|███████████████████████████████████████▎                                          | 24/50 [00:00<00:00, 33.56it/s]"
     ]
    },
    {
     "name": "stdout",
     "output_type": "stream",
     "text": [
      "59 [D loss: 0.716596, acc.: 71.01%] [G loss: 0.682369]\n",
      "59 [D loss: 0.692176, acc.: 71.08%] [G loss: 0.677692]\n",
      "59 [D loss: 0.690000, acc.: 71.67%] [G loss: 0.678547]\n",
      "59 [D loss: 0.695023, acc.: 71.85%] [G loss: 0.672672]\n",
      "59 [D loss: 0.700504, acc.: 71.86%] [G loss: 0.673464]\n",
      "59 [D loss: 0.691556, acc.: 72.09%] [G loss: 0.671118]\n",
      "59 [D loss: 0.690904, acc.: 72.10%] [G loss: 0.668759]"
     ]
    },
    {
     "name": "stderr",
     "output_type": "stream",
     "text": [
      " 64%|████████████████████████████████████████████████████▍                             | 32/50 [00:00<00:00, 33.39it/s]"
     ]
    },
    {
     "name": "stdout",
     "output_type": "stream",
     "text": [
      "\n",
      "59 [D loss: 0.683935, acc.: 72.47%] [G loss: 0.666936]\n",
      "59 [D loss: 0.683997, acc.: 72.44%] [G loss: 0.666000]\n",
      "59 [D loss: 0.679324, acc.: 72.16%] [G loss: 0.668099]\n",
      "59 [D loss: 0.683784, acc.: 72.35%] [G loss: 0.665701]\n",
      "59 [D loss: 0.678562, acc.: 72.36%] [G loss: 0.667901]\n",
      "59 [D loss: 0.690790, acc.: 72.16%] [G loss: 0.668045]\n"
     ]
    },
    {
     "name": "stderr",
     "output_type": "stream",
     "text": [
      " 72%|███████████████████████████████████████████████████████████                       | 36/50 [00:01<00:00, 33.26it/s]"
     ]
    },
    {
     "name": "stdout",
     "output_type": "stream",
     "text": [
      "59 [D loss: 0.683577, acc.: 72.40%] [G loss: 0.670483]\n",
      "59 [D loss: 0.685762, acc.: 72.26%] [G loss: 0.667375]\n",
      "59 [D loss: 0.693232, acc.: 72.32%] [G loss: 0.670096]\n",
      "59 [D loss: 0.676406, acc.: 72.16%] [G loss: 0.670477]\n",
      "59 [D loss: 0.678066, acc.: 72.24%] [G loss: 0.668698]\n",
      "59 [D loss: 0.678209, acc.: 72.22%] [G loss: 0.667650]\n",
      "59 [D loss: 0.694132, acc.: 72.32%] [G loss: 0.670803]"
     ]
    },
    {
     "name": "stderr",
     "output_type": "stream",
     "text": [
      " 88%|████████████████████████████████████████████████████████████████████████▏         | 44/50 [00:01<00:00, 33.09it/s]"
     ]
    },
    {
     "name": "stdout",
     "output_type": "stream",
     "text": [
      "\n",
      "59 [D loss: 0.675682, acc.: 72.19%] [G loss: 0.670595]\n",
      "59 [D loss: 0.674532, acc.: 72.12%] [G loss: 0.666870]\n",
      "59 [D loss: 0.683893, acc.: 72.28%] [G loss: 0.666853]\n",
      "59 [D loss: 0.678072, acc.: 72.60%] [G loss: 0.665141]\n",
      "59 [D loss: 0.680948, acc.: 72.41%] [G loss: 0.668512]\n",
      "59 [D loss: 0.679311, acc.: 72.56%] [G loss: 0.662335]"
     ]
    },
    {
     "name": "stderr",
     "output_type": "stream",
     "text": [
      "100%|██████████████████████████████████████████████████████████████████████████████████| 50/50 [00:01<00:00, 33.18it/s]\n",
      "  0%|                                                                                           | 0/50 [00:00<?, ?it/s]"
     ]
    },
    {
     "name": "stdout",
     "output_type": "stream",
     "text": [
      "\n",
      "59 [D loss: 0.676345, acc.: 72.67%] [G loss: 0.665369]\n",
      "59 [D loss: 0.668998, acc.: 72.88%] [G loss: 0.663900]\n",
      "59 [D loss: 0.676016, acc.: 72.84%] [G loss: 0.661526]\n",
      "59 [D loss: 0.674233, acc.: 72.75%] [G loss: 0.659840]\n",
      "59 [D loss: 0.673828, acc.: 73.08%] [G loss: 0.658807]\n",
      "Epoch 60\n",
      "60 [D loss: 0.667583, acc.: 73.29%] [G loss: 0.658931]"
     ]
    },
    {
     "name": "stderr",
     "output_type": "stream",
     "text": [
      "  8%|██████▋                                                                            | 4/50 [00:00<00:01, 32.70it/s]"
     ]
    },
    {
     "name": "stdout",
     "output_type": "stream",
     "text": [
      "\n",
      "60 [D loss: 0.670417, acc.: 73.23%] [G loss: 0.658063]\n",
      "60 [D loss: 0.672092, acc.: 73.28%] [G loss: 0.655112]\n",
      "60 [D loss: 0.661457, acc.: 73.52%] [G loss: 0.658013]\n",
      "60 [D loss: 0.669261, acc.: 73.55%] [G loss: 0.657997]\n",
      "60 [D loss: 0.667469, acc.: 73.62%] [G loss: 0.656155]\n",
      "60 [D loss: 0.665117, acc.: 73.67%] [G loss: 0.657326]\n"
     ]
    },
    {
     "name": "stderr",
     "output_type": "stream",
     "text": [
      " 24%|███████████████████▋                                                              | 12/50 [00:00<00:01, 32.75it/s]"
     ]
    },
    {
     "name": "stdout",
     "output_type": "stream",
     "text": [
      "60 [D loss: 0.662380, acc.: 73.43%] [G loss: 0.656989]\n",
      "60 [D loss: 0.663482, acc.: 73.46%] [G loss: 0.655717]\n",
      "60 [D loss: 0.663168, acc.: 73.74%] [G loss: 0.655690]\n",
      "60 [D loss: 0.663556, acc.: 73.55%] [G loss: 0.655903]\n",
      "60 [D loss: 0.659696, acc.: 73.58%] [G loss: 0.655629]\n",
      "60 [D loss: 0.660269, acc.: 73.56%] [G loss: 0.654623]\n",
      "60 [D loss: 0.660425, acc.: 73.43%] [G loss: 0.656039]"
     ]
    },
    {
     "name": "stderr",
     "output_type": "stream",
     "text": [
      " 32%|██████████████████████████▏                                                       | 16/50 [00:00<00:01, 32.34it/s]"
     ]
    },
    {
     "name": "stdout",
     "output_type": "stream",
     "text": [
      "\n",
      "60 [D loss: 0.664874, acc.: 73.38%] [G loss: 0.657085]\n",
      "60 [D loss: 0.656598, acc.: 73.37%] [G loss: 0.660241]\n",
      "60 [D loss: 0.657969, acc.: 73.45%] [G loss: 0.659067]\n",
      "60 [D loss: 0.663222, acc.: 72.93%] [G loss: 0.660486]\n",
      "60 [D loss: 0.656675, acc.: 72.96%] [G loss: 0.661144]\n",
      "60 [D loss: 0.657556, acc.: 73.23%] [G loss: 0.662092]"
     ]
    },
    {
     "name": "stderr",
     "output_type": "stream",
     "text": [
      " 48%|███████████████████████████████████████▎                                          | 24/50 [00:00<00:00, 32.63it/s]"
     ]
    },
    {
     "name": "stdout",
     "output_type": "stream",
     "text": [
      "\n",
      "60 [D loss: 0.655875, acc.: 72.78%] [G loss: 0.662439]\n",
      "60 [D loss: 0.655557, acc.: 72.57%] [G loss: 0.665244]\n",
      "60 [D loss: 0.661545, acc.: 72.58%] [G loss: 0.666825]\n",
      "60 [D loss: 0.659022, acc.: 72.43%] [G loss: 0.669415]\n",
      "60 [D loss: 0.666257, acc.: 72.15%] [G loss: 0.671641]\n",
      "60 [D loss: 0.656564, acc.: 72.14%] [G loss: 0.669924]"
     ]
    },
    {
     "name": "stderr",
     "output_type": "stream",
     "text": [
      " 64%|████████████████████████████████████████████████████▍                             | 32/50 [00:00<00:00, 33.06it/s]"
     ]
    },
    {
     "name": "stdout",
     "output_type": "stream",
     "text": [
      "\n",
      "60 [D loss: 0.655195, acc.: 71.84%] [G loss: 0.673994]\n",
      "60 [D loss: 0.659257, acc.: 71.57%] [G loss: 0.676327]\n",
      "60 [D loss: 0.662995, acc.: 71.82%] [G loss: 0.677681]\n",
      "60 [D loss: 0.657873, acc.: 71.42%] [G loss: 0.679086]\n",
      "60 [D loss: 0.657232, acc.: 71.39%] [G loss: 0.681102]\n",
      "60 [D loss: 0.665561, acc.: 71.06%] [G loss: 0.683968]\n"
     ]
    },
    {
     "name": "stderr",
     "output_type": "stream",
     "text": [
      " 72%|███████████████████████████████████████████████████████████                       | 36/50 [00:01<00:00, 32.95it/s]"
     ]
    },
    {
     "name": "stdout",
     "output_type": "stream",
     "text": [
      "60 [D loss: 0.662986, acc.: 71.10%] [G loss: 0.683777]\n",
      "60 [D loss: 0.660512, acc.: 70.93%] [G loss: 0.684696]\n",
      "60 [D loss: 0.660147, acc.: 70.98%] [G loss: 0.683538]\n",
      "60 [D loss: 0.664210, acc.: 70.82%] [G loss: 0.683635]\n",
      "60 [D loss: 0.659204, acc.: 70.46%] [G loss: 0.686861]\n",
      "60 [D loss: 0.653257, acc.: 70.72%] [G loss: 0.688250]\n",
      "60 [D loss: 0.656421, acc.: 70.52%] [G loss: 0.690310]"
     ]
    },
    {
     "name": "stderr",
     "output_type": "stream",
     "text": [
      " 88%|████████████████████████████████████████████████████████████████████████▏         | 44/50 [00:01<00:00, 33.03it/s]"
     ]
    },
    {
     "name": "stdout",
     "output_type": "stream",
     "text": [
      "\n",
      "60 [D loss: 0.660220, acc.: 70.17%] [G loss: 0.690154]\n",
      "60 [D loss: 0.660838, acc.: 70.27%] [G loss: 0.690507]\n",
      "60 [D loss: 0.662963, acc.: 70.33%] [G loss: 0.691827]\n",
      "60 [D loss: 0.658113, acc.: 70.49%] [G loss: 0.688353]\n",
      "60 [D loss: 0.660811, acc.: 70.40%] [G loss: 0.691556]\n",
      "60 [D loss: 0.666175, acc.: 70.54%] [G loss: 0.689766]\n"
     ]
    },
    {
     "name": "stderr",
     "output_type": "stream",
     "text": [
      "100%|██████████████████████████████████████████████████████████████████████████████████| 50/50 [00:01<00:00, 32.83it/s]\n",
      "  0%|                                                                                           | 0/50 [00:00<?, ?it/s]"
     ]
    },
    {
     "name": "stdout",
     "output_type": "stream",
     "text": [
      "60 [D loss: 0.667334, acc.: 70.75%] [G loss: 0.690047]\n",
      "60 [D loss: 0.665991, acc.: 70.72%] [G loss: 0.683839]\n",
      "60 [D loss: 0.669939, acc.: 70.98%] [G loss: 0.687904]\n",
      "60 [D loss: 0.668051, acc.: 70.99%] [G loss: 0.684927]\n",
      "60 [D loss: 0.666335, acc.: 71.10%] [G loss: 0.683931]\n",
      "Epoch 61\n",
      "61 [D loss: 0.659955, acc.: 71.15%] [G loss: 0.681530]\n"
     ]
    },
    {
     "name": "stderr",
     "output_type": "stream",
     "text": [
      "  8%|██████▋                                                                            | 4/50 [00:00<00:01, 32.43it/s]"
     ]
    },
    {
     "name": "stdout",
     "output_type": "stream",
     "text": [
      "61 [D loss: 0.665113, acc.: 71.60%] [G loss: 0.681851]\n",
      "61 [D loss: 0.669228, acc.: 71.24%] [G loss: 0.682036]\n",
      "61 [D loss: 0.667584, acc.: 71.43%] [G loss: 0.681053]\n",
      "61 [D loss: 0.670344, acc.: 71.27%] [G loss: 0.681729]\n",
      "61 [D loss: 0.667449, acc.: 71.46%] [G loss: 0.677395]\n",
      "61 [D loss: 0.669947, acc.: 71.53%] [G loss: 0.676336]\n",
      "61 [D loss: 0.675908, acc.: 71.49%] [G loss: 0.678148]"
     ]
    },
    {
     "name": "stderr",
     "output_type": "stream",
     "text": [
      " 24%|███████████████████▋                                                              | 12/50 [00:00<00:01, 32.65it/s]"
     ]
    },
    {
     "name": "stdout",
     "output_type": "stream",
     "text": [
      "\n",
      "61 [D loss: 0.670902, acc.: 71.95%] [G loss: 0.674877]\n",
      "61 [D loss: 0.669991, acc.: 72.12%] [G loss: 0.676615]\n",
      "61 [D loss: 0.661502, acc.: 71.68%] [G loss: 0.678546]\n",
      "61 [D loss: 0.667378, acc.: 71.75%] [G loss: 0.681843]\n",
      "61 [D loss: 0.676728, acc.: 71.52%] [G loss: 0.678540]\n",
      "61 [D loss: 0.667777, acc.: 71.64%] [G loss: 0.678118]"
     ]
    },
    {
     "name": "stderr",
     "output_type": "stream",
     "text": [
      " 40%|████████████████████████████████▊                                                 | 20/50 [00:00<00:00, 33.63it/s]"
     ]
    },
    {
     "name": "stdout",
     "output_type": "stream",
     "text": [
      "\n",
      "61 [D loss: 0.676059, acc.: 71.51%] [G loss: 0.680153]\n",
      "61 [D loss: 0.672943, acc.: 71.34%] [G loss: 0.682080]\n",
      "61 [D loss: 0.670640, acc.: 70.80%] [G loss: 0.682544]\n",
      "61 [D loss: 0.671878, acc.: 71.33%] [G loss: 0.684355]\n",
      "61 [D loss: 0.682145, acc.: 70.76%] [G loss: 0.688397]\n",
      "61 [D loss: 0.680508, acc.: 70.35%] [G loss: 0.698270]\n"
     ]
    },
    {
     "name": "stderr",
     "output_type": "stream",
     "text": [
      " 48%|███████████████████████████████████████▎                                          | 24/50 [00:00<00:00, 33.68it/s]"
     ]
    },
    {
     "name": "stdout",
     "output_type": "stream",
     "text": [
      "61 [D loss: 0.667374, acc.: 69.92%] [G loss: 0.699262]\n",
      "61 [D loss: 0.675125, acc.: 69.56%] [G loss: 0.704003]\n",
      "61 [D loss: 0.670422, acc.: 69.07%] [G loss: 0.710541]\n",
      "61 [D loss: 0.674950, acc.: 68.16%] [G loss: 0.719074]\n",
      "61 [D loss: 0.677764, acc.: 67.45%] [G loss: 0.727697]\n",
      "61 [D loss: 0.681797, acc.: 66.74%] [G loss: 0.741900]\n",
      "61 [D loss: 0.677311, acc.: 65.66%] [G loss: 0.749098]\n",
      "61 [D loss: 0.672885, acc.: 64.49%] [G loss: 0.759811]"
     ]
    },
    {
     "name": "stderr",
     "output_type": "stream",
     "text": [
      " 64%|████████████████████████████████████████████████████▍                             | 32/50 [00:00<00:00, 34.04it/s]"
     ]
    },
    {
     "name": "stdout",
     "output_type": "stream",
     "text": [
      "\n",
      "61 [D loss: 0.674663, acc.: 63.85%] [G loss: 0.777658]\n",
      "61 [D loss: 0.679114, acc.: 62.62%] [G loss: 0.792894]\n",
      "61 [D loss: 0.673537, acc.: 60.85%] [G loss: 0.815129]\n",
      "61 [D loss: 0.680471, acc.: 59.75%] [G loss: 0.829611]\n",
      "61 [D loss: 0.675989, acc.: 58.03%] [G loss: 0.863385]\n",
      "61 [D loss: 0.678055, acc.: 56.87%] [G loss: 0.892339]\n"
     ]
    },
    {
     "name": "stderr",
     "output_type": "stream",
     "text": [
      " 80%|█████████████████████████████████████████████████████████████████▌                | 40/50 [00:01<00:00, 34.37it/s]"
     ]
    },
    {
     "name": "stdout",
     "output_type": "stream",
     "text": [
      "61 [D loss: 0.675180, acc.: 55.24%] [G loss: 0.910051]\n",
      "61 [D loss: 0.677791, acc.: 53.50%] [G loss: 0.930112]\n",
      "61 [D loss: 0.679209, acc.: 54.40%] [G loss: 0.957098]\n",
      "61 [D loss: 0.678416, acc.: 54.80%] [G loss: 0.952711]\n",
      "61 [D loss: 0.689323, acc.: 57.50%] [G loss: 0.931956]\n",
      "61 [D loss: 0.682632, acc.: 59.98%] [G loss: 0.910041]\n",
      "61 [D loss: 0.710418, acc.: 65.25%] [G loss: 0.829382]\n"
     ]
    },
    {
     "name": "stderr",
     "output_type": "stream",
     "text": [
      " 96%|██████████████████████████████████████████████████████████████████████████████▋   | 48/50 [00:01<00:00, 34.47it/s]"
     ]
    },
    {
     "name": "stdout",
     "output_type": "stream",
     "text": [
      "61 [D loss: 0.713945, acc.: 68.28%] [G loss: 0.760738]\n",
      "61 [D loss: 0.727194, acc.: 72.30%] [G loss: 0.706393]\n",
      "61 [D loss: 0.711630, acc.: 76.03%] [G loss: 0.670741]\n",
      "61 [D loss: 0.712322, acc.: 77.62%] [G loss: 0.658846]\n",
      "61 [D loss: 0.711537, acc.: 77.38%] [G loss: 0.654037]\n",
      "61 [D loss: 0.672061, acc.: 75.51%] [G loss: 0.696668]\n",
      "61 [D loss: 0.640935, acc.: 70.24%] [G loss: 0.733498]\n"
     ]
    },
    {
     "name": "stderr",
     "output_type": "stream",
     "text": [
      "100%|██████████████████████████████████████████████████████████████████████████████████| 50/50 [00:01<00:00, 33.94it/s]\n",
      "  8%|██████▋                                                                            | 4/50 [00:00<00:01, 33.52it/s]"
     ]
    },
    {
     "name": "stdout",
     "output_type": "stream",
     "text": [
      "61 [D loss: 0.604180, acc.: 62.86%] [G loss: 0.844194]\n",
      "61 [D loss: 0.602391, acc.: 56.76%] [G loss: 0.948646]\n",
      "Epoch 62\n",
      "62 [D loss: 0.513167, acc.: 53.05%] [G loss: 1.054918]\n",
      "62 [D loss: 0.484202, acc.: 53.01%] [G loss: 1.046081]\n",
      "62 [D loss: 0.483206, acc.: 54.16%] [G loss: 0.995463]\n",
      "62 [D loss: 0.411218, acc.: 59.46%] [G loss: 0.886614]\n",
      "62 [D loss: 0.437468, acc.: 69.40%] [G loss: 0.772133]"
     ]
    },
    {
     "name": "stderr",
     "output_type": "stream",
     "text": [
      " 16%|█████████████▎                                                                     | 8/50 [00:00<00:01, 33.35it/s]"
     ]
    },
    {
     "name": "stdout",
     "output_type": "stream",
     "text": [
      "\n",
      "62 [D loss: 0.378206, acc.: 83.05%] [G loss: 0.710638]\n",
      "62 [D loss: 0.368495, acc.: 82.95%] [G loss: 0.718636]\n",
      "62 [D loss: 0.356377, acc.: 85.17%] [G loss: 0.736387]\n",
      "62 [D loss: 0.370555, acc.: 96.80%] [G loss: 0.736682]\n",
      "62 [D loss: 0.488706, acc.: 87.28%] [G loss: 0.686659]\n",
      "62 [D loss: 0.561041, acc.: 109.78%] [G loss: 0.602856]\n"
     ]
    },
    {
     "name": "stderr",
     "output_type": "stream",
     "text": [
      " 32%|██████████████████████████▏                                                       | 16/50 [00:00<00:01, 33.19it/s]"
     ]
    },
    {
     "name": "stdout",
     "output_type": "stream",
     "text": [
      "62 [D loss: 0.575693, acc.: 113.07%] [G loss: 0.561809]\n",
      "62 [D loss: 0.618446, acc.: 97.99%] [G loss: 0.690119]\n",
      "62 [D loss: 0.693031, acc.: 70.52%] [G loss: 0.845453]\n",
      "62 [D loss: 0.740956, acc.: 59.20%] [G loss: 0.948400]\n",
      "62 [D loss: 0.774654, acc.: 53.59%] [G loss: 1.001094]\n",
      "62 [D loss: 0.756646, acc.: 57.50%] [G loss: 0.957201]\n",
      "62 [D loss: 0.784355, acc.: 61.17%] [G loss: 0.883255]"
     ]
    },
    {
     "name": "stderr",
     "output_type": "stream",
     "text": [
      " 48%|███████████████████████████████████████▎                                          | 24/50 [00:00<00:00, 33.53it/s]"
     ]
    },
    {
     "name": "stdout",
     "output_type": "stream",
     "text": [
      "\n",
      "62 [D loss: 0.757774, acc.: 62.12%] [G loss: 0.806929]\n",
      "62 [D loss: 0.699661, acc.: 63.92%] [G loss: 0.786475]\n",
      "62 [D loss: 0.717034, acc.: 61.47%] [G loss: 0.795796]\n",
      "62 [D loss: 0.662657, acc.: 61.17%] [G loss: 0.841553]\n",
      "62 [D loss: 0.669878, acc.: 59.13%] [G loss: 0.849273]\n",
      "62 [D loss: 0.621572, acc.: 61.07%] [G loss: 0.843113]\n"
     ]
    },
    {
     "name": "stderr",
     "output_type": "stream",
     "text": [
      " 56%|█████████████████████████████████████████████▉                                    | 28/50 [00:00<00:00, 33.61it/s]"
     ]
    },
    {
     "name": "stdout",
     "output_type": "stream",
     "text": [
      "62 [D loss: 0.572836, acc.: 62.66%] [G loss: 0.822193]\n",
      "62 [D loss: 0.597912, acc.: 66.98%] [G loss: 0.742708]\n",
      "62 [D loss: 0.497149, acc.: 80.75%] [G loss: 0.680669]\n",
      "62 [D loss: 0.495051, acc.: 89.84%] [G loss: 0.637674]\n",
      "62 [D loss: 0.553853, acc.: 98.44%] [G loss: 0.581609]\n",
      "62 [D loss: 0.594823, acc.: 103.06%] [G loss: 0.565534]\n",
      "62 [D loss: 0.604968, acc.: 93.93%] [G loss: 0.623092]\n"
     ]
    },
    {
     "name": "stderr",
     "output_type": "stream",
     "text": [
      " 72%|███████████████████████████████████████████████████████████                       | 36/50 [00:01<00:00, 33.46it/s]"
     ]
    },
    {
     "name": "stdout",
     "output_type": "stream",
     "text": [
      "62 [D loss: 0.662931, acc.: 85.06%] [G loss: 0.686740]\n",
      "62 [D loss: 0.702906, acc.: 72.73%] [G loss: 0.762804]\n",
      "62 [D loss: 0.750071, acc.: 65.93%] [G loss: 0.800048]\n",
      "62 [D loss: 0.742656, acc.: 64.12%] [G loss: 0.894734]\n",
      "62 [D loss: 0.763598, acc.: 59.14%] [G loss: 0.919654]\n",
      "62 [D loss: 0.802796, acc.: 55.35%] [G loss: 0.907486]\n",
      "62 [D loss: 0.761800, acc.: 56.56%] [G loss: 0.921094]"
     ]
    },
    {
     "name": "stderr",
     "output_type": "stream",
     "text": [
      " 88%|████████████████████████████████████████████████████████████████████████▏         | 44/50 [00:01<00:00, 33.37it/s]"
     ]
    },
    {
     "name": "stdout",
     "output_type": "stream",
     "text": [
      "\n",
      "62 [D loss: 0.820578, acc.: 56.81%] [G loss: 0.887756]\n",
      "62 [D loss: 0.816107, acc.: 59.58%] [G loss: 0.856451]\n",
      "62 [D loss: 0.827299, acc.: 60.81%] [G loss: 0.812815]\n",
      "62 [D loss: 0.793555, acc.: 60.79%] [G loss: 0.792564]\n",
      "62 [D loss: 0.779422, acc.: 61.53%] [G loss: 0.787252]\n",
      "62 [D loss: 0.768498, acc.: 61.05%] [G loss: 0.819524]\n"
     ]
    },
    {
     "name": "stderr",
     "output_type": "stream",
     "text": [
      "100%|██████████████████████████████████████████████████████████████████████████████████| 50/50 [00:01<00:00, 33.35it/s]\n",
      "  0%|                                                                                           | 0/50 [00:00<?, ?it/s]"
     ]
    },
    {
     "name": "stdout",
     "output_type": "stream",
     "text": [
      "62 [D loss: 0.775807, acc.: 60.61%] [G loss: 0.804086]\n",
      "62 [D loss: 0.761610, acc.: 61.12%] [G loss: 0.837314]\n",
      "62 [D loss: 0.754120, acc.: 60.90%] [G loss: 0.816148]\n",
      "62 [D loss: 0.741192, acc.: 61.72%] [G loss: 0.816160]\n",
      "62 [D loss: 0.762462, acc.: 59.77%] [G loss: 0.805705]\n",
      "62 [D loss: 0.760959, acc.: 61.63%] [G loss: 0.805818]\n",
      "Epoch 63\n",
      "63 [D loss: 0.753288, acc.: 64.45%] [G loss: 0.780179]"
     ]
    },
    {
     "name": "stderr",
     "output_type": "stream",
     "text": [
      "  8%|██████▋                                                                            | 4/50 [00:00<00:01, 32.70it/s]"
     ]
    },
    {
     "name": "stdout",
     "output_type": "stream",
     "text": [
      "\n",
      "63 [D loss: 0.712732, acc.: 64.15%] [G loss: 0.757240]\n",
      "63 [D loss: 0.729362, acc.: 65.97%] [G loss: 0.745801]\n",
      "63 [D loss: 0.729008, acc.: 67.14%] [G loss: 0.729884]\n",
      "63 [D loss: 0.712832, acc.: 69.61%] [G loss: 0.709403]\n",
      "63 [D loss: 0.713485, acc.: 71.33%] [G loss: 0.695949]\n",
      "63 [D loss: 0.710872, acc.: 72.12%] [G loss: 0.693393]"
     ]
    },
    {
     "name": "stderr",
     "output_type": "stream",
     "text": [
      " 24%|███████████████████▋                                                              | 12/50 [00:00<00:01, 33.00it/s]"
     ]
    },
    {
     "name": "stdout",
     "output_type": "stream",
     "text": [
      "\n",
      "63 [D loss: 0.700367, acc.: 72.69%] [G loss: 0.684290]\n",
      "63 [D loss: 0.708829, acc.: 72.11%] [G loss: 0.696426]\n",
      "63 [D loss: 0.705421, acc.: 71.29%] [G loss: 0.700840]\n",
      "63 [D loss: 0.730862, acc.: 70.35%] [G loss: 0.699190]\n",
      "63 [D loss: 0.714314, acc.: 69.59%] [G loss: 0.709359]\n",
      "63 [D loss: 0.731274, acc.: 68.55%] [G loss: 0.714811]\n"
     ]
    },
    {
     "name": "stderr",
     "output_type": "stream",
     "text": [
      " 32%|██████████████████████████▏                                                       | 16/50 [00:00<00:01, 33.07it/s]"
     ]
    },
    {
     "name": "stdout",
     "output_type": "stream",
     "text": [
      "63 [D loss: 0.725521, acc.: 70.12%] [G loss: 0.704400]\n",
      "63 [D loss: 0.724566, acc.: 68.53%] [G loss: 0.707928]\n",
      "63 [D loss: 0.737455, acc.: 69.97%] [G loss: 0.711238]\n",
      "63 [D loss: 0.726561, acc.: 69.04%] [G loss: 0.707267]\n",
      "63 [D loss: 0.735609, acc.: 69.77%] [G loss: 0.701769]\n",
      "63 [D loss: 0.726973, acc.: 69.67%] [G loss: 0.700999]\n",
      "63 [D loss: 0.747017, acc.: 70.20%] [G loss: 0.692455]"
     ]
    },
    {
     "name": "stderr",
     "output_type": "stream",
     "text": [
      " 48%|███████████████████████████████████████▎                                          | 24/50 [00:00<00:00, 33.30it/s]"
     ]
    },
    {
     "name": "stdout",
     "output_type": "stream",
     "text": [
      "\n",
      "63 [D loss: 0.725907, acc.: 70.01%] [G loss: 0.692674]\n",
      "63 [D loss: 0.736980, acc.: 70.22%] [G loss: 0.689761]\n",
      "63 [D loss: 0.744128, acc.: 70.20%] [G loss: 0.689553]\n",
      "63 [D loss: 0.734343, acc.: 70.41%] [G loss: 0.694917]\n",
      "63 [D loss: 0.719604, acc.: 70.33%] [G loss: 0.692981]\n",
      "63 [D loss: 0.719706, acc.: 70.01%] [G loss: 0.694219]\n"
     ]
    },
    {
     "name": "stderr",
     "output_type": "stream",
     "text": [
      " 64%|████████████████████████████████████████████████████▍                             | 32/50 [00:00<00:00, 33.50it/s]"
     ]
    },
    {
     "name": "stdout",
     "output_type": "stream",
     "text": [
      "63 [D loss: 0.718984, acc.: 69.76%] [G loss: 0.693067]\n",
      "63 [D loss: 0.730371, acc.: 69.77%] [G loss: 0.695259]\n",
      "63 [D loss: 0.717873, acc.: 69.53%] [G loss: 0.699629]\n",
      "63 [D loss: 0.708178, acc.: 69.14%] [G loss: 0.703399]\n",
      "63 [D loss: 0.721015, acc.: 68.74%] [G loss: 0.708575]\n",
      "63 [D loss: 0.715014, acc.: 68.48%] [G loss: 0.707505]\n",
      "63 [D loss: 0.723849, acc.: 68.56%] [G loss: 0.708551]"
     ]
    },
    {
     "name": "stderr",
     "output_type": "stream",
     "text": [
      " 72%|███████████████████████████████████████████████████████████                       | 36/50 [00:01<00:00, 33.25it/s]"
     ]
    },
    {
     "name": "stdout",
     "output_type": "stream",
     "text": [
      "\n",
      "63 [D loss: 0.706506, acc.: 68.56%] [G loss: 0.711621]\n",
      "63 [D loss: 0.703749, acc.: 68.35%] [G loss: 0.709179]\n",
      "63 [D loss: 0.707594, acc.: 68.49%] [G loss: 0.708281]\n",
      "63 [D loss: 0.721368, acc.: 68.26%] [G loss: 0.708686]\n",
      "63 [D loss: 0.696389, acc.: 68.57%] [G loss: 0.706321]\n",
      "63 [D loss: 0.703903, acc.: 68.64%] [G loss: 0.707149]\n"
     ]
    },
    {
     "name": "stderr",
     "output_type": "stream",
     "text": [
      " 88%|████████████████████████████████████████████████████████████████████████▏         | 44/50 [00:01<00:00, 33.33it/s]"
     ]
    },
    {
     "name": "stdout",
     "output_type": "stream",
     "text": [
      "63 [D loss: 0.711837, acc.: 68.96%] [G loss: 0.700524]\n",
      "63 [D loss: 0.689962, acc.: 69.07%] [G loss: 0.699949]\n",
      "63 [D loss: 0.692844, acc.: 69.46%] [G loss: 0.699359]\n",
      "63 [D loss: 0.695559, acc.: 69.36%] [G loss: 0.692656]\n",
      "63 [D loss: 0.695195, acc.: 69.99%] [G loss: 0.689739]\n",
      "63 [D loss: 0.688514, acc.: 70.19%] [G loss: 0.689099]\n",
      "63 [D loss: 0.694355, acc.: 70.43%] [G loss: 0.688220]"
     ]
    },
    {
     "name": "stderr",
     "output_type": "stream",
     "text": [
      "100%|██████████████████████████████████████████████████████████████████████████████████| 50/50 [00:01<00:00, 33.31it/s]\n",
      "  0%|                                                                                           | 0/50 [00:00<?, ?it/s]"
     ]
    },
    {
     "name": "stdout",
     "output_type": "stream",
     "text": [
      "\n",
      "63 [D loss: 0.686699, acc.: 70.63%] [G loss: 0.686215]\n",
      "63 [D loss: 0.685205, acc.: 70.87%] [G loss: 0.680642]\n",
      "63 [D loss: 0.684510, acc.: 71.03%] [G loss: 0.679744]\n",
      "63 [D loss: 0.689238, acc.: 71.13%] [G loss: 0.677650]\n",
      "Epoch 64\n",
      "64 [D loss: 0.677467, acc.: 71.40%] [G loss: 0.678893]\n",
      "64 [D loss: 0.681255, acc.: 71.68%] [G loss: 0.674976]"
     ]
    },
    {
     "name": "stderr",
     "output_type": "stream",
     "text": [
      "  8%|██████▋                                                                            | 4/50 [00:00<00:01, 31.41it/s]"
     ]
    },
    {
     "name": "stdout",
     "output_type": "stream",
     "text": [
      "\n",
      "64 [D loss: 0.684681, acc.: 71.80%] [G loss: 0.675012]\n",
      "64 [D loss: 0.680586, acc.: 71.43%] [G loss: 0.674838]\n",
      "64 [D loss: 0.679347, acc.: 71.43%] [G loss: 0.675261]\n",
      "64 [D loss: 0.686220, acc.: 71.76%] [G loss: 0.675599]\n",
      "64 [D loss: 0.682226, acc.: 71.50%] [G loss: 0.674695]\n",
      "64 [D loss: 0.679029, acc.: 71.89%] [G loss: 0.675647]"
     ]
    },
    {
     "name": "stderr",
     "output_type": "stream",
     "text": [
      " 24%|███████████████████▋                                                              | 12/50 [00:00<00:01, 32.12it/s]"
     ]
    },
    {
     "name": "stdout",
     "output_type": "stream",
     "text": [
      "\n",
      "64 [D loss: 0.679205, acc.: 71.80%] [G loss: 0.675961]\n",
      "64 [D loss: 0.671008, acc.: 71.49%] [G loss: 0.676000]\n",
      "64 [D loss: 0.665285, acc.: 71.33%] [G loss: 0.677814]\n",
      "64 [D loss: 0.667505, acc.: 71.20%] [G loss: 0.679266]\n",
      "64 [D loss: 0.669140, acc.: 71.05%] [G loss: 0.679041]\n",
      "64 [D loss: 0.673103, acc.: 71.09%] [G loss: 0.678158]\n"
     ]
    },
    {
     "name": "stderr",
     "output_type": "stream",
     "text": [
      " 40%|████████████████████████████████▊                                                 | 20/50 [00:00<00:00, 32.96it/s]"
     ]
    },
    {
     "name": "stdout",
     "output_type": "stream",
     "text": [
      "64 [D loss: 0.664926, acc.: 71.16%] [G loss: 0.680843]\n",
      "64 [D loss: 0.666862, acc.: 70.77%] [G loss: 0.681902]\n",
      "64 [D loss: 0.665123, acc.: 70.94%] [G loss: 0.682887]\n",
      "64 [D loss: 0.662398, acc.: 70.98%] [G loss: 0.687025]\n",
      "64 [D loss: 0.659352, acc.: 70.65%] [G loss: 0.686428]\n",
      "64 [D loss: 0.661243, acc.: 71.06%] [G loss: 0.686593]\n",
      "64 [D loss: 0.658892, acc.: 70.79%] [G loss: 0.684844]"
     ]
    },
    {
     "name": "stderr",
     "output_type": "stream",
     "text": [
      " 48%|███████████████████████████████████████▎                                          | 24/50 [00:00<00:00, 33.29it/s]"
     ]
    },
    {
     "name": "stdout",
     "output_type": "stream",
     "text": [
      "\n",
      "64 [D loss: 0.657760, acc.: 70.99%] [G loss: 0.684120]\n",
      "64 [D loss: 0.649518, acc.: 71.22%] [G loss: 0.681387]\n",
      "64 [D loss: 0.649702, acc.: 71.23%] [G loss: 0.683171]\n",
      "64 [D loss: 0.644088, acc.: 71.41%] [G loss: 0.678926]\n",
      "64 [D loss: 0.647905, acc.: 71.80%] [G loss: 0.677087]\n",
      "64 [D loss: 0.641980, acc.: 72.06%] [G loss: 0.676817]\n"
     ]
    },
    {
     "name": "stderr",
     "output_type": "stream",
     "text": [
      " 64%|████████████████████████████████████████████████████▍                             | 32/50 [00:00<00:00, 33.53it/s]"
     ]
    },
    {
     "name": "stdout",
     "output_type": "stream",
     "text": [
      "64 [D loss: 0.644721, acc.: 72.94%] [G loss: 0.675175]\n",
      "64 [D loss: 0.624595, acc.: 72.64%] [G loss: 0.674711]\n",
      "64 [D loss: 0.631449, acc.: 72.90%] [G loss: 0.673725]\n",
      "64 [D loss: 0.636482, acc.: 73.12%] [G loss: 0.667587]\n",
      "64 [D loss: 0.616393, acc.: 73.69%] [G loss: 0.670387]\n",
      "64 [D loss: 0.585060, acc.: 73.55%] [G loss: 0.666748]\n",
      "64 [D loss: 0.583164, acc.: 74.09%] [G loss: 0.665613]\n"
     ]
    },
    {
     "name": "stderr",
     "output_type": "stream",
     "text": [
      " 80%|█████████████████████████████████████████████████████████████████▌                | 40/50 [00:01<00:00, 33.87it/s]"
     ]
    },
    {
     "name": "stdout",
     "output_type": "stream",
     "text": [
      "64 [D loss: 0.601029, acc.: 73.56%] [G loss: 0.673474]\n",
      "64 [D loss: 0.574434, acc.: 72.85%] [G loss: 0.680398]\n",
      "64 [D loss: 0.532396, acc.: 72.20%] [G loss: 0.694147]\n",
      "64 [D loss: 0.529010, acc.: 70.84%] [G loss: 0.698150]\n",
      "64 [D loss: 0.526590, acc.: 69.53%] [G loss: 0.723744]\n",
      "64 [D loss: 0.496772, acc.: 68.41%] [G loss: 0.746151]\n",
      "64 [D loss: 0.464019, acc.: 67.30%] [G loss: 0.772429]\n"
     ]
    },
    {
     "name": "stderr",
     "output_type": "stream",
     "text": [
      " 96%|██████████████████████████████████████████████████████████████████████████████▋   | 48/50 [00:01<00:00, 33.92it/s]"
     ]
    },
    {
     "name": "stdout",
     "output_type": "stream",
     "text": [
      "64 [D loss: 0.439337, acc.: 64.44%] [G loss: 0.813275]\n",
      "64 [D loss: 0.392204, acc.: 62.53%] [G loss: 0.828623]\n",
      "64 [D loss: 0.347673, acc.: 63.42%] [G loss: 0.852166]\n",
      "64 [D loss: 0.321106, acc.: 61.92%] [G loss: 0.862988]\n",
      "64 [D loss: 0.399194, acc.: 63.01%] [G loss: 0.878555]\n",
      "64 [D loss: 0.367860, acc.: 65.54%] [G loss: 0.869644]\n",
      "64 [D loss: 0.367261, acc.: 65.48%] [G loss: 0.871499]\n"
     ]
    },
    {
     "name": "stderr",
     "output_type": "stream",
     "text": [
      "100%|██████████████████████████████████████████████████████████████████████████████████| 50/50 [00:01<00:00, 33.53it/s]\n",
      "  8%|██████▋                                                                            | 4/50 [00:00<00:01, 31.17it/s]"
     ]
    },
    {
     "name": "stdout",
     "output_type": "stream",
     "text": [
      "64 [D loss: 0.376974, acc.: 65.63%] [G loss: 0.827458]\n",
      "64 [D loss: 0.364908, acc.: 74.50%] [G loss: 0.834717]\n",
      "Epoch 65\n",
      "65 [D loss: 0.499341, acc.: 73.78%] [G loss: 0.803123]\n",
      "65 [D loss: 0.500845, acc.: 74.22%] [G loss: 0.776030]\n",
      "65 [D loss: 0.504128, acc.: 74.78%] [G loss: 0.755017]\n",
      "65 [D loss: 0.413244, acc.: 73.26%] [G loss: 0.755819]\n"
     ]
    },
    {
     "name": "stderr",
     "output_type": "stream",
     "text": [
      " 16%|█████████████▎                                                                     | 8/50 [00:00<00:01, 31.31it/s]"
     ]
    },
    {
     "name": "stdout",
     "output_type": "stream",
     "text": [
      "65 [D loss: 0.506335, acc.: 73.63%] [G loss: 0.708763]\n",
      "65 [D loss: 0.469799, acc.: 98.00%] [G loss: 0.683075]\n",
      "65 [D loss: 0.428411, acc.: 114.42%] [G loss: 0.746657]\n",
      "65 [D loss: 0.459212, acc.: 94.51%] [G loss: 0.796989]\n",
      "65 [D loss: 0.590275, acc.: 68.89%] [G loss: 0.949443]\n",
      "65 [D loss: 0.517372, acc.: 54.06%] [G loss: 1.105719]\n",
      "65 [D loss: 0.495044, acc.: 47.43%] [G loss: 1.336936]"
     ]
    },
    {
     "name": "stderr",
     "output_type": "stream",
     "text": [
      " 32%|██████████████████████████▏                                                       | 16/50 [00:00<00:01, 32.24it/s]"
     ]
    },
    {
     "name": "stdout",
     "output_type": "stream",
     "text": [
      "\n",
      "65 [D loss: 0.498567, acc.: 43.73%] [G loss: 1.365230]\n",
      "65 [D loss: 0.434746, acc.: 51.82%] [G loss: 1.288010]\n",
      "65 [D loss: 0.357224, acc.: 64.26%] [G loss: 1.004653]\n",
      "65 [D loss: 0.315479, acc.: 90.17%] [G loss: 0.830322]\n",
      "65 [D loss: 0.461076, acc.: 86.99%] [G loss: 0.826246]\n",
      "65 [D loss: 0.489693, acc.: 67.55%] [G loss: 0.814362]\n"
     ]
    },
    {
     "name": "stderr",
     "output_type": "stream",
     "text": [
      " 40%|████████████████████████████████▊                                                 | 20/50 [00:00<00:00, 32.53it/s]"
     ]
    },
    {
     "name": "stdout",
     "output_type": "stream",
     "text": [
      "65 [D loss: 0.519575, acc.: 60.81%] [G loss: 0.825475]\n",
      "65 [D loss: 0.505434, acc.: 60.93%] [G loss: 0.836069]\n",
      "65 [D loss: 0.402516, acc.: 72.37%] [G loss: 0.843165]\n",
      "65 [D loss: 0.432465, acc.: 87.49%] [G loss: 0.803771]\n",
      "65 [D loss: 0.519972, acc.: 90.92%] [G loss: 0.850173]\n",
      "65 [D loss: 0.602504, acc.: 77.36%] [G loss: 1.054832]\n",
      "65 [D loss: 0.647522, acc.: 68.35%] [G loss: 1.085016]"
     ]
    },
    {
     "name": "stderr",
     "output_type": "stream",
     "text": [
      " 56%|█████████████████████████████████████████████▉                                    | 28/50 [00:00<00:00, 33.03it/s]"
     ]
    },
    {
     "name": "stdout",
     "output_type": "stream",
     "text": [
      "\n",
      "65 [D loss: 0.751341, acc.: 81.86%] [G loss: 0.955627]\n",
      "65 [D loss: 0.782388, acc.: 87.63%] [G loss: 0.897314]\n",
      "65 [D loss: 0.879177, acc.: 68.34%] [G loss: 0.901896]\n",
      "65 [D loss: 0.899516, acc.: 53.60%] [G loss: 0.918338]\n",
      "65 [D loss: 0.909778, acc.: 50.76%] [G loss: 0.991677]\n",
      "65 [D loss: 0.899707, acc.: 50.50%] [G loss: 0.953976]\n"
     ]
    },
    {
     "name": "stderr",
     "output_type": "stream",
     "text": [
      " 72%|███████████████████████████████████████████████████████████                       | 36/50 [00:01<00:00, 32.80it/s]"
     ]
    },
    {
     "name": "stdout",
     "output_type": "stream",
     "text": [
      "65 [D loss: 0.823833, acc.: 51.20%] [G loss: 0.950386]\n",
      "65 [D loss: 0.766159, acc.: 51.59%] [G loss: 0.909034]\n",
      "65 [D loss: 0.752796, acc.: 57.39%] [G loss: 0.892755]\n",
      "65 [D loss: 0.680771, acc.: 63.79%] [G loss: 0.864388]\n",
      "65 [D loss: 0.687448, acc.: 65.62%] [G loss: 0.786350]\n",
      "65 [D loss: 0.694540, acc.: 77.53%] [G loss: 0.766820]\n",
      "65 [D loss: 0.732510, acc.: 78.86%] [G loss: 0.773042]"
     ]
    },
    {
     "name": "stderr",
     "output_type": "stream",
     "text": [
      " 80%|█████████████████████████████████████████████████████████████████▌                | 40/50 [00:01<00:00, 32.85it/s]"
     ]
    },
    {
     "name": "stdout",
     "output_type": "stream",
     "text": [
      "\n",
      "65 [D loss: 0.692606, acc.: 66.32%] [G loss: 0.816749]\n",
      "65 [D loss: 0.740781, acc.: 64.48%] [G loss: 0.900553]\n",
      "65 [D loss: 0.708841, acc.: 57.49%] [G loss: 0.971222]\n",
      "65 [D loss: 0.701564, acc.: 57.06%] [G loss: 0.907258]\n",
      "65 [D loss: 0.754407, acc.: 60.16%] [G loss: 0.895709]\n",
      "65 [D loss: 0.746367, acc.: 61.87%] [G loss: 0.853322]"
     ]
    },
    {
     "name": "stderr",
     "output_type": "stream",
     "text": [
      " 96%|██████████████████████████████████████████████████████████████████████████████▋   | 48/50 [00:01<00:00, 33.08it/s]"
     ]
    },
    {
     "name": "stdout",
     "output_type": "stream",
     "text": [
      "\n",
      "65 [D loss: 0.726419, acc.: 71.75%] [G loss: 0.799635]\n",
      "65 [D loss: 0.701078, acc.: 77.23%] [G loss: 0.741347]\n",
      "65 [D loss: 0.752249, acc.: 72.73%] [G loss: 0.688213]\n",
      "65 [D loss: 0.756880, acc.: 86.85%] [G loss: 0.686114]\n",
      "65 [D loss: 0.726725, acc.: 70.39%] [G loss: 0.719883]\n",
      "65 [D loss: 0.771063, acc.: 72.61%] [G loss: 0.717852]\n"
     ]
    },
    {
     "name": "stderr",
     "output_type": "stream",
     "text": [
      "100%|██████████████████████████████████████████████████████████████████████████████████| 50/50 [00:01<00:00, 32.81it/s]\n",
      "  8%|██████▋                                                                            | 4/50 [00:00<00:01, 31.17it/s]"
     ]
    },
    {
     "name": "stdout",
     "output_type": "stream",
     "text": [
      "65 [D loss: 0.722911, acc.: 68.26%] [G loss: 0.787891]\n",
      "Epoch 66\n",
      "66 [D loss: 0.746439, acc.: 67.18%] [G loss: 0.792111]\n",
      "66 [D loss: 0.700430, acc.: 65.26%] [G loss: 0.794731]\n",
      "66 [D loss: 0.749657, acc.: 61.76%] [G loss: 0.816939]\n",
      "66 [D loss: 0.740617, acc.: 63.93%] [G loss: 0.792944]\n",
      "66 [D loss: 0.689510, acc.: 63.27%] [G loss: 0.775520]\n"
     ]
    },
    {
     "name": "stderr",
     "output_type": "stream",
     "text": [
      " 24%|███████████████████▋                                                              | 12/50 [00:00<00:01, 32.08it/s]"
     ]
    },
    {
     "name": "stdout",
     "output_type": "stream",
     "text": [
      "66 [D loss: 0.661949, acc.: 73.64%] [G loss: 0.791248]\n",
      "66 [D loss: 0.692202, acc.: 69.70%] [G loss: 0.726976]\n",
      "66 [D loss: 0.690204, acc.: 79.59%] [G loss: 0.755263]\n",
      "66 [D loss: 0.668978, acc.: 87.47%] [G loss: 0.637726]\n",
      "66 [D loss: 0.680459, acc.: 90.03%] [G loss: 0.641462]\n",
      "66 [D loss: 0.746944, acc.: 78.42%] [G loss: 0.727649]\n",
      "66 [D loss: 0.760963, acc.: 71.09%] [G loss: 0.760898]\n"
     ]
    },
    {
     "name": "stderr",
     "output_type": "stream",
     "text": [
      " 32%|██████████████████████████▏                                                       | 16/50 [00:00<00:01, 32.19it/s]"
     ]
    },
    {
     "name": "stdout",
     "output_type": "stream",
     "text": [
      "66 [D loss: 0.822832, acc.: 67.99%] [G loss: 0.749349]\n",
      "66 [D loss: 0.805102, acc.: 66.28%] [G loss: 0.748248]\n",
      "66 [D loss: 0.815842, acc.: 66.25%] [G loss: 0.741054]\n",
      "66 [D loss: 0.806226, acc.: 65.43%] [G loss: 0.739865]\n",
      "66 [D loss: 0.821888, acc.: 65.00%] [G loss: 0.760996]\n",
      "66 [D loss: 0.788904, acc.: 64.04%] [G loss: 0.767225]\n",
      "66 [D loss: 0.797760, acc.: 62.75%] [G loss: 0.783643]"
     ]
    },
    {
     "name": "stderr",
     "output_type": "stream",
     "text": [
      " 48%|███████████████████████████████████████▎                                          | 24/50 [00:00<00:00, 32.01it/s]"
     ]
    },
    {
     "name": "stdout",
     "output_type": "stream",
     "text": [
      "\n",
      "66 [D loss: 0.799792, acc.: 62.82%] [G loss: 0.783525]\n",
      "66 [D loss: 0.799060, acc.: 62.18%] [G loss: 0.784703]\n",
      "66 [D loss: 0.771847, acc.: 62.49%] [G loss: 0.793348]\n",
      "66 [D loss: 0.749833, acc.: 61.92%] [G loss: 0.777438]\n",
      "66 [D loss: 0.761196, acc.: 61.95%] [G loss: 0.790501]\n",
      "66 [D loss: 0.746321, acc.: 60.83%] [G loss: 0.799861]"
     ]
    },
    {
     "name": "stderr",
     "output_type": "stream",
     "text": [
      " 56%|█████████████████████████████████████████████▉                                    | 28/50 [00:00<00:00, 32.29it/s]"
     ]
    },
    {
     "name": "stdout",
     "output_type": "stream",
     "text": [
      "\n",
      "66 [D loss: 0.745099, acc.: 61.58%] [G loss: 0.806445]\n",
      "66 [D loss: 0.792287, acc.: 60.41%] [G loss: 0.804500]\n",
      "66 [D loss: 0.740405, acc.: 60.71%] [G loss: 0.806707]\n",
      "66 [D loss: 0.704357, acc.: 61.56%] [G loss: 0.799508]\n",
      "66 [D loss: 0.725116, acc.: 62.79%] [G loss: 0.775527]\n",
      "66 [D loss: 0.713079, acc.: 63.95%] [G loss: 0.756182]"
     ]
    },
    {
     "name": "stderr",
     "output_type": "stream",
     "text": [
      " 72%|███████████████████████████████████████████████████████████                       | 36/50 [00:01<00:00, 32.71it/s]"
     ]
    },
    {
     "name": "stdout",
     "output_type": "stream",
     "text": [
      "\n",
      "66 [D loss: 0.700527, acc.: 66.35%] [G loss: 0.729527]\n",
      "66 [D loss: 0.701385, acc.: 70.82%] [G loss: 0.720296]\n",
      "66 [D loss: 0.696262, acc.: 71.98%] [G loss: 0.680589]\n",
      "66 [D loss: 0.689613, acc.: 76.23%] [G loss: 0.689191]\n",
      "66 [D loss: 0.698215, acc.: 74.32%] [G loss: 0.680081]\n",
      "66 [D loss: 0.704151, acc.: 72.47%] [G loss: 0.698586]\n"
     ]
    },
    {
     "name": "stderr",
     "output_type": "stream",
     "text": [
      " 80%|█████████████████████████████████████████████████████████████████▌                | 40/50 [00:01<00:00, 32.79it/s]"
     ]
    },
    {
     "name": "stdout",
     "output_type": "stream",
     "text": [
      "66 [D loss: 0.737233, acc.: 71.32%] [G loss: 0.698785]\n",
      "66 [D loss: 0.745580, acc.: 69.63%] [G loss: 0.705432]\n",
      "66 [D loss: 0.733749, acc.: 68.77%] [G loss: 0.703664]\n",
      "66 [D loss: 0.737109, acc.: 68.67%] [G loss: 0.710976]\n",
      "66 [D loss: 0.742943, acc.: 68.99%] [G loss: 0.713491]\n",
      "66 [D loss: 0.747827, acc.: 69.16%] [G loss: 0.709792]\n",
      "66 [D loss: 0.740467, acc.: 67.84%] [G loss: 0.710618]"
     ]
    },
    {
     "name": "stderr",
     "output_type": "stream",
     "text": [
      "100%|██████████████████████████████████████████████████████████████████████████████████| 50/50 [00:01<00:00, 32.66it/s]"
     ]
    },
    {
     "name": "stdout",
     "output_type": "stream",
     "text": [
      "\n",
      "66 [D loss: 0.738540, acc.: 68.36%] [G loss: 0.713840]\n",
      "66 [D loss: 0.747902, acc.: 68.08%] [G loss: 0.711274]\n",
      "66 [D loss: 0.740368, acc.: 68.35%] [G loss: 0.716306]\n",
      "66 [D loss: 0.737561, acc.: 68.02%] [G loss: 0.712798]\n",
      "66 [D loss: 0.742251, acc.: 67.91%] [G loss: 0.714234]\n",
      "66 [D loss: 0.721604, acc.: 67.94%] [G loss: 0.715076]\n",
      "Epoch 67"
     ]
    },
    {
     "name": "stderr",
     "output_type": "stream",
     "text": [
      "\n",
      "  8%|██████▋                                                                            | 4/50 [00:00<00:01, 32.43it/s]"
     ]
    },
    {
     "name": "stdout",
     "output_type": "stream",
     "text": [
      "\n",
      "67 [D loss: 0.731560, acc.: 67.67%] [G loss: 0.718695]\n",
      "67 [D loss: 0.730146, acc.: 67.44%] [G loss: 0.721633]\n",
      "67 [D loss: 0.721370, acc.: 67.35%] [G loss: 0.718705]\n",
      "67 [D loss: 0.722964, acc.: 67.30%] [G loss: 0.720701]\n",
      "67 [D loss: 0.717261, acc.: 67.49%] [G loss: 0.722832]\n",
      "67 [D loss: 0.712757, acc.: 67.30%] [G loss: 0.721193]"
     ]
    },
    {
     "name": "stderr",
     "output_type": "stream",
     "text": [
      " 24%|███████████████████▋                                                              | 12/50 [00:00<00:01, 32.62it/s]"
     ]
    },
    {
     "name": "stdout",
     "output_type": "stream",
     "text": [
      "\n",
      "67 [D loss: 0.713409, acc.: 67.17%] [G loss: 0.728581]\n",
      "67 [D loss: 0.708441, acc.: 66.91%] [G loss: 0.725601]\n",
      "67 [D loss: 0.718179, acc.: 66.29%] [G loss: 0.728962]\n",
      "67 [D loss: 0.703720, acc.: 67.06%] [G loss: 0.728352]\n",
      "67 [D loss: 0.713379, acc.: 66.43%] [G loss: 0.725289]\n",
      "67 [D loss: 0.703713, acc.: 66.80%] [G loss: 0.729527]\n"
     ]
    },
    {
     "name": "stderr",
     "output_type": "stream",
     "text": [
      " 32%|██████████████████████████▏                                                       | 16/50 [00:00<00:01, 32.25it/s]"
     ]
    },
    {
     "name": "stdout",
     "output_type": "stream",
     "text": [
      "67 [D loss: 0.702916, acc.: 67.23%] [G loss: 0.723141]\n",
      "67 [D loss: 0.706171, acc.: 67.47%] [G loss: 0.719341]\n",
      "67 [D loss: 0.689475, acc.: 68.29%] [G loss: 0.712371]\n",
      "67 [D loss: 0.682651, acc.: 68.89%] [G loss: 0.703480]\n",
      "67 [D loss: 0.692303, acc.: 69.59%] [G loss: 0.701650]\n",
      "67 [D loss: 0.694780, acc.: 69.65%] [G loss: 0.695506]\n",
      "67 [D loss: 0.684063, acc.: 70.86%] [G loss: 0.694610]"
     ]
    },
    {
     "name": "stderr",
     "output_type": "stream",
     "text": [
      " 48%|███████████████████████████████████████▎                                          | 24/50 [00:00<00:00, 32.20it/s]"
     ]
    },
    {
     "name": "stdout",
     "output_type": "stream",
     "text": [
      "\n",
      "67 [D loss: 0.692092, acc.: 70.55%] [G loss: 0.690674]\n",
      "67 [D loss: 0.688929, acc.: 71.47%] [G loss: 0.693181]\n",
      "67 [D loss: 0.711859, acc.: 70.85%] [G loss: 0.689960]\n",
      "67 [D loss: 0.699811, acc.: 70.52%] [G loss: 0.689211]\n",
      "67 [D loss: 0.693391, acc.: 70.76%] [G loss: 0.690793]\n",
      "67 [D loss: 0.705802, acc.: 70.60%] [G loss: 0.688878]"
     ]
    },
    {
     "name": "stderr",
     "output_type": "stream",
     "text": [
      " 56%|█████████████████████████████████████████████▉                                    | 28/50 [00:00<00:00, 31.88it/s]"
     ]
    },
    {
     "name": "stdout",
     "output_type": "stream",
     "text": [
      "\n",
      "67 [D loss: 0.702500, acc.: 70.24%] [G loss: 0.688950]\n",
      "67 [D loss: 0.695277, acc.: 70.32%] [G loss: 0.687986]\n",
      "67 [D loss: 0.689721, acc.: 70.43%] [G loss: 0.689703]\n",
      "67 [D loss: 0.686013, acc.: 70.66%] [G loss: 0.692429]\n",
      "67 [D loss: 0.675551, acc.: 70.36%] [G loss: 0.689324]\n",
      "67 [D loss: 0.683758, acc.: 70.58%] [G loss: 0.688355]"
     ]
    },
    {
     "name": "stderr",
     "output_type": "stream",
     "text": [
      " 72%|███████████████████████████████████████████████████████████                       | 36/50 [00:01<00:00, 32.16it/s]"
     ]
    },
    {
     "name": "stdout",
     "output_type": "stream",
     "text": [
      "\n",
      "67 [D loss: 0.682084, acc.: 70.65%] [G loss: 0.686890]\n",
      "67 [D loss: 0.676889, acc.: 70.90%] [G loss: 0.686384]\n",
      "67 [D loss: 0.674359, acc.: 70.74%] [G loss: 0.683747]\n",
      "67 [D loss: 0.684193, acc.: 71.36%] [G loss: 0.680069]\n",
      "67 [D loss: 0.677772, acc.: 71.67%] [G loss: 0.676450]\n",
      "67 [D loss: 0.677925, acc.: 71.95%] [G loss: 0.674935]"
     ]
    },
    {
     "name": "stderr",
     "output_type": "stream",
     "text": [
      " 80%|█████████████████████████████████████████████████████████████████▌                | 40/50 [00:01<00:00, 32.24it/s]"
     ]
    },
    {
     "name": "stdout",
     "output_type": "stream",
     "text": [
      "\n",
      "67 [D loss: 0.682453, acc.: 72.47%] [G loss: 0.670109]\n",
      "67 [D loss: 0.683961, acc.: 72.77%] [G loss: 0.666335]\n",
      "67 [D loss: 0.683289, acc.: 73.35%] [G loss: 0.666745]\n",
      "67 [D loss: 0.677519, acc.: 73.45%] [G loss: 0.664901]\n",
      "67 [D loss: 0.671785, acc.: 73.76%] [G loss: 0.659317]\n",
      "67 [D loss: 0.672453, acc.: 73.91%] [G loss: 0.657709]"
     ]
    },
    {
     "name": "stderr",
     "output_type": "stream",
     "text": [
      " 96%|██████████████████████████████████████████████████████████████████████████████▋   | 48/50 [00:01<00:00, 32.47it/s]"
     ]
    },
    {
     "name": "stdout",
     "output_type": "stream",
     "text": [
      "\n",
      "67 [D loss: 0.670442, acc.: 74.42%] [G loss: 0.655868]\n",
      "67 [D loss: 0.670256, acc.: 74.27%] [G loss: 0.655440]\n",
      "67 [D loss: 0.674273, acc.: 73.58%] [G loss: 0.658776]\n",
      "67 [D loss: 0.677911, acc.: 73.83%] [G loss: 0.667841]\n",
      "67 [D loss: 0.676429, acc.: 72.82%] [G loss: 0.667893]\n",
      "67 [D loss: 0.686625, acc.: 72.35%] [G loss: 0.680683]"
     ]
    },
    {
     "name": "stderr",
     "output_type": "stream",
     "text": [
      "100%|██████████████████████████████████████████████████████████████████████████████████| 50/50 [00:01<00:00, 32.27it/s]\n",
      "  8%|██████▋                                                                            | 4/50 [00:00<00:01, 33.52it/s]"
     ]
    },
    {
     "name": "stdout",
     "output_type": "stream",
     "text": [
      "\n",
      "67 [D loss: 0.676434, acc.: 71.28%] [G loss: 0.689321]\n",
      "Epoch 68\n",
      "68 [D loss: 0.683241, acc.: 70.66%] [G loss: 0.702814]\n",
      "68 [D loss: 0.680679, acc.: 68.96%] [G loss: 0.712700]\n",
      "68 [D loss: 0.688372, acc.: 68.13%] [G loss: 0.729192]\n",
      "68 [D loss: 0.690134, acc.: 66.80%] [G loss: 0.748111]\n",
      "68 [D loss: 0.697400, acc.: 64.84%] [G loss: 0.759183]"
     ]
    },
    {
     "name": "stderr",
     "output_type": "stream",
     "text": [
      " 14%|███████████▌                                                                       | 7/50 [00:00<00:01, 32.35it/s]"
     ]
    },
    {
     "name": "stdout",
     "output_type": "stream",
     "text": [
      "\n",
      "68 [D loss: 0.695929, acc.: 62.62%] [G loss: 0.778754]\n",
      "68 [D loss: 0.699242, acc.: 62.40%] [G loss: 0.803472]\n",
      "68 [D loss: 0.692507, acc.: 60.35%] [G loss: 0.815919]\n",
      "68 [D loss: 0.703378, acc.: 58.82%] [G loss: 0.838727]\n",
      "68 [D loss: 0.700401, acc.: 57.81%] [G loss: 0.843569]\n",
      "68 [D loss: 0.699357, acc.: 57.05%] [G loss: 0.873123]"
     ]
    },
    {
     "name": "stderr",
     "output_type": "stream",
     "text": [
      " 30%|████████████████████████▌                                                         | 15/50 [00:00<00:01, 32.50it/s]"
     ]
    },
    {
     "name": "stdout",
     "output_type": "stream",
     "text": [
      "\n",
      "68 [D loss: 0.699162, acc.: 55.58%] [G loss: 0.891681]\n",
      "68 [D loss: 0.714067, acc.: 55.71%] [G loss: 0.894228]\n",
      "68 [D loss: 0.706942, acc.: 54.82%] [G loss: 0.896125]\n",
      "68 [D loss: 0.708392, acc.: 54.89%] [G loss: 0.887117]\n",
      "68 [D loss: 0.735439, acc.: 56.23%] [G loss: 0.882352]\n",
      "68 [D loss: 0.699242, acc.: 56.45%] [G loss: 0.881850]"
     ]
    },
    {
     "name": "stderr",
     "output_type": "stream",
     "text": [
      " 38%|███████████████████████████████▏                                                  | 19/50 [00:00<00:00, 32.72it/s]"
     ]
    },
    {
     "name": "stdout",
     "output_type": "stream",
     "text": [
      "\n",
      "68 [D loss: 0.707449, acc.: 57.88%] [G loss: 0.881168]\n",
      "68 [D loss: 0.712106, acc.: 58.01%] [G loss: 0.849578]\n",
      "68 [D loss: 0.716332, acc.: 60.38%] [G loss: 0.840186]\n",
      "68 [D loss: 0.724196, acc.: 61.57%] [G loss: 0.812167]\n",
      "68 [D loss: 0.719535, acc.: 63.53%] [G loss: 0.782831]\n",
      "68 [D loss: 0.720851, acc.: 67.06%] [G loss: 0.758071]\n"
     ]
    },
    {
     "name": "stderr",
     "output_type": "stream",
     "text": [
      " 54%|████████████████████████████████████████████▎                                     | 27/50 [00:00<00:00, 32.71it/s]"
     ]
    },
    {
     "name": "stdout",
     "output_type": "stream",
     "text": [
      "68 [D loss: 0.704899, acc.: 67.82%] [G loss: 0.739970]\n",
      "68 [D loss: 0.714193, acc.: 70.89%] [G loss: 0.727065]\n",
      "68 [D loss: 0.723170, acc.: 71.97%] [G loss: 0.706657]\n",
      "68 [D loss: 0.711284, acc.: 72.38%] [G loss: 0.727014]\n",
      "68 [D loss: 0.725510, acc.: 71.19%] [G loss: 0.765223]\n",
      "68 [D loss: 0.720735, acc.: 66.11%] [G loss: 0.843143]\n"
     ]
    },
    {
     "name": "stderr",
     "output_type": "stream",
     "text": [
      " 70%|█████████████████████████████████████████████████████████▍                        | 35/50 [00:01<00:00, 32.87it/s]"
     ]
    },
    {
     "name": "stdout",
     "output_type": "stream",
     "text": [
      "68 [D loss: 0.728215, acc.: 59.53%] [G loss: 0.923343]\n",
      "68 [D loss: 0.718996, acc.: 56.15%] [G loss: 1.022035]\n",
      "68 [D loss: 0.732526, acc.: 52.86%] [G loss: 1.098168]\n",
      "68 [D loss: 0.723081, acc.: 50.86%] [G loss: 1.083590]\n",
      "68 [D loss: 0.739172, acc.: 51.91%] [G loss: 1.137413]\n",
      "68 [D loss: 0.746403, acc.: 45.18%] [G loss: 1.321159]\n",
      "68 [D loss: 0.784678, acc.: 38.74%] [G loss: 1.419918]"
     ]
    },
    {
     "name": "stderr",
     "output_type": "stream",
     "text": [
      " 78%|███████████████████████████████████████████████████████████████▉                  | 39/50 [00:01<00:00, 32.74it/s]"
     ]
    },
    {
     "name": "stdout",
     "output_type": "stream",
     "text": [
      "\n",
      "68 [D loss: 0.777585, acc.: 39.72%] [G loss: 1.362175]\n",
      "68 [D loss: 0.779984, acc.: 45.60%] [G loss: 1.248528]\n",
      "68 [D loss: 0.774614, acc.: 53.45%] [G loss: 1.018712]\n",
      "68 [D loss: 0.784937, acc.: 61.41%] [G loss: 0.804548]\n",
      "68 [D loss: 0.787335, acc.: 66.18%] [G loss: 0.745502]\n",
      "68 [D loss: 0.771295, acc.: 64.60%] [G loss: 0.754724]"
     ]
    },
    {
     "name": "stderr",
     "output_type": "stream",
     "text": [
      " 94%|█████████████████████████████████████████████████████████████████████████████     | 47/50 [00:01<00:00, 32.58it/s]"
     ]
    },
    {
     "name": "stdout",
     "output_type": "stream",
     "text": [
      "\n",
      "68 [D loss: 0.769980, acc.: 61.89%] [G loss: 0.799252]\n",
      "68 [D loss: 0.752672, acc.: 60.57%] [G loss: 0.824223]\n",
      "68 [D loss: 0.796590, acc.: 59.44%] [G loss: 0.865302]\n",
      "68 [D loss: 0.765368, acc.: 59.86%] [G loss: 0.844806]\n",
      "68 [D loss: 0.774918, acc.: 60.51%] [G loss: 0.804614]\n",
      "68 [D loss: 0.777475, acc.: 64.92%] [G loss: 0.772594]"
     ]
    },
    {
     "name": "stderr",
     "output_type": "stream",
     "text": [
      "100%|██████████████████████████████████████████████████████████████████████████████████| 50/50 [00:01<00:00, 32.42it/s]\n",
      "  0%|                                                                                           | 0/50 [00:00<?, ?it/s]"
     ]
    },
    {
     "name": "stdout",
     "output_type": "stream",
     "text": [
      "\n",
      "68 [D loss: 0.731326, acc.: 64.93%] [G loss: 0.741256]\n",
      "68 [D loss: 0.783402, acc.: 67.13%] [G loss: 0.747885]\n",
      "Epoch 69\n",
      "69 [D loss: 0.744890, acc.: 64.72%] [G loss: 0.748038]\n",
      "69 [D loss: 0.725756, acc.: 64.10%] [G loss: 0.772841]\n",
      "69 [D loss: 0.765763, acc.: 64.09%] [G loss: 0.772404]\n",
      "69 [D loss: 0.723475, acc.: 66.12%] [G loss: 0.763015]"
     ]
    },
    {
     "name": "stderr",
     "output_type": "stream",
     "text": [
      " 16%|█████████████▎                                                                     | 8/50 [00:00<00:01, 31.79it/s]"
     ]
    },
    {
     "name": "stdout",
     "output_type": "stream",
     "text": [
      "\n",
      "69 [D loss: 0.691523, acc.: 68.07%] [G loss: 0.735085]\n",
      "69 [D loss: 0.713311, acc.: 74.00%] [G loss: 0.685018]\n",
      "69 [D loss: 0.688286, acc.: 75.18%] [G loss: 0.663961]\n",
      "69 [D loss: 0.758030, acc.: 77.65%] [G loss: 0.665040]\n",
      "69 [D loss: 0.714676, acc.: 73.03%] [G loss: 0.679305]\n",
      "69 [D loss: 0.759232, acc.: 71.08%] [G loss: 0.682716]"
     ]
    },
    {
     "name": "stderr",
     "output_type": "stream",
     "text": [
      " 24%|███████████████████▋                                                              | 12/50 [00:00<00:01, 31.98it/s]"
     ]
    },
    {
     "name": "stdout",
     "output_type": "stream",
     "text": [
      "\n",
      "69 [D loss: 0.757158, acc.: 71.38%] [G loss: 0.693272]\n",
      "69 [D loss: 0.739917, acc.: 69.44%] [G loss: 0.696339]\n",
      "69 [D loss: 0.743807, acc.: 69.41%] [G loss: 0.703399]\n",
      "69 [D loss: 0.727881, acc.: 69.61%] [G loss: 0.709023]\n",
      "69 [D loss: 0.751728, acc.: 69.28%] [G loss: 0.702475]\n",
      "69 [D loss: 0.760785, acc.: 68.90%] [G loss: 0.704559]"
     ]
    },
    {
     "name": "stderr",
     "output_type": "stream",
     "text": [
      " 40%|████████████████████████████████▊                                                 | 20/50 [00:00<00:00, 32.48it/s]"
     ]
    },
    {
     "name": "stdout",
     "output_type": "stream",
     "text": [
      "\n",
      "69 [D loss: 0.748914, acc.: 69.36%] [G loss: 0.702221]\n",
      "69 [D loss: 0.763510, acc.: 68.85%] [G loss: 0.692789]\n",
      "69 [D loss: 0.728436, acc.: 70.11%] [G loss: 0.688656]\n",
      "69 [D loss: 0.754434, acc.: 70.56%] [G loss: 0.689572]\n",
      "69 [D loss: 0.729913, acc.: 70.72%] [G loss: 0.679613]\n"
     ]
    },
    {
     "name": "stderr",
     "output_type": "stream",
     "text": [
      " 54%|████████████████████████████████████████████▎                                     | 27/50 [00:00<00:00, 25.28it/s]"
     ]
    },
    {
     "name": "stdout",
     "output_type": "stream",
     "text": [
      "69 [D loss: 0.739335, acc.: 70.73%] [G loss: 0.680122]\n",
      "69 [D loss: 0.733155, acc.: 71.19%] [G loss: 0.676753]\n",
      "69 [D loss: 0.729800, acc.: 70.88%] [G loss: 0.680165]\n",
      "69 [D loss: 0.713312, acc.: 70.93%] [G loss: 0.683558]\n",
      "69 [D loss: 0.715224, acc.: 71.25%] [G loss: 0.676293]\n",
      "69 [D loss: 0.696781, acc.: 70.70%] [G loss: 0.679343]\n",
      "69 [D loss: 0.719340, acc.: 70.74%] [G loss: 0.684785]\n"
     ]
    },
    {
     "name": "stderr",
     "output_type": "stream",
     "text": [
      " 62%|██████████████████████████████████████████████████▊                               | 31/50 [00:01<00:00, 27.12it/s]"
     ]
    },
    {
     "name": "stdout",
     "output_type": "stream",
     "text": [
      "69 [D loss: 0.720876, acc.: 70.84%] [G loss: 0.679260]\n",
      "69 [D loss: 0.705377, acc.: 70.83%] [G loss: 0.682902]\n",
      "69 [D loss: 0.710265, acc.: 71.45%] [G loss: 0.678847]\n",
      "69 [D loss: 0.711736, acc.: 71.35%] [G loss: 0.679534]\n",
      "69 [D loss: 0.699671, acc.: 72.14%] [G loss: 0.672876]\n",
      "69 [D loss: 0.698351, acc.: 72.34%] [G loss: 0.668574]\n",
      "69 [D loss: 0.699126, acc.: 72.80%] [G loss: 0.664658]"
     ]
    },
    {
     "name": "stderr",
     "output_type": "stream",
     "text": [
      " 78%|███████████████████████████████████████████████████████████████▉                  | 39/50 [00:01<00:00, 29.40it/s]"
     ]
    },
    {
     "name": "stdout",
     "output_type": "stream",
     "text": [
      "\n",
      "69 [D loss: 0.698623, acc.: 73.13%] [G loss: 0.659437]\n",
      "69 [D loss: 0.683771, acc.: 73.33%] [G loss: 0.657647]\n",
      "69 [D loss: 0.687700, acc.: 73.61%] [G loss: 0.659261]\n",
      "69 [D loss: 0.691906, acc.: 73.56%] [G loss: 0.655439]\n",
      "69 [D loss: 0.689380, acc.: 73.67%] [G loss: 0.652832]\n",
      "69 [D loss: 0.694729, acc.: 73.83%] [G loss: 0.655444]"
     ]
    },
    {
     "name": "stderr",
     "output_type": "stream",
     "text": [
      " 86%|██████████████████████████████████████████████████████████████████████▌           | 43/50 [00:01<00:00, 29.97it/s]"
     ]
    },
    {
     "name": "stdout",
     "output_type": "stream",
     "text": [
      "\n",
      "69 [D loss: 0.683930, acc.: 73.78%] [G loss: 0.654539]\n",
      "69 [D loss: 0.679110, acc.: 73.64%] [G loss: 0.654766]\n",
      "69 [D loss: 0.690144, acc.: 73.73%] [G loss: 0.652601]\n",
      "69 [D loss: 0.676646, acc.: 73.35%] [G loss: 0.655325]\n",
      "69 [D loss: 0.683879, acc.: 73.36%] [G loss: 0.655625]\n"
     ]
    },
    {
     "name": "stderr",
     "output_type": "stream",
     "text": [
      "100%|██████████████████████████████████████████████████████████████████████████████████| 50/50 [00:01<00:00, 29.68it/s]\n",
      "  0%|                                                                                           | 0/50 [00:00<?, ?it/s]"
     ]
    },
    {
     "name": "stdout",
     "output_type": "stream",
     "text": [
      "69 [D loss: 0.679203, acc.: 73.37%] [G loss: 0.656006]\n",
      "69 [D loss: 0.673052, acc.: 73.55%] [G loss: 0.657196]\n",
      "69 [D loss: 0.685797, acc.: 73.51%] [G loss: 0.658437]\n",
      "69 [D loss: 0.674342, acc.: 73.65%] [G loss: 0.657314]\n",
      "Epoch 70\n",
      "70 [D loss: 0.672778, acc.: 73.45%] [G loss: 0.653797]\n",
      "70 [D loss: 0.678974, acc.: 73.75%] [G loss: 0.656030]\n"
     ]
    },
    {
     "name": "stderr",
     "output_type": "stream",
     "text": [
      " 16%|█████████████▎                                                                     | 8/50 [00:00<00:01, 31.24it/s]"
     ]
    },
    {
     "name": "stdout",
     "output_type": "stream",
     "text": [
      "70 [D loss: 0.675762, acc.: 73.80%] [G loss: 0.651231]\n",
      "70 [D loss: 0.672545, acc.: 73.79%] [G loss: 0.654605]\n",
      "70 [D loss: 0.678725, acc.: 73.88%] [G loss: 0.653356]\n",
      "70 [D loss: 0.674671, acc.: 74.43%] [G loss: 0.653190]\n",
      "70 [D loss: 0.671882, acc.: 73.99%] [G loss: 0.651234]\n",
      "70 [D loss: 0.664929, acc.: 74.05%] [G loss: 0.649733]\n",
      "70 [D loss: 0.670918, acc.: 74.23%] [G loss: 0.650212]"
     ]
    },
    {
     "name": "stderr",
     "output_type": "stream",
     "text": [
      " 24%|███████████████████▋                                                              | 12/50 [00:00<00:01, 31.14it/s]"
     ]
    },
    {
     "name": "stdout",
     "output_type": "stream",
     "text": [
      "\n",
      "70 [D loss: 0.679696, acc.: 74.27%] [G loss: 0.651964]\n",
      "70 [D loss: 0.674805, acc.: 73.95%] [G loss: 0.651694]\n",
      "70 [D loss: 0.665796, acc.: 73.99%] [G loss: 0.652838]\n",
      "70 [D loss: 0.677727, acc.: 73.85%] [G loss: 0.654181]\n",
      "70 [D loss: 0.666137, acc.: 73.63%] [G loss: 0.658159]\n",
      "70 [D loss: 0.668286, acc.: 73.68%] [G loss: 0.657055]"
     ]
    },
    {
     "name": "stderr",
     "output_type": "stream",
     "text": [
      " 40%|████████████████████████████████▊                                                 | 20/50 [00:00<00:00, 31.08it/s]"
     ]
    },
    {
     "name": "stdout",
     "output_type": "stream",
     "text": [
      "\n",
      "70 [D loss: 0.666521, acc.: 73.18%] [G loss: 0.661187]\n",
      "70 [D loss: 0.670610, acc.: 73.03%] [G loss: 0.664651]\n",
      "70 [D loss: 0.665497, acc.: 72.73%] [G loss: 0.663265]\n",
      "70 [D loss: 0.671440, acc.: 72.39%] [G loss: 0.669156]\n",
      "70 [D loss: 0.679129, acc.: 72.51%] [G loss: 0.670389]\n"
     ]
    },
    {
     "name": "stderr",
     "output_type": "stream",
     "text": [
      " 48%|███████████████████████████████████████▎                                          | 24/50 [00:00<00:00, 31.25it/s]"
     ]
    },
    {
     "name": "stdout",
     "output_type": "stream",
     "text": [
      "70 [D loss: 0.668057, acc.: 72.11%] [G loss: 0.666548]\n",
      "70 [D loss: 0.669363, acc.: 71.93%] [G loss: 0.674619]\n",
      "70 [D loss: 0.671330, acc.: 72.18%] [G loss: 0.669611]\n",
      "70 [D loss: 0.676672, acc.: 72.12%] [G loss: 0.671624]\n",
      "70 [D loss: 0.680150, acc.: 72.18%] [G loss: 0.670206]\n",
      "70 [D loss: 0.671946, acc.: 72.07%] [G loss: 0.670910]\n",
      "70 [D loss: 0.667886, acc.: 72.23%] [G loss: 0.669439]"
     ]
    },
    {
     "name": "stderr",
     "output_type": "stream",
     "text": [
      " 64%|████████████████████████████████████████████████████▍                             | 32/50 [00:01<00:00, 31.33it/s]"
     ]
    },
    {
     "name": "stdout",
     "output_type": "stream",
     "text": [
      "\n",
      "70 [D loss: 0.669020, acc.: 72.36%] [G loss: 0.669322]\n",
      "70 [D loss: 0.672917, acc.: 72.81%] [G loss: 0.667575]\n",
      "70 [D loss: 0.669099, acc.: 72.70%] [G loss: 0.666409]\n",
      "70 [D loss: 0.671627, acc.: 72.83%] [G loss: 0.667016]\n",
      "70 [D loss: 0.670556, acc.: 72.43%] [G loss: 0.666795]\n",
      "70 [D loss: 0.680220, acc.: 72.83%] [G loss: 0.665924]"
     ]
    },
    {
     "name": "stderr",
     "output_type": "stream",
     "text": [
      " 72%|███████████████████████████████████████████████████████████                       | 36/50 [00:01<00:00, 31.13it/s]"
     ]
    },
    {
     "name": "stdout",
     "output_type": "stream",
     "text": [
      "\n",
      "70 [D loss: 0.674423, acc.: 73.00%] [G loss: 0.665080]\n",
      "70 [D loss: 0.668048, acc.: 73.00%] [G loss: 0.665149]\n",
      "70 [D loss: 0.670518, acc.: 72.74%] [G loss: 0.661730]\n",
      "70 [D loss: 0.669069, acc.: 72.76%] [G loss: 0.663539]\n",
      "70 [D loss: 0.661811, acc.: 72.83%] [G loss: 0.664544]\n",
      "70 [D loss: 0.669483, acc.: 73.15%] [G loss: 0.662130]"
     ]
    },
    {
     "name": "stderr",
     "output_type": "stream",
     "text": [
      " 88%|████████████████████████████████████████████████████████████████████████▏         | 44/50 [00:01<00:00, 31.24it/s]"
     ]
    },
    {
     "name": "stdout",
     "output_type": "stream",
     "text": [
      "\n",
      "70 [D loss: 0.669282, acc.: 73.05%] [G loss: 0.662260]\n",
      "70 [D loss: 0.664048, acc.: 72.92%] [G loss: 0.662005]\n",
      "70 [D loss: 0.667856, acc.: 73.12%] [G loss: 0.664250]\n",
      "70 [D loss: 0.668233, acc.: 72.91%] [G loss: 0.661352]\n",
      "70 [D loss: 0.662381, acc.: 72.98%] [G loss: 0.663929]\n",
      "70 [D loss: 0.661606, acc.: 72.80%] [G loss: 0.664998]"
     ]
    },
    {
     "name": "stderr",
     "output_type": "stream",
     "text": [
      "100%|██████████████████████████████████████████████████████████████████████████████████| 50/50 [00:01<00:00, 31.15it/s]\n",
      "  0%|                                                                                           | 0/50 [00:00<?, ?it/s]"
     ]
    },
    {
     "name": "stdout",
     "output_type": "stream",
     "text": [
      "\n",
      "70 [D loss: 0.668121, acc.: 72.83%] [G loss: 0.663021]\n",
      "70 [D loss: 0.665812, acc.: 72.66%] [G loss: 0.663444]\n",
      "70 [D loss: 0.669349, acc.: 72.45%] [G loss: 0.666164]\n",
      "70 [D loss: 0.664701, acc.: 72.40%] [G loss: 0.668020]\n",
      "70 [D loss: 0.667609, acc.: 72.27%] [G loss: 0.669334]\n",
      "Epoch 71\n",
      "71 [D loss: 0.660033, acc.: 72.24%] [G loss: 0.668621]"
     ]
    },
    {
     "name": "stderr",
     "output_type": "stream",
     "text": [
      "  8%|██████▋                                                                            | 4/50 [00:00<00:01, 30.69it/s]"
     ]
    },
    {
     "name": "stdout",
     "output_type": "stream",
     "text": [
      "\n",
      "71 [D loss: 0.661527, acc.: 71.79%] [G loss: 0.672674]\n",
      "71 [D loss: 0.657374, acc.: 71.70%] [G loss: 0.675262]\n",
      "71 [D loss: 0.658710, acc.: 71.51%] [G loss: 0.678063]\n",
      "71 [D loss: 0.657693, acc.: 71.15%] [G loss: 0.678205]\n",
      "71 [D loss: 0.652181, acc.: 70.96%] [G loss: 0.682120]\n",
      "71 [D loss: 0.658941, acc.: 70.74%] [G loss: 0.680392]"
     ]
    },
    {
     "name": "stderr",
     "output_type": "stream",
     "text": [
      " 24%|███████████████████▋                                                              | 12/50 [00:00<00:01, 31.17it/s]"
     ]
    },
    {
     "name": "stdout",
     "output_type": "stream",
     "text": [
      "\n",
      "71 [D loss: 0.657994, acc.: 70.78%] [G loss: 0.683121]\n",
      "71 [D loss: 0.654401, acc.: 70.98%] [G loss: 0.682950]\n",
      "71 [D loss: 0.650277, acc.: 71.10%] [G loss: 0.682391]\n",
      "71 [D loss: 0.647502, acc.: 71.46%] [G loss: 0.678460]\n",
      "71 [D loss: 0.646059, acc.: 71.40%] [G loss: 0.677133]\n",
      "71 [D loss: 0.647105, acc.: 72.10%] [G loss: 0.672686]"
     ]
    },
    {
     "name": "stderr",
     "output_type": "stream",
     "text": [
      " 32%|██████████████████████████▏                                                       | 16/50 [00:00<00:01, 31.02it/s]"
     ]
    },
    {
     "name": "stdout",
     "output_type": "stream",
     "text": [
      "\n",
      "71 [D loss: 0.639219, acc.: 72.17%] [G loss: 0.670273]\n",
      "71 [D loss: 0.641751, acc.: 72.77%] [G loss: 0.664853]\n",
      "71 [D loss: 0.640035, acc.: 72.99%] [G loss: 0.659468]\n",
      "71 [D loss: 0.648399, acc.: 73.94%] [G loss: 0.657637]\n",
      "71 [D loss: 0.641543, acc.: 73.70%] [G loss: 0.655783]\n"
     ]
    },
    {
     "name": "stderr",
     "output_type": "stream",
     "text": [
      " 48%|███████████████████████████████████████▎                                          | 24/50 [00:00<00:00, 31.44it/s]"
     ]
    },
    {
     "name": "stdout",
     "output_type": "stream",
     "text": [
      "71 [D loss: 0.641844, acc.: 73.98%] [G loss: 0.651298]\n",
      "71 [D loss: 0.639807, acc.: 74.17%] [G loss: 0.653125]\n",
      "71 [D loss: 0.644481, acc.: 74.54%] [G loss: 0.650227]\n",
      "71 [D loss: 0.642419, acc.: 74.65%] [G loss: 0.648367]\n",
      "71 [D loss: 0.641803, acc.: 74.47%] [G loss: 0.649704]\n",
      "71 [D loss: 0.646452, acc.: 74.89%] [G loss: 0.651353]\n"
     ]
    },
    {
     "name": "stderr",
     "output_type": "stream",
     "text": [
      " 56%|█████████████████████████████████████████████▉                                    | 28/50 [00:00<00:00, 31.66it/s]"
     ]
    },
    {
     "name": "stdout",
     "output_type": "stream",
     "text": [
      "71 [D loss: 0.633776, acc.: 74.45%] [G loss: 0.649108]\n",
      "71 [D loss: 0.644452, acc.: 74.26%] [G loss: 0.649691]\n",
      "71 [D loss: 0.634192, acc.: 74.69%] [G loss: 0.651415]\n",
      "71 [D loss: 0.636535, acc.: 74.13%] [G loss: 0.656905]\n",
      "71 [D loss: 0.641685, acc.: 74.26%] [G loss: 0.657872]\n",
      "71 [D loss: 0.637865, acc.: 73.80%] [G loss: 0.656590]\n",
      "71 [D loss: 0.632946, acc.: 73.90%] [G loss: 0.663593]"
     ]
    },
    {
     "name": "stderr",
     "output_type": "stream",
     "text": [
      " 72%|███████████████████████████████████████████████████████████                       | 36/50 [00:01<00:00, 31.27it/s]"
     ]
    },
    {
     "name": "stdout",
     "output_type": "stream",
     "text": [
      "\n",
      "71 [D loss: 0.640871, acc.: 73.60%] [G loss: 0.661727]\n",
      "71 [D loss: 0.640876, acc.: 73.74%] [G loss: 0.670022]\n",
      "71 [D loss: 0.634282, acc.: 73.44%] [G loss: 0.663974]\n",
      "71 [D loss: 0.633827, acc.: 72.83%] [G loss: 0.669261]\n",
      "71 [D loss: 0.634688, acc.: 73.06%] [G loss: 0.672339]\n",
      "71 [D loss: 0.632547, acc.: 72.37%] [G loss: 0.675946]"
     ]
    },
    {
     "name": "stderr",
     "output_type": "stream",
     "text": [
      " 80%|█████████████████████████████████████████████████████████████████▌                | 40/50 [00:01<00:00, 31.39it/s]"
     ]
    },
    {
     "name": "stdout",
     "output_type": "stream",
     "text": [
      "\n",
      "71 [D loss: 0.632757, acc.: 72.19%] [G loss: 0.676163]\n",
      "71 [D loss: 0.624705, acc.: 72.63%] [G loss: 0.676662]\n",
      "71 [D loss: 0.632645, acc.: 71.67%] [G loss: 0.679539]\n",
      "71 [D loss: 0.621828, acc.: 72.33%] [G loss: 0.690494]\n",
      "71 [D loss: 0.631641, acc.: 71.47%] [G loss: 0.700814]\n",
      "71 [D loss: 0.630598, acc.: 69.79%] [G loss: 0.715719]"
     ]
    },
    {
     "name": "stderr",
     "output_type": "stream",
     "text": [
      " 96%|██████████████████████████████████████████████████████████████████████████████▋   | 48/50 [00:01<00:00, 31.95it/s]"
     ]
    },
    {
     "name": "stdout",
     "output_type": "stream",
     "text": [
      "\n",
      "71 [D loss: 0.623210, acc.: 68.15%] [G loss: 0.764119]\n",
      "71 [D loss: 0.621975, acc.: 65.15%] [G loss: 0.790943]\n",
      "71 [D loss: 0.625117, acc.: 62.85%] [G loss: 0.831313]\n",
      "71 [D loss: 0.602618, acc.: 60.16%] [G loss: 0.883822]\n",
      "71 [D loss: 0.620001, acc.: 57.19%] [G loss: 0.940924]\n",
      "71 [D loss: 0.606633, acc.: 60.02%] [G loss: 0.933770]"
     ]
    },
    {
     "name": "stderr",
     "output_type": "stream",
     "text": [
      "100%|██████████████████████████████████████████████████████████████████████████████████| 50/50 [00:01<00:00, 31.40it/s]\n",
      "  8%|██████▋                                                                            | 4/50 [00:00<00:01, 33.24it/s]"
     ]
    },
    {
     "name": "stdout",
     "output_type": "stream",
     "text": [
      "\n",
      "71 [D loss: 0.582263, acc.: 62.54%] [G loss: 0.918147]\n",
      "Epoch 72\n",
      "72 [D loss: 0.566436, acc.: 67.03%] [G loss: 0.831558]\n",
      "72 [D loss: 0.592536, acc.: 74.96%] [G loss: 0.753388]\n",
      "72 [D loss: 0.583174, acc.: 80.61%] [G loss: 0.663897]\n",
      "72 [D loss: 0.586550, acc.: 83.02%] [G loss: 0.641141]\n"
     ]
    },
    {
     "name": "stderr",
     "output_type": "stream",
     "text": [
      " 16%|█████████████▎                                                                     | 8/50 [00:00<00:01, 33.33it/s]"
     ]
    },
    {
     "name": "stdout",
     "output_type": "stream",
     "text": [
      "72 [D loss: 0.586653, acc.: 84.20%] [G loss: 0.617150]\n",
      "72 [D loss: 0.577267, acc.: 84.08%] [G loss: 0.615432]\n",
      "72 [D loss: 0.590574, acc.: 82.69%] [G loss: 0.629790]\n",
      "72 [D loss: 0.589258, acc.: 81.81%] [G loss: 0.634056]\n",
      "72 [D loss: 0.588683, acc.: 81.41%] [G loss: 0.662741]\n",
      "72 [D loss: 0.524575, acc.: 77.81%] [G loss: 0.650350]\n",
      "72 [D loss: 0.562678, acc.: 79.06%] [G loss: 0.664220]"
     ]
    },
    {
     "name": "stderr",
     "output_type": "stream",
     "text": [
      " 32%|██████████████████████████▏                                                       | 16/50 [00:00<00:01, 32.77it/s]"
     ]
    },
    {
     "name": "stdout",
     "output_type": "stream",
     "text": [
      "\n",
      "72 [D loss: 0.524765, acc.: 80.92%] [G loss: 0.646544]\n",
      "72 [D loss: 0.491773, acc.: 86.25%] [G loss: 0.636638]\n",
      "72 [D loss: 0.470453, acc.: 88.81%] [G loss: 0.704055]\n",
      "72 [D loss: 0.490826, acc.: 83.16%] [G loss: 0.695804]\n",
      "72 [D loss: 0.542302, acc.: 82.31%] [G loss: 0.690105]\n",
      "72 [D loss: 0.498810, acc.: 84.05%] [G loss: 0.633175]"
     ]
    },
    {
     "name": "stderr",
     "output_type": "stream",
     "text": [
      " 40%|████████████████████████████████▊                                                 | 20/50 [00:00<00:00, 32.43it/s]"
     ]
    },
    {
     "name": "stdout",
     "output_type": "stream",
     "text": [
      "\n",
      "72 [D loss: 0.516869, acc.: 83.91%] [G loss: 0.640173]\n",
      "72 [D loss: 0.557872, acc.: 91.48%] [G loss: 0.595802]\n",
      "72 [D loss: 0.589430, acc.: 96.72%] [G loss: 0.636120]\n",
      "72 [D loss: 0.580329, acc.: 85.21%] [G loss: 0.662731]\n",
      "72 [D loss: 0.648300, acc.: 74.65%] [G loss: 0.718755]\n",
      "72 [D loss: 0.674664, acc.: 66.33%] [G loss: 0.744442]"
     ]
    },
    {
     "name": "stderr",
     "output_type": "stream",
     "text": [
      " 56%|█████████████████████████████████████████████▉                                    | 28/50 [00:00<00:00, 32.92it/s]"
     ]
    },
    {
     "name": "stdout",
     "output_type": "stream",
     "text": [
      "\n",
      "72 [D loss: 0.691025, acc.: 63.49%] [G loss: 0.765658]\n",
      "72 [D loss: 0.679758, acc.: 62.59%] [G loss: 0.776724]\n",
      "72 [D loss: 0.635626, acc.: 63.40%] [G loss: 0.781185]\n",
      "72 [D loss: 0.673104, acc.: 67.33%] [G loss: 0.783599]\n",
      "72 [D loss: 0.598358, acc.: 70.68%] [G loss: 0.732925]\n",
      "72 [D loss: 0.667408, acc.: 71.81%] [G loss: 0.715079]\n"
     ]
    },
    {
     "name": "stderr",
     "output_type": "stream",
     "text": [
      " 64%|████████████████████████████████████████████████████▍                             | 32/50 [00:00<00:00, 33.02it/s]"
     ]
    },
    {
     "name": "stdout",
     "output_type": "stream",
     "text": [
      "72 [D loss: 0.655653, acc.: 80.08%] [G loss: 0.671078]\n",
      "72 [D loss: 0.649039, acc.: 71.93%] [G loss: 0.718666]\n",
      "72 [D loss: 0.689494, acc.: 65.73%] [G loss: 0.760436]\n",
      "72 [D loss: 0.685952, acc.: 61.79%] [G loss: 0.816338]\n",
      "72 [D loss: 0.682271, acc.: 63.29%] [G loss: 0.840644]\n",
      "72 [D loss: 0.674485, acc.: 62.36%] [G loss: 0.812300]\n",
      "72 [D loss: 0.630866, acc.: 65.27%] [G loss: 0.770098]"
     ]
    },
    {
     "name": "stderr",
     "output_type": "stream",
     "text": [
      " 80%|█████████████████████████████████████████████████████████████████▌                | 40/50 [00:01<00:00, 33.08it/s]"
     ]
    },
    {
     "name": "stdout",
     "output_type": "stream",
     "text": [
      "\n",
      "72 [D loss: 0.604789, acc.: 81.94%] [G loss: 0.734938]\n",
      "72 [D loss: 0.611729, acc.: 80.87%] [G loss: 0.682024]\n",
      "72 [D loss: 0.611982, acc.: 83.43%] [G loss: 0.629744]\n",
      "72 [D loss: 0.637643, acc.: 78.59%] [G loss: 0.644248]\n",
      "72 [D loss: 0.668079, acc.: 77.44%] [G loss: 0.652704]\n",
      "72 [D loss: 0.708296, acc.: 78.57%] [G loss: 0.659137]\n",
      "72 [D loss: 0.687900, acc.: 77.02%] [G loss: 0.664522]"
     ]
    },
    {
     "name": "stderr",
     "output_type": "stream",
     "text": [
      " 96%|██████████████████████████████████████████████████████████████████████████████▋   | 48/50 [00:01<00:00, 33.31it/s]"
     ]
    },
    {
     "name": "stdout",
     "output_type": "stream",
     "text": [
      "\n",
      "72 [D loss: 0.714113, acc.: 80.75%] [G loss: 0.664481]\n",
      "72 [D loss: 0.706735, acc.: 71.57%] [G loss: 0.712694]\n",
      "72 [D loss: 0.731408, acc.: 68.82%] [G loss: 0.729862]\n",
      "72 [D loss: 0.759937, acc.: 66.38%] [G loss: 0.778561]\n",
      "72 [D loss: 0.750115, acc.: 60.65%] [G loss: 0.799933]\n",
      "72 [D loss: 0.751112, acc.: 60.49%] [G loss: 0.791236]"
     ]
    },
    {
     "name": "stderr",
     "output_type": "stream",
     "text": [
      "100%|██████████████████████████████████████████████████████████████████████████████████| 50/50 [00:01<00:00, 33.04it/s]\n",
      "  8%|██████▋                                                                            | 4/50 [00:00<00:01, 33.24it/s]"
     ]
    },
    {
     "name": "stdout",
     "output_type": "stream",
     "text": [
      "\n",
      "72 [D loss: 0.773737, acc.: 62.23%] [G loss: 0.853662]\n",
      "Epoch 73\n",
      "73 [D loss: 0.752555, acc.: 63.12%] [G loss: 0.783876]\n",
      "73 [D loss: 0.745694, acc.: 65.29%] [G loss: 0.753833]\n",
      "73 [D loss: 0.756841, acc.: 65.79%] [G loss: 0.739710]\n",
      "73 [D loss: 0.750501, acc.: 66.42%] [G loss: 0.735941]\n",
      "73 [D loss: 0.754784, acc.: 66.62%] [G loss: 0.727058]"
     ]
    },
    {
     "name": "stderr",
     "output_type": "stream",
     "text": [
      " 16%|█████████████▎                                                                     | 8/50 [00:00<00:01, 33.16it/s]"
     ]
    },
    {
     "name": "stdout",
     "output_type": "stream",
     "text": [
      "\n",
      "73 [D loss: 0.745112, acc.: 67.17%] [G loss: 0.725508]\n",
      "73 [D loss: 0.743922, acc.: 67.22%] [G loss: 0.720761]\n",
      "73 [D loss: 0.737478, acc.: 67.22%] [G loss: 0.719006]\n",
      "73 [D loss: 0.743496, acc.: 67.33%] [G loss: 0.721384]\n",
      "73 [D loss: 0.728655, acc.: 67.15%] [G loss: 0.721857]\n",
      "73 [D loss: 0.729348, acc.: 67.47%] [G loss: 0.719949]\n"
     ]
    },
    {
     "name": "stderr",
     "output_type": "stream",
     "text": [
      " 32%|██████████████████████████▏                                                       | 16/50 [00:00<00:01, 33.34it/s]"
     ]
    },
    {
     "name": "stdout",
     "output_type": "stream",
     "text": [
      "73 [D loss: 0.723435, acc.: 67.32%] [G loss: 0.718068]\n",
      "73 [D loss: 0.738213, acc.: 66.69%] [G loss: 0.720316]\n",
      "73 [D loss: 0.737646, acc.: 67.09%] [G loss: 0.726208]\n",
      "73 [D loss: 0.711073, acc.: 66.45%] [G loss: 0.729881]\n",
      "73 [D loss: 0.717980, acc.: 66.43%] [G loss: 0.743987]\n",
      "73 [D loss: 0.711323, acc.: 65.57%] [G loss: 0.741427]\n",
      "73 [D loss: 0.704858, acc.: 65.83%] [G loss: 0.746065]"
     ]
    },
    {
     "name": "stderr",
     "output_type": "stream",
     "text": [
      " 48%|███████████████████████████████████████▎                                          | 24/50 [00:00<00:00, 33.29it/s]"
     ]
    },
    {
     "name": "stdout",
     "output_type": "stream",
     "text": [
      "\n",
      "73 [D loss: 0.713822, acc.: 65.46%] [G loss: 0.740487]\n",
      "73 [D loss: 0.713524, acc.: 65.88%] [G loss: 0.740567]\n",
      "73 [D loss: 0.711921, acc.: 66.31%] [G loss: 0.737072]\n",
      "73 [D loss: 0.710726, acc.: 66.51%] [G loss: 0.726805]\n",
      "73 [D loss: 0.720020, acc.: 66.77%] [G loss: 0.719587]\n",
      "73 [D loss: 0.704747, acc.: 68.33%] [G loss: 0.709746]\n"
     ]
    },
    {
     "name": "stderr",
     "output_type": "stream",
     "text": [
      " 56%|█████████████████████████████████████████████▉                                    | 28/50 [00:00<00:00, 33.36it/s]"
     ]
    },
    {
     "name": "stdout",
     "output_type": "stream",
     "text": [
      "73 [D loss: 0.716745, acc.: 69.11%] [G loss: 0.698605]\n",
      "73 [D loss: 0.706286, acc.: 69.97%] [G loss: 0.698350]\n",
      "73 [D loss: 0.713156, acc.: 70.32%] [G loss: 0.687147]\n",
      "73 [D loss: 0.710067, acc.: 71.24%] [G loss: 0.679778]\n",
      "73 [D loss: 0.708533, acc.: 71.49%] [G loss: 0.677275]\n",
      "73 [D loss: 0.718949, acc.: 72.06%] [G loss: 0.673162]\n",
      "73 [D loss: 0.702368, acc.: 72.11%] [G loss: 0.672564]\n"
     ]
    },
    {
     "name": "stderr",
     "output_type": "stream",
     "text": [
      " 72%|███████████████████████████████████████████████████████████                       | 36/50 [00:01<00:00, 33.09it/s]"
     ]
    },
    {
     "name": "stdout",
     "output_type": "stream",
     "text": [
      "73 [D loss: 0.705556, acc.: 72.19%] [G loss: 0.672852]\n",
      "73 [D loss: 0.707728, acc.: 72.23%] [G loss: 0.672837]\n",
      "73 [D loss: 0.718289, acc.: 71.92%] [G loss: 0.674298]\n",
      "73 [D loss: 0.703546, acc.: 71.90%] [G loss: 0.676721]\n",
      "73 [D loss: 0.706437, acc.: 71.69%] [G loss: 0.680752]\n",
      "73 [D loss: 0.708954, acc.: 71.81%] [G loss: 0.687787]\n",
      "73 [D loss: 0.713110, acc.: 70.86%] [G loss: 0.691090]"
     ]
    },
    {
     "name": "stderr",
     "output_type": "stream",
     "text": [
      " 80%|█████████████████████████████████████████████████████████████████▌                | 40/50 [00:01<00:00, 32.81it/s]"
     ]
    },
    {
     "name": "stdout",
     "output_type": "stream",
     "text": [
      "\n",
      "73 [D loss: 0.700934, acc.: 70.65%] [G loss: 0.693547]\n",
      "73 [D loss: 0.708606, acc.: 69.79%] [G loss: 0.703274]\n",
      "73 [D loss: 0.699084, acc.: 69.67%] [G loss: 0.703499]\n",
      "73 [D loss: 0.706832, acc.: 68.87%] [G loss: 0.710792]\n",
      "73 [D loss: 0.707850, acc.: 68.29%] [G loss: 0.714070]\n",
      "73 [D loss: 0.712873, acc.: 67.76%] [G loss: 0.721948]"
     ]
    },
    {
     "name": "stderr",
     "output_type": "stream",
     "text": [
      "100%|██████████████████████████████████████████████████████████████████████████████████| 50/50 [00:01<00:00, 33.20it/s]"
     ]
    },
    {
     "name": "stdout",
     "output_type": "stream",
     "text": [
      "\n",
      "73 [D loss: 0.706712, acc.: 67.56%] [G loss: 0.727493]\n",
      "73 [D loss: 0.705487, acc.: 66.45%] [G loss: 0.735765]\n",
      "73 [D loss: 0.706513, acc.: 66.49%] [G loss: 0.733081]\n",
      "73 [D loss: 0.704673, acc.: 66.11%] [G loss: 0.739369]\n",
      "73 [D loss: 0.708596, acc.: 66.21%] [G loss: 0.738776]\n",
      "73 [D loss: 0.708248, acc.: 65.95%] [G loss: 0.744388]\n",
      "Epoch 74"
     ]
    },
    {
     "name": "stderr",
     "output_type": "stream",
     "text": [
      "\n",
      "  8%|██████▋                                                                            | 4/50 [00:00<00:01, 31.91it/s]"
     ]
    },
    {
     "name": "stdout",
     "output_type": "stream",
     "text": [
      "\n",
      "74 [D loss: 0.726142, acc.: 65.56%] [G loss: 0.738460]\n",
      "74 [D loss: 0.717480, acc.: 65.81%] [G loss: 0.735050]\n",
      "74 [D loss: 0.715417, acc.: 65.25%] [G loss: 0.740446]\n",
      "74 [D loss: 0.719870, acc.: 66.05%] [G loss: 0.737314]\n",
      "74 [D loss: 0.715618, acc.: 66.70%] [G loss: 0.731340]\n"
     ]
    },
    {
     "name": "stderr",
     "output_type": "stream",
     "text": [
      " 24%|███████████████████▋                                                              | 12/50 [00:00<00:01, 32.67it/s]"
     ]
    },
    {
     "name": "stdout",
     "output_type": "stream",
     "text": [
      "74 [D loss: 0.714476, acc.: 66.77%] [G loss: 0.731995]\n",
      "74 [D loss: 0.726871, acc.: 67.00%] [G loss: 0.729718]\n",
      "74 [D loss: 0.721854, acc.: 66.96%] [G loss: 0.726581]\n",
      "74 [D loss: 0.722066, acc.: 67.94%] [G loss: 0.719090]\n",
      "74 [D loss: 0.711218, acc.: 67.77%] [G loss: 0.716105]\n",
      "74 [D loss: 0.704831, acc.: 68.17%] [G loss: 0.712478]\n",
      "74 [D loss: 0.707149, acc.: 68.89%] [G loss: 0.706042]\n"
     ]
    },
    {
     "name": "stderr",
     "output_type": "stream",
     "text": [
      " 32%|██████████████████████████▏                                                       | 16/50 [00:00<00:01, 33.09it/s]"
     ]
    },
    {
     "name": "stdout",
     "output_type": "stream",
     "text": [
      "74 [D loss: 0.711465, acc.: 69.28%] [G loss: 0.702751]\n",
      "74 [D loss: 0.714820, acc.: 69.87%] [G loss: 0.698072]\n",
      "74 [D loss: 0.704231, acc.: 69.87%] [G loss: 0.688196]\n",
      "74 [D loss: 0.708338, acc.: 70.03%] [G loss: 0.686207]\n",
      "74 [D loss: 0.715200, acc.: 70.66%] [G loss: 0.684987]\n",
      "74 [D loss: 0.694367, acc.: 70.82%] [G loss: 0.683732]\n",
      "74 [D loss: 0.704090, acc.: 70.94%] [G loss: 0.685863]\n"
     ]
    },
    {
     "name": "stderr",
     "output_type": "stream",
     "text": [
      " 48%|███████████████████████████████████████▎                                          | 24/50 [00:00<00:00, 33.65it/s]"
     ]
    },
    {
     "name": "stdout",
     "output_type": "stream",
     "text": [
      "74 [D loss: 0.693593, acc.: 70.81%] [G loss: 0.682138]\n",
      "74 [D loss: 0.698872, acc.: 71.03%] [G loss: 0.683425]\n",
      "74 [D loss: 0.692578, acc.: 70.59%] [G loss: 0.684901]\n",
      "74 [D loss: 0.695433, acc.: 70.44%] [G loss: 0.685707]\n",
      "74 [D loss: 0.695904, acc.: 70.66%] [G loss: 0.685466]\n",
      "74 [D loss: 0.691542, acc.: 70.09%] [G loss: 0.688527]\n",
      "74 [D loss: 0.697186, acc.: 70.34%] [G loss: 0.691996]\n",
      "74 [D loss: 0.685826, acc.: 70.23%] [G loss: 0.690040]"
     ]
    },
    {
     "name": "stderr",
     "output_type": "stream",
     "text": [
      " 64%|████████████████████████████████████████████████████▍                             | 32/50 [00:00<00:00, 34.17it/s]"
     ]
    },
    {
     "name": "stdout",
     "output_type": "stream",
     "text": [
      "\n",
      "74 [D loss: 0.690061, acc.: 70.05%] [G loss: 0.692893]\n",
      "74 [D loss: 0.681939, acc.: 70.20%] [G loss: 0.694705]\n",
      "74 [D loss: 0.679067, acc.: 69.99%] [G loss: 0.695218]\n",
      "74 [D loss: 0.681494, acc.: 69.81%] [G loss: 0.693181]\n",
      "74 [D loss: 0.684654, acc.: 69.63%] [G loss: 0.696743]\n",
      "74 [D loss: 0.686022, acc.: 69.70%] [G loss: 0.697087]\n",
      "74 [D loss: 0.681679, acc.: 69.93%] [G loss: 0.693133]"
     ]
    },
    {
     "name": "stderr",
     "output_type": "stream",
     "text": [
      " 80%|█████████████████████████████████████████████████████████████████▌                | 40/50 [00:01<00:00, 34.43it/s]"
     ]
    },
    {
     "name": "stdout",
     "output_type": "stream",
     "text": [
      "\n",
      "74 [D loss: 0.684650, acc.: 69.99%] [G loss: 0.693031]\n",
      "74 [D loss: 0.678230, acc.: 70.27%] [G loss: 0.691270]\n",
      "74 [D loss: 0.679066, acc.: 70.60%] [G loss: 0.690256]\n",
      "74 [D loss: 0.673846, acc.: 70.39%] [G loss: 0.689494]\n",
      "74 [D loss: 0.667553, acc.: 70.44%] [G loss: 0.684429]\n",
      "74 [D loss: 0.672934, acc.: 70.99%] [G loss: 0.686677]\n"
     ]
    },
    {
     "name": "stderr",
     "output_type": "stream",
     "text": [
      " 88%|████████████████████████████████████████████████████████████████████████▏         | 44/50 [00:01<00:00, 34.33it/s]"
     ]
    },
    {
     "name": "stdout",
     "output_type": "stream",
     "text": [
      "74 [D loss: 0.678543, acc.: 71.15%] [G loss: 0.683829]\n",
      "74 [D loss: 0.675816, acc.: 71.05%] [G loss: 0.677259]\n",
      "74 [D loss: 0.677869, acc.: 71.98%] [G loss: 0.676889]\n",
      "74 [D loss: 0.668979, acc.: 72.02%] [G loss: 0.672971]\n",
      "74 [D loss: 0.673515, acc.: 71.97%] [G loss: 0.670835]\n",
      "74 [D loss: 0.670843, acc.: 72.64%] [G loss: 0.672891]\n",
      "74 [D loss: 0.669433, acc.: 72.54%] [G loss: 0.669012]\n"
     ]
    },
    {
     "name": "stderr",
     "output_type": "stream",
     "text": [
      "100%|██████████████████████████████████████████████████████████████████████████████████| 50/50 [00:01<00:00, 33.97it/s]\n",
      "  8%|██████▋                                                                            | 4/50 [00:00<00:01, 33.52it/s]"
     ]
    },
    {
     "name": "stdout",
     "output_type": "stream",
     "text": [
      "74 [D loss: 0.674179, acc.: 72.70%] [G loss: 0.673131]\n",
      "74 [D loss: 0.665724, acc.: 72.62%] [G loss: 0.669654]\n",
      "74 [D loss: 0.669372, acc.: 72.61%] [G loss: 0.670012]\n",
      "Epoch 75\n",
      "75 [D loss: 0.669579, acc.: 72.56%] [G loss: 0.671064]\n",
      "75 [D loss: 0.664661, acc.: 71.90%] [G loss: 0.675225]\n",
      "75 [D loss: 0.668693, acc.: 71.51%] [G loss: 0.687298]\n",
      "75 [D loss: 0.666957, acc.: 70.74%] [G loss: 0.683053]\n"
     ]
    },
    {
     "name": "stderr",
     "output_type": "stream",
     "text": [
      " 16%|█████████████▎                                                                     | 8/50 [00:00<00:01, 33.27it/s]"
     ]
    },
    {
     "name": "stdout",
     "output_type": "stream",
     "text": [
      "75 [D loss: 0.663481, acc.: 70.16%] [G loss: 0.693579]\n",
      "75 [D loss: 0.672501, acc.: 69.44%] [G loss: 0.708487]\n",
      "75 [D loss: 0.669953, acc.: 68.45%] [G loss: 0.718686]\n",
      "75 [D loss: 0.679457, acc.: 67.92%] [G loss: 0.723930]\n",
      "75 [D loss: 0.666928, acc.: 67.27%] [G loss: 0.740817]\n",
      "75 [D loss: 0.683658, acc.: 65.20%] [G loss: 0.756980]\n",
      "75 [D loss: 0.669339, acc.: 64.53%] [G loss: 0.769480]"
     ]
    },
    {
     "name": "stderr",
     "output_type": "stream",
     "text": [
      " 32%|██████████████████████████▏                                                       | 16/50 [00:00<00:01, 33.57it/s]"
     ]
    },
    {
     "name": "stdout",
     "output_type": "stream",
     "text": [
      "\n",
      "75 [D loss: 0.674917, acc.: 64.24%] [G loss: 0.763438]\n",
      "75 [D loss: 0.674173, acc.: 62.45%] [G loss: 0.785928]\n",
      "75 [D loss: 0.687747, acc.: 62.76%] [G loss: 0.779720]\n",
      "75 [D loss: 0.683896, acc.: 62.50%] [G loss: 0.788570]\n",
      "75 [D loss: 0.681156, acc.: 63.52%] [G loss: 0.782261]\n",
      "75 [D loss: 0.691159, acc.: 63.38%] [G loss: 0.780740]\n"
     ]
    },
    {
     "name": "stderr",
     "output_type": "stream",
     "text": [
      " 40%|████████████████████████████████▊                                                 | 20/50 [00:00<00:00, 33.22it/s]"
     ]
    },
    {
     "name": "stdout",
     "output_type": "stream",
     "text": [
      "75 [D loss: 0.690258, acc.: 64.49%] [G loss: 0.761436]\n",
      "75 [D loss: 0.684936, acc.: 66.47%] [G loss: 0.753277]\n",
      "75 [D loss: 0.692830, acc.: 67.52%] [G loss: 0.749882]\n",
      "75 [D loss: 0.700974, acc.: 68.06%] [G loss: 0.731566]\n",
      "75 [D loss: 0.688289, acc.: 70.80%] [G loss: 0.715436]\n",
      "75 [D loss: 0.684181, acc.: 69.72%] [G loss: 0.716301]\n",
      "75 [D loss: 0.692157, acc.: 71.13%] [G loss: 0.698028]"
     ]
    },
    {
     "name": "stderr",
     "output_type": "stream",
     "text": [
      " 56%|█████████████████████████████████████████████▉                                    | 28/50 [00:00<00:00, 32.56it/s]"
     ]
    },
    {
     "name": "stdout",
     "output_type": "stream",
     "text": [
      "\n",
      "75 [D loss: 0.703482, acc.: 70.43%] [G loss: 0.714229]\n",
      "75 [D loss: 0.722938, acc.: 70.58%] [G loss: 0.705723]\n",
      "75 [D loss: 0.711023, acc.: 71.20%] [G loss: 0.720111]\n",
      "75 [D loss: 0.716435, acc.: 70.25%] [G loss: 0.719952]\n",
      "75 [D loss: 0.717922, acc.: 69.60%] [G loss: 0.737060]\n",
      "75 [D loss: 0.720632, acc.: 69.22%] [G loss: 0.737614]"
     ]
    },
    {
     "name": "stderr",
     "output_type": "stream",
     "text": [
      " 64%|████████████████████████████████████████████████████▍                             | 32/50 [00:00<00:00, 32.44it/s]"
     ]
    },
    {
     "name": "stdout",
     "output_type": "stream",
     "text": [
      "\n",
      "75 [D loss: 0.726638, acc.: 68.65%] [G loss: 0.739734]\n",
      "75 [D loss: 0.725995, acc.: 68.01%] [G loss: 0.756610]\n",
      "75 [D loss: 0.734424, acc.: 67.57%] [G loss: 0.776370]\n",
      "75 [D loss: 0.733651, acc.: 64.50%] [G loss: 0.790946]\n",
      "75 [D loss: 0.733880, acc.: 64.78%] [G loss: 0.822722]\n",
      "75 [D loss: 0.731019, acc.: 63.42%] [G loss: 0.818168]"
     ]
    },
    {
     "name": "stderr",
     "output_type": "stream",
     "text": [
      " 80%|█████████████████████████████████████████████████████████████████▌                | 40/50 [00:01<00:00, 32.74it/s]"
     ]
    },
    {
     "name": "stdout",
     "output_type": "stream",
     "text": [
      "\n",
      "75 [D loss: 0.735169, acc.: 60.18%] [G loss: 0.852604]\n",
      "75 [D loss: 0.726817, acc.: 56.84%] [G loss: 0.859080]\n",
      "75 [D loss: 0.751207, acc.: 57.93%] [G loss: 0.889672]\n",
      "75 [D loss: 0.764111, acc.: 58.88%] [G loss: 0.867847]\n",
      "75 [D loss: 0.743412, acc.: 60.84%] [G loss: 0.822369]\n",
      "75 [D loss: 0.762220, acc.: 62.23%] [G loss: 0.805826]\n"
     ]
    },
    {
     "name": "stderr",
     "output_type": "stream",
     "text": [
      " 96%|██████████████████████████████████████████████████████████████████████████████▋   | 48/50 [00:01<00:00, 31.87it/s]"
     ]
    },
    {
     "name": "stdout",
     "output_type": "stream",
     "text": [
      "75 [D loss: 0.756489, acc.: 64.77%] [G loss: 0.764803]\n",
      "75 [D loss: 0.767047, acc.: 69.16%] [G loss: 0.731077]\n",
      "75 [D loss: 0.763970, acc.: 69.20%] [G loss: 0.695272]\n",
      "75 [D loss: 0.747103, acc.: 69.85%] [G loss: 0.698903]\n",
      "75 [D loss: 0.762064, acc.: 70.22%] [G loss: 0.693824]\n",
      "75 [D loss: 0.750542, acc.: 69.87%] [G loss: 0.694350]\n"
     ]
    },
    {
     "name": "stderr",
     "output_type": "stream",
     "text": [
      "100%|██████████████████████████████████████████████████████████████████████████████████| 50/50 [00:01<00:00, 32.36it/s]\n",
      "  8%|██████▋                                                                            | 4/50 [00:00<00:01, 30.92it/s]"
     ]
    },
    {
     "name": "stdout",
     "output_type": "stream",
     "text": [
      "75 [D loss: 0.728988, acc.: 69.63%] [G loss: 0.694996]\n",
      "75 [D loss: 0.740381, acc.: 68.90%] [G loss: 0.702583]\n",
      "Epoch 76\n",
      "76 [D loss: 0.729509, acc.: 69.03%] [G loss: 0.707543]\n",
      "76 [D loss: 0.744698, acc.: 68.54%] [G loss: 0.703250]\n",
      "76 [D loss: 0.729363, acc.: 69.49%] [G loss: 0.707833]\n",
      "76 [D loss: 0.728385, acc.: 68.87%] [G loss: 0.702423]\n"
     ]
    },
    {
     "name": "stderr",
     "output_type": "stream",
     "text": [
      " 16%|█████████████▎                                                                     | 8/50 [00:00<00:01, 30.78it/s]"
     ]
    },
    {
     "name": "stdout",
     "output_type": "stream",
     "text": [
      "76 [D loss: 0.725186, acc.: 69.72%] [G loss: 0.700221]\n",
      "76 [D loss: 0.721843, acc.: 70.36%] [G loss: 0.688206]\n",
      "76 [D loss: 0.722174, acc.: 70.43%] [G loss: 0.687409]\n",
      "76 [D loss: 0.727373, acc.: 71.01%] [G loss: 0.682776]\n",
      "76 [D loss: 0.715468, acc.: 71.25%] [G loss: 0.680473]\n",
      "76 [D loss: 0.723735, acc.: 71.00%] [G loss: 0.680106]\n",
      "76 [D loss: 0.716236, acc.: 70.84%] [G loss: 0.680069]"
     ]
    },
    {
     "name": "stderr",
     "output_type": "stream",
     "text": [
      " 32%|██████████████████████████▏                                                       | 16/50 [00:00<00:01, 31.47it/s]"
     ]
    },
    {
     "name": "stdout",
     "output_type": "stream",
     "text": [
      "\n",
      "76 [D loss: 0.712877, acc.: 70.84%] [G loss: 0.679976]\n",
      "76 [D loss: 0.708575, acc.: 70.87%] [G loss: 0.682550]\n",
      "76 [D loss: 0.697693, acc.: 70.78%] [G loss: 0.683926]\n",
      "76 [D loss: 0.695565, acc.: 70.63%] [G loss: 0.683074]\n",
      "76 [D loss: 0.697329, acc.: 70.87%] [G loss: 0.682869]\n",
      "76 [D loss: 0.706390, acc.: 70.93%] [G loss: 0.679357]"
     ]
    },
    {
     "name": "stderr",
     "output_type": "stream",
     "text": [
      " 40%|████████████████████████████████▊                                                 | 20/50 [00:00<00:00, 31.60it/s]"
     ]
    },
    {
     "name": "stdout",
     "output_type": "stream",
     "text": [
      "\n",
      "76 [D loss: 0.680654, acc.: 71.06%] [G loss: 0.680346]\n",
      "76 [D loss: 0.697400, acc.: 71.28%] [G loss: 0.677815]\n",
      "76 [D loss: 0.693941, acc.: 71.35%] [G loss: 0.676920]\n",
      "76 [D loss: 0.684580, acc.: 71.65%] [G loss: 0.674745]\n",
      "76 [D loss: 0.685079, acc.: 72.07%] [G loss: 0.670696]\n",
      "76 [D loss: 0.683702, acc.: 72.20%] [G loss: 0.668408]"
     ]
    },
    {
     "name": "stderr",
     "output_type": "stream",
     "text": [
      " 56%|█████████████████████████████████████████████▉                                    | 28/50 [00:00<00:00, 32.03it/s]"
     ]
    },
    {
     "name": "stdout",
     "output_type": "stream",
     "text": [
      "\n",
      "76 [D loss: 0.679631, acc.: 72.43%] [G loss: 0.664022]\n",
      "76 [D loss: 0.682160, acc.: 72.77%] [G loss: 0.662074]\n",
      "76 [D loss: 0.675946, acc.: 72.93%] [G loss: 0.660169]\n",
      "76 [D loss: 0.666145, acc.: 73.24%] [G loss: 0.656906]\n",
      "76 [D loss: 0.673797, acc.: 73.57%] [G loss: 0.655287]\n",
      "76 [D loss: 0.668996, acc.: 73.71%] [G loss: 0.654814]"
     ]
    },
    {
     "name": "stderr",
     "output_type": "stream",
     "text": [
      " 64%|████████████████████████████████████████████████████▍                             | 32/50 [00:01<00:00, 31.99it/s]"
     ]
    },
    {
     "name": "stdout",
     "output_type": "stream",
     "text": [
      "\n",
      "76 [D loss: 0.667843, acc.: 74.04%] [G loss: 0.652439]\n",
      "76 [D loss: 0.664573, acc.: 73.83%] [G loss: 0.652053]\n",
      "76 [D loss: 0.663397, acc.: 73.92%] [G loss: 0.651320]\n",
      "76 [D loss: 0.663681, acc.: 74.05%] [G loss: 0.650476]\n",
      "76 [D loss: 0.669563, acc.: 74.05%] [G loss: 0.651529]\n",
      "76 [D loss: 0.667767, acc.: 73.88%] [G loss: 0.653564]"
     ]
    },
    {
     "name": "stderr",
     "output_type": "stream",
     "text": [
      " 80%|█████████████████████████████████████████████████████████████████▌                | 40/50 [00:01<00:00, 32.20it/s]"
     ]
    },
    {
     "name": "stdout",
     "output_type": "stream",
     "text": [
      "\n",
      "76 [D loss: 0.665650, acc.: 74.04%] [G loss: 0.652166]\n",
      "76 [D loss: 0.662110, acc.: 74.06%] [G loss: 0.653044]\n",
      "76 [D loss: 0.674924, acc.: 73.76%] [G loss: 0.657455]\n",
      "76 [D loss: 0.661484, acc.: 73.54%] [G loss: 0.657914]\n",
      "76 [D loss: 0.668304, acc.: 73.49%] [G loss: 0.657744]\n",
      "76 [D loss: 0.662355, acc.: 73.40%] [G loss: 0.661374]"
     ]
    },
    {
     "name": "stderr",
     "output_type": "stream",
     "text": [
      " 88%|████████████████████████████████████████████████████████████████████████▏         | 44/50 [00:01<00:00, 32.27it/s]"
     ]
    },
    {
     "name": "stdout",
     "output_type": "stream",
     "text": [
      "\n",
      "76 [D loss: 0.661778, acc.: 73.16%] [G loss: 0.663267]\n",
      "76 [D loss: 0.666856, acc.: 72.88%] [G loss: 0.663331]\n",
      "76 [D loss: 0.669493, acc.: 72.91%] [G loss: 0.665320]\n",
      "76 [D loss: 0.668767, acc.: 72.92%] [G loss: 0.664951]\n",
      "76 [D loss: 0.668842, acc.: 72.94%] [G loss: 0.667387]\n",
      "76 [D loss: 0.660309, acc.: 72.17%] [G loss: 0.667414]\n"
     ]
    },
    {
     "name": "stderr",
     "output_type": "stream",
     "text": [
      "100%|██████████████████████████████████████████████████████████████████████████████████| 50/50 [00:01<00:00, 32.19it/s]\n",
      "  0%|                                                                                           | 0/50 [00:00<?, ?it/s]"
     ]
    },
    {
     "name": "stdout",
     "output_type": "stream",
     "text": [
      "76 [D loss: 0.668127, acc.: 72.53%] [G loss: 0.667779]\n",
      "76 [D loss: 0.663277, acc.: 72.81%] [G loss: 0.668623]\n",
      "76 [D loss: 0.672608, acc.: 72.43%] [G loss: 0.668229]\n",
      "Epoch 77\n",
      "77 [D loss: 0.669480, acc.: 72.23%] [G loss: 0.668154]\n",
      "77 [D loss: 0.670154, acc.: 72.82%] [G loss: 0.667869]\n",
      "77 [D loss: 0.676524, acc.: 72.41%] [G loss: 0.670010]\n",
      "77 [D loss: 0.676132, acc.: 72.68%] [G loss: 0.668084]"
     ]
    },
    {
     "name": "stderr",
     "output_type": "stream",
     "text": [
      " 16%|█████████████▎                                                                     | 8/50 [00:00<00:01, 33.52it/s]"
     ]
    },
    {
     "name": "stdout",
     "output_type": "stream",
     "text": [
      "\n",
      "77 [D loss: 0.670480, acc.: 72.75%] [G loss: 0.668877]\n",
      "77 [D loss: 0.674948, acc.: 72.45%] [G loss: 0.670929]\n",
      "77 [D loss: 0.677595, acc.: 72.03%] [G loss: 0.674218]\n",
      "77 [D loss: 0.671960, acc.: 71.97%] [G loss: 0.675778]\n",
      "77 [D loss: 0.681229, acc.: 71.83%] [G loss: 0.673315]\n",
      "77 [D loss: 0.681332, acc.: 71.70%] [G loss: 0.681737]"
     ]
    },
    {
     "name": "stderr",
     "output_type": "stream",
     "text": [
      " 32%|██████████████████████████▏                                                       | 16/50 [00:00<00:01, 33.63it/s]"
     ]
    },
    {
     "name": "stdout",
     "output_type": "stream",
     "text": [
      "\n",
      "77 [D loss: 0.679884, acc.: 71.02%] [G loss: 0.681451]\n",
      "77 [D loss: 0.679926, acc.: 71.00%] [G loss: 0.690629]\n",
      "77 [D loss: 0.686748, acc.: 70.37%] [G loss: 0.692957]\n",
      "77 [D loss: 0.681547, acc.: 70.19%] [G loss: 0.697228]\n",
      "77 [D loss: 0.684172, acc.: 69.71%] [G loss: 0.700804]\n",
      "77 [D loss: 0.688056, acc.: 69.07%] [G loss: 0.705495]\n"
     ]
    },
    {
     "name": "stderr",
     "output_type": "stream",
     "text": [
      " 40%|████████████████████████████████▊                                                 | 20/50 [00:00<00:00, 33.60it/s]"
     ]
    },
    {
     "name": "stdout",
     "output_type": "stream",
     "text": [
      "77 [D loss: 0.687967, acc.: 69.03%] [G loss: 0.709913]\n",
      "77 [D loss: 0.690277, acc.: 68.81%] [G loss: 0.712837]\n",
      "77 [D loss: 0.696407, acc.: 68.55%] [G loss: 0.714070]\n",
      "77 [D loss: 0.684424, acc.: 67.82%] [G loss: 0.715700]\n",
      "77 [D loss: 0.689621, acc.: 67.65%] [G loss: 0.717503]\n",
      "77 [D loss: 0.704922, acc.: 67.91%] [G loss: 0.723601]\n",
      "77 [D loss: 0.691628, acc.: 68.03%] [G loss: 0.720490]\n"
     ]
    },
    {
     "name": "stderr",
     "output_type": "stream",
     "text": [
      " 56%|█████████████████████████████████████████████▉                                    | 28/50 [00:00<00:00, 33.34it/s]"
     ]
    },
    {
     "name": "stdout",
     "output_type": "stream",
     "text": [
      "77 [D loss: 0.702448, acc.: 67.81%] [G loss: 0.723633]\n",
      "77 [D loss: 0.694983, acc.: 68.25%] [G loss: 0.718018]\n",
      "77 [D loss: 0.700940, acc.: 68.39%] [G loss: 0.718221]\n",
      "77 [D loss: 0.699207, acc.: 68.42%] [G loss: 0.713172]\n",
      "77 [D loss: 0.698709, acc.: 68.79%] [G loss: 0.713324]\n",
      "77 [D loss: 0.705954, acc.: 69.38%] [G loss: 0.704951]\n",
      "77 [D loss: 0.713583, acc.: 69.09%] [G loss: 0.704508]"
     ]
    },
    {
     "name": "stderr",
     "output_type": "stream",
     "text": [
      " 72%|███████████████████████████████████████████████████████████                       | 36/50 [00:01<00:00, 33.60it/s]"
     ]
    },
    {
     "name": "stdout",
     "output_type": "stream",
     "text": [
      "\n",
      "77 [D loss: 0.704515, acc.: 69.52%] [G loss: 0.703161]\n",
      "77 [D loss: 0.708574, acc.: 69.42%] [G loss: 0.695660]\n",
      "77 [D loss: 0.698418, acc.: 69.63%] [G loss: 0.696601]\n",
      "77 [D loss: 0.698592, acc.: 69.70%] [G loss: 0.695641]\n",
      "77 [D loss: 0.697841, acc.: 70.13%] [G loss: 0.703224]\n",
      "77 [D loss: 0.698937, acc.: 69.92%] [G loss: 0.693924]\n"
     ]
    },
    {
     "name": "stderr",
     "output_type": "stream",
     "text": [
      " 80%|█████████████████████████████████████████████████████████████████▌                | 40/50 [00:01<00:00, 33.33it/s]"
     ]
    },
    {
     "name": "stdout",
     "output_type": "stream",
     "text": [
      "77 [D loss: 0.708745, acc.: 70.38%] [G loss: 0.693234]\n",
      "77 [D loss: 0.707763, acc.: 70.56%] [G loss: 0.691146]\n",
      "77 [D loss: 0.693075, acc.: 71.06%] [G loss: 0.693445]\n",
      "77 [D loss: 0.705096, acc.: 71.04%] [G loss: 0.693867]\n",
      "77 [D loss: 0.696677, acc.: 70.54%] [G loss: 0.692478]\n",
      "77 [D loss: 0.699487, acc.: 70.62%] [G loss: 0.695681]\n",
      "77 [D loss: 0.713399, acc.: 70.38%] [G loss: 0.696189]"
     ]
    },
    {
     "name": "stderr",
     "output_type": "stream",
     "text": [
      " 96%|██████████████████████████████████████████████████████████████████████████████▋   | 48/50 [00:01<00:00, 33.59it/s]"
     ]
    },
    {
     "name": "stdout",
     "output_type": "stream",
     "text": [
      "\n",
      "77 [D loss: 0.706414, acc.: 69.94%] [G loss: 0.698332]\n",
      "77 [D loss: 0.707052, acc.: 69.40%] [G loss: 0.701225]\n",
      "77 [D loss: 0.694659, acc.: 68.87%] [G loss: 0.711940]\n",
      "77 [D loss: 0.696519, acc.: 69.02%] [G loss: 0.712225]\n",
      "77 [D loss: 0.698131, acc.: 68.11%] [G loss: 0.723056]\n",
      "77 [D loss: 0.703900, acc.: 67.48%] [G loss: 0.725535]\n"
     ]
    },
    {
     "name": "stderr",
     "output_type": "stream",
     "text": [
      "100%|██████████████████████████████████████████████████████████████████████████████████| 50/50 [00:01<00:00, 33.53it/s]\n",
      "  8%|██████▋                                                                            | 4/50 [00:00<00:01, 33.52it/s]"
     ]
    },
    {
     "name": "stdout",
     "output_type": "stream",
     "text": [
      "77 [D loss: 0.700807, acc.: 67.16%] [G loss: 0.731527]\n",
      "Epoch 78\n",
      "78 [D loss: 0.702814, acc.: 66.76%] [G loss: 0.739786]\n",
      "78 [D loss: 0.714596, acc.: 66.15%] [G loss: 0.747820]\n",
      "78 [D loss: 0.698789, acc.: 65.99%] [G loss: 0.743793]\n",
      "78 [D loss: 0.696071, acc.: 66.05%] [G loss: 0.747535]\n",
      "78 [D loss: 0.703883, acc.: 66.33%] [G loss: 0.745506]\n",
      "78 [D loss: 0.708217, acc.: 66.14%] [G loss: 0.737670]"
     ]
    },
    {
     "name": "stderr",
     "output_type": "stream",
     "text": [
      " 24%|███████████████████▋                                                              | 12/50 [00:00<00:01, 33.44it/s]"
     ]
    },
    {
     "name": "stdout",
     "output_type": "stream",
     "text": [
      "\n",
      "78 [D loss: 0.720978, acc.: 66.56%] [G loss: 0.734660]\n",
      "78 [D loss: 0.706930, acc.: 67.36%] [G loss: 0.735610]\n",
      "78 [D loss: 0.702822, acc.: 67.40%] [G loss: 0.726896]\n",
      "78 [D loss: 0.716542, acc.: 68.07%] [G loss: 0.720529]\n",
      "78 [D loss: 0.705524, acc.: 68.03%] [G loss: 0.716254]\n",
      "78 [D loss: 0.723668, acc.: 68.53%] [G loss: 0.710405]\n"
     ]
    },
    {
     "name": "stderr",
     "output_type": "stream",
     "text": [
      " 32%|██████████████████████████▏                                                       | 16/50 [00:00<00:01, 33.38it/s]"
     ]
    },
    {
     "name": "stdout",
     "output_type": "stream",
     "text": [
      "78 [D loss: 0.708919, acc.: 68.68%] [G loss: 0.708393]\n",
      "78 [D loss: 0.710552, acc.: 68.49%] [G loss: 0.710600]\n",
      "78 [D loss: 0.701042, acc.: 68.42%] [G loss: 0.708445]\n",
      "78 [D loss: 0.716828, acc.: 68.90%] [G loss: 0.706162]\n",
      "78 [D loss: 0.702375, acc.: 68.85%] [G loss: 0.706034]\n",
      "78 [D loss: 0.701508, acc.: 69.21%] [G loss: 0.702301]\n",
      "78 [D loss: 0.701712, acc.: 69.35%] [G loss: 0.699795]"
     ]
    },
    {
     "name": "stderr",
     "output_type": "stream",
     "text": [
      " 48%|███████████████████████████████████████▎                                          | 24/50 [00:00<00:00, 32.48it/s]"
     ]
    },
    {
     "name": "stdout",
     "output_type": "stream",
     "text": [
      "\n",
      "78 [D loss: 0.696050, acc.: 69.39%] [G loss: 0.704953]\n",
      "78 [D loss: 0.693862, acc.: 69.20%] [G loss: 0.700074]\n",
      "78 [D loss: 0.698247, acc.: 69.33%] [G loss: 0.701585]\n",
      "78 [D loss: 0.693037, acc.: 69.42%] [G loss: 0.699742]\n",
      "78 [D loss: 0.693383, acc.: 69.36%] [G loss: 0.697630]\n",
      "78 [D loss: 0.697828, acc.: 69.42%] [G loss: 0.699427]"
     ]
    },
    {
     "name": "stderr",
     "output_type": "stream",
     "text": [
      " 56%|█████████████████████████████████████████████▉                                    | 28/50 [00:00<00:00, 32.55it/s]"
     ]
    },
    {
     "name": "stdout",
     "output_type": "stream",
     "text": [
      "\n",
      "78 [D loss: 0.696411, acc.: 69.31%] [G loss: 0.699739]\n",
      "78 [D loss: 0.699380, acc.: 69.53%] [G loss: 0.697237]\n",
      "78 [D loss: 0.701607, acc.: 69.26%] [G loss: 0.702173]\n",
      "78 [D loss: 0.711832, acc.: 69.26%] [G loss: 0.700772]\n",
      "78 [D loss: 0.692974, acc.: 69.30%] [G loss: 0.697706]\n",
      "78 [D loss: 0.697094, acc.: 69.59%] [G loss: 0.694635]"
     ]
    },
    {
     "name": "stderr",
     "output_type": "stream",
     "text": [
      " 72%|███████████████████████████████████████████████████████████                       | 36/50 [00:01<00:00, 32.90it/s]"
     ]
    },
    {
     "name": "stdout",
     "output_type": "stream",
     "text": [
      "\n",
      "78 [D loss: 0.703102, acc.: 69.88%] [G loss: 0.694536]\n",
      "78 [D loss: 0.690878, acc.: 69.85%] [G loss: 0.690531]\n",
      "78 [D loss: 0.694273, acc.: 70.45%] [G loss: 0.688060]\n",
      "78 [D loss: 0.689699, acc.: 70.41%] [G loss: 0.682820]\n",
      "78 [D loss: 0.697925, acc.: 70.89%] [G loss: 0.680831]\n",
      "78 [D loss: 0.696436, acc.: 71.34%] [G loss: 0.681052]\n"
     ]
    },
    {
     "name": "stderr",
     "output_type": "stream",
     "text": [
      " 80%|█████████████████████████████████████████████████████████████████▌                | 40/50 [00:01<00:00, 32.84it/s]"
     ]
    },
    {
     "name": "stdout",
     "output_type": "stream",
     "text": [
      "78 [D loss: 0.693930, acc.: 71.32%] [G loss: 0.675563]\n",
      "78 [D loss: 0.695907, acc.: 71.77%] [G loss: 0.672318]\n",
      "78 [D loss: 0.701023, acc.: 72.06%] [G loss: 0.673471]\n",
      "78 [D loss: 0.684813, acc.: 72.13%] [G loss: 0.672130]\n",
      "78 [D loss: 0.686521, acc.: 71.65%] [G loss: 0.672673]\n",
      "78 [D loss: 0.689444, acc.: 71.72%] [G loss: 0.676492]\n",
      "78 [D loss: 0.680207, acc.: 71.53%] [G loss: 0.677167]"
     ]
    },
    {
     "name": "stderr",
     "output_type": "stream",
     "text": [
      "100%|██████████████████████████████████████████████████████████████████████████████████| 50/50 [00:01<00:00, 32.96it/s]"
     ]
    },
    {
     "name": "stdout",
     "output_type": "stream",
     "text": [
      "\n",
      "78 [D loss: 0.687387, acc.: 71.77%] [G loss: 0.680389]\n",
      "78 [D loss: 0.694786, acc.: 70.64%] [G loss: 0.686200]\n",
      "78 [D loss: 0.684629, acc.: 70.58%] [G loss: 0.688044]\n",
      "78 [D loss: 0.686515, acc.: 69.90%] [G loss: 0.694284]\n",
      "78 [D loss: 0.695358, acc.: 69.49%] [G loss: 0.698821]\n",
      "78 [D loss: 0.691022, acc.: 69.68%] [G loss: 0.698735]\n",
      "Epoch 79"
     ]
    },
    {
     "name": "stderr",
     "output_type": "stream",
     "text": [
      "\n",
      "  8%|██████▋                                                                            | 4/50 [00:00<00:01, 32.97it/s]"
     ]
    },
    {
     "name": "stdout",
     "output_type": "stream",
     "text": [
      "\n",
      "79 [D loss: 0.683389, acc.: 69.46%] [G loss: 0.704016]\n",
      "79 [D loss: 0.686923, acc.: 68.71%] [G loss: 0.706677]\n",
      "79 [D loss: 0.689089, acc.: 68.36%] [G loss: 0.708401]\n",
      "79 [D loss: 0.690492, acc.: 68.16%] [G loss: 0.713524]\n",
      "79 [D loss: 0.689169, acc.: 68.13%] [G loss: 0.714233]\n",
      "79 [D loss: 0.691838, acc.: 68.03%] [G loss: 0.717352]"
     ]
    },
    {
     "name": "stderr",
     "output_type": "stream",
     "text": [
      " 24%|███████████████████▋                                                              | 12/50 [00:00<00:01, 33.38it/s]"
     ]
    },
    {
     "name": "stdout",
     "output_type": "stream",
     "text": [
      "\n",
      "79 [D loss: 0.690853, acc.: 68.30%] [G loss: 0.711141]\n",
      "79 [D loss: 0.697392, acc.: 68.58%] [G loss: 0.710558]\n",
      "79 [D loss: 0.687778, acc.: 68.84%] [G loss: 0.703347]\n",
      "79 [D loss: 0.695481, acc.: 69.04%] [G loss: 0.698815]\n",
      "79 [D loss: 0.688254, acc.: 69.66%] [G loss: 0.695192]\n",
      "79 [D loss: 0.691159, acc.: 70.02%] [G loss: 0.687044]\n"
     ]
    },
    {
     "name": "stderr",
     "output_type": "stream",
     "text": [
      " 32%|██████████████████████████▏                                                       | 16/50 [00:00<00:01, 33.26it/s]"
     ]
    },
    {
     "name": "stdout",
     "output_type": "stream",
     "text": [
      "79 [D loss: 0.692998, acc.: 71.02%] [G loss: 0.683463]\n",
      "79 [D loss: 0.691214, acc.: 71.59%] [G loss: 0.681321]\n",
      "79 [D loss: 0.691682, acc.: 71.74%] [G loss: 0.673945]\n",
      "79 [D loss: 0.686097, acc.: 72.39%] [G loss: 0.669849]\n",
      "79 [D loss: 0.686876, acc.: 72.79%] [G loss: 0.664442]\n",
      "79 [D loss: 0.687621, acc.: 72.72%] [G loss: 0.663588]\n",
      "79 [D loss: 0.686557, acc.: 72.76%] [G loss: 0.661339]\n"
     ]
    },
    {
     "name": "stderr",
     "output_type": "stream",
     "text": [
      " 48%|███████████████████████████████████████▎                                          | 24/50 [00:00<00:00, 33.57it/s]"
     ]
    },
    {
     "name": "stdout",
     "output_type": "stream",
     "text": [
      "79 [D loss: 0.685815, acc.: 72.80%] [G loss: 0.662612]\n",
      "79 [D loss: 0.680519, acc.: 73.11%] [G loss: 0.660238]\n",
      "79 [D loss: 0.685310, acc.: 72.64%] [G loss: 0.663707]\n",
      "79 [D loss: 0.689086, acc.: 72.95%] [G loss: 0.664922]\n",
      "79 [D loss: 0.685794, acc.: 72.65%] [G loss: 0.666336]\n",
      "79 [D loss: 0.682882, acc.: 72.06%] [G loss: 0.669020]\n",
      "79 [D loss: 0.686368, acc.: 72.24%] [G loss: 0.674105]"
     ]
    },
    {
     "name": "stderr",
     "output_type": "stream",
     "text": [
      " 64%|████████████████████████████████████████████████████▍                             | 32/50 [00:00<00:00, 33.34it/s]"
     ]
    },
    {
     "name": "stdout",
     "output_type": "stream",
     "text": [
      "\n",
      "79 [D loss: 0.678123, acc.: 71.63%] [G loss: 0.677051]\n",
      "79 [D loss: 0.675861, acc.: 71.12%] [G loss: 0.681275]\n",
      "79 [D loss: 0.686339, acc.: 70.70%] [G loss: 0.686400]\n",
      "79 [D loss: 0.677184, acc.: 70.46%] [G loss: 0.691749]\n",
      "79 [D loss: 0.680301, acc.: 69.69%] [G loss: 0.697771]\n",
      "79 [D loss: 0.682456, acc.: 69.27%] [G loss: 0.700357]\n"
     ]
    },
    {
     "name": "stderr",
     "output_type": "stream",
     "text": [
      " 72%|███████████████████████████████████████████████████████████                       | 36/50 [00:01<00:00, 33.40it/s]"
     ]
    },
    {
     "name": "stdout",
     "output_type": "stream",
     "text": [
      "79 [D loss: 0.679010, acc.: 69.04%] [G loss: 0.704863]\n",
      "79 [D loss: 0.676728, acc.: 68.39%] [G loss: 0.710358]\n",
      "79 [D loss: 0.677386, acc.: 67.92%] [G loss: 0.711511]\n",
      "79 [D loss: 0.677944, acc.: 67.87%] [G loss: 0.711596]\n",
      "79 [D loss: 0.676618, acc.: 68.15%] [G loss: 0.716906]\n",
      "79 [D loss: 0.682837, acc.: 67.98%] [G loss: 0.716130]\n",
      "79 [D loss: 0.680644, acc.: 68.24%] [G loss: 0.714632]\n"
     ]
    },
    {
     "name": "stderr",
     "output_type": "stream",
     "text": [
      " 88%|████████████████████████████████████████████████████████████████████████▏         | 44/50 [00:01<00:00, 33.49it/s]"
     ]
    },
    {
     "name": "stdout",
     "output_type": "stream",
     "text": [
      "79 [D loss: 0.684666, acc.: 68.28%] [G loss: 0.715411]\n",
      "79 [D loss: 0.682034, acc.: 68.96%] [G loss: 0.710057]\n",
      "79 [D loss: 0.684319, acc.: 69.16%] [G loss: 0.700119]\n",
      "79 [D loss: 0.684531, acc.: 69.71%] [G loss: 0.695487]\n",
      "79 [D loss: 0.687652, acc.: 70.10%] [G loss: 0.694689]\n",
      "79 [D loss: 0.682957, acc.: 70.61%] [G loss: 0.685393]\n",
      "79 [D loss: 0.681605, acc.: 70.86%] [G loss: 0.683420]"
     ]
    },
    {
     "name": "stderr",
     "output_type": "stream",
     "text": [
      "100%|██████████████████████████████████████████████████████████████████████████████████| 50/50 [00:01<00:00, 33.42it/s]\n",
      "  0%|                                                                                           | 0/50 [00:00<?, ?it/s]"
     ]
    },
    {
     "name": "stdout",
     "output_type": "stream",
     "text": [
      "\n",
      "79 [D loss: 0.686096, acc.: 71.25%] [G loss: 0.679127]\n",
      "79 [D loss: 0.687127, acc.: 71.65%] [G loss: 0.674665]\n",
      "79 [D loss: 0.677354, acc.: 71.89%] [G loss: 0.671781]\n",
      "79 [D loss: 0.679854, acc.: 72.26%] [G loss: 0.671084]\n",
      "Epoch 80\n",
      "80 [D loss: 0.684287, acc.: 72.58%] [G loss: 0.668452]\n",
      "80 [D loss: 0.682497, acc.: 72.32%] [G loss: 0.666803]"
     ]
    },
    {
     "name": "stderr",
     "output_type": "stream",
     "text": [
      " 16%|█████████████▎                                                                     | 8/50 [00:00<00:01, 33.13it/s]"
     ]
    },
    {
     "name": "stdout",
     "output_type": "stream",
     "text": [
      "\n",
      "80 [D loss: 0.677699, acc.: 72.37%] [G loss: 0.669070]\n",
      "80 [D loss: 0.679326, acc.: 72.49%] [G loss: 0.666944]\n",
      "80 [D loss: 0.675116, acc.: 72.32%] [G loss: 0.668239]\n",
      "80 [D loss: 0.680199, acc.: 72.07%] [G loss: 0.669328]\n",
      "80 [D loss: 0.677649, acc.: 72.07%] [G loss: 0.672532]\n",
      "80 [D loss: 0.676734, acc.: 71.82%] [G loss: 0.677974]\n"
     ]
    },
    {
     "name": "stderr",
     "output_type": "stream",
     "text": [
      " 24%|███████████████████▋                                                              | 12/50 [00:00<00:01, 33.25it/s]"
     ]
    },
    {
     "name": "stdout",
     "output_type": "stream",
     "text": [
      "80 [D loss: 0.672627, acc.: 71.41%] [G loss: 0.677749]\n",
      "80 [D loss: 0.680176, acc.: 71.40%] [G loss: 0.679861]\n",
      "80 [D loss: 0.677961, acc.: 71.11%] [G loss: 0.681212]\n",
      "80 [D loss: 0.677557, acc.: 70.76%] [G loss: 0.684826]\n",
      "80 [D loss: 0.674840, acc.: 70.14%] [G loss: 0.691588]\n",
      "80 [D loss: 0.673802, acc.: 69.76%] [G loss: 0.694042]\n",
      "80 [D loss: 0.680815, acc.: 69.55%] [G loss: 0.699150]"
     ]
    },
    {
     "name": "stderr",
     "output_type": "stream",
     "text": [
      " 40%|████████████████████████████████▊                                                 | 20/50 [00:00<00:00, 33.38it/s]"
     ]
    },
    {
     "name": "stdout",
     "output_type": "stream",
     "text": [
      "\n",
      "80 [D loss: 0.672439, acc.: 69.26%] [G loss: 0.701612]\n",
      "80 [D loss: 0.680325, acc.: 68.76%] [G loss: 0.704203]\n",
      "80 [D loss: 0.676236, acc.: 68.70%] [G loss: 0.708995]\n",
      "80 [D loss: 0.671792, acc.: 68.24%] [G loss: 0.714261]\n",
      "80 [D loss: 0.677900, acc.: 67.60%] [G loss: 0.714281]\n",
      "80 [D loss: 0.678411, acc.: 67.60%] [G loss: 0.721146]\n"
     ]
    },
    {
     "name": "stderr",
     "output_type": "stream",
     "text": [
      " 48%|███████████████████████████████████████▎                                          | 24/50 [00:00<00:00, 33.34it/s]"
     ]
    },
    {
     "name": "stdout",
     "output_type": "stream",
     "text": [
      "80 [D loss: 0.675518, acc.: 67.09%] [G loss: 0.717842]\n",
      "80 [D loss: 0.683592, acc.: 67.39%] [G loss: 0.720887]\n",
      "80 [D loss: 0.675957, acc.: 67.57%] [G loss: 0.722997]\n",
      "80 [D loss: 0.679485, acc.: 67.27%] [G loss: 0.724747]\n",
      "80 [D loss: 0.689786, acc.: 67.70%] [G loss: 0.721793]\n",
      "80 [D loss: 0.674026, acc.: 67.36%] [G loss: 0.719792]\n",
      "80 [D loss: 0.684371, acc.: 68.17%] [G loss: 0.721139]"
     ]
    },
    {
     "name": "stderr",
     "output_type": "stream",
     "text": [
      " 64%|████████████████████████████████████████████████████▍                             | 32/50 [00:00<00:00, 33.37it/s]"
     ]
    },
    {
     "name": "stdout",
     "output_type": "stream",
     "text": [
      "\n",
      "80 [D loss: 0.680540, acc.: 68.30%] [G loss: 0.719368]\n",
      "80 [D loss: 0.682380, acc.: 67.92%] [G loss: 0.722955]\n",
      "80 [D loss: 0.683977, acc.: 67.78%] [G loss: 0.718707]\n",
      "80 [D loss: 0.685804, acc.: 68.41%] [G loss: 0.719460]\n",
      "80 [D loss: 0.688523, acc.: 67.68%] [G loss: 0.722574]\n",
      "80 [D loss: 0.688453, acc.: 67.84%] [G loss: 0.718760]\n"
     ]
    },
    {
     "name": "stderr",
     "output_type": "stream",
     "text": [
      " 80%|█████████████████████████████████████████████████████████████████▌                | 40/50 [00:01<00:00, 33.24it/s]"
     ]
    },
    {
     "name": "stdout",
     "output_type": "stream",
     "text": [
      "80 [D loss: 0.681689, acc.: 67.43%] [G loss: 0.725289]\n",
      "80 [D loss: 0.685505, acc.: 67.11%] [G loss: 0.739194]\n",
      "80 [D loss: 0.692307, acc.: 66.46%] [G loss: 0.735165]\n",
      "80 [D loss: 0.682500, acc.: 66.04%] [G loss: 0.734680]\n",
      "80 [D loss: 0.691116, acc.: 66.91%] [G loss: 0.738542]\n",
      "80 [D loss: 0.695593, acc.: 67.42%] [G loss: 0.734144]\n",
      "80 [D loss: 0.680698, acc.: 67.99%] [G loss: 0.725984]"
     ]
    },
    {
     "name": "stderr",
     "output_type": "stream",
     "text": [
      " 88%|████████████████████████████████████████████████████████████████████████▏         | 44/50 [00:01<00:00, 33.16it/s]"
     ]
    },
    {
     "name": "stdout",
     "output_type": "stream",
     "text": [
      "\n",
      "80 [D loss: 0.698495, acc.: 68.47%] [G loss: 0.710852]\n",
      "80 [D loss: 0.693354, acc.: 69.43%] [G loss: 0.706527]\n",
      "80 [D loss: 0.698091, acc.: 70.26%] [G loss: 0.702556]\n",
      "80 [D loss: 0.700729, acc.: 70.16%] [G loss: 0.698561]\n",
      "80 [D loss: 0.694498, acc.: 70.04%] [G loss: 0.696553]\n",
      "80 [D loss: 0.696860, acc.: 70.20%] [G loss: 0.694592]\n"
     ]
    },
    {
     "name": "stderr",
     "output_type": "stream",
     "text": [
      "100%|██████████████████████████████████████████████████████████████████████████████████| 50/50 [00:01<00:00, 33.24it/s]\n",
      "  0%|                                                                                           | 0/50 [00:00<?, ?it/s]"
     ]
    },
    {
     "name": "stdout",
     "output_type": "stream",
     "text": [
      "80 [D loss: 0.700094, acc.: 70.50%] [G loss: 0.692282]\n",
      "80 [D loss: 0.701251, acc.: 69.87%] [G loss: 0.706656]\n",
      "80 [D loss: 0.696820, acc.: 69.79%] [G loss: 0.701811]\n",
      "Epoch 81\n",
      "81 [D loss: 0.695565, acc.: 68.52%] [G loss: 0.707667]\n",
      "81 [D loss: 0.711665, acc.: 66.92%] [G loss: 0.731943]\n",
      "81 [D loss: 0.702535, acc.: 67.34%] [G loss: 0.741486]\n",
      "81 [D loss: 0.701861, acc.: 66.66%] [G loss: 0.746955]"
     ]
    },
    {
     "name": "stderr",
     "output_type": "stream",
     "text": [
      " 16%|█████████████▎                                                                     | 8/50 [00:00<00:01, 33.69it/s]"
     ]
    },
    {
     "name": "stdout",
     "output_type": "stream",
     "text": [
      "\n",
      "81 [D loss: 0.704172, acc.: 66.42%] [G loss: 0.731319]\n",
      "81 [D loss: 0.706050, acc.: 65.74%] [G loss: 0.739517]\n",
      "81 [D loss: 0.712053, acc.: 67.33%] [G loss: 0.735368]\n",
      "81 [D loss: 0.713655, acc.: 66.68%] [G loss: 0.731330]\n",
      "81 [D loss: 0.709315, acc.: 68.03%] [G loss: 0.717281]\n",
      "81 [D loss: 0.708928, acc.: 68.95%] [G loss: 0.707639]"
     ]
    },
    {
     "name": "stderr",
     "output_type": "stream",
     "text": [
      " 32%|██████████████████████████▏                                                       | 16/50 [00:00<00:01, 33.55it/s]"
     ]
    },
    {
     "name": "stdout",
     "output_type": "stream",
     "text": [
      "\n",
      "81 [D loss: 0.708738, acc.: 69.45%] [G loss: 0.699999]\n",
      "81 [D loss: 0.718724, acc.: 69.62%] [G loss: 0.697375]\n",
      "81 [D loss: 0.713584, acc.: 70.02%] [G loss: 0.692799]\n",
      "81 [D loss: 0.716196, acc.: 70.44%] [G loss: 0.692813]\n",
      "81 [D loss: 0.705243, acc.: 70.22%] [G loss: 0.690317]\n",
      "81 [D loss: 0.707272, acc.: 69.79%] [G loss: 0.696074]\n"
     ]
    },
    {
     "name": "stderr",
     "output_type": "stream",
     "text": [
      " 40%|████████████████████████████████▊                                                 | 20/50 [00:00<00:00, 33.45it/s]"
     ]
    },
    {
     "name": "stdout",
     "output_type": "stream",
     "text": [
      "81 [D loss: 0.706472, acc.: 69.84%] [G loss: 0.699270]\n",
      "81 [D loss: 0.706882, acc.: 69.50%] [G loss: 0.695057]\n",
      "81 [D loss: 0.705165, acc.: 69.33%] [G loss: 0.705052]\n",
      "81 [D loss: 0.707114, acc.: 69.25%] [G loss: 0.708761]\n",
      "81 [D loss: 0.713433, acc.: 68.28%] [G loss: 0.709838]\n",
      "81 [D loss: 0.708283, acc.: 68.29%] [G loss: 0.716227]\n",
      "81 [D loss: 0.707086, acc.: 68.10%] [G loss: 0.718803]\n"
     ]
    },
    {
     "name": "stderr",
     "output_type": "stream",
     "text": [
      " 56%|█████████████████████████████████████████████▉                                    | 28/50 [00:00<00:00, 33.69it/s]"
     ]
    },
    {
     "name": "stdout",
     "output_type": "stream",
     "text": [
      "81 [D loss: 0.706606, acc.: 67.17%] [G loss: 0.726819]\n",
      "81 [D loss: 0.692549, acc.: 67.02%] [G loss: 0.729428]\n",
      "81 [D loss: 0.707047, acc.: 66.75%] [G loss: 0.736613]\n",
      "81 [D loss: 0.710447, acc.: 66.71%] [G loss: 0.732070]\n",
      "81 [D loss: 0.703619, acc.: 67.09%] [G loss: 0.732202]\n",
      "81 [D loss: 0.705790, acc.: 67.19%] [G loss: 0.721497]\n",
      "81 [D loss: 0.703531, acc.: 67.41%] [G loss: 0.719749]"
     ]
    },
    {
     "name": "stderr",
     "output_type": "stream",
     "text": [
      " 72%|███████████████████████████████████████████████████████████                       | 36/50 [00:01<00:00, 33.46it/s]"
     ]
    },
    {
     "name": "stdout",
     "output_type": "stream",
     "text": [
      "\n",
      "81 [D loss: 0.700062, acc.: 68.22%] [G loss: 0.711558]\n",
      "81 [D loss: 0.696043, acc.: 68.38%] [G loss: 0.710772]\n",
      "81 [D loss: 0.697218, acc.: 69.16%] [G loss: 0.703073]\n",
      "81 [D loss: 0.703860, acc.: 69.18%] [G loss: 0.698962]\n",
      "81 [D loss: 0.693537, acc.: 69.76%] [G loss: 0.694534]\n",
      "81 [D loss: 0.702000, acc.: 70.21%] [G loss: 0.692930]\n"
     ]
    },
    {
     "name": "stderr",
     "output_type": "stream",
     "text": [
      " 80%|█████████████████████████████████████████████████████████████████▌                | 40/50 [00:01<00:00, 33.40it/s]"
     ]
    },
    {
     "name": "stdout",
     "output_type": "stream",
     "text": [
      "81 [D loss: 0.699733, acc.: 70.72%] [G loss: 0.688145]\n",
      "81 [D loss: 0.696501, acc.: 70.48%] [G loss: 0.688709]\n",
      "81 [D loss: 0.694722, acc.: 70.59%] [G loss: 0.689414]\n",
      "81 [D loss: 0.705127, acc.: 70.20%] [G loss: 0.695504]\n",
      "81 [D loss: 0.698069, acc.: 69.66%] [G loss: 0.700989]\n",
      "81 [D loss: 0.697222, acc.: 69.42%] [G loss: 0.703251]\n",
      "81 [D loss: 0.710671, acc.: 68.58%] [G loss: 0.711377]"
     ]
    },
    {
     "name": "stderr",
     "output_type": "stream",
     "text": [
      " 96%|██████████████████████████████████████████████████████████████████████████████▋   | 48/50 [00:01<00:00, 33.54it/s]"
     ]
    },
    {
     "name": "stdout",
     "output_type": "stream",
     "text": [
      "\n",
      "81 [D loss: 0.699378, acc.: 68.08%] [G loss: 0.719636]\n",
      "81 [D loss: 0.697451, acc.: 67.52%] [G loss: 0.727712]\n",
      "81 [D loss: 0.697349, acc.: 66.99%] [G loss: 0.725084]\n",
      "81 [D loss: 0.698537, acc.: 66.89%] [G loss: 0.734370]\n",
      "81 [D loss: 0.703248, acc.: 66.46%] [G loss: 0.735982]\n",
      "81 [D loss: 0.706376, acc.: 66.26%] [G loss: 0.735116]\n"
     ]
    },
    {
     "name": "stderr",
     "output_type": "stream",
     "text": [
      "100%|██████████████████████████████████████████████████████████████████████████████████| 50/50 [00:01<00:00, 33.51it/s]\n",
      "  8%|██████▋                                                                            | 4/50 [00:00<00:01, 34.69it/s]"
     ]
    },
    {
     "name": "stdout",
     "output_type": "stream",
     "text": [
      "81 [D loss: 0.699779, acc.: 66.48%] [G loss: 0.725653]\n",
      "Epoch 82\n",
      "82 [D loss: 0.702698, acc.: 67.22%] [G loss: 0.726588]\n",
      "82 [D loss: 0.701403, acc.: 67.76%] [G loss: 0.719740]\n",
      "82 [D loss: 0.705088, acc.: 68.24%] [G loss: 0.709484]\n",
      "82 [D loss: 0.705135, acc.: 69.22%] [G loss: 0.704900]\n",
      "82 [D loss: 0.706246, acc.: 69.63%] [G loss: 0.698417]\n",
      "82 [D loss: 0.702532, acc.: 70.41%] [G loss: 0.689991]"
     ]
    },
    {
     "name": "stderr",
     "output_type": "stream",
     "text": [
      " 24%|███████████████████▋                                                              | 12/50 [00:00<00:01, 34.75it/s]"
     ]
    },
    {
     "name": "stdout",
     "output_type": "stream",
     "text": [
      "\n",
      "82 [D loss: 0.712448, acc.: 70.75%] [G loss: 0.681049]\n",
      "82 [D loss: 0.701022, acc.: 71.13%] [G loss: 0.676959]\n",
      "82 [D loss: 0.703474, acc.: 71.88%] [G loss: 0.674394]\n",
      "82 [D loss: 0.700559, acc.: 72.07%] [G loss: 0.672302]\n",
      "82 [D loss: 0.703439, acc.: 71.89%] [G loss: 0.669866]\n",
      "82 [D loss: 0.704004, acc.: 72.24%] [G loss: 0.673387]\n"
     ]
    },
    {
     "name": "stderr",
     "output_type": "stream",
     "text": [
      " 32%|██████████████████████████▏                                                       | 16/50 [00:00<00:00, 34.64it/s]"
     ]
    },
    {
     "name": "stdout",
     "output_type": "stream",
     "text": [
      "82 [D loss: 0.698886, acc.: 72.17%] [G loss: 0.670040]\n",
      "82 [D loss: 0.689565, acc.: 71.73%] [G loss: 0.672575]\n",
      "82 [D loss: 0.691846, acc.: 71.79%] [G loss: 0.675092]\n",
      "82 [D loss: 0.705198, acc.: 71.22%] [G loss: 0.681146]\n",
      "82 [D loss: 0.697520, acc.: 70.94%] [G loss: 0.682122]\n",
      "82 [D loss: 0.695842, acc.: 70.66%] [G loss: 0.687870]\n"
     ]
    },
    {
     "name": "stderr",
     "output_type": "stream",
     "text": [
      " 48%|███████████████████████████████████████▎                                          | 24/50 [00:00<00:00, 34.67it/s]"
     ]
    },
    {
     "name": "stdout",
     "output_type": "stream",
     "text": [
      "82 [D loss: 0.704295, acc.: 70.14%] [G loss: 0.687162]\n",
      "82 [D loss: 0.693870, acc.: 70.03%] [G loss: 0.692388]\n",
      "82 [D loss: 0.686643, acc.: 69.95%] [G loss: 0.696571]\n",
      "82 [D loss: 0.695412, acc.: 69.53%] [G loss: 0.699338]\n",
      "82 [D loss: 0.691384, acc.: 68.99%] [G loss: 0.699399]\n",
      "82 [D loss: 0.691167, acc.: 68.82%] [G loss: 0.705981]\n",
      "82 [D loss: 0.686130, acc.: 68.82%] [G loss: 0.705724]\n"
     ]
    },
    {
     "name": "stderr",
     "output_type": "stream",
     "text": [
      " 64%|████████████████████████████████████████████████████▍                             | 32/50 [00:00<00:00, 34.92it/s]"
     ]
    },
    {
     "name": "stdout",
     "output_type": "stream",
     "text": [
      "82 [D loss: 0.689837, acc.: 68.78%] [G loss: 0.708933]\n",
      "82 [D loss: 0.689013, acc.: 68.66%] [G loss: 0.704692]\n",
      "82 [D loss: 0.693890, acc.: 68.82%] [G loss: 0.705455]\n",
      "82 [D loss: 0.687477, acc.: 68.84%] [G loss: 0.706360]\n",
      "82 [D loss: 0.685878, acc.: 68.78%] [G loss: 0.703920]\n",
      "82 [D loss: 0.681908, acc.: 68.72%] [G loss: 0.696813]\n",
      "82 [D loss: 0.685925, acc.: 69.16%] [G loss: 0.697032]\n"
     ]
    },
    {
     "name": "stderr",
     "output_type": "stream",
     "text": [
      " 72%|███████████████████████████████████████████████████████████                       | 36/50 [00:01<00:00, 34.76it/s]"
     ]
    },
    {
     "name": "stdout",
     "output_type": "stream",
     "text": [
      "82 [D loss: 0.680427, acc.: 69.52%] [G loss: 0.696827]\n",
      "82 [D loss: 0.682612, acc.: 69.53%] [G loss: 0.693478]\n",
      "82 [D loss: 0.676020, acc.: 69.87%] [G loss: 0.694914]\n",
      "82 [D loss: 0.677111, acc.: 70.47%] [G loss: 0.688366]\n",
      "82 [D loss: 0.668412, acc.: 70.55%] [G loss: 0.687332]\n",
      "82 [D loss: 0.681079, acc.: 70.75%] [G loss: 0.685839]\n",
      "82 [D loss: 0.670420, acc.: 70.93%] [G loss: 0.684415]\n"
     ]
    },
    {
     "name": "stderr",
     "output_type": "stream",
     "text": [
      " 88%|████████████████████████████████████████████████████████████████████████▏         | 44/50 [00:01<00:00, 34.09it/s]"
     ]
    },
    {
     "name": "stdout",
     "output_type": "stream",
     "text": [
      "82 [D loss: 0.664139, acc.: 70.95%] [G loss: 0.681717]\n",
      "82 [D loss: 0.671834, acc.: 71.17%] [G loss: 0.677987]\n",
      "82 [D loss: 0.664934, acc.: 71.43%] [G loss: 0.680891]\n",
      "82 [D loss: 0.667639, acc.: 71.31%] [G loss: 0.677417]\n",
      "82 [D loss: 0.666123, acc.: 71.34%] [G loss: 0.676068]\n",
      "82 [D loss: 0.665147, acc.: 71.74%] [G loss: 0.678206]\n",
      "82 [D loss: 0.660847, acc.: 71.78%] [G loss: 0.677720]\n",
      "82 [D loss: 0.659498, acc.: 71.65%] [G loss: 0.678156]"
     ]
    },
    {
     "name": "stderr",
     "output_type": "stream",
     "text": [
      "100%|██████████████████████████████████████████████████████████████████████████████████| 50/50 [00:01<00:00, 34.44it/s]\n",
      "  0%|                                                                                           | 0/50 [00:00<?, ?it/s]"
     ]
    },
    {
     "name": "stdout",
     "output_type": "stream",
     "text": [
      "\n",
      "82 [D loss: 0.658427, acc.: 71.56%] [G loss: 0.674411]\n",
      "82 [D loss: 0.654395, acc.: 71.40%] [G loss: 0.677342]\n",
      "82 [D loss: 0.656048, acc.: 71.76%] [G loss: 0.675956]\n",
      "Epoch 83\n",
      "83 [D loss: 0.659100, acc.: 71.96%] [G loss: 0.676165]\n",
      "83 [D loss: 0.656764, acc.: 72.68%] [G loss: 0.672818]\n",
      "83 [D loss: 0.654284, acc.: 72.06%] [G loss: 0.673537]"
     ]
    },
    {
     "name": "stderr",
     "output_type": "stream",
     "text": [
      " 16%|█████████████▎                                                                     | 8/50 [00:00<00:01, 33.02it/s]"
     ]
    },
    {
     "name": "stdout",
     "output_type": "stream",
     "text": [
      "\n",
      "83 [D loss: 0.658158, acc.: 72.18%] [G loss: 0.674253]\n",
      "83 [D loss: 0.654437, acc.: 72.69%] [G loss: 0.673620]\n",
      "83 [D loss: 0.660009, acc.: 72.31%] [G loss: 0.673753]\n",
      "83 [D loss: 0.666913, acc.: 72.52%] [G loss: 0.674990]\n",
      "83 [D loss: 0.651678, acc.: 72.59%] [G loss: 0.676279]\n",
      "83 [D loss: 0.657533, acc.: 71.75%] [G loss: 0.681739]\n"
     ]
    },
    {
     "name": "stderr",
     "output_type": "stream",
     "text": [
      " 24%|███████████████████▋                                                              | 12/50 [00:00<00:01, 33.09it/s]"
     ]
    },
    {
     "name": "stdout",
     "output_type": "stream",
     "text": [
      "83 [D loss: 0.659305, acc.: 72.38%] [G loss: 0.685978]\n",
      "83 [D loss: 0.664634, acc.: 71.73%] [G loss: 0.688690]\n",
      "83 [D loss: 0.661746, acc.: 70.79%] [G loss: 0.705538]\n",
      "83 [D loss: 0.663615, acc.: 70.53%] [G loss: 0.711504]\n",
      "83 [D loss: 0.670782, acc.: 68.21%] [G loss: 0.727393]\n",
      "83 [D loss: 0.677989, acc.: 67.05%] [G loss: 0.745545]\n",
      "83 [D loss: 0.671681, acc.: 65.33%] [G loss: 0.778313]"
     ]
    },
    {
     "name": "stderr",
     "output_type": "stream",
     "text": [
      " 40%|████████████████████████████████▊                                                 | 20/50 [00:00<00:00, 33.39it/s]"
     ]
    },
    {
     "name": "stdout",
     "output_type": "stream",
     "text": [
      "\n",
      "83 [D loss: 0.681970, acc.: 63.60%] [G loss: 0.790787]\n",
      "83 [D loss: 0.690154, acc.: 62.52%] [G loss: 0.812868]\n",
      "83 [D loss: 0.685904, acc.: 60.40%] [G loss: 0.833907]\n",
      "83 [D loss: 0.690692, acc.: 61.83%] [G loss: 0.826390]\n",
      "83 [D loss: 0.688233, acc.: 61.66%] [G loss: 0.820582]\n",
      "83 [D loss: 0.692287, acc.: 61.84%] [G loss: 0.817878]\n",
      "83 [D loss: 0.705068, acc.: 64.56%] [G loss: 0.788535]"
     ]
    },
    {
     "name": "stderr",
     "output_type": "stream",
     "text": [
      " 56%|█████████████████████████████████████████████▉                                    | 28/50 [00:00<00:00, 33.43it/s]"
     ]
    },
    {
     "name": "stdout",
     "output_type": "stream",
     "text": [
      "\n",
      "83 [D loss: 0.699786, acc.: 66.03%] [G loss: 0.748899]\n",
      "83 [D loss: 0.718751, acc.: 68.24%] [G loss: 0.730620]\n",
      "83 [D loss: 0.718758, acc.: 70.51%] [G loss: 0.707125]\n",
      "83 [D loss: 0.703337, acc.: 70.96%] [G loss: 0.692876]\n",
      "83 [D loss: 0.722806, acc.: 72.08%] [G loss: 0.684126]\n",
      "83 [D loss: 0.728648, acc.: 73.33%] [G loss: 0.676660]\n"
     ]
    },
    {
     "name": "stderr",
     "output_type": "stream",
     "text": [
      " 64%|████████████████████████████████████████████████████▍                             | 32/50 [00:00<00:00, 33.54it/s]"
     ]
    },
    {
     "name": "stdout",
     "output_type": "stream",
     "text": [
      "83 [D loss: 0.712840, acc.: 73.04%] [G loss: 0.674040]\n",
      "83 [D loss: 0.716653, acc.: 72.79%] [G loss: 0.673918]\n",
      "83 [D loss: 0.713002, acc.: 72.48%] [G loss: 0.678801]\n",
      "83 [D loss: 0.712592, acc.: 71.62%] [G loss: 0.684867]\n",
      "83 [D loss: 0.711289, acc.: 70.45%] [G loss: 0.694791]\n",
      "83 [D loss: 0.708722, acc.: 70.05%] [G loss: 0.698276]\n",
      "83 [D loss: 0.700743, acc.: 69.26%] [G loss: 0.712171]"
     ]
    },
    {
     "name": "stderr",
     "output_type": "stream",
     "text": [
      " 80%|█████████████████████████████████████████████████████████████████▌                | 40/50 [00:01<00:00, 33.33it/s]"
     ]
    },
    {
     "name": "stdout",
     "output_type": "stream",
     "text": [
      "\n",
      "83 [D loss: 0.707813, acc.: 67.24%] [G loss: 0.722412]\n",
      "83 [D loss: 0.718404, acc.: 67.50%] [G loss: 0.724227]\n",
      "83 [D loss: 0.709296, acc.: 66.42%] [G loss: 0.742325]\n",
      "83 [D loss: 0.710477, acc.: 65.39%] [G loss: 0.750664]\n",
      "83 [D loss: 0.703522, acc.: 65.21%] [G loss: 0.757592]\n",
      "83 [D loss: 0.719310, acc.: 64.49%] [G loss: 0.764622]\n"
     ]
    },
    {
     "name": "stderr",
     "output_type": "stream",
     "text": [
      " 96%|██████████████████████████████████████████████████████████████████████████████▋   | 48/50 [00:01<00:00, 33.68it/s]"
     ]
    },
    {
     "name": "stdout",
     "output_type": "stream",
     "text": [
      "83 [D loss: 0.721819, acc.: 64.80%] [G loss: 0.760134]\n",
      "83 [D loss: 0.707706, acc.: 63.78%] [G loss: 0.766965]\n",
      "83 [D loss: 0.705545, acc.: 63.68%] [G loss: 0.783606]\n",
      "83 [D loss: 0.702076, acc.: 63.10%] [G loss: 0.779061]\n",
      "83 [D loss: 0.709065, acc.: 62.69%] [G loss: 0.791219]\n",
      "83 [D loss: 0.716002, acc.: 62.35%] [G loss: 0.796806]\n",
      "83 [D loss: 0.719048, acc.: 61.15%] [G loss: 0.790138]"
     ]
    },
    {
     "name": "stderr",
     "output_type": "stream",
     "text": [
      "100%|██████████████████████████████████████████████████████████████████████████████████| 50/50 [00:01<00:00, 33.44it/s]\n",
      "  8%|██████▋                                                                            | 4/50 [00:00<00:01, 33.24it/s]"
     ]
    },
    {
     "name": "stdout",
     "output_type": "stream",
     "text": [
      "\n",
      "83 [D loss: 0.701376, acc.: 63.38%] [G loss: 0.792264]\n",
      "Epoch 84\n",
      "84 [D loss: 0.705888, acc.: 65.27%] [G loss: 0.757261]\n",
      "84 [D loss: 0.702107, acc.: 67.39%] [G loss: 0.733476]\n",
      "84 [D loss: 0.715111, acc.: 68.65%] [G loss: 0.709284]\n",
      "84 [D loss: 0.705418, acc.: 69.85%] [G loss: 0.696529]\n",
      "84 [D loss: 0.708250, acc.: 70.15%] [G loss: 0.692694]"
     ]
    },
    {
     "name": "stderr",
     "output_type": "stream",
     "text": [
      " 16%|█████████████▎                                                                     | 8/50 [00:00<00:01, 33.24it/s]"
     ]
    },
    {
     "name": "stdout",
     "output_type": "stream",
     "text": [
      "\n",
      "84 [D loss: 0.718090, acc.: 70.19%] [G loss: 0.692753]\n",
      "84 [D loss: 0.692910, acc.: 70.34%] [G loss: 0.688616]\n",
      "84 [D loss: 0.698260, acc.: 70.25%] [G loss: 0.691745]\n",
      "84 [D loss: 0.705389, acc.: 70.82%] [G loss: 0.689295]\n",
      "84 [D loss: 0.677527, acc.: 70.73%] [G loss: 0.686371]\n",
      "84 [D loss: 0.690886, acc.: 70.62%] [G loss: 0.687546]\n"
     ]
    },
    {
     "name": "stderr",
     "output_type": "stream",
     "text": [
      " 32%|██████████████████████████▏                                                       | 16/50 [00:00<00:01, 33.47it/s]"
     ]
    },
    {
     "name": "stdout",
     "output_type": "stream",
     "text": [
      "84 [D loss: 0.677067, acc.: 70.99%] [G loss: 0.685867]\n",
      "84 [D loss: 0.671959, acc.: 71.80%] [G loss: 0.684583]\n",
      "84 [D loss: 0.660345, acc.: 71.20%] [G loss: 0.689424]\n",
      "84 [D loss: 0.666043, acc.: 71.20%] [G loss: 0.690283]\n",
      "84 [D loss: 0.655919, acc.: 71.44%] [G loss: 0.699645]\n",
      "84 [D loss: 0.650397, acc.: 70.83%] [G loss: 0.701319]\n",
      "84 [D loss: 0.656450, acc.: 70.88%] [G loss: 0.702958]\n",
      "84 [D loss: 0.643877, acc.: 68.33%] [G loss: 0.714986]"
     ]
    },
    {
     "name": "stderr",
     "output_type": "stream",
     "text": [
      " 48%|███████████████████████████████████████▎                                          | 24/50 [00:00<00:00, 33.52it/s]"
     ]
    },
    {
     "name": "stdout",
     "output_type": "stream",
     "text": [
      "\n",
      "84 [D loss: 0.647783, acc.: 70.22%] [G loss: 0.720718]\n",
      "84 [D loss: 0.618579, acc.: 69.65%] [G loss: 0.723858]\n",
      "84 [D loss: 0.636782, acc.: 71.27%] [G loss: 0.743614]\n",
      "84 [D loss: 0.659841, acc.: 69.44%] [G loss: 0.745657]\n",
      "84 [D loss: 0.675302, acc.: 72.13%] [G loss: 0.718035]\n",
      "84 [D loss: 0.684918, acc.: 70.83%] [G loss: 0.710188]"
     ]
    },
    {
     "name": "stderr",
     "output_type": "stream",
     "text": [
      " 56%|█████████████████████████████████████████████▉                                    | 28/50 [00:00<00:00, 33.44it/s]"
     ]
    },
    {
     "name": "stdout",
     "output_type": "stream",
     "text": [
      "\n",
      "84 [D loss: 0.703105, acc.: 71.37%] [G loss: 0.685659]\n",
      "84 [D loss: 0.716224, acc.: 71.77%] [G loss: 0.688615]\n",
      "84 [D loss: 0.704269, acc.: 71.96%] [G loss: 0.684024]\n",
      "84 [D loss: 0.693154, acc.: 71.34%] [G loss: 0.684164]\n",
      "84 [D loss: 0.665419, acc.: 70.93%] [G loss: 0.690030]\n",
      "84 [D loss: 0.660909, acc.: 70.32%] [G loss: 0.685734]\n",
      "84 [D loss: 0.643233, acc.: 69.69%] [G loss: 0.697991]"
     ]
    },
    {
     "name": "stderr",
     "output_type": "stream",
     "text": [
      " 72%|███████████████████████████████████████████████████████████                       | 36/50 [00:01<00:00, 33.48it/s]"
     ]
    },
    {
     "name": "stdout",
     "output_type": "stream",
     "text": [
      "\n",
      "84 [D loss: 0.616154, acc.: 70.89%] [G loss: 0.710614]\n",
      "84 [D loss: 0.564924, acc.: 69.11%] [G loss: 0.701693]\n",
      "84 [D loss: 0.538188, acc.: 71.49%] [G loss: 0.713021]\n",
      "84 [D loss: 0.542217, acc.: 74.04%] [G loss: 0.703609]\n",
      "84 [D loss: 0.461452, acc.: 74.77%] [G loss: 0.728696]\n",
      "84 [D loss: 0.543047, acc.: 77.53%] [G loss: 0.710378]"
     ]
    },
    {
     "name": "stderr",
     "output_type": "stream",
     "text": [
      " 88%|████████████████████████████████████████████████████████████████████████▏         | 44/50 [00:01<00:00, 33.67it/s]"
     ]
    },
    {
     "name": "stdout",
     "output_type": "stream",
     "text": [
      "\n",
      "84 [D loss: 0.563566, acc.: 77.74%] [G loss: 0.713488]\n",
      "84 [D loss: 0.612053, acc.: 82.42%] [G loss: 0.725244]\n",
      "84 [D loss: 0.605582, acc.: 78.27%] [G loss: 0.705657]\n",
      "84 [D loss: 0.696788, acc.: 79.76%] [G loss: 0.722480]\n",
      "84 [D loss: 0.698275, acc.: 73.65%] [G loss: 0.740075]\n",
      "84 [D loss: 0.738793, acc.: 66.95%] [G loss: 0.752598]\n"
     ]
    },
    {
     "name": "stderr",
     "output_type": "stream",
     "text": [
      "100%|██████████████████████████████████████████████████████████████████████████████████| 50/50 [00:01<00:00, 33.49it/s]\n",
      "  0%|                                                                                           | 0/50 [00:00<?, ?it/s]"
     ]
    },
    {
     "name": "stdout",
     "output_type": "stream",
     "text": [
      "84 [D loss: 0.741692, acc.: 65.20%] [G loss: 0.780964]\n",
      "84 [D loss: 0.736792, acc.: 62.31%] [G loss: 0.815431]\n",
      "84 [D loss: 0.743854, acc.: 59.85%] [G loss: 0.871941]\n",
      "84 [D loss: 0.744027, acc.: 56.62%] [G loss: 0.929896]\n",
      "84 [D loss: 0.736450, acc.: 57.38%] [G loss: 0.970581]\n",
      "84 [D loss: 0.728571, acc.: 54.54%] [G loss: 0.955313]\n",
      "Epoch 85\n",
      "85 [D loss: 0.741064, acc.: 62.76%] [G loss: 0.929377]"
     ]
    },
    {
     "name": "stderr",
     "output_type": "stream",
     "text": [
      "  8%|██████▋                                                                            | 4/50 [00:00<00:01, 33.24it/s]"
     ]
    },
    {
     "name": "stdout",
     "output_type": "stream",
     "text": [
      "\n",
      "85 [D loss: 0.728543, acc.: 61.82%] [G loss: 0.790220]\n",
      "85 [D loss: 0.721184, acc.: 64.22%] [G loss: 0.789984]\n",
      "85 [D loss: 0.709450, acc.: 66.51%] [G loss: 0.758864]\n",
      "85 [D loss: 0.723322, acc.: 66.84%] [G loss: 0.739577]\n",
      "85 [D loss: 0.690194, acc.: 65.48%] [G loss: 0.744494]\n",
      "85 [D loss: 0.679051, acc.: 65.51%] [G loss: 0.752223]\n"
     ]
    },
    {
     "name": "stderr",
     "output_type": "stream",
     "text": [
      " 24%|███████████████████▋                                                              | 12/50 [00:00<00:01, 33.16it/s]"
     ]
    },
    {
     "name": "stdout",
     "output_type": "stream",
     "text": [
      "85 [D loss: 0.684605, acc.: 65.76%] [G loss: 0.760754]\n",
      "85 [D loss: 0.670286, acc.: 64.68%] [G loss: 0.763798]\n",
      "85 [D loss: 0.595467, acc.: 66.49%] [G loss: 0.715411]\n",
      "85 [D loss: 0.598178, acc.: 69.27%] [G loss: 0.717573]\n",
      "85 [D loss: 0.580958, acc.: 73.71%] [G loss: 0.697216]\n",
      "85 [D loss: 0.532319, acc.: 82.21%] [G loss: 0.680126]\n",
      "85 [D loss: 0.558395, acc.: 83.09%] [G loss: 0.664853]"
     ]
    },
    {
     "name": "stderr",
     "output_type": "stream",
     "text": [
      " 40%|████████████████████████████████▊                                                 | 20/50 [00:00<00:00, 33.34it/s]"
     ]
    },
    {
     "name": "stdout",
     "output_type": "stream",
     "text": [
      "\n",
      "85 [D loss: 0.580908, acc.: 82.54%] [G loss: 0.713623]\n",
      "85 [D loss: 0.637555, acc.: 80.46%] [G loss: 0.705485]\n",
      "85 [D loss: 0.622173, acc.: 77.91%] [G loss: 0.660904]\n",
      "85 [D loss: 0.706937, acc.: 81.22%] [G loss: 0.729296]\n",
      "85 [D loss: 0.731516, acc.: 75.83%] [G loss: 0.730449]\n",
      "85 [D loss: 0.754576, acc.: 69.08%] [G loss: 0.732655]\n"
     ]
    },
    {
     "name": "stderr",
     "output_type": "stream",
     "text": [
      " 48%|███████████████████████████████████████▎                                          | 24/50 [00:00<00:00, 33.22it/s]"
     ]
    },
    {
     "name": "stdout",
     "output_type": "stream",
     "text": [
      "85 [D loss: 0.763989, acc.: 66.18%] [G loss: 0.747604]\n",
      "85 [D loss: 0.760297, acc.: 65.34%] [G loss: 0.753371]\n",
      "85 [D loss: 0.749908, acc.: 63.90%] [G loss: 0.768713]\n",
      "85 [D loss: 0.740895, acc.: 63.08%] [G loss: 0.783261]\n",
      "85 [D loss: 0.743353, acc.: 62.40%] [G loss: 0.793507]\n",
      "85 [D loss: 0.737744, acc.: 60.64%] [G loss: 0.816277]\n",
      "85 [D loss: 0.729155, acc.: 60.51%] [G loss: 0.831755]"
     ]
    },
    {
     "name": "stderr",
     "output_type": "stream",
     "text": [
      " 64%|████████████████████████████████████████████████████▍                             | 32/50 [00:00<00:00, 33.43it/s]"
     ]
    },
    {
     "name": "stdout",
     "output_type": "stream",
     "text": [
      "\n",
      "85 [D loss: 0.716579, acc.: 59.06%] [G loss: 0.852390]\n",
      "85 [D loss: 0.711258, acc.: 57.28%] [G loss: 0.883005]\n",
      "85 [D loss: 0.722491, acc.: 56.18%] [G loss: 0.920363]\n",
      "85 [D loss: 0.729881, acc.: 53.66%] [G loss: 0.963665]\n",
      "85 [D loss: 0.725876, acc.: 52.21%] [G loss: 0.993715]\n",
      "85 [D loss: 0.709754, acc.: 52.51%] [G loss: 0.979137]\n"
     ]
    },
    {
     "name": "stderr",
     "output_type": "stream",
     "text": [
      " 72%|███████████████████████████████████████████████████████████                       | 36/50 [00:01<00:00, 33.29it/s]"
     ]
    },
    {
     "name": "stdout",
     "output_type": "stream",
     "text": [
      "85 [D loss: 0.690240, acc.: 54.06%] [G loss: 0.984042]\n",
      "85 [D loss: 0.655022, acc.: 56.46%] [G loss: 0.916255]\n",
      "85 [D loss: 0.668481, acc.: 59.64%] [G loss: 0.871371]\n",
      "85 [D loss: 0.620843, acc.: 61.69%] [G loss: 0.824593]\n",
      "85 [D loss: 0.513680, acc.: 58.68%] [G loss: 0.858200]\n",
      "85 [D loss: 0.529471, acc.: 56.75%] [G loss: 0.886608]\n",
      "85 [D loss: 0.508806, acc.: 54.84%] [G loss: 0.932087]"
     ]
    },
    {
     "name": "stderr",
     "output_type": "stream",
     "text": [
      " 88%|████████████████████████████████████████████████████████████████████████▏         | 44/50 [00:01<00:00, 33.47it/s]"
     ]
    },
    {
     "name": "stdout",
     "output_type": "stream",
     "text": [
      "\n",
      "85 [D loss: 0.387466, acc.: 56.70%] [G loss: 0.893188]\n",
      "85 [D loss: 0.368222, acc.: 61.08%] [G loss: 0.807660]\n",
      "85 [D loss: 0.330055, acc.: 72.01%] [G loss: 0.716436]\n",
      "85 [D loss: 0.339921, acc.: 88.11%] [G loss: 0.679637]\n",
      "85 [D loss: 0.359477, acc.: 105.26%] [G loss: 0.643173]\n",
      "85 [D loss: 0.332721, acc.: 91.03%] [G loss: 0.651685]\n"
     ]
    },
    {
     "name": "stderr",
     "output_type": "stream",
     "text": [
      "100%|██████████████████████████████████████████████████████████████████████████████████| 50/50 [00:01<00:00, 33.29it/s]\n",
      "  0%|                                                                                           | 0/50 [00:00<?, ?it/s]"
     ]
    },
    {
     "name": "stdout",
     "output_type": "stream",
     "text": [
      "85 [D loss: 0.365958, acc.: 91.11%] [G loss: 0.635666]\n",
      "85 [D loss: 0.459074, acc.: 102.64%] [G loss: 0.551522]\n",
      "85 [D loss: 0.473548, acc.: 121.74%] [G loss: 0.650177]\n",
      "85 [D loss: 0.509935, acc.: 101.72%] [G loss: 0.739590]\n",
      "Epoch 86\n",
      "86 [D loss: 0.643810, acc.: 78.57%] [G loss: 0.834437]\n",
      "86 [D loss: 0.667041, acc.: 62.97%] [G loss: 0.967439]\n",
      "86 [D loss: 0.764481, acc.: 53.22%] [G loss: 1.059113]"
     ]
    },
    {
     "name": "stderr",
     "output_type": "stream",
     "text": [
      " 16%|█████████████▎                                                                     | 8/50 [00:00<00:01, 33.33it/s]"
     ]
    },
    {
     "name": "stdout",
     "output_type": "stream",
     "text": [
      "\n",
      "86 [D loss: 0.720173, acc.: 49.23%] [G loss: 1.041971]\n",
      "86 [D loss: 0.747944, acc.: 57.70%] [G loss: 1.016619]\n",
      "86 [D loss: 0.747878, acc.: 60.13%] [G loss: 0.929143]\n",
      "86 [D loss: 0.710383, acc.: 64.33%] [G loss: 0.838802]\n",
      "86 [D loss: 0.735622, acc.: 63.40%] [G loss: 0.771590]\n",
      "86 [D loss: 0.729519, acc.: 63.77%] [G loss: 0.767095]"
     ]
    },
    {
     "name": "stderr",
     "output_type": "stream",
     "text": [
      " 24%|███████████████████▋                                                              | 12/50 [00:00<00:01, 33.14it/s]"
     ]
    },
    {
     "name": "stdout",
     "output_type": "stream",
     "text": [
      "\n",
      "86 [D loss: 0.692556, acc.: 60.89%] [G loss: 0.783678]\n",
      "86 [D loss: 0.631994, acc.: 58.62%] [G loss: 0.847917]\n",
      "86 [D loss: 0.552776, acc.: 55.48%] [G loss: 0.894082]\n",
      "86 [D loss: 0.534155, acc.: 54.69%] [G loss: 0.934642]\n",
      "86 [D loss: 0.473849, acc.: 55.46%] [G loss: 0.895847]\n",
      "86 [D loss: 0.377247, acc.: 60.09%] [G loss: 0.876926]\n"
     ]
    },
    {
     "name": "stderr",
     "output_type": "stream",
     "text": [
      " 40%|████████████████████████████████▊                                                 | 20/50 [00:00<00:00, 32.97it/s]"
     ]
    },
    {
     "name": "stdout",
     "output_type": "stream",
     "text": [
      "86 [D loss: 0.402558, acc.: 67.14%] [G loss: 0.762354]\n",
      "86 [D loss: 0.413153, acc.: 89.80%] [G loss: 0.696174]\n",
      "86 [D loss: 0.366456, acc.: 92.02%] [G loss: 0.625729]\n",
      "86 [D loss: 0.404871, acc.: 103.65%] [G loss: 0.512561]\n",
      "86 [D loss: 0.487655, acc.: 115.78%] [G loss: 0.586939]\n",
      "86 [D loss: 0.586170, acc.: 117.99%] [G loss: 0.646312]\n",
      "86 [D loss: 0.693736, acc.: 91.45%] [G loss: 0.833118]"
     ]
    },
    {
     "name": "stderr",
     "output_type": "stream",
     "text": [
      " 48%|███████████████████████████████████████▎                                          | 24/50 [00:00<00:00, 32.97it/s]"
     ]
    },
    {
     "name": "stdout",
     "output_type": "stream",
     "text": [
      "\n",
      "86 [D loss: 0.699406, acc.: 65.74%] [G loss: 0.839815]\n",
      "86 [D loss: 0.789516, acc.: 63.58%] [G loss: 0.884434]\n",
      "86 [D loss: 0.807514, acc.: 60.73%] [G loss: 0.860638]\n",
      "86 [D loss: 0.809720, acc.: 66.28%] [G loss: 0.820848]\n",
      "86 [D loss: 0.827798, acc.: 63.50%] [G loss: 0.782511]\n",
      "86 [D loss: 0.793633, acc.: 63.65%] [G loss: 0.790305]"
     ]
    },
    {
     "name": "stderr",
     "output_type": "stream",
     "text": [
      " 64%|████████████████████████████████████████████████████▍                             | 32/50 [00:00<00:00, 33.31it/s]"
     ]
    },
    {
     "name": "stdout",
     "output_type": "stream",
     "text": [
      "\n",
      "86 [D loss: 0.783045, acc.: 61.30%] [G loss: 0.813830]\n",
      "86 [D loss: 0.759894, acc.: 57.72%] [G loss: 0.900419]\n",
      "86 [D loss: 0.730592, acc.: 54.27%] [G loss: 0.951044]\n",
      "86 [D loss: 0.702981, acc.: 53.11%] [G loss: 0.970623]\n",
      "86 [D loss: 0.651067, acc.: 57.52%] [G loss: 0.889925]\n",
      "86 [D loss: 0.685018, acc.: 60.78%] [G loss: 0.803566]\n"
     ]
    },
    {
     "name": "stderr",
     "output_type": "stream",
     "text": [
      " 80%|█████████████████████████████████████████████████████████████████▌                | 40/50 [00:01<00:00, 33.44it/s]"
     ]
    },
    {
     "name": "stdout",
     "output_type": "stream",
     "text": [
      "86 [D loss: 0.609113, acc.: 69.30%] [G loss: 0.744534]\n",
      "86 [D loss: 0.557163, acc.: 74.19%] [G loss: 0.683269]\n",
      "86 [D loss: 0.549669, acc.: 84.20%] [G loss: 0.661944]\n",
      "86 [D loss: 0.591954, acc.: 90.16%] [G loss: 0.601662]\n",
      "86 [D loss: 0.617907, acc.: 88.33%] [G loss: 0.617164]\n",
      "86 [D loss: 0.637267, acc.: 85.74%] [G loss: 0.708972]\n",
      "86 [D loss: 0.669141, acc.: 76.08%] [G loss: 0.754416]"
     ]
    },
    {
     "name": "stderr",
     "output_type": "stream",
     "text": [
      " 88%|████████████████████████████████████████████████████████████████████████▏         | 44/50 [00:01<00:00, 33.30it/s]"
     ]
    },
    {
     "name": "stdout",
     "output_type": "stream",
     "text": [
      "\n",
      "86 [D loss: 0.682665, acc.: 84.56%] [G loss: 0.738251]\n",
      "86 [D loss: 0.703518, acc.: 86.81%] [G loss: 0.648921]\n",
      "86 [D loss: 0.774185, acc.: 81.42%] [G loss: 0.713080]\n",
      "86 [D loss: 0.784213, acc.: 66.40%] [G loss: 0.761903]\n",
      "86 [D loss: 0.770184, acc.: 61.96%] [G loss: 0.808368]\n",
      "86 [D loss: 0.801928, acc.: 59.13%] [G loss: 0.830584]\n"
     ]
    },
    {
     "name": "stderr",
     "output_type": "stream",
     "text": [
      "100%|██████████████████████████████████████████████████████████████████████████████████| 50/50 [00:01<00:00, 33.13it/s]\n",
      "  0%|                                                                                           | 0/50 [00:00<?, ?it/s]"
     ]
    },
    {
     "name": "stdout",
     "output_type": "stream",
     "text": [
      "86 [D loss: 0.769450, acc.: 59.74%] [G loss: 0.827451]\n",
      "86 [D loss: 0.764181, acc.: 61.10%] [G loss: 0.833140]\n",
      "86 [D loss: 0.761075, acc.: 61.92%] [G loss: 0.794891]\n",
      "Epoch 87\n",
      "87 [D loss: 0.766916, acc.: 64.07%] [G loss: 0.805512]\n",
      "87 [D loss: 0.759263, acc.: 63.90%] [G loss: 0.763343]\n",
      "87 [D loss: 0.765773, acc.: 65.41%] [G loss: 0.765748]\n",
      "87 [D loss: 0.761572, acc.: 64.06%] [G loss: 0.771530]"
     ]
    },
    {
     "name": "stderr",
     "output_type": "stream",
     "text": [
      " 16%|█████████████▎                                                                     | 8/50 [00:00<00:01, 33.64it/s]"
     ]
    },
    {
     "name": "stdout",
     "output_type": "stream",
     "text": [
      "\n",
      "87 [D loss: 0.751321, acc.: 64.73%] [G loss: 0.767810]\n",
      "87 [D loss: 0.724784, acc.: 63.88%] [G loss: 0.775991]\n",
      "87 [D loss: 0.716145, acc.: 62.15%] [G loss: 0.794593]\n",
      "87 [D loss: 0.720179, acc.: 63.24%] [G loss: 0.789025]\n",
      "87 [D loss: 0.708617, acc.: 62.18%] [G loss: 0.803354]\n",
      "87 [D loss: 0.699296, acc.: 63.85%] [G loss: 0.780731]"
     ]
    },
    {
     "name": "stderr",
     "output_type": "stream",
     "text": [
      " 32%|██████████████████████████▏                                                       | 16/50 [00:00<00:01, 33.46it/s]"
     ]
    },
    {
     "name": "stdout",
     "output_type": "stream",
     "text": [
      "\n",
      "87 [D loss: 0.670948, acc.: 66.26%] [G loss: 0.766388]\n",
      "87 [D loss: 0.694743, acc.: 67.72%] [G loss: 0.741934]\n",
      "87 [D loss: 0.672545, acc.: 69.45%] [G loss: 0.721967]\n",
      "87 [D loss: 0.691280, acc.: 69.93%] [G loss: 0.690500]\n",
      "87 [D loss: 0.645344, acc.: 71.19%] [G loss: 0.688800]\n",
      "87 [D loss: 0.649135, acc.: 70.66%] [G loss: 0.692360]\n"
     ]
    },
    {
     "name": "stderr",
     "output_type": "stream",
     "text": [
      " 40%|████████████████████████████████▊                                                 | 20/50 [00:00<00:00, 33.23it/s]"
     ]
    },
    {
     "name": "stdout",
     "output_type": "stream",
     "text": [
      "87 [D loss: 0.559953, acc.: 70.96%] [G loss: 0.691728]\n",
      "87 [D loss: 0.562376, acc.: 70.72%] [G loss: 0.688776]\n",
      "87 [D loss: 0.560628, acc.: 69.85%] [G loss: 0.693489]\n",
      "87 [D loss: 0.516155, acc.: 71.35%] [G loss: 0.693667]\n",
      "87 [D loss: 0.500993, acc.: 70.91%] [G loss: 0.699543]\n",
      "87 [D loss: 0.448443, acc.: 73.59%] [G loss: 0.696964]\n",
      "87 [D loss: 0.477155, acc.: 77.58%] [G loss: 0.696470]"
     ]
    },
    {
     "name": "stderr",
     "output_type": "stream",
     "text": [
      " 56%|█████████████████████████████████████████████▉                                    | 28/50 [00:00<00:00, 33.24it/s]"
     ]
    },
    {
     "name": "stdout",
     "output_type": "stream",
     "text": [
      "\n",
      "87 [D loss: 0.481513, acc.: 81.90%] [G loss: 0.690375]\n",
      "87 [D loss: 0.468026, acc.: 81.90%] [G loss: 0.657071]\n",
      "87 [D loss: 0.551501, acc.: 94.39%] [G loss: 0.615711]\n",
      "87 [D loss: 0.566217, acc.: 96.36%] [G loss: 0.611040]\n",
      "87 [D loss: 0.585981, acc.: 94.32%] [G loss: 0.606372]\n",
      "87 [D loss: 0.656159, acc.: 96.12%] [G loss: 0.667773]\n"
     ]
    },
    {
     "name": "stderr",
     "output_type": "stream",
     "text": [
      " 64%|████████████████████████████████████████████████████▍                             | 32/50 [00:00<00:00, 33.07it/s]"
     ]
    },
    {
     "name": "stdout",
     "output_type": "stream",
     "text": [
      "87 [D loss: 0.671594, acc.: 89.18%] [G loss: 0.780671]\n",
      "87 [D loss: 0.712279, acc.: 78.13%] [G loss: 0.906452]\n",
      "87 [D loss: 0.734571, acc.: 69.32%] [G loss: 0.908537]\n",
      "87 [D loss: 0.752992, acc.: 66.31%] [G loss: 0.841003]\n",
      "87 [D loss: 0.798971, acc.: 62.93%] [G loss: 0.813261]\n",
      "87 [D loss: 0.797396, acc.: 61.74%] [G loss: 0.829600]\n",
      "87 [D loss: 0.771719, acc.: 60.18%] [G loss: 0.836252]"
     ]
    },
    {
     "name": "stderr",
     "output_type": "stream",
     "text": [
      " 80%|█████████████████████████████████████████████████████████████████▌                | 40/50 [00:01<00:00, 33.36it/s]"
     ]
    },
    {
     "name": "stdout",
     "output_type": "stream",
     "text": [
      "\n",
      "87 [D loss: 0.794714, acc.: 58.97%] [G loss: 0.817728]\n",
      "87 [D loss: 0.759123, acc.: 60.06%] [G loss: 0.853434]\n",
      "87 [D loss: 0.775965, acc.: 61.57%] [G loss: 0.803238]\n",
      "87 [D loss: 0.791083, acc.: 63.08%] [G loss: 0.751346]\n",
      "87 [D loss: 0.786838, acc.: 66.13%] [G loss: 0.729879]\n",
      "87 [D loss: 0.764232, acc.: 67.56%] [G loss: 0.712697]\n"
     ]
    },
    {
     "name": "stderr",
     "output_type": "stream",
     "text": [
      " 96%|██████████████████████████████████████████████████████████████████████████████▋   | 48/50 [00:01<00:00, 33.41it/s]"
     ]
    },
    {
     "name": "stdout",
     "output_type": "stream",
     "text": [
      "87 [D loss: 0.741260, acc.: 68.38%] [G loss: 0.706140]\n",
      "87 [D loss: 0.763818, acc.: 68.11%] [G loss: 0.713798]\n",
      "87 [D loss: 0.753750, acc.: 66.77%] [G loss: 0.712082]\n",
      "87 [D loss: 0.734747, acc.: 66.63%] [G loss: 0.738943]\n",
      "87 [D loss: 0.734649, acc.: 67.31%] [G loss: 0.722476]\n",
      "87 [D loss: 0.738140, acc.: 67.55%] [G loss: 0.715376]\n",
      "87 [D loss: 0.727495, acc.: 68.35%] [G loss: 0.712343]"
     ]
    },
    {
     "name": "stderr",
     "output_type": "stream",
     "text": [
      "100%|██████████████████████████████████████████████████████████████████████████████████| 50/50 [00:01<00:00, 33.22it/s]\n",
      "  8%|██████▋                                                                            | 4/50 [00:00<00:01, 32.97it/s]"
     ]
    },
    {
     "name": "stdout",
     "output_type": "stream",
     "text": [
      "\n",
      "87 [D loss: 0.738113, acc.: 69.22%] [G loss: 0.697177]\n",
      "Epoch 88\n",
      "88 [D loss: 0.738371, acc.: 69.76%] [G loss: 0.692931]\n",
      "88 [D loss: 0.729778, acc.: 69.99%] [G loss: 0.695349]\n",
      "88 [D loss: 0.729358, acc.: 69.61%] [G loss: 0.693211]\n",
      "88 [D loss: 0.728233, acc.: 68.77%] [G loss: 0.706594]\n",
      "88 [D loss: 0.720464, acc.: 67.62%] [G loss: 0.712464]"
     ]
    },
    {
     "name": "stderr",
     "output_type": "stream",
     "text": [
      " 16%|█████████████▎                                                                     | 8/50 [00:00<00:01, 32.81it/s]"
     ]
    },
    {
     "name": "stdout",
     "output_type": "stream",
     "text": [
      "\n",
      "88 [D loss: 0.714886, acc.: 67.19%] [G loss: 0.728036]\n",
      "88 [D loss: 0.722442, acc.: 66.51%] [G loss: 0.735242]\n",
      "88 [D loss: 0.695629, acc.: 65.99%] [G loss: 0.734935]\n",
      "88 [D loss: 0.696420, acc.: 65.99%] [G loss: 0.740419]\n",
      "88 [D loss: 0.694067, acc.: 65.81%] [G loss: 0.728516]\n",
      "88 [D loss: 0.700397, acc.: 67.04%] [G loss: 0.730164]"
     ]
    },
    {
     "name": "stderr",
     "output_type": "stream",
     "text": [
      " 32%|██████████████████████████▏                                                       | 16/50 [00:00<00:01, 33.05it/s]"
     ]
    },
    {
     "name": "stdout",
     "output_type": "stream",
     "text": [
      "\n",
      "88 [D loss: 0.687837, acc.: 68.70%] [G loss: 0.715336]\n",
      "88 [D loss: 0.687044, acc.: 69.76%] [G loss: 0.699806]\n",
      "88 [D loss: 0.684145, acc.: 70.94%] [G loss: 0.684510]\n",
      "88 [D loss: 0.672746, acc.: 71.74%] [G loss: 0.683852]\n",
      "88 [D loss: 0.655679, acc.: 69.18%] [G loss: 0.707357]\n",
      "88 [D loss: 0.661919, acc.: 67.68%] [G loss: 0.706232]\n"
     ]
    },
    {
     "name": "stderr",
     "output_type": "stream",
     "text": [
      " 40%|████████████████████████████████▊                                                 | 20/50 [00:00<00:00, 33.11it/s]"
     ]
    },
    {
     "name": "stdout",
     "output_type": "stream",
     "text": [
      "88 [D loss: 0.667228, acc.: 67.37%] [G loss: 0.744544]\n",
      "88 [D loss: 0.669513, acc.: 71.67%] [G loss: 0.716627]\n",
      "88 [D loss: 0.665631, acc.: 83.69%] [G loss: 0.664703]\n",
      "88 [D loss: 0.660540, acc.: 79.48%] [G loss: 0.637200]\n",
      "88 [D loss: 0.700777, acc.: 78.05%] [G loss: 0.666916]\n",
      "88 [D loss: 0.711059, acc.: 67.57%] [G loss: 0.755578]\n",
      "88 [D loss: 0.727488, acc.: 63.84%] [G loss: 0.769803]"
     ]
    },
    {
     "name": "stderr",
     "output_type": "stream",
     "text": [
      " 56%|█████████████████████████████████████████████▉                                    | 28/50 [00:00<00:00, 33.32it/s]"
     ]
    },
    {
     "name": "stdout",
     "output_type": "stream",
     "text": [
      "\n",
      "88 [D loss: 0.705227, acc.: 61.09%] [G loss: 0.780316]\n",
      "88 [D loss: 0.706679, acc.: 62.08%] [G loss: 0.798794]\n",
      "88 [D loss: 0.702502, acc.: 63.65%] [G loss: 0.785180]\n",
      "88 [D loss: 0.700170, acc.: 66.22%] [G loss: 0.758193]\n",
      "88 [D loss: 0.724673, acc.: 70.94%] [G loss: 0.733416]\n",
      "88 [D loss: 0.699187, acc.: 72.00%] [G loss: 0.698561]\n"
     ]
    },
    {
     "name": "stderr",
     "output_type": "stream",
     "text": [
      " 72%|███████████████████████████████████████████████████████████                       | 36/50 [00:01<00:00, 33.25it/s]"
     ]
    },
    {
     "name": "stdout",
     "output_type": "stream",
     "text": [
      "88 [D loss: 0.714176, acc.: 71.62%] [G loss: 0.688337]\n",
      "88 [D loss: 0.706511, acc.: 70.97%] [G loss: 0.696267]\n",
      "88 [D loss: 0.695066, acc.: 67.88%] [G loss: 0.732072]\n",
      "88 [D loss: 0.677526, acc.: 64.11%] [G loss: 0.824936]\n",
      "88 [D loss: 0.669354, acc.: 60.17%] [G loss: 0.872568]\n",
      "88 [D loss: 0.687734, acc.: 57.28%] [G loss: 0.907156]\n",
      "88 [D loss: 0.668063, acc.: 56.62%] [G loss: 0.913046]"
     ]
    },
    {
     "name": "stderr",
     "output_type": "stream",
     "text": [
      " 80%|█████████████████████████████████████████████████████████████████▌                | 40/50 [00:01<00:00, 33.25it/s]"
     ]
    },
    {
     "name": "stdout",
     "output_type": "stream",
     "text": [
      "\n",
      "88 [D loss: 0.651139, acc.: 60.12%] [G loss: 0.867642]\n",
      "88 [D loss: 0.629128, acc.: 64.13%] [G loss: 0.783076]\n",
      "88 [D loss: 0.609968, acc.: 66.08%] [G loss: 0.752598]\n",
      "88 [D loss: 0.631273, acc.: 65.97%] [G loss: 0.749056]\n",
      "88 [D loss: 0.633138, acc.: 63.13%] [G loss: 0.770718]\n",
      "88 [D loss: 0.518047, acc.: 61.72%] [G loss: 0.783432]\n"
     ]
    },
    {
     "name": "stderr",
     "output_type": "stream",
     "text": [
      " 96%|██████████████████████████████████████████████████████████████████████████████▋   | 48/50 [00:01<00:00, 33.30it/s]"
     ]
    },
    {
     "name": "stdout",
     "output_type": "stream",
     "text": [
      "88 [D loss: 0.517269, acc.: 66.37%] [G loss: 0.781011]\n",
      "88 [D loss: 0.569132, acc.: 70.44%] [G loss: 0.742918]\n",
      "88 [D loss: 0.473499, acc.: 84.95%] [G loss: 0.635663]\n",
      "88 [D loss: 0.503107, acc.: 99.09%] [G loss: 0.561298]\n",
      "88 [D loss: 0.527827, acc.: 101.76%] [G loss: 0.519622]\n",
      "88 [D loss: 0.610054, acc.: 89.01%] [G loss: 0.598120]\n",
      "88 [D loss: 0.611360, acc.: 85.59%] [G loss: 0.699571]"
     ]
    },
    {
     "name": "stderr",
     "output_type": "stream",
     "text": [
      "100%|██████████████████████████████████████████████████████████████████████████████████| 50/50 [00:01<00:00, 33.20it/s]\n",
      "  8%|██████▋                                                                            | 4/50 [00:00<00:01, 31.17it/s]"
     ]
    },
    {
     "name": "stdout",
     "output_type": "stream",
     "text": [
      "\n",
      "Epoch 89\n",
      "89 [D loss: 0.663391, acc.: 75.70%] [G loss: 0.717979]\n",
      "89 [D loss: 0.658493, acc.: 77.65%] [G loss: 0.707839]\n",
      "89 [D loss: 0.690867, acc.: 75.61%] [G loss: 0.735917]\n",
      "89 [D loss: 0.665120, acc.: 73.82%] [G loss: 0.718491]\n",
      "89 [D loss: 0.669211, acc.: 64.88%] [G loss: 0.786689]\n"
     ]
    },
    {
     "name": "stderr",
     "output_type": "stream",
     "text": [
      " 16%|█████████████▎                                                                     | 8/50 [00:00<00:01, 31.54it/s]"
     ]
    },
    {
     "name": "stdout",
     "output_type": "stream",
     "text": [
      "89 [D loss: 0.709267, acc.: 60.45%] [G loss: 0.864967]\n",
      "89 [D loss: 0.662055, acc.: 53.65%] [G loss: 0.983458]\n",
      "89 [D loss: 0.620904, acc.: 51.48%] [G loss: 1.012833]\n",
      "89 [D loss: 0.665448, acc.: 54.03%] [G loss: 0.993160]\n",
      "89 [D loss: 0.623762, acc.: 67.68%] [G loss: 0.896416]\n",
      "89 [D loss: 0.633160, acc.: 75.32%] [G loss: 0.741607]\n",
      "89 [D loss: 0.707771, acc.: 77.85%] [G loss: 0.678487]"
     ]
    },
    {
     "name": "stderr",
     "output_type": "stream",
     "text": [
      " 32%|██████████████████████████▏                                                       | 16/50 [00:00<00:01, 32.53it/s]"
     ]
    },
    {
     "name": "stdout",
     "output_type": "stream",
     "text": [
      "\n",
      "89 [D loss: 0.631285, acc.: 69.69%] [G loss: 0.762719]\n",
      "89 [D loss: 0.663337, acc.: 60.39%] [G loss: 0.828453]\n",
      "89 [D loss: 0.652969, acc.: 61.39%] [G loss: 0.876476]\n",
      "89 [D loss: 0.700173, acc.: 68.75%] [G loss: 0.822781]\n",
      "89 [D loss: 0.626756, acc.: 83.29%] [G loss: 0.664360]\n",
      "89 [D loss: 0.719088, acc.: 78.30%] [G loss: 0.679999]\n"
     ]
    },
    {
     "name": "stderr",
     "output_type": "stream",
     "text": [
      " 48%|███████████████████████████████████████▎                                          | 24/50 [00:00<00:00, 32.99it/s]"
     ]
    },
    {
     "name": "stdout",
     "output_type": "stream",
     "text": [
      "89 [D loss: 0.660670, acc.: 75.12%] [G loss: 0.705085]\n",
      "89 [D loss: 0.696444, acc.: 69.23%] [G loss: 0.743058]\n",
      "89 [D loss: 0.674591, acc.: 66.52%] [G loss: 0.783238]\n",
      "89 [D loss: 0.661593, acc.: 80.59%] [G loss: 0.720359]\n",
      "89 [D loss: 0.738216, acc.: 88.81%] [G loss: 0.606891]\n",
      "89 [D loss: 0.756778, acc.: 77.34%] [G loss: 0.691060]\n",
      "89 [D loss: 0.748330, acc.: 63.62%] [G loss: 0.789415]"
     ]
    },
    {
     "name": "stderr",
     "output_type": "stream",
     "text": [
      " 56%|█████████████████████████████████████████████▉                                    | 28/50 [00:00<00:00, 32.90it/s]"
     ]
    },
    {
     "name": "stdout",
     "output_type": "stream",
     "text": [
      "\n",
      "89 [D loss: 0.723057, acc.: 60.80%] [G loss: 0.823566]\n",
      "89 [D loss: 0.761311, acc.: 63.23%] [G loss: 0.782111]\n",
      "89 [D loss: 0.714432, acc.: 67.94%] [G loss: 0.740137]\n",
      "89 [D loss: 0.753933, acc.: 70.97%] [G loss: 0.687242]\n",
      "89 [D loss: 0.706537, acc.: 66.91%] [G loss: 0.724357]\n",
      "89 [D loss: 0.715618, acc.: 61.67%] [G loss: 0.787131]\n"
     ]
    },
    {
     "name": "stderr",
     "output_type": "stream",
     "text": [
      " 72%|███████████████████████████████████████████████████████████                       | 36/50 [00:01<00:00, 33.13it/s]"
     ]
    },
    {
     "name": "stdout",
     "output_type": "stream",
     "text": [
      "89 [D loss: 0.686303, acc.: 58.68%] [G loss: 0.847919]\n",
      "89 [D loss: 0.672972, acc.: 57.42%] [G loss: 0.882574]\n",
      "89 [D loss: 0.613320, acc.: 57.27%] [G loss: 0.856948]\n",
      "89 [D loss: 0.640583, acc.: 60.82%] [G loss: 0.790648]\n",
      "89 [D loss: 0.699466, acc.: 67.20%] [G loss: 0.753427]\n",
      "89 [D loss: 0.591696, acc.: 76.11%] [G loss: 0.693644]\n",
      "89 [D loss: 0.624549, acc.: 82.35%] [G loss: 0.648209]"
     ]
    },
    {
     "name": "stderr",
     "output_type": "stream",
     "text": [
      " 88%|████████████████████████████████████████████████████████████████████████▏         | 44/50 [00:01<00:00, 33.27it/s]"
     ]
    },
    {
     "name": "stdout",
     "output_type": "stream",
     "text": [
      "\n",
      "89 [D loss: 0.649964, acc.: 78.54%] [G loss: 0.647758]\n",
      "89 [D loss: 0.618695, acc.: 73.09%] [G loss: 0.684906]\n",
      "89 [D loss: 0.680410, acc.: 73.22%] [G loss: 0.710901]\n",
      "89 [D loss: 0.650381, acc.: 72.23%] [G loss: 0.706027]\n",
      "89 [D loss: 0.667198, acc.: 72.59%] [G loss: 0.710485]\n",
      "89 [D loss: 0.664153, acc.: 76.80%] [G loss: 0.654135]\n"
     ]
    },
    {
     "name": "stderr",
     "output_type": "stream",
     "text": [
      "100%|██████████████████████████████████████████████████████████████████████████████████| 50/50 [00:01<00:00, 33.18it/s]\n",
      "  0%|                                                                                           | 0/50 [00:00<?, ?it/s]"
     ]
    },
    {
     "name": "stdout",
     "output_type": "stream",
     "text": [
      "89 [D loss: 0.659826, acc.: 75.10%] [G loss: 0.697553]\n",
      "89 [D loss: 0.658772, acc.: 72.03%] [G loss: 0.733585]\n",
      "89 [D loss: 0.652794, acc.: 64.77%] [G loss: 0.880855]\n",
      "89 [D loss: 0.711238, acc.: 61.15%] [G loss: 0.825765]\n",
      "89 [D loss: 0.678205, acc.: 63.90%] [G loss: 0.802919]\n",
      "89 [D loss: 0.711651, acc.: 73.61%] [G loss: 0.728918]\n",
      "Epoch 90\n",
      "90 [D loss: 0.673130, acc.: 76.63%] [G loss: 0.685732]"
     ]
    },
    {
     "name": "stderr",
     "output_type": "stream",
     "text": [
      "  8%|██████▋                                                                            | 4/50 [00:00<00:01, 33.81it/s]"
     ]
    },
    {
     "name": "stdout",
     "output_type": "stream",
     "text": [
      "\n",
      "90 [D loss: 0.713845, acc.: 71.72%] [G loss: 0.697997]\n",
      "90 [D loss: 0.710591, acc.: 65.03%] [G loss: 0.745227]\n",
      "90 [D loss: 0.730818, acc.: 62.14%] [G loss: 0.810654]\n",
      "90 [D loss: 0.704738, acc.: 61.22%] [G loss: 0.811127]\n",
      "90 [D loss: 0.690805, acc.: 64.27%] [G loss: 0.802249]\n",
      "90 [D loss: 0.666353, acc.: 72.13%] [G loss: 0.726009]\n"
     ]
    },
    {
     "name": "stderr",
     "output_type": "stream",
     "text": [
      " 24%|███████████████████▋                                                              | 12/50 [00:00<00:01, 34.29it/s]"
     ]
    },
    {
     "name": "stdout",
     "output_type": "stream",
     "text": [
      "90 [D loss: 0.710499, acc.: 81.52%] [G loss: 0.659969]\n",
      "90 [D loss: 0.735529, acc.: 79.58%] [G loss: 0.657848]\n",
      "90 [D loss: 0.738239, acc.: 67.39%] [G loss: 0.756725]\n",
      "90 [D loss: 0.735002, acc.: 60.85%] [G loss: 0.814987]\n",
      "90 [D loss: 0.741809, acc.: 58.02%] [G loss: 0.837905]\n",
      "90 [D loss: 0.715286, acc.: 58.17%] [G loss: 0.845577]\n",
      "90 [D loss: 0.719519, acc.: 60.31%] [G loss: 0.841012]\n"
     ]
    },
    {
     "name": "stderr",
     "output_type": "stream",
     "text": [
      " 40%|████████████████████████████████▊                                                 | 20/50 [00:00<00:00, 34.07it/s]"
     ]
    },
    {
     "name": "stdout",
     "output_type": "stream",
     "text": [
      "90 [D loss: 0.727574, acc.: 63.54%] [G loss: 0.808734]\n",
      "90 [D loss: 0.738465, acc.: 71.72%] [G loss: 0.750062]\n",
      "90 [D loss: 0.760773, acc.: 72.22%] [G loss: 0.719851]\n",
      "90 [D loss: 0.755240, acc.: 64.85%] [G loss: 0.770949]\n",
      "90 [D loss: 0.751595, acc.: 57.33%] [G loss: 0.877385]\n",
      "90 [D loss: 0.768914, acc.: 50.63%] [G loss: 0.950729]\n",
      "90 [D loss: 0.734100, acc.: 49.07%] [G loss: 0.992425]\n"
     ]
    },
    {
     "name": "stderr",
     "output_type": "stream",
     "text": [
      " 56%|█████████████████████████████████████████████▉                                    | 28/50 [00:00<00:00, 34.26it/s]"
     ]
    },
    {
     "name": "stdout",
     "output_type": "stream",
     "text": [
      "90 [D loss: 0.743138, acc.: 48.40%] [G loss: 0.989470]\n",
      "90 [D loss: 0.738856, acc.: 50.79%] [G loss: 0.969361]\n",
      "90 [D loss: 0.749418, acc.: 58.38%] [G loss: 0.847907]\n",
      "90 [D loss: 0.749530, acc.: 65.13%] [G loss: 0.758234]\n",
      "90 [D loss: 0.753891, acc.: 68.84%] [G loss: 0.734521]\n",
      "90 [D loss: 0.747478, acc.: 67.77%] [G loss: 0.728827]\n",
      "90 [D loss: 0.752651, acc.: 61.98%] [G loss: 0.808913]\n"
     ]
    },
    {
     "name": "stderr",
     "output_type": "stream",
     "text": [
      " 64%|████████████████████████████████████████████████████▍                             | 32/50 [00:00<00:00, 34.12it/s]"
     ]
    },
    {
     "name": "stdout",
     "output_type": "stream",
     "text": [
      "90 [D loss: 0.731872, acc.: 59.56%] [G loss: 0.851890]\n",
      "90 [D loss: 0.746740, acc.: 58.47%] [G loss: 0.830613]\n",
      "90 [D loss: 0.755647, acc.: 58.16%] [G loss: 0.834329]\n",
      "90 [D loss: 0.735769, acc.: 62.18%] [G loss: 0.809245]\n",
      "90 [D loss: 0.747115, acc.: 63.53%] [G loss: 0.798658]\n",
      "90 [D loss: 0.732545, acc.: 64.90%] [G loss: 0.795466]\n",
      "90 [D loss: 0.719619, acc.: 66.39%] [G loss: 0.775085]\n"
     ]
    },
    {
     "name": "stderr",
     "output_type": "stream",
     "text": [
      " 80%|█████████████████████████████████████████████████████████████████▌                | 40/50 [00:01<00:00, 33.87it/s]"
     ]
    },
    {
     "name": "stdout",
     "output_type": "stream",
     "text": [
      "90 [D loss: 0.719998, acc.: 62.88%] [G loss: 0.789880]\n",
      "90 [D loss: 0.730281, acc.: 64.48%] [G loss: 0.798320]\n",
      "90 [D loss: 0.723658, acc.: 66.70%] [G loss: 0.770959]\n",
      "90 [D loss: 0.702299, acc.: 66.87%] [G loss: 0.724613]\n",
      "90 [D loss: 0.695917, acc.: 70.32%] [G loss: 0.698192]\n",
      "90 [D loss: 0.699185, acc.: 72.75%] [G loss: 0.665350]\n",
      "90 [D loss: 0.681982, acc.: 74.51%] [G loss: 0.668176]"
     ]
    },
    {
     "name": "stderr",
     "output_type": "stream",
     "text": [
      " 96%|██████████████████████████████████████████████████████████████████████████████▋   | 48/50 [00:01<00:00, 33.69it/s]"
     ]
    },
    {
     "name": "stdout",
     "output_type": "stream",
     "text": [
      "\n",
      "90 [D loss: 0.692966, acc.: 77.57%] [G loss: 0.644480]\n",
      "90 [D loss: 0.719845, acc.: 81.10%] [G loss: 0.623813]\n",
      "90 [D loss: 0.704692, acc.: 83.92%] [G loss: 0.611413]\n",
      "90 [D loss: 0.726389, acc.: 92.21%] [G loss: 0.593498]\n",
      "90 [D loss: 0.738745, acc.: 86.40%] [G loss: 0.591892]\n",
      "90 [D loss: 0.751332, acc.: 79.28%] [G loss: 0.655299]\n"
     ]
    },
    {
     "name": "stderr",
     "output_type": "stream",
     "text": [
      "100%|██████████████████████████████████████████████████████████████████████████████████| 50/50 [00:01<00:00, 33.90it/s]\n",
      "  8%|██████▋                                                                            | 4/50 [00:00<00:01, 33.24it/s]"
     ]
    },
    {
     "name": "stdout",
     "output_type": "stream",
     "text": [
      "90 [D loss: 0.745114, acc.: 70.38%] [G loss: 0.731001]\n",
      "90 [D loss: 0.745040, acc.: 66.60%] [G loss: 0.755025]\n",
      "Epoch 91\n",
      "91 [D loss: 0.757497, acc.: 65.57%] [G loss: 0.762765]\n",
      "91 [D loss: 0.762249, acc.: 65.07%] [G loss: 0.763887]\n",
      "91 [D loss: 0.734848, acc.: 62.71%] [G loss: 0.785910]\n",
      "91 [D loss: 0.760205, acc.: 59.84%] [G loss: 0.807706]\n"
     ]
    },
    {
     "name": "stderr",
     "output_type": "stream",
     "text": [
      " 16%|█████████████▎                                                                     | 8/50 [00:00<00:01, 33.16it/s]"
     ]
    },
    {
     "name": "stdout",
     "output_type": "stream",
     "text": [
      "91 [D loss: 0.736483, acc.: 58.27%] [G loss: 0.850591]\n",
      "91 [D loss: 0.733690, acc.: 58.34%] [G loss: 0.849194]\n",
      "91 [D loss: 0.735449, acc.: 59.86%] [G loss: 0.827520]\n",
      "91 [D loss: 0.742303, acc.: 63.34%] [G loss: 0.790184]\n",
      "91 [D loss: 0.719907, acc.: 65.17%] [G loss: 0.751967]\n",
      "91 [D loss: 0.739343, acc.: 66.05%] [G loss: 0.729940]\n",
      "91 [D loss: 0.750453, acc.: 64.71%] [G loss: 0.752348]\n"
     ]
    },
    {
     "name": "stderr",
     "output_type": "stream",
     "text": [
      " 32%|██████████████████████████▏                                                       | 16/50 [00:00<00:01, 33.26it/s]"
     ]
    },
    {
     "name": "stdout",
     "output_type": "stream",
     "text": [
      "91 [D loss: 0.712911, acc.: 63.67%] [G loss: 0.776479]\n",
      "91 [D loss: 0.707842, acc.: 62.85%] [G loss: 0.780721]\n",
      "91 [D loss: 0.713976, acc.: 65.23%] [G loss: 0.779258]\n",
      "91 [D loss: 0.708250, acc.: 67.21%] [G loss: 0.742899]\n",
      "91 [D loss: 0.724740, acc.: 68.79%] [G loss: 0.712696]\n",
      "91 [D loss: 0.700311, acc.: 69.76%] [G loss: 0.705000]\n",
      "91 [D loss: 0.732396, acc.: 69.25%] [G loss: 0.703316]\n"
     ]
    },
    {
     "name": "stderr",
     "output_type": "stream",
     "text": [
      " 48%|███████████████████████████████████████▎                                          | 24/50 [00:00<00:00, 33.42it/s]"
     ]
    },
    {
     "name": "stdout",
     "output_type": "stream",
     "text": [
      "91 [D loss: 0.705700, acc.: 68.74%] [G loss: 0.714983]\n",
      "91 [D loss: 0.702201, acc.: 67.34%] [G loss: 0.739149]\n",
      "91 [D loss: 0.713894, acc.: 65.56%] [G loss: 0.769517]\n",
      "91 [D loss: 0.707765, acc.: 62.96%] [G loss: 0.782785]\n",
      "91 [D loss: 0.700341, acc.: 59.57%] [G loss: 0.850322]\n",
      "91 [D loss: 0.723039, acc.: 59.53%] [G loss: 0.848565]\n",
      "91 [D loss: 0.710221, acc.: 58.00%] [G loss: 0.870810]"
     ]
    },
    {
     "name": "stderr",
     "output_type": "stream",
     "text": [
      " 56%|█████████████████████████████████████████████▉                                    | 28/50 [00:00<00:00, 33.28it/s]"
     ]
    },
    {
     "name": "stdout",
     "output_type": "stream",
     "text": [
      "\n",
      "91 [D loss: 0.721586, acc.: 59.46%] [G loss: 0.827651]\n",
      "91 [D loss: 0.744687, acc.: 60.89%] [G loss: 0.813901]\n",
      "91 [D loss: 0.729782, acc.: 64.60%] [G loss: 0.781530]\n",
      "91 [D loss: 0.725744, acc.: 66.18%] [G loss: 0.748550]\n",
      "91 [D loss: 0.760835, acc.: 65.81%] [G loss: 0.753111]\n",
      "91 [D loss: 0.727818, acc.: 65.55%] [G loss: 0.801366]\n"
     ]
    },
    {
     "name": "stderr",
     "output_type": "stream",
     "text": [
      " 72%|███████████████████████████████████████████████████████████                       | 36/50 [00:01<00:00, 33.49it/s]"
     ]
    },
    {
     "name": "stdout",
     "output_type": "stream",
     "text": [
      "91 [D loss: 0.741844, acc.: 62.48%] [G loss: 0.832571]\n",
      "91 [D loss: 0.756802, acc.: 58.78%] [G loss: 0.903382]\n",
      "91 [D loss: 0.724311, acc.: 56.61%] [G loss: 0.919855]\n",
      "91 [D loss: 0.751818, acc.: 56.97%] [G loss: 0.892139]\n",
      "91 [D loss: 0.766423, acc.: 59.58%] [G loss: 0.867225]\n",
      "91 [D loss: 0.758387, acc.: 58.74%] [G loss: 0.887764]\n",
      "91 [D loss: 0.763442, acc.: 59.59%] [G loss: 0.843011]"
     ]
    },
    {
     "name": "stderr",
     "output_type": "stream",
     "text": [
      " 88%|████████████████████████████████████████████████████████████████████████▏         | 44/50 [00:01<00:00, 33.59it/s]"
     ]
    },
    {
     "name": "stdout",
     "output_type": "stream",
     "text": [
      "\n",
      "91 [D loss: 0.752755, acc.: 61.92%] [G loss: 0.799762]\n",
      "91 [D loss: 0.740551, acc.: 64.52%] [G loss: 0.759611]\n",
      "91 [D loss: 0.755577, acc.: 67.45%] [G loss: 0.717162]\n",
      "91 [D loss: 0.756639, acc.: 68.51%] [G loss: 0.705778]\n",
      "91 [D loss: 0.733319, acc.: 68.64%] [G loss: 0.703082]\n",
      "91 [D loss: 0.724961, acc.: 68.26%] [G loss: 0.715393]\n"
     ]
    },
    {
     "name": "stderr",
     "output_type": "stream",
     "text": [
      "100%|██████████████████████████████████████████████████████████████████████████████████| 50/50 [00:01<00:00, 33.38it/s]\n",
      "  0%|                                                                                           | 0/50 [00:00<?, ?it/s]"
     ]
    },
    {
     "name": "stdout",
     "output_type": "stream",
     "text": [
      "91 [D loss: 0.735360, acc.: 67.53%] [G loss: 0.720307]\n",
      "91 [D loss: 0.737680, acc.: 66.68%] [G loss: 0.728239]\n",
      "91 [D loss: 0.733815, acc.: 66.67%] [G loss: 0.738125]\n",
      "91 [D loss: 0.742764, acc.: 66.94%] [G loss: 0.724582]\n",
      "91 [D loss: 0.731112, acc.: 68.49%] [G loss: 0.712157]\n",
      "91 [D loss: 0.711423, acc.: 69.52%] [G loss: 0.698933]\n",
      "Epoch 92\n",
      "92 [D loss: 0.749702, acc.: 71.71%] [G loss: 0.682092]"
     ]
    },
    {
     "name": "stderr",
     "output_type": "stream",
     "text": [
      "  8%|██████▋                                                                            | 4/50 [00:00<00:01, 33.52it/s]"
     ]
    },
    {
     "name": "stdout",
     "output_type": "stream",
     "text": [
      "\n",
      "92 [D loss: 0.737646, acc.: 72.77%] [G loss: 0.660287]\n",
      "92 [D loss: 0.746885, acc.: 73.11%] [G loss: 0.660566]\n",
      "92 [D loss: 0.739384, acc.: 72.97%] [G loss: 0.672472]\n",
      "92 [D loss: 0.719715, acc.: 71.77%] [G loss: 0.678972]\n",
      "92 [D loss: 0.732337, acc.: 69.88%] [G loss: 0.696176]\n",
      "92 [D loss: 0.718240, acc.: 68.49%] [G loss: 0.709201]\n"
     ]
    },
    {
     "name": "stderr",
     "output_type": "stream",
     "text": [
      " 24%|███████████████████▋                                                              | 12/50 [00:00<00:01, 33.38it/s]"
     ]
    },
    {
     "name": "stdout",
     "output_type": "stream",
     "text": [
      "92 [D loss: 0.717164, acc.: 69.55%] [G loss: 0.712541]\n",
      "92 [D loss: 0.691500, acc.: 70.40%] [G loss: 0.710186]\n",
      "92 [D loss: 0.696993, acc.: 71.49%] [G loss: 0.699097]\n",
      "92 [D loss: 0.735972, acc.: 72.05%] [G loss: 0.687327]\n",
      "92 [D loss: 0.705488, acc.: 70.86%] [G loss: 0.682520]\n",
      "92 [D loss: 0.712435, acc.: 69.78%] [G loss: 0.701903]\n",
      "92 [D loss: 0.722402, acc.: 68.87%] [G loss: 0.705567]"
     ]
    },
    {
     "name": "stderr",
     "output_type": "stream",
     "text": [
      " 40%|████████████████████████████████▊                                                 | 20/50 [00:00<00:00, 33.56it/s]"
     ]
    },
    {
     "name": "stdout",
     "output_type": "stream",
     "text": [
      "\n",
      "92 [D loss: 0.698633, acc.: 68.93%] [G loss: 0.700131]\n",
      "92 [D loss: 0.695811, acc.: 70.26%] [G loss: 0.697715]\n",
      "92 [D loss: 0.745277, acc.: 71.12%] [G loss: 0.687931]\n",
      "92 [D loss: 0.724460, acc.: 71.85%] [G loss: 0.673244]\n",
      "92 [D loss: 0.703451, acc.: 72.67%] [G loss: 0.669620]\n",
      "92 [D loss: 0.692241, acc.: 72.41%] [G loss: 0.666180]\n"
     ]
    },
    {
     "name": "stderr",
     "output_type": "stream",
     "text": [
      " 48%|███████████████████████████████████████▎                                          | 24/50 [00:00<00:00, 33.55it/s]"
     ]
    },
    {
     "name": "stdout",
     "output_type": "stream",
     "text": [
      "92 [D loss: 0.691665, acc.: 72.83%] [G loss: 0.665761]\n",
      "92 [D loss: 0.699330, acc.: 72.54%] [G loss: 0.663751]\n",
      "92 [D loss: 0.711743, acc.: 72.02%] [G loss: 0.670383]\n",
      "92 [D loss: 0.684087, acc.: 71.93%] [G loss: 0.670185]\n",
      "92 [D loss: 0.709896, acc.: 71.84%] [G loss: 0.670918]\n",
      "92 [D loss: 0.675457, acc.: 71.48%] [G loss: 0.674254]\n",
      "92 [D loss: 0.693754, acc.: 71.94%] [G loss: 0.672935]"
     ]
    },
    {
     "name": "stderr",
     "output_type": "stream",
     "text": [
      " 64%|████████████████████████████████████████████████████▍                             | 32/50 [00:00<00:00, 33.39it/s]"
     ]
    },
    {
     "name": "stdout",
     "output_type": "stream",
     "text": [
      "\n",
      "92 [D loss: 0.690051, acc.: 72.40%] [G loss: 0.671346]\n",
      "92 [D loss: 0.684697, acc.: 73.44%] [G loss: 0.662326]\n",
      "92 [D loss: 0.683332, acc.: 74.11%] [G loss: 0.656067]\n",
      "92 [D loss: 0.680792, acc.: 75.31%] [G loss: 0.649178]\n",
      "92 [D loss: 0.694099, acc.: 75.11%] [G loss: 0.644874]\n",
      "92 [D loss: 0.690633, acc.: 75.28%] [G loss: 0.645434]\n"
     ]
    },
    {
     "name": "stderr",
     "output_type": "stream",
     "text": [
      " 72%|███████████████████████████████████████████████████████████                       | 36/50 [00:01<00:00, 33.18it/s]"
     ]
    },
    {
     "name": "stdout",
     "output_type": "stream",
     "text": [
      "92 [D loss: 0.688048, acc.: 74.85%] [G loss: 0.647761]\n",
      "92 [D loss: 0.689535, acc.: 74.28%] [G loss: 0.652644]\n",
      "92 [D loss: 0.690429, acc.: 73.59%] [G loss: 0.657065]\n",
      "92 [D loss: 0.681964, acc.: 73.04%] [G loss: 0.661056]\n",
      "92 [D loss: 0.684917, acc.: 72.55%] [G loss: 0.665092]\n",
      "92 [D loss: 0.683748, acc.: 72.23%] [G loss: 0.671638]\n",
      "92 [D loss: 0.686251, acc.: 71.85%] [G loss: 0.670856]"
     ]
    },
    {
     "name": "stderr",
     "output_type": "stream",
     "text": [
      " 88%|████████████████████████████████████████████████████████████████████████▏         | 44/50 [00:01<00:00, 33.50it/s]"
     ]
    },
    {
     "name": "stdout",
     "output_type": "stream",
     "text": [
      "\n",
      "92 [D loss: 0.673806, acc.: 72.22%] [G loss: 0.674751]\n",
      "92 [D loss: 0.680438, acc.: 72.19%] [G loss: 0.673967]\n",
      "92 [D loss: 0.683084, acc.: 72.35%] [G loss: 0.671151]\n",
      "92 [D loss: 0.693238, acc.: 72.94%] [G loss: 0.663601]\n",
      "92 [D loss: 0.676982, acc.: 73.46%] [G loss: 0.657870]\n",
      "92 [D loss: 0.671484, acc.: 73.55%] [G loss: 0.659723]\n"
     ]
    },
    {
     "name": "stderr",
     "output_type": "stream",
     "text": [
      "100%|██████████████████████████████████████████████████████████████████████████████████| 50/50 [00:01<00:00, 33.31it/s]\n",
      "  0%|                                                                                           | 0/50 [00:00<?, ?it/s]"
     ]
    },
    {
     "name": "stdout",
     "output_type": "stream",
     "text": [
      "92 [D loss: 0.683034, acc.: 73.41%] [G loss: 0.660875]\n",
      "92 [D loss: 0.680505, acc.: 73.26%] [G loss: 0.659251]\n",
      "92 [D loss: 0.679104, acc.: 72.80%] [G loss: 0.663311]\n",
      "92 [D loss: 0.678498, acc.: 72.77%] [G loss: 0.669244]\n",
      "Epoch 93\n",
      "93 [D loss: 0.674137, acc.: 72.61%] [G loss: 0.666866]\n",
      "93 [D loss: 0.669934, acc.: 72.85%] [G loss: 0.668587]\n",
      "93 [D loss: 0.670800, acc.: 72.85%] [G loss: 0.664321]"
     ]
    },
    {
     "name": "stderr",
     "output_type": "stream",
     "text": [
      " 16%|█████████████▎                                                                     | 8/50 [00:00<00:01, 32.86it/s]"
     ]
    },
    {
     "name": "stdout",
     "output_type": "stream",
     "text": [
      "\n",
      "93 [D loss: 0.678431, acc.: 73.11%] [G loss: 0.663837]\n",
      "93 [D loss: 0.674122, acc.: 73.29%] [G loss: 0.659539]\n",
      "93 [D loss: 0.672886, acc.: 73.47%] [G loss: 0.660194]\n",
      "93 [D loss: 0.682239, acc.: 73.63%] [G loss: 0.659494]\n",
      "93 [D loss: 0.675484, acc.: 73.88%] [G loss: 0.658332]\n",
      "93 [D loss: 0.673767, acc.: 73.48%] [G loss: 0.659584]"
     ]
    },
    {
     "name": "stderr",
     "output_type": "stream",
     "text": [
      " 24%|███████████████████▋                                                              | 12/50 [00:00<00:01, 32.97it/s]"
     ]
    },
    {
     "name": "stdout",
     "output_type": "stream",
     "text": [
      "\n",
      "93 [D loss: 0.675059, acc.: 73.08%] [G loss: 0.660059]\n",
      "93 [D loss: 0.671662, acc.: 72.88%] [G loss: 0.664130]\n",
      "93 [D loss: 0.673460, acc.: 72.71%] [G loss: 0.665377]\n",
      "93 [D loss: 0.673115, acc.: 72.29%] [G loss: 0.672929]\n",
      "93 [D loss: 0.671681, acc.: 71.78%] [G loss: 0.677078]\n",
      "93 [D loss: 0.674602, acc.: 71.34%] [G loss: 0.677940]\n"
     ]
    },
    {
     "name": "stderr",
     "output_type": "stream",
     "text": [
      " 40%|████████████████████████████████▊                                                 | 20/50 [00:00<00:00, 32.92it/s]"
     ]
    },
    {
     "name": "stdout",
     "output_type": "stream",
     "text": [
      "93 [D loss: 0.674589, acc.: 70.94%] [G loss: 0.682409]\n",
      "93 [D loss: 0.683742, acc.: 70.73%] [G loss: 0.686907]\n",
      "93 [D loss: 0.671709, acc.: 70.49%] [G loss: 0.688117]\n",
      "93 [D loss: 0.677857, acc.: 70.54%] [G loss: 0.690477]\n",
      "93 [D loss: 0.680818, acc.: 70.31%] [G loss: 0.689220]\n",
      "93 [D loss: 0.675200, acc.: 70.34%] [G loss: 0.689583]\n",
      "93 [D loss: 0.677068, acc.: 70.40%] [G loss: 0.689023]"
     ]
    },
    {
     "name": "stderr",
     "output_type": "stream",
     "text": [
      " 48%|███████████████████████████████████████▎                                          | 24/50 [00:00<00:00, 33.10it/s]"
     ]
    },
    {
     "name": "stdout",
     "output_type": "stream",
     "text": [
      "\n",
      "93 [D loss: 0.686371, acc.: 70.56%] [G loss: 0.684928]\n",
      "93 [D loss: 0.678586, acc.: 70.83%] [G loss: 0.679761]\n",
      "93 [D loss: 0.673581, acc.: 71.32%] [G loss: 0.677731]\n",
      "93 [D loss: 0.676184, acc.: 71.70%] [G loss: 0.676545]\n",
      "93 [D loss: 0.680630, acc.: 71.62%] [G loss: 0.673306]\n",
      "93 [D loss: 0.677898, acc.: 72.03%] [G loss: 0.669167]"
     ]
    },
    {
     "name": "stderr",
     "output_type": "stream",
     "text": [
      " 64%|████████████████████████████████████████████████████▍                             | 32/50 [00:00<00:00, 33.20it/s]"
     ]
    },
    {
     "name": "stdout",
     "output_type": "stream",
     "text": [
      "\n",
      "93 [D loss: 0.683158, acc.: 72.38%] [G loss: 0.666250]\n",
      "93 [D loss: 0.671137, acc.: 72.77%] [G loss: 0.662540]\n",
      "93 [D loss: 0.673984, acc.: 72.82%] [G loss: 0.661242]\n",
      "93 [D loss: 0.673341, acc.: 73.05%] [G loss: 0.657960]\n",
      "93 [D loss: 0.674295, acc.: 73.08%] [G loss: 0.658029]\n",
      "93 [D loss: 0.674262, acc.: 73.29%] [G loss: 0.656202]\n"
     ]
    },
    {
     "name": "stderr",
     "output_type": "stream",
     "text": [
      " 80%|█████████████████████████████████████████████████████████████████▌                | 40/50 [00:01<00:00, 33.42it/s]"
     ]
    },
    {
     "name": "stdout",
     "output_type": "stream",
     "text": [
      "93 [D loss: 0.671568, acc.: 73.79%] [G loss: 0.659425]\n",
      "93 [D loss: 0.665418, acc.: 73.32%] [G loss: 0.655003]\n",
      "93 [D loss: 0.669288, acc.: 73.66%] [G loss: 0.655798]\n",
      "93 [D loss: 0.664898, acc.: 73.28%] [G loss: 0.659908]\n",
      "93 [D loss: 0.665220, acc.: 73.77%] [G loss: 0.654434]\n",
      "93 [D loss: 0.669666, acc.: 73.82%] [G loss: 0.657152]\n",
      "93 [D loss: 0.664693, acc.: 73.70%] [G loss: 0.653490]\n"
     ]
    },
    {
     "name": "stderr",
     "output_type": "stream",
     "text": [
      " 88%|████████████████████████████████████████████████████████████████████████▏         | 44/50 [00:01<00:00, 33.28it/s]"
     ]
    },
    {
     "name": "stdout",
     "output_type": "stream",
     "text": [
      "93 [D loss: 0.661158, acc.: 73.92%] [G loss: 0.653744]\n",
      "93 [D loss: 0.664275, acc.: 73.72%] [G loss: 0.653987]\n",
      "93 [D loss: 0.658522, acc.: 74.15%] [G loss: 0.655039]\n",
      "93 [D loss: 0.664663, acc.: 74.36%] [G loss: 0.652278]\n",
      "93 [D loss: 0.659848, acc.: 74.10%] [G loss: 0.652558]\n",
      "93 [D loss: 0.654358, acc.: 74.19%] [G loss: 0.649081]\n"
     ]
    },
    {
     "name": "stderr",
     "output_type": "stream",
     "text": [
      "100%|██████████████████████████████████████████████████████████████████████████████████| 50/50 [00:01<00:00, 33.15it/s]\n",
      "  0%|                                                                                           | 0/50 [00:00<?, ?it/s]"
     ]
    },
    {
     "name": "stdout",
     "output_type": "stream",
     "text": [
      "93 [D loss: 0.651887, acc.: 74.10%] [G loss: 0.651961]\n",
      "93 [D loss: 0.653606, acc.: 74.36%] [G loss: 0.651405]\n",
      "93 [D loss: 0.658670, acc.: 73.96%] [G loss: 0.651783]\n",
      "Epoch 94\n",
      "94 [D loss: 0.648216, acc.: 73.90%] [G loss: 0.655019]\n",
      "94 [D loss: 0.654212, acc.: 73.75%] [G loss: 0.656467]\n",
      "94 [D loss: 0.647960, acc.: 73.87%] [G loss: 0.657427]\n",
      "94 [D loss: 0.653223, acc.: 73.12%] [G loss: 0.659690]"
     ]
    },
    {
     "name": "stderr",
     "output_type": "stream",
     "text": [
      " 16%|█████████████▎                                                                     | 8/50 [00:00<00:01, 33.44it/s]"
     ]
    },
    {
     "name": "stdout",
     "output_type": "stream",
     "text": [
      "\n",
      "94 [D loss: 0.653398, acc.: 73.32%] [G loss: 0.662013]\n",
      "94 [D loss: 0.647879, acc.: 73.00%] [G loss: 0.667766]\n",
      "94 [D loss: 0.649466, acc.: 72.51%] [G loss: 0.672396]\n",
      "94 [D loss: 0.640344, acc.: 72.26%] [G loss: 0.671702]\n",
      "94 [D loss: 0.640246, acc.: 72.28%] [G loss: 0.673868]\n",
      "94 [D loss: 0.651206, acc.: 71.33%] [G loss: 0.678635]"
     ]
    },
    {
     "name": "stderr",
     "output_type": "stream",
     "text": [
      " 32%|██████████████████████████▏                                                       | 16/50 [00:00<00:01, 33.59it/s]"
     ]
    },
    {
     "name": "stdout",
     "output_type": "stream",
     "text": [
      "\n",
      "94 [D loss: 0.637124, acc.: 71.35%] [G loss: 0.683324]\n",
      "94 [D loss: 0.639477, acc.: 71.08%] [G loss: 0.683368]\n",
      "94 [D loss: 0.638550, acc.: 70.84%] [G loss: 0.690492]\n",
      "94 [D loss: 0.632553, acc.: 70.31%] [G loss: 0.690761]\n",
      "94 [D loss: 0.631803, acc.: 70.20%] [G loss: 0.696176]\n",
      "94 [D loss: 0.641061, acc.: 70.14%] [G loss: 0.697447]\n"
     ]
    },
    {
     "name": "stderr",
     "output_type": "stream",
     "text": [
      " 40%|████████████████████████████████▊                                                 | 20/50 [00:00<00:00, 33.49it/s]"
     ]
    },
    {
     "name": "stdout",
     "output_type": "stream",
     "text": [
      "94 [D loss: 0.635734, acc.: 70.21%] [G loss: 0.699792]\n",
      "94 [D loss: 0.631141, acc.: 70.27%] [G loss: 0.694261]\n",
      "94 [D loss: 0.640930, acc.: 70.85%] [G loss: 0.690834]\n",
      "94 [D loss: 0.644960, acc.: 71.09%] [G loss: 0.691612]\n",
      "94 [D loss: 0.637338, acc.: 71.97%] [G loss: 0.687973]\n",
      "94 [D loss: 0.636339, acc.: 71.87%] [G loss: 0.681994]\n",
      "94 [D loss: 0.636506, acc.: 72.10%] [G loss: 0.673721]\n"
     ]
    },
    {
     "name": "stderr",
     "output_type": "stream",
     "text": [
      " 56%|█████████████████████████████████████████████▉                                    | 28/50 [00:00<00:00, 33.36it/s]"
     ]
    },
    {
     "name": "stdout",
     "output_type": "stream",
     "text": [
      "94 [D loss: 0.644390, acc.: 73.57%] [G loss: 0.668797]\n",
      "94 [D loss: 0.640569, acc.: 73.87%] [G loss: 0.672981]\n",
      "94 [D loss: 0.639740, acc.: 73.16%] [G loss: 0.677566]\n",
      "94 [D loss: 0.650958, acc.: 73.11%] [G loss: 0.679110]\n",
      "94 [D loss: 0.654724, acc.: 73.19%] [G loss: 0.685063]\n",
      "94 [D loss: 0.660565, acc.: 72.72%] [G loss: 0.704562]\n",
      "94 [D loss: 0.671811, acc.: 70.48%] [G loss: 0.744235]"
     ]
    },
    {
     "name": "stderr",
     "output_type": "stream",
     "text": [
      " 72%|███████████████████████████████████████████████████████████                       | 36/50 [00:01<00:00, 33.41it/s]"
     ]
    },
    {
     "name": "stdout",
     "output_type": "stream",
     "text": [
      "\n",
      "94 [D loss: 0.673368, acc.: 66.87%] [G loss: 0.762804]\n",
      "94 [D loss: 0.675583, acc.: 63.96%] [G loss: 0.809663]\n",
      "94 [D loss: 0.686933, acc.: 61.06%] [G loss: 0.846137]\n",
      "94 [D loss: 0.691245, acc.: 59.98%] [G loss: 0.879328]\n",
      "94 [D loss: 0.697481, acc.: 57.93%] [G loss: 0.886635]\n",
      "94 [D loss: 0.698408, acc.: 59.17%] [G loss: 0.900437]\n"
     ]
    },
    {
     "name": "stderr",
     "output_type": "stream",
     "text": [
      " 80%|█████████████████████████████████████████████████████████████████▌                | 40/50 [00:01<00:00, 33.36it/s]"
     ]
    },
    {
     "name": "stdout",
     "output_type": "stream",
     "text": [
      "94 [D loss: 0.720412, acc.: 61.13%] [G loss: 0.848357]\n",
      "94 [D loss: 0.713927, acc.: 63.21%] [G loss: 0.803411]\n",
      "94 [D loss: 0.713325, acc.: 66.44%] [G loss: 0.768154]\n",
      "94 [D loss: 0.737343, acc.: 69.29%] [G loss: 0.724589]\n",
      "94 [D loss: 0.741143, acc.: 69.22%] [G loss: 0.710911]\n",
      "94 [D loss: 0.743597, acc.: 70.22%] [G loss: 0.695657]\n",
      "94 [D loss: 0.746230, acc.: 70.81%] [G loss: 0.693938]"
     ]
    },
    {
     "name": "stderr",
     "output_type": "stream",
     "text": [
      " 96%|██████████████████████████████████████████████████████████████████████████████▋   | 48/50 [00:01<00:00, 33.53it/s]"
     ]
    },
    {
     "name": "stdout",
     "output_type": "stream",
     "text": [
      "\n",
      "94 [D loss: 0.750324, acc.: 70.93%] [G loss: 0.695859]\n",
      "94 [D loss: 0.731818, acc.: 70.60%] [G loss: 0.692457]\n",
      "94 [D loss: 0.723120, acc.: 70.16%] [G loss: 0.696932]\n",
      "94 [D loss: 0.728960, acc.: 69.42%] [G loss: 0.702996]\n",
      "94 [D loss: 0.742855, acc.: 71.22%] [G loss: 0.690909]\n",
      "94 [D loss: 0.732584, acc.: 69.21%] [G loss: 0.702598]\n"
     ]
    },
    {
     "name": "stderr",
     "output_type": "stream",
     "text": [
      "100%|██████████████████████████████████████████████████████████████████████████████████| 50/50 [00:01<00:00, 33.40it/s]\n",
      "  8%|██████▋                                                                            | 4/50 [00:00<00:01, 34.10it/s]"
     ]
    },
    {
     "name": "stdout",
     "output_type": "stream",
     "text": [
      "94 [D loss: 0.732514, acc.: 69.94%] [G loss: 0.700453]\n",
      "Epoch 95\n",
      "95 [D loss: 0.715874, acc.: 69.23%] [G loss: 0.707659]\n",
      "95 [D loss: 0.728957, acc.: 69.05%] [G loss: 0.708817]\n",
      "95 [D loss: 0.724271, acc.: 68.93%] [G loss: 0.706744]\n",
      "95 [D loss: 0.726184, acc.: 68.27%] [G loss: 0.716651]\n",
      "95 [D loss: 0.720979, acc.: 68.14%] [G loss: 0.717600]\n",
      "95 [D loss: 0.726779, acc.: 68.93%] [G loss: 0.709508]"
     ]
    },
    {
     "name": "stderr",
     "output_type": "stream",
     "text": [
      " 24%|███████████████████▋                                                              | 12/50 [00:00<00:01, 33.89it/s]"
     ]
    },
    {
     "name": "stdout",
     "output_type": "stream",
     "text": [
      "\n",
      "95 [D loss: 0.710651, acc.: 68.50%] [G loss: 0.712125]\n",
      "95 [D loss: 0.722953, acc.: 68.70%] [G loss: 0.708824]\n",
      "95 [D loss: 0.720024, acc.: 69.24%] [G loss: 0.705454]\n",
      "95 [D loss: 0.711066, acc.: 69.17%] [G loss: 0.700886]\n",
      "95 [D loss: 0.718020, acc.: 69.65%] [G loss: 0.695913]\n",
      "95 [D loss: 0.718818, acc.: 70.03%] [G loss: 0.691440]\n"
     ]
    },
    {
     "name": "stderr",
     "output_type": "stream",
     "text": [
      " 32%|██████████████████████████▏                                                       | 16/50 [00:00<00:01, 33.69it/s]"
     ]
    },
    {
     "name": "stdout",
     "output_type": "stream",
     "text": [
      "95 [D loss: 0.704964, acc.: 70.14%] [G loss: 0.691326]\n",
      "95 [D loss: 0.710410, acc.: 70.48%] [G loss: 0.685374]\n",
      "95 [D loss: 0.699478, acc.: 70.71%] [G loss: 0.687497]\n",
      "95 [D loss: 0.703892, acc.: 71.27%] [G loss: 0.682505]\n",
      "95 [D loss: 0.700662, acc.: 71.21%] [G loss: 0.680368]\n",
      "95 [D loss: 0.701137, acc.: 71.07%] [G loss: 0.678118]\n",
      "95 [D loss: 0.690345, acc.: 71.54%] [G loss: 0.679421]"
     ]
    },
    {
     "name": "stderr",
     "output_type": "stream",
     "text": [
      " 48%|███████████████████████████████████████▎                                          | 24/50 [00:00<00:00, 33.49it/s]"
     ]
    },
    {
     "name": "stdout",
     "output_type": "stream",
     "text": [
      "\n",
      "95 [D loss: 0.692847, acc.: 71.29%] [G loss: 0.676733]\n",
      "95 [D loss: 0.701360, acc.: 71.41%] [G loss: 0.675426]\n",
      "95 [D loss: 0.689697, acc.: 71.64%] [G loss: 0.673151]\n",
      "95 [D loss: 0.685676, acc.: 71.42%] [G loss: 0.674280]\n",
      "95 [D loss: 0.689472, acc.: 72.03%] [G loss: 0.672167]\n",
      "95 [D loss: 0.681023, acc.: 72.13%] [G loss: 0.670039]"
     ]
    },
    {
     "name": "stderr",
     "output_type": "stream",
     "text": [
      " 56%|█████████████████████████████████████████████▉                                    | 28/50 [00:00<00:00, 33.41it/s]"
     ]
    },
    {
     "name": "stdout",
     "output_type": "stream",
     "text": [
      "\n",
      "95 [D loss: 0.679189, acc.: 72.27%] [G loss: 0.668167]\n",
      "95 [D loss: 0.672259, acc.: 72.48%] [G loss: 0.664669]\n",
      "95 [D loss: 0.674072, acc.: 72.96%] [G loss: 0.660823]\n",
      "95 [D loss: 0.678170, acc.: 73.32%] [G loss: 0.658030]\n",
      "95 [D loss: 0.672552, acc.: 73.62%] [G loss: 0.656001]\n",
      "95 [D loss: 0.666811, acc.: 73.61%] [G loss: 0.655397]\n"
     ]
    },
    {
     "name": "stderr",
     "output_type": "stream",
     "text": [
      " 72%|███████████████████████████████████████████████████████████                       | 36/50 [00:01<00:00, 33.44it/s]"
     ]
    },
    {
     "name": "stdout",
     "output_type": "stream",
     "text": [
      "95 [D loss: 0.669160, acc.: 74.12%] [G loss: 0.651470]\n",
      "95 [D loss: 0.673173, acc.: 73.95%] [G loss: 0.650458]\n",
      "95 [D loss: 0.672621, acc.: 74.36%] [G loss: 0.648916]\n",
      "95 [D loss: 0.662902, acc.: 74.37%] [G loss: 0.649500]\n",
      "95 [D loss: 0.661011, acc.: 74.11%] [G loss: 0.650272]\n",
      "95 [D loss: 0.659963, acc.: 74.06%] [G loss: 0.648875]\n",
      "95 [D loss: 0.666362, acc.: 73.98%] [G loss: 0.651641]\n"
     ]
    },
    {
     "name": "stderr",
     "output_type": "stream",
     "text": [
      " 88%|████████████████████████████████████████████████████████████████████████▏         | 44/50 [00:01<00:00, 33.54it/s]"
     ]
    },
    {
     "name": "stdout",
     "output_type": "stream",
     "text": [
      "95 [D loss: 0.659982, acc.: 74.03%] [G loss: 0.652298]\n",
      "95 [D loss: 0.659613, acc.: 73.99%] [G loss: 0.653041]\n",
      "95 [D loss: 0.657207, acc.: 73.89%] [G loss: 0.654756]\n",
      "95 [D loss: 0.669229, acc.: 73.74%] [G loss: 0.655484]\n",
      "95 [D loss: 0.658024, acc.: 73.53%] [G loss: 0.659008]\n",
      "95 [D loss: 0.652935, acc.: 73.26%] [G loss: 0.660745]\n",
      "95 [D loss: 0.661264, acc.: 73.19%] [G loss: 0.662825]"
     ]
    },
    {
     "name": "stderr",
     "output_type": "stream",
     "text": [
      "100%|██████████████████████████████████████████████████████████████████████████████████| 50/50 [00:01<00:00, 33.51it/s]\n",
      "  0%|                                                                                           | 0/50 [00:00<?, ?it/s]"
     ]
    },
    {
     "name": "stdout",
     "output_type": "stream",
     "text": [
      "\n",
      "95 [D loss: 0.662664, acc.: 73.06%] [G loss: 0.666015]\n",
      "95 [D loss: 0.658970, acc.: 73.06%] [G loss: 0.667463]\n",
      "95 [D loss: 0.662233, acc.: 72.61%] [G loss: 0.668523]\n",
      "95 [D loss: 0.662518, acc.: 72.41%] [G loss: 0.669844]\n",
      "95 [D loss: 0.665955, acc.: 72.50%] [G loss: 0.670948]\n",
      "Epoch 96\n",
      "96 [D loss: 0.667829, acc.: 72.40%] [G loss: 0.668988]"
     ]
    },
    {
     "name": "stderr",
     "output_type": "stream",
     "text": [
      "  8%|██████▋                                                                            | 4/50 [00:00<00:01, 32.97it/s]"
     ]
    },
    {
     "name": "stdout",
     "output_type": "stream",
     "text": [
      "\n",
      "96 [D loss: 0.667037, acc.: 72.24%] [G loss: 0.670959]\n",
      "96 [D loss: 0.669843, acc.: 72.35%] [G loss: 0.672335]\n",
      "96 [D loss: 0.667766, acc.: 72.15%] [G loss: 0.669815]\n",
      "96 [D loss: 0.674293, acc.: 72.28%] [G loss: 0.671525]\n",
      "96 [D loss: 0.672301, acc.: 72.09%] [G loss: 0.673663]\n",
      "96 [D loss: 0.668050, acc.: 72.22%] [G loss: 0.670704]\n"
     ]
    },
    {
     "name": "stderr",
     "output_type": "stream",
     "text": [
      " 24%|███████████████████▋                                                              | 12/50 [00:00<00:01, 33.03it/s]"
     ]
    },
    {
     "name": "stdout",
     "output_type": "stream",
     "text": [
      "96 [D loss: 0.670488, acc.: 72.33%] [G loss: 0.670224]\n",
      "96 [D loss: 0.671384, acc.: 72.32%] [G loss: 0.669143]\n",
      "96 [D loss: 0.673902, acc.: 72.32%] [G loss: 0.671740]\n",
      "96 [D loss: 0.674986, acc.: 72.41%] [G loss: 0.670323]\n",
      "96 [D loss: 0.678342, acc.: 72.59%] [G loss: 0.669436]\n",
      "96 [D loss: 0.678031, acc.: 72.30%] [G loss: 0.668113]\n",
      "96 [D loss: 0.682900, acc.: 72.31%] [G loss: 0.669334]"
     ]
    },
    {
     "name": "stderr",
     "output_type": "stream",
     "text": [
      " 40%|████████████████████████████████▊                                                 | 20/50 [00:00<00:00, 33.24it/s]"
     ]
    },
    {
     "name": "stdout",
     "output_type": "stream",
     "text": [
      "\n",
      "96 [D loss: 0.679462, acc.: 72.25%] [G loss: 0.668379]\n",
      "96 [D loss: 0.677653, acc.: 72.52%] [G loss: 0.670007]\n",
      "96 [D loss: 0.675442, acc.: 72.51%] [G loss: 0.667398]\n",
      "96 [D loss: 0.684866, acc.: 72.52%] [G loss: 0.668901]\n",
      "96 [D loss: 0.675314, acc.: 72.31%] [G loss: 0.670552]\n",
      "96 [D loss: 0.681203, acc.: 72.13%] [G loss: 0.668942]\n"
     ]
    },
    {
     "name": "stderr",
     "output_type": "stream",
     "text": [
      " 48%|███████████████████████████████████████▎                                          | 24/50 [00:00<00:00, 33.16it/s]"
     ]
    },
    {
     "name": "stdout",
     "output_type": "stream",
     "text": [
      "96 [D loss: 0.674122, acc.: 72.35%] [G loss: 0.672043]\n",
      "96 [D loss: 0.679549, acc.: 72.04%] [G loss: 0.670482]\n",
      "96 [D loss: 0.680211, acc.: 72.03%] [G loss: 0.676255]\n",
      "96 [D loss: 0.683720, acc.: 72.01%] [G loss: 0.673676]\n",
      "96 [D loss: 0.679220, acc.: 71.83%] [G loss: 0.677601]\n",
      "96 [D loss: 0.684059, acc.: 71.41%] [G loss: 0.681562]\n",
      "96 [D loss: 0.683850, acc.: 71.02%] [G loss: 0.683343]"
     ]
    },
    {
     "name": "stderr",
     "output_type": "stream",
     "text": [
      " 64%|████████████████████████████████████████████████████▍                             | 32/50 [00:00<00:00, 33.23it/s]"
     ]
    },
    {
     "name": "stdout",
     "output_type": "stream",
     "text": [
      "\n",
      "96 [D loss: 0.676048, acc.: 70.66%] [G loss: 0.688160]\n",
      "96 [D loss: 0.679926, acc.: 70.31%] [G loss: 0.692801]\n",
      "96 [D loss: 0.685821, acc.: 69.90%] [G loss: 0.696997]\n",
      "96 [D loss: 0.683168, acc.: 69.52%] [G loss: 0.703238]\n",
      "96 [D loss: 0.679997, acc.: 68.68%] [G loss: 0.709931]\n",
      "96 [D loss: 0.684621, acc.: 68.36%] [G loss: 0.713578]"
     ]
    },
    {
     "name": "stderr",
     "output_type": "stream",
     "text": [
      " 72%|███████████████████████████████████████████████████████████                       | 36/50 [00:01<00:00, 32.90it/s]"
     ]
    },
    {
     "name": "stdout",
     "output_type": "stream",
     "text": [
      "\n",
      "96 [D loss: 0.679301, acc.: 67.98%] [G loss: 0.719388]\n",
      "96 [D loss: 0.686864, acc.: 67.74%] [G loss: 0.725080]\n",
      "96 [D loss: 0.691108, acc.: 67.38%] [G loss: 0.724499]\n",
      "96 [D loss: 0.694611, acc.: 66.94%] [G loss: 0.728310]\n",
      "96 [D loss: 0.695667, acc.: 67.09%] [G loss: 0.724654]\n",
      "96 [D loss: 0.695621, acc.: 67.27%] [G loss: 0.725339]\n"
     ]
    },
    {
     "name": "stderr",
     "output_type": "stream",
     "text": [
      " 88%|████████████████████████████████████████████████████████████████████████▏         | 44/50 [00:01<00:00, 33.27it/s]"
     ]
    },
    {
     "name": "stdout",
     "output_type": "stream",
     "text": [
      "96 [D loss: 0.689775, acc.: 67.66%] [G loss: 0.715265]\n",
      "96 [D loss: 0.693500, acc.: 68.21%] [G loss: 0.714113]\n",
      "96 [D loss: 0.689645, acc.: 68.48%] [G loss: 0.707526]\n",
      "96 [D loss: 0.697531, acc.: 69.25%] [G loss: 0.697138]\n",
      "96 [D loss: 0.697722, acc.: 69.90%] [G loss: 0.694185]\n",
      "96 [D loss: 0.694694, acc.: 70.81%] [G loss: 0.686259]\n",
      "96 [D loss: 0.686602, acc.: 70.91%] [G loss: 0.679729]"
     ]
    },
    {
     "name": "stderr",
     "output_type": "stream",
     "text": [
      "100%|██████████████████████████████████████████████████████████████████████████████████| 50/50 [00:01<00:00, 33.15it/s]\n",
      "  0%|                                                                                           | 0/50 [00:00<?, ?it/s]"
     ]
    },
    {
     "name": "stdout",
     "output_type": "stream",
     "text": [
      "\n",
      "96 [D loss: 0.686403, acc.: 71.47%] [G loss: 0.675526]\n",
      "96 [D loss: 0.693458, acc.: 72.14%] [G loss: 0.670450]\n",
      "96 [D loss: 0.689555, acc.: 72.49%] [G loss: 0.666381]\n",
      "96 [D loss: 0.682747, acc.: 72.90%] [G loss: 0.663548]\n",
      "Epoch 97\n",
      "97 [D loss: 0.679216, acc.: 73.03%] [G loss: 0.664240]\n",
      "97 [D loss: 0.687422, acc.: 73.04%] [G loss: 0.660186]"
     ]
    },
    {
     "name": "stderr",
     "output_type": "stream",
     "text": [
      " 16%|█████████████▎                                                                     | 8/50 [00:00<00:01, 32.94it/s]"
     ]
    },
    {
     "name": "stdout",
     "output_type": "stream",
     "text": [
      "\n",
      "97 [D loss: 0.677792, acc.: 73.38%] [G loss: 0.659911]\n",
      "97 [D loss: 0.674046, acc.: 73.22%] [G loss: 0.657807]\n",
      "97 [D loss: 0.674288, acc.: 73.13%] [G loss: 0.658288]\n",
      "97 [D loss: 0.673664, acc.: 73.26%] [G loss: 0.658017]\n",
      "97 [D loss: 0.670286, acc.: 73.29%] [G loss: 0.658676]\n",
      "97 [D loss: 0.669444, acc.: 73.13%] [G loss: 0.660759]\n"
     ]
    },
    {
     "name": "stderr",
     "output_type": "stream",
     "text": [
      " 24%|███████████████████▋                                                              | 12/50 [00:00<00:01, 32.87it/s]"
     ]
    },
    {
     "name": "stdout",
     "output_type": "stream",
     "text": [
      "97 [D loss: 0.669802, acc.: 72.89%] [G loss: 0.663453]\n",
      "97 [D loss: 0.670657, acc.: 72.59%] [G loss: 0.669580]\n",
      "97 [D loss: 0.663427, acc.: 71.98%] [G loss: 0.672137]\n",
      "97 [D loss: 0.672941, acc.: 71.39%] [G loss: 0.677654]\n",
      "97 [D loss: 0.665712, acc.: 70.51%] [G loss: 0.688921]\n",
      "97 [D loss: 0.668793, acc.: 69.78%] [G loss: 0.699338]\n",
      "97 [D loss: 0.665045, acc.: 69.34%] [G loss: 0.706367]"
     ]
    },
    {
     "name": "stderr",
     "output_type": "stream",
     "text": [
      " 40%|████████████████████████████████▊                                                 | 20/50 [00:00<00:00, 33.03it/s]"
     ]
    },
    {
     "name": "stdout",
     "output_type": "stream",
     "text": [
      "\n",
      "97 [D loss: 0.670227, acc.: 68.33%] [G loss: 0.714263]\n",
      "97 [D loss: 0.664077, acc.: 67.66%] [G loss: 0.728997]\n",
      "97 [D loss: 0.667507, acc.: 66.90%] [G loss: 0.731087]\n",
      "97 [D loss: 0.676691, acc.: 66.69%] [G loss: 0.735741]\n",
      "97 [D loss: 0.680441, acc.: 66.62%] [G loss: 0.732712]\n",
      "97 [D loss: 0.673476, acc.: 67.26%] [G loss: 0.730237]"
     ]
    },
    {
     "name": "stderr",
     "output_type": "stream",
     "text": [
      " 48%|███████████████████████████████████████▎                                          | 24/50 [00:00<00:00, 33.01it/s]"
     ]
    },
    {
     "name": "stdout",
     "output_type": "stream",
     "text": [
      "\n",
      "97 [D loss: 0.670643, acc.: 67.80%] [G loss: 0.722169]\n",
      "97 [D loss: 0.677823, acc.: 67.73%] [G loss: 0.724057]\n",
      "97 [D loss: 0.689647, acc.: 68.64%] [G loss: 0.712247]\n",
      "97 [D loss: 0.677487, acc.: 68.84%] [G loss: 0.710773]\n",
      "97 [D loss: 0.680222, acc.: 69.69%] [G loss: 0.704739]\n",
      "97 [D loss: 0.679204, acc.: 69.45%] [G loss: 0.699417]\n"
     ]
    },
    {
     "name": "stderr",
     "output_type": "stream",
     "text": [
      " 64%|████████████████████████████████████████████████████▍                             | 32/50 [00:00<00:00, 33.29it/s]"
     ]
    },
    {
     "name": "stdout",
     "output_type": "stream",
     "text": [
      "97 [D loss: 0.685635, acc.: 69.82%] [G loss: 0.699622]\n",
      "97 [D loss: 0.685842, acc.: 69.69%] [G loss: 0.705035]\n",
      "97 [D loss: 0.693112, acc.: 69.72%] [G loss: 0.705305]\n",
      "97 [D loss: 0.688715, acc.: 69.30%] [G loss: 0.712898]\n",
      "97 [D loss: 0.689223, acc.: 68.74%] [G loss: 0.714702]\n",
      "97 [D loss: 0.698326, acc.: 68.65%] [G loss: 0.722649]\n",
      "97 [D loss: 0.700390, acc.: 68.06%] [G loss: 0.746583]\n"
     ]
    },
    {
     "name": "stderr",
     "output_type": "stream",
     "text": [
      " 80%|█████████████████████████████████████████████████████████████████▌                | 40/50 [00:01<00:00, 33.75it/s]"
     ]
    },
    {
     "name": "stdout",
     "output_type": "stream",
     "text": [
      "97 [D loss: 0.697891, acc.: 66.64%] [G loss: 0.753278]\n",
      "97 [D loss: 0.702587, acc.: 65.36%] [G loss: 0.766329]\n",
      "97 [D loss: 0.702375, acc.: 63.83%] [G loss: 0.784702]\n",
      "97 [D loss: 0.700209, acc.: 62.62%] [G loss: 0.808286]\n",
      "97 [D loss: 0.718442, acc.: 61.95%] [G loss: 0.794773]\n",
      "97 [D loss: 0.718491, acc.: 63.41%] [G loss: 0.790256]\n",
      "97 [D loss: 0.724878, acc.: 64.66%] [G loss: 0.777681]\n",
      "97 [D loss: 0.711872, acc.: 66.84%] [G loss: 0.758170]"
     ]
    },
    {
     "name": "stderr",
     "output_type": "stream",
     "text": [
      " 96%|██████████████████████████████████████████████████████████████████████████████▋   | 48/50 [00:01<00:00, 34.31it/s]"
     ]
    },
    {
     "name": "stdout",
     "output_type": "stream",
     "text": [
      "\n",
      "97 [D loss: 0.733939, acc.: 68.97%] [G loss: 0.707687]\n",
      "97 [D loss: 0.734823, acc.: 71.02%] [G loss: 0.690304]\n",
      "97 [D loss: 0.713590, acc.: 72.26%] [G loss: 0.673506]\n",
      "97 [D loss: 0.722678, acc.: 73.68%] [G loss: 0.662256]\n",
      "97 [D loss: 0.719751, acc.: 74.15%] [G loss: 0.654074]\n",
      "97 [D loss: 0.714258, acc.: 74.75%] [G loss: 0.650835]\n"
     ]
    },
    {
     "name": "stderr",
     "output_type": "stream",
     "text": [
      "100%|██████████████████████████████████████████████████████████████████████████████████| 50/50 [00:01<00:00, 33.56it/s]\n",
      "  8%|██████▋                                                                            | 4/50 [00:00<00:01, 34.69it/s]"
     ]
    },
    {
     "name": "stdout",
     "output_type": "stream",
     "text": [
      "97 [D loss: 0.710595, acc.: 74.97%] [G loss: 0.649631]\n",
      "97 [D loss: 0.705972, acc.: 74.38%] [G loss: 0.652809]\n",
      "Epoch 98\n",
      "98 [D loss: 0.707186, acc.: 73.90%] [G loss: 0.653926]\n",
      "98 [D loss: 0.697926, acc.: 73.55%] [G loss: 0.660382]\n",
      "98 [D loss: 0.695372, acc.: 72.74%] [G loss: 0.664647]\n",
      "98 [D loss: 0.699519, acc.: 72.37%] [G loss: 0.673032]\n",
      "98 [D loss: 0.696256, acc.: 71.52%] [G loss: 0.679310]"
     ]
    },
    {
     "name": "stderr",
     "output_type": "stream",
     "text": [
      " 16%|█████████████▎                                                                     | 8/50 [00:00<00:01, 34.69it/s]"
     ]
    },
    {
     "name": "stdout",
     "output_type": "stream",
     "text": [
      "\n",
      "98 [D loss: 0.692212, acc.: 70.52%] [G loss: 0.687333]\n",
      "98 [D loss: 0.701830, acc.: 69.61%] [G loss: 0.696646]\n",
      "98 [D loss: 0.694220, acc.: 69.00%] [G loss: 0.705346]\n",
      "98 [D loss: 0.686778, acc.: 68.44%] [G loss: 0.708983]\n",
      "98 [D loss: 0.680359, acc.: 67.51%] [G loss: 0.721391]\n",
      "98 [D loss: 0.689820, acc.: 66.38%] [G loss: 0.739331]\n",
      "98 [D loss: 0.687974, acc.: 65.86%] [G loss: 0.734616]"
     ]
    },
    {
     "name": "stderr",
     "output_type": "stream",
     "text": [
      " 32%|██████████████████████████▏                                                       | 16/50 [00:00<00:00, 34.57it/s]"
     ]
    },
    {
     "name": "stdout",
     "output_type": "stream",
     "text": [
      "\n",
      "98 [D loss: 0.686440, acc.: 66.03%] [G loss: 0.738410]\n",
      "98 [D loss: 0.689892, acc.: 66.24%] [G loss: 0.731542]\n",
      "98 [D loss: 0.692368, acc.: 66.54%] [G loss: 0.729792]\n",
      "98 [D loss: 0.687176, acc.: 67.71%] [G loss: 0.718028]\n",
      "98 [D loss: 0.698653, acc.: 68.69%] [G loss: 0.709598]\n",
      "98 [D loss: 0.689398, acc.: 69.72%] [G loss: 0.702204]\n"
     ]
    },
    {
     "name": "stderr",
     "output_type": "stream",
     "text": [
      " 48%|███████████████████████████████████████▎                                          | 24/50 [00:00<00:00, 34.33it/s]"
     ]
    },
    {
     "name": "stdout",
     "output_type": "stream",
     "text": [
      "98 [D loss: 0.692746, acc.: 70.42%] [G loss: 0.686533]\n",
      "98 [D loss: 0.681728, acc.: 71.29%] [G loss: 0.680715]\n",
      "98 [D loss: 0.684949, acc.: 71.80%] [G loss: 0.672454]\n",
      "98 [D loss: 0.693268, acc.: 72.01%] [G loss: 0.666279]\n",
      "98 [D loss: 0.685088, acc.: 72.34%] [G loss: 0.666795]\n",
      "98 [D loss: 0.688632, acc.: 72.69%] [G loss: 0.665742]\n",
      "98 [D loss: 0.687699, acc.: 72.58%] [G loss: 0.666094]\n"
     ]
    },
    {
     "name": "stderr",
     "output_type": "stream",
     "text": [
      " 56%|█████████████████████████████████████████████▉                                    | 28/50 [00:00<00:00, 33.91it/s]"
     ]
    },
    {
     "name": "stdout",
     "output_type": "stream",
     "text": [
      "98 [D loss: 0.691021, acc.: 72.35%] [G loss: 0.668477]\n",
      "98 [D loss: 0.687517, acc.: 72.22%] [G loss: 0.673600]\n",
      "98 [D loss: 0.691544, acc.: 71.87%] [G loss: 0.676166]\n",
      "98 [D loss: 0.687388, acc.: 71.19%] [G loss: 0.680682]\n",
      "98 [D loss: 0.689332, acc.: 70.99%] [G loss: 0.687960]\n",
      "98 [D loss: 0.694223, acc.: 70.21%] [G loss: 0.694093]\n",
      "98 [D loss: 0.693988, acc.: 69.71%] [G loss: 0.700426]"
     ]
    },
    {
     "name": "stderr",
     "output_type": "stream",
     "text": [
      " 72%|███████████████████████████████████████████████████████████                       | 36/50 [00:01<00:00, 33.68it/s]"
     ]
    },
    {
     "name": "stdout",
     "output_type": "stream",
     "text": [
      "\n",
      "98 [D loss: 0.692281, acc.: 69.26%] [G loss: 0.706788]\n",
      "98 [D loss: 0.699082, acc.: 69.31%] [G loss: 0.702869]\n",
      "98 [D loss: 0.692383, acc.: 68.70%] [G loss: 0.713737]\n",
      "98 [D loss: 0.702985, acc.: 68.58%] [G loss: 0.707469]\n",
      "98 [D loss: 0.693512, acc.: 68.61%] [G loss: 0.709354]\n",
      "98 [D loss: 0.699401, acc.: 68.98%] [G loss: 0.710225]\n"
     ]
    },
    {
     "name": "stderr",
     "output_type": "stream",
     "text": [
      " 88%|████████████████████████████████████████████████████████████████████████▏         | 44/50 [00:01<00:00, 33.37it/s]"
     ]
    },
    {
     "name": "stdout",
     "output_type": "stream",
     "text": [
      "98 [D loss: 0.701333, acc.: 68.85%] [G loss: 0.708654]\n",
      "98 [D loss: 0.700707, acc.: 69.25%] [G loss: 0.703491]\n",
      "98 [D loss: 0.698881, acc.: 69.75%] [G loss: 0.693779]\n",
      "98 [D loss: 0.702030, acc.: 69.79%] [G loss: 0.696273]\n",
      "98 [D loss: 0.688805, acc.: 70.22%] [G loss: 0.689561]\n",
      "98 [D loss: 0.699469, acc.: 70.20%] [G loss: 0.687782]\n",
      "98 [D loss: 0.692181, acc.: 70.12%] [G loss: 0.685864]"
     ]
    },
    {
     "name": "stderr",
     "output_type": "stream",
     "text": [
      "100%|██████████████████████████████████████████████████████████████████████████████████| 50/50 [00:01<00:00, 33.81it/s]\n",
      "  0%|                                                                                           | 0/50 [00:00<?, ?it/s]"
     ]
    },
    {
     "name": "stdout",
     "output_type": "stream",
     "text": [
      "\n",
      "98 [D loss: 0.694246, acc.: 70.58%] [G loss: 0.685875]\n",
      "98 [D loss: 0.694314, acc.: 70.77%] [G loss: 0.687072]\n",
      "98 [D loss: 0.687683, acc.: 70.46%] [G loss: 0.685564]\n",
      "98 [D loss: 0.684015, acc.: 70.66%] [G loss: 0.685874]\n",
      "98 [D loss: 0.682449, acc.: 70.71%] [G loss: 0.685250]\n",
      "Epoch 99\n",
      "99 [D loss: 0.679724, acc.: 70.84%] [G loss: 0.684366]"
     ]
    },
    {
     "name": "stderr",
     "output_type": "stream",
     "text": [
      "  8%|██████▋                                                                            | 4/50 [00:00<00:01, 33.52it/s]"
     ]
    },
    {
     "name": "stdout",
     "output_type": "stream",
     "text": [
      "\n",
      "99 [D loss: 0.687310, acc.: 70.84%] [G loss: 0.685104]\n",
      "99 [D loss: 0.685808, acc.: 71.07%] [G loss: 0.681697]\n",
      "99 [D loss: 0.677996, acc.: 71.48%] [G loss: 0.680141]\n",
      "99 [D loss: 0.683784, acc.: 71.54%] [G loss: 0.679825]\n",
      "99 [D loss: 0.682813, acc.: 71.79%] [G loss: 0.676318]\n",
      "99 [D loss: 0.683575, acc.: 71.89%] [G loss: 0.673080]\n"
     ]
    },
    {
     "name": "stderr",
     "output_type": "stream",
     "text": [
      " 24%|███████████████████▋                                                              | 12/50 [00:00<00:01, 33.35it/s]"
     ]
    },
    {
     "name": "stdout",
     "output_type": "stream",
     "text": [
      "99 [D loss: 0.677970, acc.: 72.13%] [G loss: 0.674236]\n",
      "99 [D loss: 0.679387, acc.: 72.07%] [G loss: 0.670052]\n",
      "99 [D loss: 0.679476, acc.: 72.21%] [G loss: 0.671135]\n",
      "99 [D loss: 0.680333, acc.: 72.17%] [G loss: 0.671648]\n",
      "99 [D loss: 0.679234, acc.: 71.74%] [G loss: 0.673818]\n",
      "99 [D loss: 0.676888, acc.: 71.83%] [G loss: 0.675410]\n",
      "99 [D loss: 0.675214, acc.: 71.38%] [G loss: 0.680956]"
     ]
    },
    {
     "name": "stderr",
     "output_type": "stream",
     "text": [
      " 40%|████████████████████████████████▊                                                 | 20/50 [00:00<00:00, 33.24it/s]"
     ]
    },
    {
     "name": "stdout",
     "output_type": "stream",
     "text": [
      "\n",
      "99 [D loss: 0.677445, acc.: 70.90%] [G loss: 0.684151]\n",
      "99 [D loss: 0.677968, acc.: 70.60%] [G loss: 0.689524]\n",
      "99 [D loss: 0.673588, acc.: 69.77%] [G loss: 0.697430]\n",
      "99 [D loss: 0.675916, acc.: 69.68%] [G loss: 0.701551]\n",
      "99 [D loss: 0.677889, acc.: 69.19%] [G loss: 0.705646]\n",
      "99 [D loss: 0.677629, acc.: 68.56%] [G loss: 0.710365]\n"
     ]
    },
    {
     "name": "stderr",
     "output_type": "stream",
     "text": [
      " 48%|███████████████████████████████████████▎                                          | 24/50 [00:00<00:00, 33.16it/s]"
     ]
    },
    {
     "name": "stdout",
     "output_type": "stream",
     "text": [
      "99 [D loss: 0.680870, acc.: 68.48%] [G loss: 0.720826]\n",
      "99 [D loss: 0.676974, acc.: 68.02%] [G loss: 0.720512]\n",
      "99 [D loss: 0.679037, acc.: 67.91%] [G loss: 0.720395]\n",
      "99 [D loss: 0.683440, acc.: 68.01%] [G loss: 0.715614]\n",
      "99 [D loss: 0.687927, acc.: 68.11%] [G loss: 0.710400]\n",
      "99 [D loss: 0.686243, acc.: 68.75%] [G loss: 0.711105]\n",
      "99 [D loss: 0.686737, acc.: 69.14%] [G loss: 0.702114]"
     ]
    },
    {
     "name": "stderr",
     "output_type": "stream",
     "text": [
      " 64%|████████████████████████████████████████████████████▍                             | 32/50 [00:00<00:00, 33.11it/s]"
     ]
    },
    {
     "name": "stdout",
     "output_type": "stream",
     "text": [
      "\n",
      "99 [D loss: 0.685956, acc.: 69.57%] [G loss: 0.699359]\n",
      "99 [D loss: 0.683330, acc.: 70.07%] [G loss: 0.692381]\n",
      "99 [D loss: 0.694853, acc.: 70.63%] [G loss: 0.690086]\n",
      "99 [D loss: 0.692842, acc.: 70.98%] [G loss: 0.684694]\n",
      "99 [D loss: 0.690098, acc.: 71.17%] [G loss: 0.682037]\n",
      "99 [D loss: 0.686933, acc.: 71.41%] [G loss: 0.679766]"
     ]
    },
    {
     "name": "stderr",
     "output_type": "stream",
     "text": [
      " 72%|███████████████████████████████████████████████████████████                       | 36/50 [00:01<00:00, 32.34it/s]"
     ]
    },
    {
     "name": "stdout",
     "output_type": "stream",
     "text": [
      "\n",
      "99 [D loss: 0.686048, acc.: 71.76%] [G loss: 0.680640]\n",
      "99 [D loss: 0.687756, acc.: 71.25%] [G loss: 0.680636]\n",
      "99 [D loss: 0.696218, acc.: 70.81%] [G loss: 0.689876]\n",
      "99 [D loss: 0.691062, acc.: 70.96%] [G loss: 0.690650]\n",
      "99 [D loss: 0.681051, acc.: 69.89%] [G loss: 0.696426]\n",
      "99 [D loss: 0.683110, acc.: 69.22%] [G loss: 0.703743]"
     ]
    },
    {
     "name": "stderr",
     "output_type": "stream",
     "text": [
      " 88%|████████████████████████████████████████████████████████████████████████▏         | 44/50 [00:01<00:00, 32.84it/s]"
     ]
    },
    {
     "name": "stdout",
     "output_type": "stream",
     "text": [
      "\n",
      "99 [D loss: 0.690339, acc.: 68.69%] [G loss: 0.713791]\n",
      "99 [D loss: 0.684952, acc.: 68.42%] [G loss: 0.712875]\n",
      "99 [D loss: 0.680774, acc.: 68.23%] [G loss: 0.720976]\n",
      "99 [D loss: 0.680661, acc.: 67.65%] [G loss: 0.719858]\n",
      "99 [D loss: 0.687073, acc.: 67.77%] [G loss: 0.720774]\n",
      "99 [D loss: 0.673223, acc.: 67.94%] [G loss: 0.722727]\n"
     ]
    },
    {
     "name": "stderr",
     "output_type": "stream",
     "text": [
      "100%|██████████████████████████████████████████████████████████████████████████████████| 50/50 [00:01<00:00, 32.89it/s]\n",
      "  0%|                                                                                           | 0/50 [00:00<?, ?it/s]"
     ]
    },
    {
     "name": "stdout",
     "output_type": "stream",
     "text": [
      "99 [D loss: 0.673602, acc.: 68.07%] [G loss: 0.718897]\n",
      "99 [D loss: 0.675020, acc.: 68.79%] [G loss: 0.709053]\n",
      "99 [D loss: 0.675018, acc.: 69.50%] [G loss: 0.700577]\n",
      "99 [D loss: 0.669928, acc.: 70.25%] [G loss: 0.698087]\n",
      "99 [D loss: 0.664147, acc.: 70.61%] [G loss: 0.691553]\n",
      "Epoch 100\n",
      "100 [D loss: 0.656940, acc.: 70.78%] [G loss: 0.686015]\n",
      "100 [D loss: 0.655880, acc.: 70.78%] [G loss: 0.686104]"
     ]
    },
    {
     "name": "stderr",
     "output_type": "stream",
     "text": [
      "  8%|██████▋                                                                            | 4/50 [00:00<00:01, 32.97it/s]"
     ]
    },
    {
     "name": "stdout",
     "output_type": "stream",
     "text": [
      "\n",
      "100 [D loss: 0.635119, acc.: 70.68%] [G loss: 0.689035]\n",
      "100 [D loss: 0.619341, acc.: 70.29%] [G loss: 0.692356]\n",
      "100 [D loss: 0.604397, acc.: 69.70%] [G loss: 0.708387]\n",
      "100 [D loss: 0.593099, acc.: 69.82%] [G loss: 0.718496]\n",
      "100 [D loss: 0.589514, acc.: 67.38%] [G loss: 0.738606]\n",
      "100 [D loss: 0.535334, acc.: 68.28%] [G loss: 0.752958]"
     ]
    },
    {
     "name": "stderr",
     "output_type": "stream",
     "text": [
      " 24%|███████████████████▋                                                              | 12/50 [00:00<00:01, 33.25it/s]"
     ]
    },
    {
     "name": "stdout",
     "output_type": "stream",
     "text": [
      "\n",
      "100 [D loss: 0.521948, acc.: 69.13%] [G loss: 0.771604]\n",
      "100 [D loss: 0.570448, acc.: 70.76%] [G loss: 0.765399]\n",
      "100 [D loss: 0.549063, acc.: 80.24%] [G loss: 0.763780]\n",
      "100 [D loss: 0.597375, acc.: 80.32%] [G loss: 0.714944]\n",
      "100 [D loss: 0.634123, acc.: 84.89%] [G loss: 0.614530]\n",
      "100 [D loss: 0.670680, acc.: 90.57%] [G loss: 0.599705]\n"
     ]
    },
    {
     "name": "stderr",
     "output_type": "stream",
     "text": [
      " 40%|████████████████████████████████▊                                                 | 20/50 [00:00<00:00, 33.19it/s]"
     ]
    },
    {
     "name": "stdout",
     "output_type": "stream",
     "text": [
      "100 [D loss: 0.678817, acc.: 87.67%] [G loss: 0.612557]\n",
      "100 [D loss: 0.695742, acc.: 83.00%] [G loss: 0.654707]\n",
      "100 [D loss: 0.723505, acc.: 76.58%] [G loss: 0.699524]\n",
      "100 [D loss: 0.712214, acc.: 72.94%] [G loss: 0.706709]\n",
      "100 [D loss: 0.719636, acc.: 71.33%] [G loss: 0.698561]\n",
      "100 [D loss: 0.721741, acc.: 70.57%] [G loss: 0.703747]\n",
      "100 [D loss: 0.710663, acc.: 70.29%] [G loss: 0.705010]"
     ]
    },
    {
     "name": "stderr",
     "output_type": "stream",
     "text": [
      " 48%|███████████████████████████████████████▎                                          | 24/50 [00:00<00:00, 32.96it/s]"
     ]
    },
    {
     "name": "stdout",
     "output_type": "stream",
     "text": [
      "\n",
      "100 [D loss: 0.714915, acc.: 69.13%] [G loss: 0.717966]\n",
      "100 [D loss: 0.709172, acc.: 66.25%] [G loss: 0.749430]\n",
      "100 [D loss: 0.699035, acc.: 62.45%] [G loss: 0.802507]\n",
      "100 [D loss: 0.700552, acc.: 57.14%] [G loss: 0.909903]\n",
      "100 [D loss: 0.687613, acc.: 50.89%] [G loss: 0.995747]\n",
      "100 [D loss: 0.685944, acc.: 47.89%] [G loss: 1.040232]"
     ]
    },
    {
     "name": "stderr",
     "output_type": "stream",
     "text": [
      " 64%|████████████████████████████████████████████████████▍                             | 32/50 [00:00<00:00, 32.99it/s]"
     ]
    },
    {
     "name": "stdout",
     "output_type": "stream",
     "text": [
      "\n",
      "100 [D loss: 0.677856, acc.: 47.64%] [G loss: 1.031121]\n",
      "100 [D loss: 0.654246, acc.: 51.47%] [G loss: 1.001323]\n",
      "100 [D loss: 0.639941, acc.: 53.89%] [G loss: 0.954050]\n",
      "100 [D loss: 0.626815, acc.: 58.92%] [G loss: 0.880399]\n",
      "100 [D loss: 0.629796, acc.: 59.43%] [G loss: 0.849442]\n",
      "100 [D loss: 0.600679, acc.: 64.18%] [G loss: 0.816024]\n"
     ]
    },
    {
     "name": "stderr",
     "output_type": "stream",
     "text": [
      " 72%|███████████████████████████████████████████████████████████                       | 36/50 [00:01<00:00, 32.82it/s]"
     ]
    },
    {
     "name": "stdout",
     "output_type": "stream",
     "text": [
      "100 [D loss: 0.586882, acc.: 64.09%] [G loss: 0.758046]\n",
      "100 [D loss: 0.583204, acc.: 70.71%] [G loss: 0.705104]\n",
      "100 [D loss: 0.569368, acc.: 72.99%] [G loss: 0.692157]\n",
      "100 [D loss: 0.547733, acc.: 74.26%] [G loss: 0.669800]\n",
      "100 [D loss: 0.553452, acc.: 89.12%] [G loss: 0.655264]\n",
      "100 [D loss: 0.553863, acc.: 86.53%] [G loss: 0.651635]\n",
      "100 [D loss: 0.564036, acc.: 77.60%] [G loss: 0.691767]"
     ]
    },
    {
     "name": "stderr",
     "output_type": "stream",
     "text": [
      " 88%|████████████████████████████████████████████████████████████████████████▏         | 44/50 [00:01<00:00, 33.12it/s]"
     ]
    },
    {
     "name": "stdout",
     "output_type": "stream",
     "text": [
      "\n",
      "100 [D loss: 0.581902, acc.: 74.45%] [G loss: 0.756370]\n",
      "100 [D loss: 0.610718, acc.: 76.85%] [G loss: 0.761989]\n",
      "100 [D loss: 0.599980, acc.: 75.22%] [G loss: 0.756580]\n",
      "100 [D loss: 0.626074, acc.: 76.89%] [G loss: 0.665586]\n",
      "100 [D loss: 0.660811, acc.: 79.57%] [G loss: 0.664858]\n",
      "100 [D loss: 0.657349, acc.: 76.59%] [G loss: 0.670678]"
     ]
    },
    {
     "name": "stderr",
     "output_type": "stream",
     "text": [
      "100%|██████████████████████████████████████████████████████████████████████████████████| 50/50 [00:01<00:00, 33.04it/s]\n"
     ]
    },
    {
     "name": "stdout",
     "output_type": "stream",
     "text": [
      "\n",
      "100 [D loss: 0.662451, acc.: 73.08%] [G loss: 0.685098]\n",
      "100 [D loss: 0.652610, acc.: 70.24%] [G loss: 0.693383]\n",
      "100 [D loss: 0.631604, acc.: 69.46%] [G loss: 0.720866]\n",
      "100 [D loss: 0.619517, acc.: 69.46%] [G loss: 0.749683]\n"
     ]
    },
    {
     "data": {
      "image/png": "[encoded data removed]",
      "text/plain": [
       "<Figure size 432x288 with 1 Axes>"
      ]
     },
     "metadata": {
      "needs_background": "light"
     },
     "output_type": "display_data"
    },
    {
     "data": {
      "text/plain": [
       "<Figure size 432x288 with 0 Axes>"
      ]
     },
     "metadata": {},
     "output_type": "display_data"
    }
   ],
   "source": [
    "def adam_optimizer():\n",
    "    return adam(lr=0.0002, beta_1=0.5)\n",
    "def create_generator():\n",
    "    generator=Sequential()\n",
    "    generator.add(Dense(units=256,input_dim=100))\n",
    "    generator.add(LeakyReLU(0.2))\n",
    "    \n",
    "    generator.add(Dense(units=512))\n",
    "    generator.add(LeakyReLU(0.2))\n",
    "    \n",
    "    generator.add(Dense(units=1024))\n",
    "    generator.add(LeakyReLU(0.2))\n",
    "    \n",
    "    #generator.add(Dense(units=2048))\n",
    "    #generator.add(LeakyReLU(0.2))\n",
    "    \n",
    "    #generator.add(Dense(units=5096))\n",
    "    #generator.add(LeakyReLU(0.2))\n",
    "        \n",
    "    generator.add(Dense(units=samples.shape[1], activation='tanh'))\n",
    "    \n",
    "    generator.compile(loss='binary_crossentropy', optimizer=adam_optimizer())\n",
    "    return generator\n",
    "g=create_generator()\n",
    "g.summary()\n",
    "\n",
    "def create_discriminator():\n",
    "    discriminator=Sequential()\n",
    "    discriminator.add(Dense(units=1024,input_dim=samples.shape[1]))\n",
    "    discriminator.add(LeakyReLU(0.2))\n",
    "    discriminator.add(Dropout(0.3))\n",
    "       \n",
    "    \n",
    "    discriminator.add(Dense(units=512))\n",
    "    discriminator.add(LeakyReLU(0.2))\n",
    "    discriminator.add(Dropout(0.3))\n",
    "       \n",
    "    discriminator.add(Dense(units=256))\n",
    "    discriminator.add(LeakyReLU(0.2))\n",
    "    \n",
    "    discriminator.add(Dense(units=1, activation='sigmoid'))\n",
    "    \n",
    "    discriminator.compile(loss='binary_crossentropy', optimizer=adam_optimizer())\n",
    "    return discriminator\n",
    "d =create_discriminator()\n",
    "d.summary()\n",
    "\n",
    "def create_gan(discriminator, generator):\n",
    "    discriminator.trainable=False\n",
    "    gan_input = Input(shape=(100,))\n",
    "    x = generator(gan_input)\n",
    "    gan_output= discriminator(x)\n",
    "    gan= Model(inputs=gan_input, outputs=gan_output)\n",
    "    gan.compile(loss='binary_crossentropy', optimizer='adam')\n",
    "    return gan\n",
    "gan = create_gan(d,g)\n",
    "gan.summary()\n",
    "\n",
    "def training(epochs=1, batch_size=10):\n",
    "    \n",
    "    #Loading the data\n",
    "    X_train = samples\n",
    "    batch_count = X_train.shape[0] / batch_size\n",
    "    \n",
    "    # Array initialization for logging of the losses\n",
    "    d_loss_logs_r = []\n",
    "    d_loss_logs_f = []\n",
    "    g_loss_logs = []\n",
    "    \n",
    "    # Creating GAN\n",
    "    generator= create_generator()\n",
    "    discriminator= create_discriminator()\n",
    "    gan = create_gan(discriminator, generator)\n",
    "    \n",
    "    for e in range(1,epochs+1 ):\n",
    "        print(\"Epoch %d\" %e)\n",
    "        for _ in tqdm(range(batch_size)):\n",
    "        #generate  random noise as an input  to  initialize the  generator\n",
    "            noise= np.random.normal(0,1, [batch_size, 100])\n",
    "            \n",
    "            # Generate fake MNIST images from noised input\n",
    "            generated_images = generator.predict(noise)\n",
    "            y_fake = np.zeros(batch_size)\n",
    "            \n",
    "            # Get a random set of  real images\n",
    "            image_batch =X_train[np.random.randint(low=0,high=X_train.shape[0],size=batch_size)]\n",
    "            y_real = np.ones(batch_size)\n",
    "            \n",
    "            #Construct different batches of  real and fake data \n",
    "            X= np.concatenate([image_batch, generated_images])\n",
    "            \n",
    "            # Labels for generated and real data\n",
    "            y_dis=np.zeros(2*batch_size)\n",
    "            y_dis[:batch_size]=0.9\n",
    "            \n",
    "            #Pre train discriminator on  fake and real data  before starting the gan. \n",
    "            discriminator.trainable=True\n",
    "            d_loss_real = discriminator.train_on_batch(image_batch, y_real)\n",
    "            d_loss_fake = discriminator.train_on_batch(generated_images, y_fake)\n",
    "            #d_loss_comb = discriminator.train_on_batch(X, y_dis)\n",
    "            d_loss = 0.5 * np.add(d_loss_real, d_loss_fake)\n",
    "            \n",
    "            #Tricking the noised input of the Generator as real data\n",
    "            noise= np.random.normal(0,1, [batch_size, 100])\n",
    "            y_gen = np.ones(batch_size)\n",
    "            \n",
    "            # During the training of gan, \n",
    "            # the weights of discriminator should be fixed. \n",
    "            #We can enforce that by setting the trainable flag\n",
    "            discriminator.trainable=False\n",
    "            \n",
    "            #training  the GAN by alternating the training of the Discriminator \n",
    "            #and training the chained GAN model with Discriminator’s weights freezed.\n",
    "            g_loss = gan.train_on_batch(noise, y_gen)\n",
    "            \n",
    "            # print progress\n",
    "            print (\"%d [D loss: %f, acc.: %.2f%%] [G loss: %f]\" % (e, d_loss_real, 100*d_loss_fake, g_loss))\n",
    "            \n",
    "            # Store the losses\n",
    "            d_loss_logs_r.append([e, d_loss_real])\n",
    "            d_loss_logs_f.append([e, d_loss_fake])\n",
    "            g_loss_logs.append([e, g_loss])\n",
    "            \n",
    "        # end of training    \n",
    "        d_loss_logs_r_a = np.array(d_loss_logs_r)\n",
    "        d_loss_logs_f_a = np.array(d_loss_logs_f)\n",
    "        g_loss_logs_a = np.array(g_loss_logs)\n",
    "\n",
    "    # At the end of training plot the losses vs epochs\n",
    "    plt.plot(d_loss_logs_r_a[:,0], d_loss_logs_r_a[:,1], label=\"Discriminator Loss - Real\")\n",
    "    plt.plot(d_loss_logs_f_a[:,0], d_loss_logs_f_a[:,1], label=\"Discriminator Loss - Fake\")\n",
    "    plt.plot(g_loss_logs_a[:,0], g_loss_logs_a[:,1], label=\"Generator Loss\")\n",
    "    plt.xlabel('Epochs')\n",
    "    plt.ylabel('Loss')\n",
    "    plt.legend()\n",
    "    plt.title('GAN')\n",
    "    plt.grid(True)\n",
    "    plt.show()\n",
    "    plt.savefig('GANFIT_1.png')\n",
    "        #if e == 1 or e % 20 == 0:\n",
    "           #plot_generated_images(e, generator)\n",
    "            \n",
    "training(100,50)\n",
    "\n",
    "g.save('generator_2.h5')\n",
    "d.save('discriminator_2.h5')\n"
   ]
  },
  {
   "cell_type": "code",
   "execution_count": 8,
   "metadata": {},
   "outputs": [],
   "source": [
    "def compute_port_VaR(port_weights, var_hor, ret_samples):\n",
    "\n",
    "    # create list to store values of portfolio returns\n",
    "    port_returns = []\n",
    "    # for each of the samples compute the returns to portfolio over the time horizon\n",
    "    for num_samp in range(ret_samples.shape[0]):\n",
    "        for ret_hor in range(ret_samples.shape[1]):\n",
    "            \n",
    "            end_ix = ret_hor + var_hor\n",
    "            # check where the pattern ends\n",
    "            if end_ix > ret_samples.shape[1]:\n",
    "                break\n",
    "            \n",
    "            # get the subset of returns\n",
    "            temp = ret_samples[num_samp, ret_hor:end_ix,:]\n",
    "            if var_hor > 1:\n",
    "                temp = np.cumprod((temp + 1), axis =0)\n",
    "                temp = np.dot(temp[len(temp)-1], port_weights) -1\n",
    "                port_returns.append(temp)\n",
    "            else:\n",
    "                port_returns.append(np.dot(temp, port_weights))\n",
    "    \n",
    "    return np.array(port_returns)\n"
   ]
  },
  {
   "cell_type": "code",
   "execution_count": 9,
   "metadata": {},
   "outputs": [],
   "source": [
    "init_weights = np.random.uniform(0,1,test.shape[1])\n",
    "# portfolio weights must add up to 1\n",
    "init_weights = init_weights / sum(init_weights)\n",
    "\n",
    "# now generate 100000 samples and compute the VaR for various horizons and save them\n",
    "g = load_model('generator_2.h5')\n",
    "noise= np.random.normal(0,1,[10000,100])\n",
    "ret_samples = g.predict(noise)\n",
    "ret_samples = ret_samples.reshape(ret_samples.shape[0],22,test.shape[1])\n",
    "VaRList = list()\n",
    "for i in range(1,21):\n",
    "    tempvar = compute_port_VaR(init_weights, i, ret_samples)\n",
    "    VaRList.append(tempvar)"
   ]
  },
  {
   "cell_type": "code",
   "execution_count": 10,
   "metadata": {},
   "outputs": [
    {
     "name": "stdout",
     "output_type": "stream",
     "text": [
      "1 [5 VaR: -31.92%, 95 VaR: 48.87%]\n",
      "2 [5 VaR: -37.90%, 95 VaR: 79.81%]\n",
      "3 [5 VaR: -42.77%, 95 VaR: 113.02%]\n",
      "4 [5 VaR: -47.70%, 95 VaR: 149.69%]\n",
      "5 [5 VaR: -51.30%, 95 VaR: 196.90%]\n",
      "6 [5 VaR: -53.49%, 95 VaR: 248.01%]\n",
      "7 [5 VaR: -55.07%, 95 VaR: 292.91%]\n",
      "8 [5 VaR: -56.15%, 95 VaR: 348.78%]\n",
      "9 [5 VaR: -56.14%, 95 VaR: 408.44%]\n",
      "10 [5 VaR: -53.62%, 95 VaR: 463.15%]\n",
      "11 [5 VaR: -51.99%, 95 VaR: 509.50%]\n",
      "12 [5 VaR: -49.10%, 95 VaR: 537.15%]\n",
      "13 [5 VaR: -45.42%, 95 VaR: 572.77%]\n",
      "14 [5 VaR: -43.01%, 95 VaR: 563.39%]\n",
      "15 [5 VaR: -40.73%, 95 VaR: 578.13%]\n",
      "16 [5 VaR: -36.34%, 95 VaR: 657.57%]\n",
      "17 [5 VaR: -33.10%, 95 VaR: 770.42%]\n",
      "18 [5 VaR: -30.35%, 95 VaR: 845.21%]\n",
      "19 [5 VaR: -30.84%, 95 VaR: 997.94%]\n",
      "20 [5 VaR: -23.68%, 95 VaR: 1118.85%]\n"
     ]
    }
   ],
   "source": [
    "e = 1\n",
    "for v in VaRList:\n",
    "    temp = np.sort(v,axis=None)\n",
    "    f_VaR5 = temp[(int(len(v)*0.05))]\n",
    "    f_VaR95 = temp[(int(len(v)*0.95))]\n",
    "    print (\"%d [5 VaR: %.2f%%, 95 VaR: %.2f%%]\" %(e, f_VaR5*100, 100*f_VaR95))\n",
    "    e = e + 1"
   ]
  },
  {
   "cell_type": "code",
   "execution_count": 16,
   "metadata": {},
   "outputs": [],
   "source": [
    "# now compute VaR just using real data\n",
    "ret_samples = samples.reshape(samples.shape[0],22,test.shape[1])\n",
    "dVaRList = list()\n",
    "for i in range(1,21):\n",
    "    tempvar = compute_port_VaR(init_weights, i, ret_samples)\n",
    "    dVaRList.append(tempvar)"
   ]
  },
  {
   "cell_type": "code",
   "execution_count": 17,
   "metadata": {},
   "outputs": [
    {
     "name": "stdout",
     "output_type": "stream",
     "text": [
      "1 [5 VaR: -3.98%, 95 VaR: 4.60%]\n",
      "2 [5 VaR: -5.83%, 95 VaR: 6.95%]\n",
      "3 [5 VaR: -7.08%, 95 VaR: 8.46%]\n",
      "4 [5 VaR: -7.93%, 95 VaR: 9.75%]\n",
      "5 [5 VaR: -8.83%, 95 VaR: 10.78%]\n",
      "6 [5 VaR: -9.54%, 95 VaR: 11.55%]\n",
      "7 [5 VaR: -10.08%, 95 VaR: 12.43%]\n",
      "8 [5 VaR: -10.75%, 95 VaR: 13.33%]\n",
      "9 [5 VaR: -11.52%, 95 VaR: 13.91%]\n",
      "10 [5 VaR: -11.57%, 95 VaR: 14.73%]\n",
      "11 [5 VaR: -12.43%, 95 VaR: 15.37%]\n",
      "12 [5 VaR: -12.79%, 95 VaR: 16.14%]\n",
      "13 [5 VaR: -13.08%, 95 VaR: 16.83%]\n",
      "14 [5 VaR: -13.70%, 95 VaR: 17.26%]\n",
      "15 [5 VaR: -14.06%, 95 VaR: 17.52%]\n",
      "16 [5 VaR: -14.44%, 95 VaR: 18.17%]\n",
      "17 [5 VaR: -14.88%, 95 VaR: 18.94%]\n",
      "18 [5 VaR: -14.91%, 95 VaR: 19.45%]\n",
      "19 [5 VaR: -15.48%, 95 VaR: 20.54%]\n",
      "20 [5 VaR: -15.97%, 95 VaR: 21.79%]\n"
     ]
    }
   ],
   "source": [
    "e = 1\n",
    "for v in dVaRList:\n",
    "    temp = np.sort(v,axis=None)\n",
    "    f_VaR5 = temp[(int(len(v)*0.05))]\n",
    "    f_VaR95 = temp[(int(len(v)*0.95))]\n",
    "    print (\"%d [5 VaR: %.2f%%, 95 VaR: %.2f%%]\" %(e, f_VaR5*100, 100*f_VaR95))\n",
    "    e = e+ 1"
   ]
  },
  {
   "cell_type": "code",
   "execution_count": 83,
   "metadata": {},
   "outputs": [
    {
     "data": {
      "text/plain": [
       "110704"
      ]
     },
     "execution_count": 83,
     "metadata": {},
     "output_type": "execute_result"
    }
   ],
   "source": [
    "v = dVaRList[0]\n",
    "temp = np.sort(v,axis=None)\n",
    "len(v)"
   ]
  },
  {
   "cell_type": "code",
   "execution_count": 63,
   "metadata": {},
   "outputs": [],
   "source": [
    "tempvar = compute_port_VaR(init_weights, 1, ret_samples)\n",
    "tempvar = np.array(tempvar)"
   ]
  },
  {
   "cell_type": "code",
   "execution_count": 64,
   "metadata": {},
   "outputs": [],
   "source": [
    "tempvar = np.sort(tempvar,axis=0)\n"
   ]
  },
  {
   "cell_type": "code",
   "execution_count": 13,
   "metadata": {},
   "outputs": [],
   "source": [
    "init_weights = np.random.uniform(0,1,test.shape[1])\n",
    "# portfolio weights must add up to 1\n",
    "init_weights = init_weights / sum(init_weights)"
   ]
  },
  {
   "cell_type": "code",
   "execution_count": 14,
   "metadata": {},
   "outputs": [],
   "source": [
    "# now compute VaR just using real data\n",
    "dVaRList = list()\n",
    "for i in range(1,21):\n",
    "    ret_mat = test.shift(-1*i)/test -1\n",
    "    ret_mat.drop(ret_mat.tail(i).index,inplace=True)\n",
    "    tempvar = np.dot(ret_mat.values,init_weights)\n",
    "    dVaRList.append(tempvar)"
   ]
  },
  {
   "cell_type": "code",
   "execution_count": 15,
   "metadata": {},
   "outputs": [
    {
     "data": {
      "text/plain": [
       "(5054,)"
      ]
     },
     "execution_count": 15,
     "metadata": {},
     "output_type": "execute_result"
    }
   ],
   "source": [
    "x = init_weights.reshape(init_weights.shape[0],1)\n",
    "i = 1\n",
    "ret_mat = test.shift(-1*i)/test -1\n",
    "ret_mat.drop(ret_mat.tail(i).index,inplace=True)\n",
    "tempvar = np.dot(ret_mat.values,init_weights)\n",
    "tempvar.shape"
   ]
  },
  {
   "cell_type": "code",
   "execution_count": 72,
   "metadata": {},
   "outputs": [
    {
     "data": {
      "text/plain": [
       "array([        nan,         nan,         nan, ..., 16.0636912 ,\n",
       "       -1.55394215,  0.22985371])"
      ]
     },
     "execution_count": 72,
     "metadata": {},
     "output_type": "execute_result"
    }
   ],
   "source": [
    "tempvar"
   ]
  },
  {
   "cell_type": "code",
   "execution_count": null,
   "metadata": {},
   "outputs": [],
   "source": []
  },
  {
   "cell_type": "code",
   "execution_count": null,
   "metadata": {},
   "outputs": [],
   "source": []
  }
 ],
 "metadata": {
  "kernelspec": {
   "display_name": "Python 3",
   "language": "python",
   "name": "python3"
  },
  "language_info": {
   "codemirror_mode": {
    "name": "ipython",
    "version": 3
   },
   "file_extension": ".py",
   "mimetype": "text/x-python",
   "name": "python",
   "nbconvert_exporter": "python",
   "pygments_lexer": "ipython3",
   "version": "3.5.6"
  },
  "varInspector": {
   "cols": {
    "lenName": 16,
    "lenType": 16,
    "lenVar": 40
   },
   "kernels_config": {
    "python": {
     "delete_cmd_postfix": "",
     "delete_cmd_prefix": "del ",
     "library": "var_list.py",
     "varRefreshCmd": "print(var_dic_list())"
    },
    "r": {
     "delete_cmd_postfix": ") ",
     "delete_cmd_prefix": "rm(",
     "library": "var_list.r",
     "varRefreshCmd": "cat(var_dic_list()) "
    }
   },
   "types_to_exclude": [
    "module",
    "function",
    "builtin_function_or_method",
    "instance",
    "_Feature"
   ],
   "window_display": false
  }
 },
 "nbformat": 4,
 "nbformat_minor": 4
}
